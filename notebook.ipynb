{
 "cells": [
  {
   "cell_type": "code",
   "source": "import numpy as np\nimport pandas as pd\nimport matplotlib.pyplot as plt\n%matplotlib inline\nimport seaborn as sns\nimport plotly.express as px\nimport plotly.io as pio\n# pio.renderers.default = 'svg'",
   "metadata": {
    "tags": [],
    "cell_id": "36ac8bd4-faae-42f7-b919-279454410479",
    "deepnote_to_be_reexecuted": false,
    "source_hash": "d2e61867",
    "execution_start": 1660314347702,
    "execution_millis": 4430,
    "owner_user_id": "6a9143c6-8c98-45c0-a97f-ee8fe32b76a6",
    "deepnote_app_is_code_hidden": false,
    "deepnote_cell_type": "code",
    "deepnote_cell_height": 202
   },
   "execution_count": null,
   "outputs": []
  },
  {
   "cell_type": "code",
   "metadata": {
    "cell_id": "5e6b0fe1320b415b84228e95b5c8d6e0",
    "tags": [],
    "deepnote_to_be_reexecuted": false,
    "source_hash": "d1a6707d",
    "execution_start": 1660314352135,
    "execution_millis": 703,
    "deepnote_cell_type": "code",
    "deepnote_cell_height": 166
   },
   "source": "# Reading all data into pandas dataframes\ndf_2018 = pd.read_csv('/work/datasets/hotel_revenue_2018.csv')\ndf_2019 = pd.read_csv('/work/datasets/hotel_revenue_2019.csv')\ndf_2020 = pd.read_csv('/work/datasets/hotel_revenue_2020.csv')\ndf_ms = pd.read_csv('/work/datasets/market_segment.csv')\ndf_mc = pd.read_csv('/work/datasets/meal_cost.csv')",
   "execution_count": null,
   "outputs": []
  },
  {
   "cell_type": "markdown",
   "source": "#### 2018 General Data Insights",
   "metadata": {
    "cell_id": "8e3bc24f2ee24e8885c680fa003d733a",
    "tags": [],
    "deepnote_cell_type": "markdown",
    "deepnote_cell_height": 54
   }
  },
  {
   "cell_type": "code",
   "metadata": {
    "cell_id": "a5fded59860740ff990431cc78fd3709",
    "tags": [],
    "deepnote_to_be_reexecuted": false,
    "source_hash": "7c422c6b",
    "execution_start": 1660314352838,
    "execution_millis": 418,
    "deepnote_cell_type": "code",
    "deepnote_cell_height": 406.796875
   },
   "source": "df_2018.head()",
   "execution_count": null,
   "outputs": [
    {
     "output_type": "execute_result",
     "execution_count": 3,
     "data": {
      "application/vnd.deepnote.dataframe.v3+json": {
       "column_count": 32,
       "row_count": 5,
       "columns": [
        {
         "name": "hotel",
         "dtype": "object",
         "stats": {
          "unique_count": 1,
          "nan_count": 0,
          "categories": [
           {
            "name": "Resort Hotel",
            "count": 5
           }
          ]
         }
        },
        {
         "name": "is_canceled",
         "dtype": "int64",
         "stats": {
          "unique_count": 1,
          "nan_count": 0,
          "min": "1",
          "max": "1",
          "histogram": [
           {
            "bin_start": 0.5,
            "bin_end": 0.6,
            "count": 0
           },
           {
            "bin_start": 0.6,
            "bin_end": 0.7,
            "count": 0
           },
           {
            "bin_start": 0.7,
            "bin_end": 0.8,
            "count": 0
           },
           {
            "bin_start": 0.8,
            "bin_end": 0.9,
            "count": 0
           },
           {
            "bin_start": 0.9,
            "bin_end": 1,
            "count": 0
           },
           {
            "bin_start": 1,
            "bin_end": 1.1,
            "count": 5
           },
           {
            "bin_start": 1.1,
            "bin_end": 1.2000000000000002,
            "count": 0
           },
           {
            "bin_start": 1.2000000000000002,
            "bin_end": 1.3,
            "count": 0
           },
           {
            "bin_start": 1.3,
            "bin_end": 1.4,
            "count": 0
           },
           {
            "bin_start": 1.4,
            "bin_end": 1.5,
            "count": 0
           }
          ]
         }
        },
        {
         "name": "lead_time",
         "dtype": "int64",
         "stats": {
          "unique_count": 5,
          "nan_count": 0,
          "min": "23",
          "max": "96",
          "histogram": [
           {
            "bin_start": 23,
            "bin_end": 30.3,
            "count": 1
           },
           {
            "bin_start": 30.3,
            "bin_end": 37.6,
            "count": 0
           },
           {
            "bin_start": 37.6,
            "bin_end": 44.9,
            "count": 0
           },
           {
            "bin_start": 44.9,
            "bin_end": 52.2,
            "count": 0
           },
           {
            "bin_start": 52.2,
            "bin_end": 59.5,
            "count": 0
           },
           {
            "bin_start": 59.5,
            "bin_end": 66.8,
            "count": 1
           },
           {
            "bin_start": 66.8,
            "bin_end": 74.1,
            "count": 0
           },
           {
            "bin_start": 74.1,
            "bin_end": 81.4,
            "count": 1
           },
           {
            "bin_start": 81.4,
            "bin_end": 88.7,
            "count": 1
           },
           {
            "bin_start": 88.7,
            "bin_end": 96,
            "count": 1
           }
          ]
         }
        },
        {
         "name": "arrival_date_year",
         "dtype": "int64",
         "stats": {
          "unique_count": 1,
          "nan_count": 0,
          "min": "2018",
          "max": "2018",
          "histogram": [
           {
            "bin_start": 2017.5,
            "bin_end": 2017.6,
            "count": 0
           },
           {
            "bin_start": 2017.6,
            "bin_end": 2017.7,
            "count": 0
           },
           {
            "bin_start": 2017.7,
            "bin_end": 2017.8,
            "count": 0
           },
           {
            "bin_start": 2017.8,
            "bin_end": 2017.9,
            "count": 0
           },
           {
            "bin_start": 2017.9,
            "bin_end": 2018,
            "count": 0
           },
           {
            "bin_start": 2018,
            "bin_end": 2018.1,
            "count": 5
           },
           {
            "bin_start": 2018.1,
            "bin_end": 2018.2,
            "count": 0
           },
           {
            "bin_start": 2018.2,
            "bin_end": 2018.3,
            "count": 0
           },
           {
            "bin_start": 2018.3,
            "bin_end": 2018.4,
            "count": 0
           },
           {
            "bin_start": 2018.4,
            "bin_end": 2018.5,
            "count": 0
           }
          ]
         }
        },
        {
         "name": "arrival_date_month",
         "dtype": "object",
         "stats": {
          "unique_count": 1,
          "nan_count": 0,
          "categories": [
           {
            "name": "July",
            "count": 5
           }
          ]
         }
        },
        {
         "name": "arrival_date_week_number",
         "dtype": "int64",
         "stats": {
          "unique_count": 1,
          "nan_count": 0,
          "min": "27",
          "max": "27",
          "histogram": [
           {
            "bin_start": 26.5,
            "bin_end": 26.6,
            "count": 0
           },
           {
            "bin_start": 26.6,
            "bin_end": 26.7,
            "count": 0
           },
           {
            "bin_start": 26.7,
            "bin_end": 26.8,
            "count": 0
           },
           {
            "bin_start": 26.8,
            "bin_end": 26.9,
            "count": 0
           },
           {
            "bin_start": 26.9,
            "bin_end": 27,
            "count": 0
           },
           {
            "bin_start": 27,
            "bin_end": 27.1,
            "count": 5
           },
           {
            "bin_start": 27.1,
            "bin_end": 27.2,
            "count": 0
           },
           {
            "bin_start": 27.2,
            "bin_end": 27.3,
            "count": 0
           },
           {
            "bin_start": 27.3,
            "bin_end": 27.4,
            "count": 0
           },
           {
            "bin_start": 27.4,
            "bin_end": 27.5,
            "count": 0
           }
          ]
         }
        },
        {
         "name": "arrival_date_day_of_month",
         "dtype": "int64",
         "stats": {
          "unique_count": 1,
          "nan_count": 0,
          "min": "1",
          "max": "1",
          "histogram": [
           {
            "bin_start": 0.5,
            "bin_end": 0.6,
            "count": 0
           },
           {
            "bin_start": 0.6,
            "bin_end": 0.7,
            "count": 0
           },
           {
            "bin_start": 0.7,
            "bin_end": 0.8,
            "count": 0
           },
           {
            "bin_start": 0.8,
            "bin_end": 0.9,
            "count": 0
           },
           {
            "bin_start": 0.9,
            "bin_end": 1,
            "count": 0
           },
           {
            "bin_start": 1,
            "bin_end": 1.1,
            "count": 5
           },
           {
            "bin_start": 1.1,
            "bin_end": 1.2000000000000002,
            "count": 0
           },
           {
            "bin_start": 1.2000000000000002,
            "bin_end": 1.3,
            "count": 0
           },
           {
            "bin_start": 1.3,
            "bin_end": 1.4,
            "count": 0
           },
           {
            "bin_start": 1.4,
            "bin_end": 1.5,
            "count": 0
           }
          ]
         }
        },
        {
         "name": "stays_in_weekend_nights",
         "dtype": "int64",
         "stats": {
          "unique_count": 2,
          "nan_count": 0,
          "min": "0",
          "max": "2",
          "histogram": [
           {
            "bin_start": 0,
            "bin_end": 0.2,
            "count": 3
           },
           {
            "bin_start": 0.2,
            "bin_end": 0.4,
            "count": 0
           },
           {
            "bin_start": 0.4,
            "bin_end": 0.6000000000000001,
            "count": 0
           },
           {
            "bin_start": 0.6000000000000001,
            "bin_end": 0.8,
            "count": 0
           },
           {
            "bin_start": 0.8,
            "bin_end": 1,
            "count": 0
           },
           {
            "bin_start": 1,
            "bin_end": 1.2000000000000002,
            "count": 0
           },
           {
            "bin_start": 1.2000000000000002,
            "bin_end": 1.4000000000000001,
            "count": 0
           },
           {
            "bin_start": 1.4000000000000001,
            "bin_end": 1.6,
            "count": 0
           },
           {
            "bin_start": 1.6,
            "bin_end": 1.8,
            "count": 0
           },
           {
            "bin_start": 1.8,
            "bin_end": 2,
            "count": 2
           }
          ]
         }
        },
        {
         "name": "stays_in_week_nights",
         "dtype": "int64",
         "stats": {
          "unique_count": 4,
          "nan_count": 0,
          "min": "3",
          "max": "8",
          "histogram": [
           {
            "bin_start": 3,
            "bin_end": 3.5,
            "count": 2
           },
           {
            "bin_start": 3.5,
            "bin_end": 4,
            "count": 0
           },
           {
            "bin_start": 4,
            "bin_end": 4.5,
            "count": 1
           },
           {
            "bin_start": 4.5,
            "bin_end": 5,
            "count": 0
           },
           {
            "bin_start": 5,
            "bin_end": 5.5,
            "count": 1
           },
           {
            "bin_start": 5.5,
            "bin_end": 6,
            "count": 0
           },
           {
            "bin_start": 6,
            "bin_end": 6.5,
            "count": 0
           },
           {
            "bin_start": 6.5,
            "bin_end": 7,
            "count": 0
           },
           {
            "bin_start": 7,
            "bin_end": 7.5,
            "count": 0
           },
           {
            "bin_start": 7.5,
            "bin_end": 8,
            "count": 1
           }
          ]
         }
        },
        {
         "name": "adults",
         "dtype": "int64",
         "stats": {
          "unique_count": 1,
          "nan_count": 0,
          "min": "2",
          "max": "2",
          "histogram": [
           {
            "bin_start": 1.5,
            "bin_end": 1.6,
            "count": 0
           },
           {
            "bin_start": 1.6,
            "bin_end": 1.7,
            "count": 0
           },
           {
            "bin_start": 1.7,
            "bin_end": 1.8,
            "count": 0
           },
           {
            "bin_start": 1.8,
            "bin_end": 1.9,
            "count": 0
           },
           {
            "bin_start": 1.9,
            "bin_end": 2,
            "count": 0
           },
           {
            "bin_start": 2,
            "bin_end": 2.1,
            "count": 5
           },
           {
            "bin_start": 2.1,
            "bin_end": 2.2,
            "count": 0
           },
           {
            "bin_start": 2.2,
            "bin_end": 2.3,
            "count": 0
           },
           {
            "bin_start": 2.3,
            "bin_end": 2.4,
            "count": 0
           },
           {
            "bin_start": 2.4,
            "bin_end": 2.5,
            "count": 0
           }
          ]
         }
        },
        {
         "name": "children",
         "dtype": "float64",
         "stats": {
          "unique_count": 1,
          "nan_count": 0,
          "min": "0.0",
          "max": "0.0",
          "histogram": [
           {
            "bin_start": -0.5,
            "bin_end": -0.4,
            "count": 0
           },
           {
            "bin_start": -0.4,
            "bin_end": -0.3,
            "count": 0
           },
           {
            "bin_start": -0.3,
            "bin_end": -0.19999999999999996,
            "count": 0
           },
           {
            "bin_start": -0.19999999999999996,
            "bin_end": -0.09999999999999998,
            "count": 0
           },
           {
            "bin_start": -0.09999999999999998,
            "bin_end": 0,
            "count": 0
           },
           {
            "bin_start": 0,
            "bin_end": 0.10000000000000009,
            "count": 5
           },
           {
            "bin_start": 0.10000000000000009,
            "bin_end": 0.20000000000000007,
            "count": 0
           },
           {
            "bin_start": 0.20000000000000007,
            "bin_end": 0.30000000000000004,
            "count": 0
           },
           {
            "bin_start": 0.30000000000000004,
            "bin_end": 0.4,
            "count": 0
           },
           {
            "bin_start": 0.4,
            "bin_end": 0.5,
            "count": 0
           }
          ]
         }
        },
        {
         "name": "babies",
         "dtype": "int64",
         "stats": {
          "unique_count": 1,
          "nan_count": 0,
          "min": "0",
          "max": "0",
          "histogram": [
           {
            "bin_start": -0.5,
            "bin_end": -0.4,
            "count": 0
           },
           {
            "bin_start": -0.4,
            "bin_end": -0.3,
            "count": 0
           },
           {
            "bin_start": -0.3,
            "bin_end": -0.19999999999999996,
            "count": 0
           },
           {
            "bin_start": -0.19999999999999996,
            "bin_end": -0.09999999999999998,
            "count": 0
           },
           {
            "bin_start": -0.09999999999999998,
            "bin_end": 0,
            "count": 0
           },
           {
            "bin_start": 0,
            "bin_end": 0.10000000000000009,
            "count": 5
           },
           {
            "bin_start": 0.10000000000000009,
            "bin_end": 0.20000000000000007,
            "count": 0
           },
           {
            "bin_start": 0.20000000000000007,
            "bin_end": 0.30000000000000004,
            "count": 0
           },
           {
            "bin_start": 0.30000000000000004,
            "bin_end": 0.4,
            "count": 0
           },
           {
            "bin_start": 0.4,
            "bin_end": 0.5,
            "count": 0
           }
          ]
         }
        },
        {
         "name": "meal",
         "dtype": "object",
         "stats": {
          "unique_count": 2,
          "nan_count": 0,
          "categories": [
           {
            "name": "BB",
            "count": 4
           },
           {
            "name": "HB",
            "count": 1
           }
          ]
         }
        },
        {
         "name": "country",
         "dtype": "object",
         "stats": {
          "unique_count": 1,
          "nan_count": 0,
          "categories": [
           {
            "name": "PRT",
            "count": 5
           }
          ]
         }
        },
        {
         "name": "market_segment",
         "dtype": "object",
         "stats": {
          "unique_count": 3,
          "nan_count": 0,
          "categories": [
           {
            "name": "Online TA",
            "count": 3
           },
           {
            "name": "Offline TA/TO",
            "count": 1
           },
           {
            "name": "Direct",
            "count": 1
           }
          ]
         }
        },
        {
         "name": "distribution_channel",
         "dtype": "object",
         "stats": {
          "unique_count": 2,
          "nan_count": 0,
          "categories": [
           {
            "name": "TA/TO",
            "count": 4
           },
           {
            "name": "Direct",
            "count": 1
           }
          ]
         }
        },
        {
         "name": "is_repeated_guest",
         "dtype": "int64",
         "stats": {
          "unique_count": 1,
          "nan_count": 0,
          "min": "0",
          "max": "0",
          "histogram": [
           {
            "bin_start": -0.5,
            "bin_end": -0.4,
            "count": 0
           },
           {
            "bin_start": -0.4,
            "bin_end": -0.3,
            "count": 0
           },
           {
            "bin_start": -0.3,
            "bin_end": -0.19999999999999996,
            "count": 0
           },
           {
            "bin_start": -0.19999999999999996,
            "bin_end": -0.09999999999999998,
            "count": 0
           },
           {
            "bin_start": -0.09999999999999998,
            "bin_end": 0,
            "count": 0
           },
           {
            "bin_start": 0,
            "bin_end": 0.10000000000000009,
            "count": 5
           },
           {
            "bin_start": 0.10000000000000009,
            "bin_end": 0.20000000000000007,
            "count": 0
           },
           {
            "bin_start": 0.20000000000000007,
            "bin_end": 0.30000000000000004,
            "count": 0
           },
           {
            "bin_start": 0.30000000000000004,
            "bin_end": 0.4,
            "count": 0
           },
           {
            "bin_start": 0.4,
            "bin_end": 0.5,
            "count": 0
           }
          ]
         }
        },
        {
         "name": "previous_cancellations",
         "dtype": "int64",
         "stats": {
          "unique_count": 1,
          "nan_count": 0,
          "min": "0",
          "max": "0",
          "histogram": [
           {
            "bin_start": -0.5,
            "bin_end": -0.4,
            "count": 0
           },
           {
            "bin_start": -0.4,
            "bin_end": -0.3,
            "count": 0
           },
           {
            "bin_start": -0.3,
            "bin_end": -0.19999999999999996,
            "count": 0
           },
           {
            "bin_start": -0.19999999999999996,
            "bin_end": -0.09999999999999998,
            "count": 0
           },
           {
            "bin_start": -0.09999999999999998,
            "bin_end": 0,
            "count": 0
           },
           {
            "bin_start": 0,
            "bin_end": 0.10000000000000009,
            "count": 5
           },
           {
            "bin_start": 0.10000000000000009,
            "bin_end": 0.20000000000000007,
            "count": 0
           },
           {
            "bin_start": 0.20000000000000007,
            "bin_end": 0.30000000000000004,
            "count": 0
           },
           {
            "bin_start": 0.30000000000000004,
            "bin_end": 0.4,
            "count": 0
           },
           {
            "bin_start": 0.4,
            "bin_end": 0.5,
            "count": 0
           }
          ]
         }
        },
        {
         "name": "previous_bookings_not_canceled",
         "dtype": "int64",
         "stats": {
          "unique_count": 1,
          "nan_count": 0,
          "min": "0",
          "max": "0",
          "histogram": [
           {
            "bin_start": -0.5,
            "bin_end": -0.4,
            "count": 0
           },
           {
            "bin_start": -0.4,
            "bin_end": -0.3,
            "count": 0
           },
           {
            "bin_start": -0.3,
            "bin_end": -0.19999999999999996,
            "count": 0
           },
           {
            "bin_start": -0.19999999999999996,
            "bin_end": -0.09999999999999998,
            "count": 0
           },
           {
            "bin_start": -0.09999999999999998,
            "bin_end": 0,
            "count": 0
           },
           {
            "bin_start": 0,
            "bin_end": 0.10000000000000009,
            "count": 5
           },
           {
            "bin_start": 0.10000000000000009,
            "bin_end": 0.20000000000000007,
            "count": 0
           },
           {
            "bin_start": 0.20000000000000007,
            "bin_end": 0.30000000000000004,
            "count": 0
           },
           {
            "bin_start": 0.30000000000000004,
            "bin_end": 0.4,
            "count": 0
           },
           {
            "bin_start": 0.4,
            "bin_end": 0.5,
            "count": 0
           }
          ]
         }
        },
        {
         "name": "reserved_room_type",
         "dtype": "object",
         "stats": {
          "unique_count": 3,
          "nan_count": 0,
          "categories": [
           {
            "name": "E",
            "count": 3
           },
           {
            "name": "A",
            "count": 1
           },
           {
            "name": "D",
            "count": 1
           }
          ]
         }
        },
        {
         "name": "assigned_room_type",
         "dtype": "object",
         "stats": {
          "unique_count": 3,
          "nan_count": 0,
          "categories": [
           {
            "name": "E",
            "count": 3
           },
           {
            "name": "A",
            "count": 1
           },
           {
            "name": "D",
            "count": 1
           }
          ]
         }
        },
        {
         "name": "booking_changes",
         "dtype": "int64",
         "stats": {
          "unique_count": 1,
          "nan_count": 0,
          "min": "0",
          "max": "0",
          "histogram": [
           {
            "bin_start": -0.5,
            "bin_end": -0.4,
            "count": 0
           },
           {
            "bin_start": -0.4,
            "bin_end": -0.3,
            "count": 0
           },
           {
            "bin_start": -0.3,
            "bin_end": -0.19999999999999996,
            "count": 0
           },
           {
            "bin_start": -0.19999999999999996,
            "bin_end": -0.09999999999999998,
            "count": 0
           },
           {
            "bin_start": -0.09999999999999998,
            "bin_end": 0,
            "count": 0
           },
           {
            "bin_start": 0,
            "bin_end": 0.10000000000000009,
            "count": 5
           },
           {
            "bin_start": 0.10000000000000009,
            "bin_end": 0.20000000000000007,
            "count": 0
           },
           {
            "bin_start": 0.20000000000000007,
            "bin_end": 0.30000000000000004,
            "count": 0
           },
           {
            "bin_start": 0.30000000000000004,
            "bin_end": 0.4,
            "count": 0
           },
           {
            "bin_start": 0.4,
            "bin_end": 0.5,
            "count": 0
           }
          ]
         }
        },
        {
         "name": "deposit_type",
         "dtype": "object",
         "stats": {
          "unique_count": 1,
          "nan_count": 0,
          "categories": [
           {
            "name": "No Deposit",
            "count": 5
           }
          ]
         }
        },
        {
         "name": "agent",
         "dtype": "float64",
         "stats": {
          "unique_count": 2,
          "nan_count": 1,
          "min": "15.0",
          "max": "240.0",
          "histogram": [
           {
            "bin_start": 15,
            "bin_end": 37.5,
            "count": 1
           },
           {
            "bin_start": 37.5,
            "bin_end": 60,
            "count": 0
           },
           {
            "bin_start": 60,
            "bin_end": 82.5,
            "count": 0
           },
           {
            "bin_start": 82.5,
            "bin_end": 105,
            "count": 0
           },
           {
            "bin_start": 105,
            "bin_end": 127.5,
            "count": 0
           },
           {
            "bin_start": 127.5,
            "bin_end": 150,
            "count": 0
           },
           {
            "bin_start": 150,
            "bin_end": 172.5,
            "count": 0
           },
           {
            "bin_start": 172.5,
            "bin_end": 195,
            "count": 0
           },
           {
            "bin_start": 195,
            "bin_end": 217.5,
            "count": 0
           },
           {
            "bin_start": 217.5,
            "bin_end": 240,
            "count": 3
           }
          ]
         }
        },
        {
         "name": "company",
         "dtype": "float64",
         "stats": {
          "unique_count": 0,
          "nan_count": 5,
          "min": null,
          "max": null,
          "histogram": [
           {
            "bin_start": 0,
            "bin_end": 0.1,
            "count": 0
           },
           {
            "bin_start": 0.1,
            "bin_end": 0.2,
            "count": 0
           },
           {
            "bin_start": 0.2,
            "bin_end": 0.30000000000000004,
            "count": 0
           },
           {
            "bin_start": 0.30000000000000004,
            "bin_end": 0.4,
            "count": 0
           },
           {
            "bin_start": 0.4,
            "bin_end": 0.5,
            "count": 0
           },
           {
            "bin_start": 0.5,
            "bin_end": 0.6000000000000001,
            "count": 0
           },
           {
            "bin_start": 0.6000000000000001,
            "bin_end": 0.7000000000000001,
            "count": 0
           },
           {
            "bin_start": 0.7000000000000001,
            "bin_end": 0.8,
            "count": 0
           },
           {
            "bin_start": 0.8,
            "bin_end": 0.9,
            "count": 0
           },
           {
            "bin_start": 0.9,
            "bin_end": 1,
            "count": 0
           }
          ]
         }
        },
        {
         "name": "days_in_waiting_list",
         "dtype": "int64",
         "stats": {
          "unique_count": 1,
          "nan_count": 0,
          "min": "0",
          "max": "0",
          "histogram": [
           {
            "bin_start": -0.5,
            "bin_end": -0.4,
            "count": 0
           },
           {
            "bin_start": -0.4,
            "bin_end": -0.3,
            "count": 0
           },
           {
            "bin_start": -0.3,
            "bin_end": -0.19999999999999996,
            "count": 0
           },
           {
            "bin_start": -0.19999999999999996,
            "bin_end": -0.09999999999999998,
            "count": 0
           },
           {
            "bin_start": -0.09999999999999998,
            "bin_end": 0,
            "count": 0
           },
           {
            "bin_start": 0,
            "bin_end": 0.10000000000000009,
            "count": 5
           },
           {
            "bin_start": 0.10000000000000009,
            "bin_end": 0.20000000000000007,
            "count": 0
           },
           {
            "bin_start": 0.20000000000000007,
            "bin_end": 0.30000000000000004,
            "count": 0
           },
           {
            "bin_start": 0.30000000000000004,
            "bin_end": 0.4,
            "count": 0
           },
           {
            "bin_start": 0.4,
            "bin_end": 0.5,
            "count": 0
           }
          ]
         }
        },
        {
         "name": "customer_type",
         "dtype": "object",
         "stats": {
          "unique_count": 1,
          "nan_count": 0,
          "categories": [
           {
            "name": "Transient",
            "count": 5
           }
          ]
         }
        },
        {
         "name": "adr",
         "dtype": "float64",
         "stats": {
          "unique_count": 5,
          "nan_count": 0,
          "min": "82.0",
          "max": "123.0",
          "histogram": [
           {
            "bin_start": 82,
            "bin_end": 86.1,
            "count": 1
           },
           {
            "bin_start": 86.1,
            "bin_end": 90.2,
            "count": 0
           },
           {
            "bin_start": 90.2,
            "bin_end": 94.3,
            "count": 0
           },
           {
            "bin_start": 94.3,
            "bin_end": 98.4,
            "count": 0
           },
           {
            "bin_start": 98.4,
            "bin_end": 102.5,
            "count": 0
           },
           {
            "bin_start": 102.5,
            "bin_end": 106.6,
            "count": 1
           },
           {
            "bin_start": 106.6,
            "bin_end": 110.69999999999999,
            "count": 2
           },
           {
            "bin_start": 110.69999999999999,
            "bin_end": 114.8,
            "count": 0
           },
           {
            "bin_start": 114.8,
            "bin_end": 118.9,
            "count": 0
           },
           {
            "bin_start": 118.9,
            "bin_end": 123,
            "count": 1
           }
          ]
         }
        },
        {
         "name": "required_car_parking_spaces",
         "dtype": "int64",
         "stats": {
          "unique_count": 1,
          "nan_count": 0,
          "min": "0",
          "max": "0",
          "histogram": [
           {
            "bin_start": -0.5,
            "bin_end": -0.4,
            "count": 0
           },
           {
            "bin_start": -0.4,
            "bin_end": -0.3,
            "count": 0
           },
           {
            "bin_start": -0.3,
            "bin_end": -0.19999999999999996,
            "count": 0
           },
           {
            "bin_start": -0.19999999999999996,
            "bin_end": -0.09999999999999998,
            "count": 0
           },
           {
            "bin_start": -0.09999999999999998,
            "bin_end": 0,
            "count": 0
           },
           {
            "bin_start": 0,
            "bin_end": 0.10000000000000009,
            "count": 5
           },
           {
            "bin_start": 0.10000000000000009,
            "bin_end": 0.20000000000000007,
            "count": 0
           },
           {
            "bin_start": 0.20000000000000007,
            "bin_end": 0.30000000000000004,
            "count": 0
           },
           {
            "bin_start": 0.30000000000000004,
            "bin_end": 0.4,
            "count": 0
           },
           {
            "bin_start": 0.4,
            "bin_end": 0.5,
            "count": 0
           }
          ]
         }
        },
        {
         "name": "total_of_special_requests",
         "dtype": "int64",
         "stats": {
          "unique_count": 3,
          "nan_count": 0,
          "min": "0",
          "max": "2",
          "histogram": [
           {
            "bin_start": 0,
            "bin_end": 0.2,
            "count": 2
           },
           {
            "bin_start": 0.2,
            "bin_end": 0.4,
            "count": 0
           },
           {
            "bin_start": 0.4,
            "bin_end": 0.6000000000000001,
            "count": 0
           },
           {
            "bin_start": 0.6000000000000001,
            "bin_end": 0.8,
            "count": 0
           },
           {
            "bin_start": 0.8,
            "bin_end": 1,
            "count": 0
           },
           {
            "bin_start": 1,
            "bin_end": 1.2000000000000002,
            "count": 1
           },
           {
            "bin_start": 1.2000000000000002,
            "bin_end": 1.4000000000000001,
            "count": 0
           },
           {
            "bin_start": 1.4000000000000001,
            "bin_end": 1.6,
            "count": 0
           },
           {
            "bin_start": 1.6,
            "bin_end": 1.8,
            "count": 0
           },
           {
            "bin_start": 1.8,
            "bin_end": 2,
            "count": 2
           }
          ]
         }
        },
        {
         "name": "reservation_status",
         "dtype": "object",
         "stats": {
          "unique_count": 1,
          "nan_count": 0,
          "categories": [
           {
            "name": "Canceled",
            "count": 5
           }
          ]
         }
        },
        {
         "name": "reservation_status_date",
         "dtype": "object",
         "stats": {
          "unique_count": 5,
          "nan_count": 0,
          "categories": [
           {
            "name": "06-05-18",
            "count": 1
           },
           {
            "name": "22-04-18",
            "count": 1
           },
           {
            "name": "3 others",
            "count": 3
           }
          ]
         }
        },
        {
         "name": "_deepnote_index_column",
         "dtype": "int64"
        }
       ],
       "rows": [
        {
         "hotel": "Resort Hotel",
         "is_canceled": 1,
         "lead_time": 85,
         "arrival_date_year": 2018,
         "arrival_date_month": "July",
         "arrival_date_week_number": 27,
         "arrival_date_day_of_month": 1,
         "stays_in_weekend_nights": 0,
         "stays_in_week_nights": 3,
         "adults": 2,
         "children": 0,
         "babies": 0,
         "meal": "BB",
         "country": "PRT",
         "market_segment": "Online TA",
         "distribution_channel": "TA/TO",
         "is_repeated_guest": 0,
         "previous_cancellations": 0,
         "previous_bookings_not_canceled": 0,
         "reserved_room_type": "A",
         "assigned_room_type": "A",
         "booking_changes": 0,
         "deposit_type": "No Deposit",
         "agent": 240,
         "company": "nan",
         "days_in_waiting_list": 0,
         "customer_type": "Transient",
         "adr": 82,
         "required_car_parking_spaces": 0,
         "total_of_special_requests": 1,
         "reservation_status": "Canceled",
         "reservation_status_date": "06-05-18",
         "_deepnote_index_column": 0
        },
        {
         "hotel": "Resort Hotel",
         "is_canceled": 1,
         "lead_time": 75,
         "arrival_date_year": 2018,
         "arrival_date_month": "July",
         "arrival_date_week_number": 27,
         "arrival_date_day_of_month": 1,
         "stays_in_weekend_nights": 0,
         "stays_in_week_nights": 3,
         "adults": 2,
         "children": 0,
         "babies": 0,
         "meal": "HB",
         "country": "PRT",
         "market_segment": "Offline TA/TO",
         "distribution_channel": "TA/TO",
         "is_repeated_guest": 0,
         "previous_cancellations": 0,
         "previous_bookings_not_canceled": 0,
         "reserved_room_type": "D",
         "assigned_room_type": "D",
         "booking_changes": 0,
         "deposit_type": "No Deposit",
         "agent": 15,
         "company": "nan",
         "days_in_waiting_list": 0,
         "customer_type": "Transient",
         "adr": 105.5,
         "required_car_parking_spaces": 0,
         "total_of_special_requests": 0,
         "reservation_status": "Canceled",
         "reservation_status_date": "22-04-18",
         "_deepnote_index_column": 1
        },
        {
         "hotel": "Resort Hotel",
         "is_canceled": 1,
         "lead_time": 23,
         "arrival_date_year": 2018,
         "arrival_date_month": "July",
         "arrival_date_week_number": 27,
         "arrival_date_day_of_month": 1,
         "stays_in_weekend_nights": 0,
         "stays_in_week_nights": 4,
         "adults": 2,
         "children": 0,
         "babies": 0,
         "meal": "BB",
         "country": "PRT",
         "market_segment": "Online TA",
         "distribution_channel": "TA/TO",
         "is_repeated_guest": 0,
         "previous_cancellations": 0,
         "previous_bookings_not_canceled": 0,
         "reserved_room_type": "E",
         "assigned_room_type": "E",
         "booking_changes": 0,
         "deposit_type": "No Deposit",
         "agent": 240,
         "company": "nan",
         "days_in_waiting_list": 0,
         "customer_type": "Transient",
         "adr": 123,
         "required_car_parking_spaces": 0,
         "total_of_special_requests": 0,
         "reservation_status": "Canceled",
         "reservation_status_date": "23-06-18",
         "_deepnote_index_column": 2
        },
        {
         "hotel": "Resort Hotel",
         "is_canceled": 1,
         "lead_time": 60,
         "arrival_date_year": 2018,
         "arrival_date_month": "July",
         "arrival_date_week_number": 27,
         "arrival_date_day_of_month": 1,
         "stays_in_weekend_nights": 2,
         "stays_in_week_nights": 5,
         "adults": 2,
         "children": 0,
         "babies": 0,
         "meal": "BB",
         "country": "PRT",
         "market_segment": "Online TA",
         "distribution_channel": "TA/TO",
         "is_repeated_guest": 0,
         "previous_cancellations": 0,
         "previous_bookings_not_canceled": 0,
         "reserved_room_type": "E",
         "assigned_room_type": "E",
         "booking_changes": 0,
         "deposit_type": "No Deposit",
         "agent": 240,
         "company": "nan",
         "days_in_waiting_list": 0,
         "customer_type": "Transient",
         "adr": 107,
         "required_car_parking_spaces": 0,
         "total_of_special_requests": 2,
         "reservation_status": "Canceled",
         "reservation_status_date": "11-05-18",
         "_deepnote_index_column": 3
        },
        {
         "hotel": "Resort Hotel",
         "is_canceled": 1,
         "lead_time": 96,
         "arrival_date_year": 2018,
         "arrival_date_month": "July",
         "arrival_date_week_number": 27,
         "arrival_date_day_of_month": 1,
         "stays_in_weekend_nights": 2,
         "stays_in_week_nights": 8,
         "adults": 2,
         "children": 0,
         "babies": 0,
         "meal": "BB",
         "country": "PRT",
         "market_segment": "Direct",
         "distribution_channel": "Direct",
         "is_repeated_guest": 0,
         "previous_cancellations": 0,
         "previous_bookings_not_canceled": 0,
         "reserved_room_type": "E",
         "assigned_room_type": "E",
         "booking_changes": 0,
         "deposit_type": "No Deposit",
         "agent": "nan",
         "company": "nan",
         "days_in_waiting_list": 0,
         "customer_type": "Transient",
         "adr": 108.3,
         "required_car_parking_spaces": 0,
         "total_of_special_requests": 2,
         "reservation_status": "Canceled",
         "reservation_status_date": "29-05-18",
         "_deepnote_index_column": 4
        }
       ]
      },
      "text/plain": "          hotel  is_canceled  lead_time  arrival_date_year arrival_date_month  \\\n0  Resort Hotel            1         85               2018               July   \n1  Resort Hotel            1         75               2018               July   \n2  Resort Hotel            1         23               2018               July   \n3  Resort Hotel            1         60               2018               July   \n4  Resort Hotel            1         96               2018               July   \n\n   arrival_date_week_number  arrival_date_day_of_month  \\\n0                        27                          1   \n1                        27                          1   \n2                        27                          1   \n3                        27                          1   \n4                        27                          1   \n\n   stays_in_weekend_nights  stays_in_week_nights  adults  ...  deposit_type  \\\n0                        0                     3       2  ...    No Deposit   \n1                        0                     3       2  ...    No Deposit   \n2                        0                     4       2  ...    No Deposit   \n3                        2                     5       2  ...    No Deposit   \n4                        2                     8       2  ...    No Deposit   \n\n   agent company days_in_waiting_list customer_type    adr  \\\n0  240.0     NaN                    0     Transient   82.0   \n1   15.0     NaN                    0     Transient  105.5   \n2  240.0     NaN                    0     Transient  123.0   \n3  240.0     NaN                    0     Transient  107.0   \n4    NaN     NaN                    0     Transient  108.3   \n\n   required_car_parking_spaces  total_of_special_requests  reservation_status  \\\n0                            0                          1            Canceled   \n1                            0                          0            Canceled   \n2                            0                          0            Canceled   \n3                            0                          2            Canceled   \n4                            0                          2            Canceled   \n\n  reservation_status_date  \n0                06-05-18  \n1                22-04-18  \n2                23-06-18  \n3                11-05-18  \n4                29-05-18  \n\n[5 rows x 32 columns]",
      "text/html": "<div>\n<style scoped>\n    .dataframe tbody tr th:only-of-type {\n        vertical-align: middle;\n    }\n\n    .dataframe tbody tr th {\n        vertical-align: top;\n    }\n\n    .dataframe thead th {\n        text-align: right;\n    }\n</style>\n<table border=\"1\" class=\"dataframe\">\n  <thead>\n    <tr style=\"text-align: right;\">\n      <th></th>\n      <th>hotel</th>\n      <th>is_canceled</th>\n      <th>lead_time</th>\n      <th>arrival_date_year</th>\n      <th>arrival_date_month</th>\n      <th>arrival_date_week_number</th>\n      <th>arrival_date_day_of_month</th>\n      <th>stays_in_weekend_nights</th>\n      <th>stays_in_week_nights</th>\n      <th>adults</th>\n      <th>...</th>\n      <th>deposit_type</th>\n      <th>agent</th>\n      <th>company</th>\n      <th>days_in_waiting_list</th>\n      <th>customer_type</th>\n      <th>adr</th>\n      <th>required_car_parking_spaces</th>\n      <th>total_of_special_requests</th>\n      <th>reservation_status</th>\n      <th>reservation_status_date</th>\n    </tr>\n  </thead>\n  <tbody>\n    <tr>\n      <th>0</th>\n      <td>Resort Hotel</td>\n      <td>1</td>\n      <td>85</td>\n      <td>2018</td>\n      <td>July</td>\n      <td>27</td>\n      <td>1</td>\n      <td>0</td>\n      <td>3</td>\n      <td>2</td>\n      <td>...</td>\n      <td>No Deposit</td>\n      <td>240.0</td>\n      <td>NaN</td>\n      <td>0</td>\n      <td>Transient</td>\n      <td>82.0</td>\n      <td>0</td>\n      <td>1</td>\n      <td>Canceled</td>\n      <td>06-05-18</td>\n    </tr>\n    <tr>\n      <th>1</th>\n      <td>Resort Hotel</td>\n      <td>1</td>\n      <td>75</td>\n      <td>2018</td>\n      <td>July</td>\n      <td>27</td>\n      <td>1</td>\n      <td>0</td>\n      <td>3</td>\n      <td>2</td>\n      <td>...</td>\n      <td>No Deposit</td>\n      <td>15.0</td>\n      <td>NaN</td>\n      <td>0</td>\n      <td>Transient</td>\n      <td>105.5</td>\n      <td>0</td>\n      <td>0</td>\n      <td>Canceled</td>\n      <td>22-04-18</td>\n    </tr>\n    <tr>\n      <th>2</th>\n      <td>Resort Hotel</td>\n      <td>1</td>\n      <td>23</td>\n      <td>2018</td>\n      <td>July</td>\n      <td>27</td>\n      <td>1</td>\n      <td>0</td>\n      <td>4</td>\n      <td>2</td>\n      <td>...</td>\n      <td>No Deposit</td>\n      <td>240.0</td>\n      <td>NaN</td>\n      <td>0</td>\n      <td>Transient</td>\n      <td>123.0</td>\n      <td>0</td>\n      <td>0</td>\n      <td>Canceled</td>\n      <td>23-06-18</td>\n    </tr>\n    <tr>\n      <th>3</th>\n      <td>Resort Hotel</td>\n      <td>1</td>\n      <td>60</td>\n      <td>2018</td>\n      <td>July</td>\n      <td>27</td>\n      <td>1</td>\n      <td>2</td>\n      <td>5</td>\n      <td>2</td>\n      <td>...</td>\n      <td>No Deposit</td>\n      <td>240.0</td>\n      <td>NaN</td>\n      <td>0</td>\n      <td>Transient</td>\n      <td>107.0</td>\n      <td>0</td>\n      <td>2</td>\n      <td>Canceled</td>\n      <td>11-05-18</td>\n    </tr>\n    <tr>\n      <th>4</th>\n      <td>Resort Hotel</td>\n      <td>1</td>\n      <td>96</td>\n      <td>2018</td>\n      <td>July</td>\n      <td>27</td>\n      <td>1</td>\n      <td>2</td>\n      <td>8</td>\n      <td>2</td>\n      <td>...</td>\n      <td>No Deposit</td>\n      <td>NaN</td>\n      <td>NaN</td>\n      <td>0</td>\n      <td>Transient</td>\n      <td>108.3</td>\n      <td>0</td>\n      <td>2</td>\n      <td>Canceled</td>\n      <td>29-05-18</td>\n    </tr>\n  </tbody>\n</table>\n<p>5 rows × 32 columns</p>\n</div>"
     },
     "metadata": {}
    }
   ]
  },
  {
   "cell_type": "code",
   "metadata": {
    "cell_id": "98ebe16d73334885981bf8edbc4f538d",
    "tags": [],
    "deepnote_to_be_reexecuted": false,
    "source_hash": "70eca544",
    "execution_start": 1660314353054,
    "execution_millis": 568,
    "deepnote_cell_type": "code",
    "deepnote_cell_height": 529.796875
   },
   "source": "df_2018.describe()",
   "execution_count": null,
   "outputs": [
    {
     "output_type": "execute_result",
     "execution_count": 4,
     "data": {
      "application/vnd.deepnote.dataframe.v3+json": {
       "column_count": 20,
       "row_count": 8,
       "columns": [
        {
         "name": "is_canceled",
         "dtype": "float64",
         "stats": {
          "unique_count": 5,
          "nan_count": 0,
          "min": "0.0",
          "max": "21996.0",
          "histogram": [
           {
            "bin_start": 0,
            "bin_end": 2199.6,
            "count": 7
           },
           {
            "bin_start": 2199.6,
            "bin_end": 4399.2,
            "count": 0
           },
           {
            "bin_start": 4399.2,
            "bin_end": 6598.799999999999,
            "count": 0
           },
           {
            "bin_start": 6598.799999999999,
            "bin_end": 8798.4,
            "count": 0
           },
           {
            "bin_start": 8798.4,
            "bin_end": 10998,
            "count": 0
           },
           {
            "bin_start": 10998,
            "bin_end": 13197.599999999999,
            "count": 0
           },
           {
            "bin_start": 13197.599999999999,
            "bin_end": 15397.199999999999,
            "count": 0
           },
           {
            "bin_start": 15397.199999999999,
            "bin_end": 17596.8,
            "count": 0
           },
           {
            "bin_start": 17596.8,
            "bin_end": 19796.399999999998,
            "count": 0
           },
           {
            "bin_start": 19796.399999999998,
            "bin_end": 21996,
            "count": 1
           }
          ]
         }
        },
        {
         "name": "lead_time",
         "dtype": "float64",
         "stats": {
          "unique_count": 8,
          "nan_count": 0,
          "min": "0.0",
          "max": "21996.0",
          "histogram": [
           {
            "bin_start": 0,
            "bin_end": 2199.6,
            "count": 7
           },
           {
            "bin_start": 2199.6,
            "bin_end": 4399.2,
            "count": 0
           },
           {
            "bin_start": 4399.2,
            "bin_end": 6598.799999999999,
            "count": 0
           },
           {
            "bin_start": 6598.799999999999,
            "bin_end": 8798.4,
            "count": 0
           },
           {
            "bin_start": 8798.4,
            "bin_end": 10998,
            "count": 0
           },
           {
            "bin_start": 10998,
            "bin_end": 13197.599999999999,
            "count": 0
           },
           {
            "bin_start": 13197.599999999999,
            "bin_end": 15397.199999999999,
            "count": 0
           },
           {
            "bin_start": 15397.199999999999,
            "bin_end": 17596.8,
            "count": 0
           },
           {
            "bin_start": 17596.8,
            "bin_end": 19796.399999999998,
            "count": 0
           },
           {
            "bin_start": 19796.399999999998,
            "bin_end": 21996,
            "count": 1
           }
          ]
         }
        },
        {
         "name": "arrival_date_year",
         "dtype": "float64",
         "stats": {
          "unique_count": 3,
          "nan_count": 0,
          "min": "0.0",
          "max": "21996.0",
          "histogram": [
           {
            "bin_start": 0,
            "bin_end": 2199.6,
            "count": 7
           },
           {
            "bin_start": 2199.6,
            "bin_end": 4399.2,
            "count": 0
           },
           {
            "bin_start": 4399.2,
            "bin_end": 6598.799999999999,
            "count": 0
           },
           {
            "bin_start": 6598.799999999999,
            "bin_end": 8798.4,
            "count": 0
           },
           {
            "bin_start": 8798.4,
            "bin_end": 10998,
            "count": 0
           },
           {
            "bin_start": 10998,
            "bin_end": 13197.599999999999,
            "count": 0
           },
           {
            "bin_start": 13197.599999999999,
            "bin_end": 15397.199999999999,
            "count": 0
           },
           {
            "bin_start": 15397.199999999999,
            "bin_end": 17596.8,
            "count": 0
           },
           {
            "bin_start": 17596.8,
            "bin_end": 19796.399999999998,
            "count": 0
           },
           {
            "bin_start": 19796.399999999998,
            "bin_end": 21996,
            "count": 1
           }
          ]
         }
        },
        {
         "name": "arrival_date_week_number",
         "dtype": "float64",
         "stats": {
          "unique_count": 8,
          "nan_count": 0,
          "min": "6.810471722979136",
          "max": "21996.0",
          "histogram": [
           {
            "bin_start": 6.810471722979136,
            "bin_end": 2205.729424550681,
            "count": 7
           },
           {
            "bin_start": 2205.729424550681,
            "bin_end": 4404.648377378383,
            "count": 0
           },
           {
            "bin_start": 4404.648377378383,
            "bin_end": 6603.567330206085,
            "count": 0
           },
           {
            "bin_start": 6603.567330206085,
            "bin_end": 8802.486283033788,
            "count": 0
           },
           {
            "bin_start": 8802.486283033788,
            "bin_end": 11001.40523586149,
            "count": 0
           },
           {
            "bin_start": 11001.40523586149,
            "bin_end": 13200.324188689192,
            "count": 0
           },
           {
            "bin_start": 13200.324188689192,
            "bin_end": 15399.243141516894,
            "count": 0
           },
           {
            "bin_start": 15399.243141516894,
            "bin_end": 17598.162094344596,
            "count": 0
           },
           {
            "bin_start": 17598.162094344596,
            "bin_end": 19797.081047172298,
            "count": 0
           },
           {
            "bin_start": 19797.081047172298,
            "bin_end": 21996,
            "count": 1
           }
          ]
         }
        },
        {
         "name": "arrival_date_day_of_month",
         "dtype": "float64",
         "stats": {
          "unique_count": 8,
          "nan_count": 0,
          "min": "1.0",
          "max": "21996.0",
          "histogram": [
           {
            "bin_start": 1,
            "bin_end": 2200.5,
            "count": 7
           },
           {
            "bin_start": 2200.5,
            "bin_end": 4400,
            "count": 0
           },
           {
            "bin_start": 4400,
            "bin_end": 6599.5,
            "count": 0
           },
           {
            "bin_start": 6599.5,
            "bin_end": 8799,
            "count": 0
           },
           {
            "bin_start": 8799,
            "bin_end": 10998.5,
            "count": 0
           },
           {
            "bin_start": 10998.5,
            "bin_end": 13198,
            "count": 0
           },
           {
            "bin_start": 13198,
            "bin_end": 15397.5,
            "count": 0
           },
           {
            "bin_start": 15397.5,
            "bin_end": 17597,
            "count": 0
           },
           {
            "bin_start": 17597,
            "bin_end": 19796.5,
            "count": 0
           },
           {
            "bin_start": 19796.5,
            "bin_end": 21996,
            "count": 1
           }
          ]
         }
        },
        {
         "name": "stays_in_weekend_nights",
         "dtype": "float64",
         "stats": {
          "unique_count": 7,
          "nan_count": 0,
          "min": "0.0",
          "max": "21996.0",
          "histogram": [
           {
            "bin_start": 0,
            "bin_end": 2199.6,
            "count": 7
           },
           {
            "bin_start": 2199.6,
            "bin_end": 4399.2,
            "count": 0
           },
           {
            "bin_start": 4399.2,
            "bin_end": 6598.799999999999,
            "count": 0
           },
           {
            "bin_start": 6598.799999999999,
            "bin_end": 8798.4,
            "count": 0
           },
           {
            "bin_start": 8798.4,
            "bin_end": 10998,
            "count": 0
           },
           {
            "bin_start": 10998,
            "bin_end": 13197.599999999999,
            "count": 0
           },
           {
            "bin_start": 13197.599999999999,
            "bin_end": 15397.199999999999,
            "count": 0
           },
           {
            "bin_start": 15397.199999999999,
            "bin_end": 17596.8,
            "count": 0
           },
           {
            "bin_start": 17596.8,
            "bin_end": 19796.399999999998,
            "count": 0
           },
           {
            "bin_start": 19796.399999999998,
            "bin_end": 21996,
            "count": 1
           }
          ]
         }
        },
        {
         "name": "stays_in_week_nights",
         "dtype": "float64",
         "stats": {
          "unique_count": 8,
          "nan_count": 0,
          "min": "0.0",
          "max": "21996.0",
          "histogram": [
           {
            "bin_start": 0,
            "bin_end": 2199.6,
            "count": 7
           },
           {
            "bin_start": 2199.6,
            "bin_end": 4399.2,
            "count": 0
           },
           {
            "bin_start": 4399.2,
            "bin_end": 6598.799999999999,
            "count": 0
           },
           {
            "bin_start": 6598.799999999999,
            "bin_end": 8798.4,
            "count": 0
           },
           {
            "bin_start": 8798.4,
            "bin_end": 10998,
            "count": 0
           },
           {
            "bin_start": 10998,
            "bin_end": 13197.599999999999,
            "count": 0
           },
           {
            "bin_start": 13197.599999999999,
            "bin_end": 15397.199999999999,
            "count": 0
           },
           {
            "bin_start": 15397.199999999999,
            "bin_end": 17596.8,
            "count": 0
           },
           {
            "bin_start": 17596.8,
            "bin_end": 19796.399999999998,
            "count": 0
           },
           {
            "bin_start": 19796.399999999998,
            "bin_end": 21996,
            "count": 1
           }
          ]
         }
        },
        {
         "name": "adults",
         "dtype": "float64",
         "stats": {
          "unique_count": 6,
          "nan_count": 0,
          "min": "0.0",
          "max": "21996.0",
          "histogram": [
           {
            "bin_start": 0,
            "bin_end": 2199.6,
            "count": 7
           },
           {
            "bin_start": 2199.6,
            "bin_end": 4399.2,
            "count": 0
           },
           {
            "bin_start": 4399.2,
            "bin_end": 6598.799999999999,
            "count": 0
           },
           {
            "bin_start": 6598.799999999999,
            "bin_end": 8798.4,
            "count": 0
           },
           {
            "bin_start": 8798.4,
            "bin_end": 10998,
            "count": 0
           },
           {
            "bin_start": 10998,
            "bin_end": 13197.599999999999,
            "count": 0
           },
           {
            "bin_start": 13197.599999999999,
            "bin_end": 15397.199999999999,
            "count": 0
           },
           {
            "bin_start": 15397.199999999999,
            "bin_end": 17596.8,
            "count": 0
           },
           {
            "bin_start": 17596.8,
            "bin_end": 19796.399999999998,
            "count": 0
           },
           {
            "bin_start": 19796.399999999998,
            "bin_end": 21996,
            "count": 1
           }
          ]
         }
        },
        {
         "name": "children",
         "dtype": "float64",
         "stats": {
          "unique_count": 5,
          "nan_count": 0,
          "min": "0.0",
          "max": "21992.0",
          "histogram": [
           {
            "bin_start": 0,
            "bin_end": 2199.2,
            "count": 7
           },
           {
            "bin_start": 2199.2,
            "bin_end": 4398.4,
            "count": 0
           },
           {
            "bin_start": 4398.4,
            "bin_end": 6597.599999999999,
            "count": 0
           },
           {
            "bin_start": 6597.599999999999,
            "bin_end": 8796.8,
            "count": 0
           },
           {
            "bin_start": 8796.8,
            "bin_end": 10996,
            "count": 0
           },
           {
            "bin_start": 10996,
            "bin_end": 13195.199999999999,
            "count": 0
           },
           {
            "bin_start": 13195.199999999999,
            "bin_end": 15394.399999999998,
            "count": 0
           },
           {
            "bin_start": 15394.399999999998,
            "bin_end": 17593.6,
            "count": 0
           },
           {
            "bin_start": 17593.6,
            "bin_end": 19792.8,
            "count": 0
           },
           {
            "bin_start": 19792.8,
            "bin_end": 21992,
            "count": 1
           }
          ]
         }
        },
        {
         "name": "babies",
         "dtype": "float64",
         "stats": {
          "unique_count": 5,
          "nan_count": 0,
          "min": "0.0",
          "max": "21996.0",
          "histogram": [
           {
            "bin_start": 0,
            "bin_end": 2199.6,
            "count": 7
           },
           {
            "bin_start": 2199.6,
            "bin_end": 4399.2,
            "count": 0
           },
           {
            "bin_start": 4399.2,
            "bin_end": 6598.799999999999,
            "count": 0
           },
           {
            "bin_start": 6598.799999999999,
            "bin_end": 8798.4,
            "count": 0
           },
           {
            "bin_start": 8798.4,
            "bin_end": 10998,
            "count": 0
           },
           {
            "bin_start": 10998,
            "bin_end": 13197.599999999999,
            "count": 0
           },
           {
            "bin_start": 13197.599999999999,
            "bin_end": 15397.199999999999,
            "count": 0
           },
           {
            "bin_start": 15397.199999999999,
            "bin_end": 17596.8,
            "count": 0
           },
           {
            "bin_start": 17596.8,
            "bin_end": 19796.399999999998,
            "count": 0
           },
           {
            "bin_start": 19796.399999999998,
            "bin_end": 21996,
            "count": 1
           }
          ]
         }
        },
        {
         "name": "is_repeated_guest",
         "dtype": "float64",
         "stats": {
          "unique_count": 5,
          "nan_count": 0,
          "min": "0.0",
          "max": "21996.0",
          "histogram": [
           {
            "bin_start": 0,
            "bin_end": 2199.6,
            "count": 7
           },
           {
            "bin_start": 2199.6,
            "bin_end": 4399.2,
            "count": 0
           },
           {
            "bin_start": 4399.2,
            "bin_end": 6598.799999999999,
            "count": 0
           },
           {
            "bin_start": 6598.799999999999,
            "bin_end": 8798.4,
            "count": 0
           },
           {
            "bin_start": 8798.4,
            "bin_end": 10998,
            "count": 0
           },
           {
            "bin_start": 10998,
            "bin_end": 13197.599999999999,
            "count": 0
           },
           {
            "bin_start": 13197.599999999999,
            "bin_end": 15397.199999999999,
            "count": 0
           },
           {
            "bin_start": 15397.199999999999,
            "bin_end": 17596.8,
            "count": 0
           },
           {
            "bin_start": 17596.8,
            "bin_end": 19796.399999999998,
            "count": 0
           },
           {
            "bin_start": 19796.399999999998,
            "bin_end": 21996,
            "count": 1
           }
          ]
         }
        },
        {
         "name": "previous_cancellations",
         "dtype": "float64",
         "stats": {
          "unique_count": 5,
          "nan_count": 0,
          "min": "0.0",
          "max": "21996.0",
          "histogram": [
           {
            "bin_start": 0,
            "bin_end": 2199.6,
            "count": 7
           },
           {
            "bin_start": 2199.6,
            "bin_end": 4399.2,
            "count": 0
           },
           {
            "bin_start": 4399.2,
            "bin_end": 6598.799999999999,
            "count": 0
           },
           {
            "bin_start": 6598.799999999999,
            "bin_end": 8798.4,
            "count": 0
           },
           {
            "bin_start": 8798.4,
            "bin_end": 10998,
            "count": 0
           },
           {
            "bin_start": 10998,
            "bin_end": 13197.599999999999,
            "count": 0
           },
           {
            "bin_start": 13197.599999999999,
            "bin_end": 15397.199999999999,
            "count": 0
           },
           {
            "bin_start": 15397.199999999999,
            "bin_end": 17596.8,
            "count": 0
           },
           {
            "bin_start": 17596.8,
            "bin_end": 19796.399999999998,
            "count": 0
           },
           {
            "bin_start": 19796.399999999998,
            "bin_end": 21996,
            "count": 1
           }
          ]
         }
        },
        {
         "name": "previous_bookings_not_canceled",
         "dtype": "float64",
         "stats": {
          "unique_count": 5,
          "nan_count": 0,
          "min": "0.0",
          "max": "21996.0",
          "histogram": [
           {
            "bin_start": 0,
            "bin_end": 2199.6,
            "count": 7
           },
           {
            "bin_start": 2199.6,
            "bin_end": 4399.2,
            "count": 0
           },
           {
            "bin_start": 4399.2,
            "bin_end": 6598.799999999999,
            "count": 0
           },
           {
            "bin_start": 6598.799999999999,
            "bin_end": 8798.4,
            "count": 0
           },
           {
            "bin_start": 8798.4,
            "bin_end": 10998,
            "count": 0
           },
           {
            "bin_start": 10998,
            "bin_end": 13197.599999999999,
            "count": 0
           },
           {
            "bin_start": 13197.599999999999,
            "bin_end": 15397.199999999999,
            "count": 0
           },
           {
            "bin_start": 15397.199999999999,
            "bin_end": 17596.8,
            "count": 0
           },
           {
            "bin_start": 17596.8,
            "bin_end": 19796.399999999998,
            "count": 0
           },
           {
            "bin_start": 19796.399999999998,
            "bin_end": 21996,
            "count": 1
           }
          ]
         }
        },
        {
         "name": "booking_changes",
         "dtype": "float64",
         "stats": {
          "unique_count": 5,
          "nan_count": 0,
          "min": "0.0",
          "max": "21996.0",
          "histogram": [
           {
            "bin_start": 0,
            "bin_end": 2199.6,
            "count": 7
           },
           {
            "bin_start": 2199.6,
            "bin_end": 4399.2,
            "count": 0
           },
           {
            "bin_start": 4399.2,
            "bin_end": 6598.799999999999,
            "count": 0
           },
           {
            "bin_start": 6598.799999999999,
            "bin_end": 8798.4,
            "count": 0
           },
           {
            "bin_start": 8798.4,
            "bin_end": 10998,
            "count": 0
           },
           {
            "bin_start": 10998,
            "bin_end": 13197.599999999999,
            "count": 0
           },
           {
            "bin_start": 13197.599999999999,
            "bin_end": 15397.199999999999,
            "count": 0
           },
           {
            "bin_start": 15397.199999999999,
            "bin_end": 17596.8,
            "count": 0
           },
           {
            "bin_start": 17596.8,
            "bin_end": 19796.399999999998,
            "count": 0
           },
           {
            "bin_start": 19796.399999999998,
            "bin_end": 21996,
            "count": 1
           }
          ]
         }
        },
        {
         "name": "agent",
         "dtype": "float64",
         "stats": {
          "unique_count": 8,
          "nan_count": 0,
          "min": "1.0",
          "max": "18897.0",
          "histogram": [
           {
            "bin_start": 1,
            "bin_end": 1890.6,
            "count": 7
           },
           {
            "bin_start": 1890.6,
            "bin_end": 3780.2,
            "count": 0
           },
           {
            "bin_start": 3780.2,
            "bin_end": 5669.799999999999,
            "count": 0
           },
           {
            "bin_start": 5669.799999999999,
            "bin_end": 7559.4,
            "count": 0
           },
           {
            "bin_start": 7559.4,
            "bin_end": 9449,
            "count": 0
           },
           {
            "bin_start": 9449,
            "bin_end": 11338.599999999999,
            "count": 0
           },
           {
            "bin_start": 11338.599999999999,
            "bin_end": 13228.199999999999,
            "count": 0
           },
           {
            "bin_start": 13228.199999999999,
            "bin_end": 15117.8,
            "count": 0
           },
           {
            "bin_start": 15117.8,
            "bin_end": 17007.399999999998,
            "count": 0
           },
           {
            "bin_start": 17007.399999999998,
            "bin_end": 18897,
            "count": 1
           }
          ]
         }
        },
        {
         "name": "company",
         "dtype": "float64",
         "stats": {
          "unique_count": 8,
          "nan_count": 0,
          "min": "8.0",
          "max": "1305.0",
          "histogram": [
           {
            "bin_start": 8,
            "bin_end": 137.7,
            "count": 4
           },
           {
            "bin_start": 137.7,
            "bin_end": 267.4,
            "count": 2
           },
           {
            "bin_start": 267.4,
            "bin_end": 397.09999999999997,
            "count": 1
           },
           {
            "bin_start": 397.09999999999997,
            "bin_end": 526.8,
            "count": 0
           },
           {
            "bin_start": 526.8,
            "bin_end": 656.5,
            "count": 0
           },
           {
            "bin_start": 656.5,
            "bin_end": 786.1999999999999,
            "count": 0
           },
           {
            "bin_start": 786.1999999999999,
            "bin_end": 915.8999999999999,
            "count": 0
           },
           {
            "bin_start": 915.8999999999999,
            "bin_end": 1045.6,
            "count": 0
           },
           {
            "bin_start": 1045.6,
            "bin_end": 1175.3,
            "count": 0
           },
           {
            "bin_start": 1175.3,
            "bin_end": 1305,
            "count": 1
           }
          ]
         }
        },
        {
         "name": "days_in_waiting_list",
         "dtype": "float64",
         "stats": {
          "unique_count": 5,
          "nan_count": 0,
          "min": "0.0",
          "max": "21996.0",
          "histogram": [
           {
            "bin_start": 0,
            "bin_end": 2199.6,
            "count": 7
           },
           {
            "bin_start": 2199.6,
            "bin_end": 4399.2,
            "count": 0
           },
           {
            "bin_start": 4399.2,
            "bin_end": 6598.799999999999,
            "count": 0
           },
           {
            "bin_start": 6598.799999999999,
            "bin_end": 8798.4,
            "count": 0
           },
           {
            "bin_start": 8798.4,
            "bin_end": 10998,
            "count": 0
           },
           {
            "bin_start": 10998,
            "bin_end": 13197.599999999999,
            "count": 0
           },
           {
            "bin_start": 13197.599999999999,
            "bin_end": 15397.199999999999,
            "count": 0
           },
           {
            "bin_start": 15397.199999999999,
            "bin_end": 17596.8,
            "count": 0
           },
           {
            "bin_start": 17596.8,
            "bin_end": 19796.399999999998,
            "count": 0
           },
           {
            "bin_start": 19796.399999999998,
            "bin_end": 21996,
            "count": 1
           }
          ]
         }
        },
        {
         "name": "adr",
         "dtype": "float64",
         "stats": {
          "unique_count": 8,
          "nan_count": 0,
          "min": "0.0",
          "max": "21996.0",
          "histogram": [
           {
            "bin_start": 0,
            "bin_end": 2199.6,
            "count": 7
           },
           {
            "bin_start": 2199.6,
            "bin_end": 4399.2,
            "count": 0
           },
           {
            "bin_start": 4399.2,
            "bin_end": 6598.799999999999,
            "count": 0
           },
           {
            "bin_start": 6598.799999999999,
            "bin_end": 8798.4,
            "count": 0
           },
           {
            "bin_start": 8798.4,
            "bin_end": 10998,
            "count": 0
           },
           {
            "bin_start": 10998,
            "bin_end": 13197.599999999999,
            "count": 0
           },
           {
            "bin_start": 13197.599999999999,
            "bin_end": 15397.199999999999,
            "count": 0
           },
           {
            "bin_start": 15397.199999999999,
            "bin_end": 17596.8,
            "count": 0
           },
           {
            "bin_start": 17596.8,
            "bin_end": 19796.399999999998,
            "count": 0
           },
           {
            "bin_start": 19796.399999999998,
            "bin_end": 21996,
            "count": 1
           }
          ]
         }
        },
        {
         "name": "required_car_parking_spaces",
         "dtype": "float64",
         "stats": {
          "unique_count": 5,
          "nan_count": 0,
          "min": "0.0",
          "max": "21996.0",
          "histogram": [
           {
            "bin_start": 0,
            "bin_end": 2199.6,
            "count": 7
           },
           {
            "bin_start": 2199.6,
            "bin_end": 4399.2,
            "count": 0
           },
           {
            "bin_start": 4399.2,
            "bin_end": 6598.799999999999,
            "count": 0
           },
           {
            "bin_start": 6598.799999999999,
            "bin_end": 8798.4,
            "count": 0
           },
           {
            "bin_start": 8798.4,
            "bin_end": 10998,
            "count": 0
           },
           {
            "bin_start": 10998,
            "bin_end": 13197.599999999999,
            "count": 0
           },
           {
            "bin_start": 13197.599999999999,
            "bin_end": 15397.199999999999,
            "count": 0
           },
           {
            "bin_start": 15397.199999999999,
            "bin_end": 17596.8,
            "count": 0
           },
           {
            "bin_start": 17596.8,
            "bin_end": 19796.399999999998,
            "count": 0
           },
           {
            "bin_start": 19796.399999999998,
            "bin_end": 21996,
            "count": 1
           }
          ]
         }
        },
        {
         "name": "total_of_special_requests",
         "dtype": "float64",
         "stats": {
          "unique_count": 6,
          "nan_count": 0,
          "min": "0.0",
          "max": "21996.0",
          "histogram": [
           {
            "bin_start": 0,
            "bin_end": 2199.6,
            "count": 7
           },
           {
            "bin_start": 2199.6,
            "bin_end": 4399.2,
            "count": 0
           },
           {
            "bin_start": 4399.2,
            "bin_end": 6598.799999999999,
            "count": 0
           },
           {
            "bin_start": 6598.799999999999,
            "bin_end": 8798.4,
            "count": 0
           },
           {
            "bin_start": 8798.4,
            "bin_end": 10998,
            "count": 0
           },
           {
            "bin_start": 10998,
            "bin_end": 13197.599999999999,
            "count": 0
           },
           {
            "bin_start": 13197.599999999999,
            "bin_end": 15397.199999999999,
            "count": 0
           },
           {
            "bin_start": 15397.199999999999,
            "bin_end": 17596.8,
            "count": 0
           },
           {
            "bin_start": 17596.8,
            "bin_end": 19796.399999999998,
            "count": 0
           },
           {
            "bin_start": 19796.399999999998,
            "bin_end": 21996,
            "count": 1
           }
          ]
         }
        },
        {
         "name": "_deepnote_index_column",
         "dtype": "object"
        }
       ],
       "rows": [
        {
         "is_canceled": 21996,
         "lead_time": 21996,
         "arrival_date_year": 21996,
         "arrival_date_week_number": 21996,
         "arrival_date_day_of_month": 21996,
         "stays_in_weekend_nights": 21996,
         "stays_in_week_nights": 21996,
         "adults": 21996,
         "children": 21992,
         "babies": 21996,
         "is_repeated_guest": 21996,
         "previous_cancellations": 21996,
         "previous_bookings_not_canceled": 21996,
         "booking_changes": 21996,
         "agent": 18897,
         "company": 1305,
         "days_in_waiting_list": 21996,
         "adr": 21996,
         "required_car_parking_spaces": 21996,
         "total_of_special_requests": 21996,
         "_deepnote_index_column": "count"
        },
        {
         "is_canceled": 0.3701582105837425,
         "lead_time": 97.24599927259501,
         "arrival_date_year": 2018,
         "arrival_date_week_number": 39.618976177486815,
         "arrival_date_day_of_month": 15.63034188034188,
         "stays_in_weekend_nights": 0.9297144935442808,
         "stays_in_week_nights": 2.46126568466994,
         "adults": 1.8304237134024368,
         "children": 0.06170425609312477,
         "babies": 0.010138206946717585,
         "is_repeated_guest": 0.029141662120385523,
         "previous_cancellations": 0.3364248045099109,
         "previous_bookings_not_canceled": 0.031914893617021274,
         "booking_changes": 0.17766866703036915,
         "agent": 78.45541620363021,
         "company": 151.66590038314177,
         "days_in_waiting_list": 2.279778141480269,
         "adr": 87.17851518457901,
         "required_car_parking_spaces": 0.061465721040189124,
         "total_of_special_requests": 0.4354428077832333,
         "_deepnote_index_column": "mean"
        },
        {
         "is_canceled": 0.4828578563649798,
         "lead_time": 105.1042267099009,
         "arrival_date_year": 0,
         "arrival_date_week_number": 6.810471722979136,
         "arrival_date_day_of_month": 8.712245368460787,
         "stays_in_weekend_nights": 1.005584285283335,
         "stays_in_week_nights": 1.8923999223048695,
         "adults": 0.8512318194305545,
         "children": 0.3196722069245699,
         "babies": 0.11615167120163043,
         "is_repeated_guest": 0.16820734811814278,
         "previous_cancellations": 1.8230727609536463,
         "previous_bookings_not_canceled": 0.37491202239528715,
         "booking_changes": 0.5457755201144806,
         "agent": 102.36891276043718,
         "company": 108.82166679026535,
         "days_in_waiting_list": 13.0784511780107,
         "adr": 42.74879548100067,
         "required_car_parking_spaces": 0.24094403492904018,
         "total_of_special_requests": 0.7430309323637156,
         "_deepnote_index_column": "std"
        },
        {
         "is_canceled": 0,
         "lead_time": 0,
         "arrival_date_year": 2018,
         "arrival_date_week_number": 27,
         "arrival_date_day_of_month": 1,
         "stays_in_weekend_nights": 0,
         "stays_in_week_nights": 0,
         "adults": 0,
         "children": 0,
         "babies": 0,
         "is_repeated_guest": 0,
         "previous_cancellations": 0,
         "previous_bookings_not_canceled": 0,
         "booking_changes": 0,
         "agent": 1,
         "company": 8,
         "days_in_waiting_list": 0,
         "adr": 0,
         "required_car_parking_spaces": 0,
         "total_of_special_requests": 0,
         "_deepnote_index_column": "min"
        },
        {
         "is_canceled": 0,
         "lead_time": 14,
         "arrival_date_year": 2018,
         "arrival_date_week_number": 34,
         "arrival_date_day_of_month": 8,
         "stays_in_weekend_nights": 0,
         "stays_in_week_nights": 1,
         "adults": 2,
         "children": 0,
         "babies": 0,
         "is_repeated_guest": 0,
         "previous_cancellations": 0,
         "previous_bookings_not_canceled": 0,
         "booking_changes": 0,
         "agent": 5,
         "company": 40,
         "days_in_waiting_list": 0,
         "adr": 62,
         "required_car_parking_spaces": 0,
         "total_of_special_requests": 0,
         "_deepnote_index_column": "25%"
        },
        {
         "is_canceled": 0,
         "lead_time": 56,
         "arrival_date_year": 2018,
         "arrival_date_week_number": 39,
         "arrival_date_day_of_month": 16,
         "stays_in_weekend_nights": 1,
         "stays_in_week_nights": 2,
         "adults": 2,
         "children": 0,
         "babies": 0,
         "is_repeated_guest": 0,
         "previous_cancellations": 0,
         "previous_bookings_not_canceled": 0,
         "booking_changes": 0,
         "agent": 14,
         "company": 122,
         "days_in_waiting_list": 0,
         "adr": 77.75999999999999,
         "required_car_parking_spaces": 0,
         "total_of_special_requests": 0,
         "_deepnote_index_column": "50%"
        },
        {
         "is_canceled": 1,
         "lead_time": 146,
         "arrival_date_year": 2018,
         "arrival_date_week_number": 44,
         "arrival_date_day_of_month": 23,
         "stays_in_weekend_nights": 2,
         "stays_in_week_nights": 3,
         "adults": 2,
         "children": 0,
         "babies": 0,
         "is_repeated_guest": 0,
         "previous_cancellations": 0,
         "previous_bookings_not_canceled": 0,
         "booking_changes": 0,
         "agent": 175,
         "company": 223,
         "days_in_waiting_list": 0,
         "adr": 108,
         "required_car_parking_spaces": 0,
         "total_of_special_requests": 1,
         "_deepnote_index_column": "75%"
        },
        {
         "is_canceled": 1,
         "lead_time": 737,
         "arrival_date_year": 2018,
         "arrival_date_week_number": 53,
         "arrival_date_day_of_month": 31,
         "stays_in_weekend_nights": 18,
         "stays_in_week_nights": 42,
         "adults": 55,
         "children": 10,
         "babies": 9,
         "is_repeated_guest": 1,
         "previous_cancellations": 26,
         "previous_bookings_not_canceled": 14,
         "booking_changes": 20,
         "agent": 352,
         "company": 356,
         "days_in_waiting_list": 122,
         "adr": 508,
         "required_car_parking_spaces": 2,
         "total_of_special_requests": 5,
         "_deepnote_index_column": "max"
        }
       ]
      },
      "text/plain": "        is_canceled     lead_time  arrival_date_year  \\\ncount  21996.000000  21996.000000            21996.0   \nmean       0.370158     97.245999             2018.0   \nstd        0.482858    105.104227                0.0   \nmin        0.000000      0.000000             2018.0   \n25%        0.000000     14.000000             2018.0   \n50%        0.000000     56.000000             2018.0   \n75%        1.000000    146.000000             2018.0   \nmax        1.000000    737.000000             2018.0   \n\n       arrival_date_week_number  arrival_date_day_of_month  \\\ncount              21996.000000               21996.000000   \nmean                  39.618976                  15.630342   \nstd                    6.810472                   8.712245   \nmin                   27.000000                   1.000000   \n25%                   34.000000                   8.000000   \n50%                   39.000000                  16.000000   \n75%                   44.000000                  23.000000   \nmax                   53.000000                  31.000000   \n\n       stays_in_weekend_nights  stays_in_week_nights        adults  \\\ncount             21996.000000          21996.000000  21996.000000   \nmean                  0.929714              2.461266      1.830424   \nstd                   1.005584              1.892400      0.851232   \nmin                   0.000000              0.000000      0.000000   \n25%                   0.000000              1.000000      2.000000   \n50%                   1.000000              2.000000      2.000000   \n75%                   2.000000              3.000000      2.000000   \nmax                  18.000000             42.000000     55.000000   \n\n           children        babies  is_repeated_guest  previous_cancellations  \\\ncount  21992.000000  21996.000000       21996.000000            21996.000000   \nmean       0.061704      0.010138           0.029142                0.336425   \nstd        0.319672      0.116152           0.168207                1.823073   \nmin        0.000000      0.000000           0.000000                0.000000   \n25%        0.000000      0.000000           0.000000                0.000000   \n50%        0.000000      0.000000           0.000000                0.000000   \n75%        0.000000      0.000000           0.000000                0.000000   \nmax       10.000000      9.000000           1.000000               26.000000   \n\n       previous_bookings_not_canceled  booking_changes         agent  \\\ncount                    21996.000000     21996.000000  18897.000000   \nmean                         0.031915         0.177669     78.455416   \nstd                          0.374912         0.545776    102.368913   \nmin                          0.000000         0.000000      1.000000   \n25%                          0.000000         0.000000      5.000000   \n50%                          0.000000         0.000000     14.000000   \n75%                          0.000000         0.000000    175.000000   \nmax                         14.000000        20.000000    352.000000   \n\n           company  days_in_waiting_list           adr  \\\ncount  1305.000000          21996.000000  21996.000000   \nmean    151.665900              2.279778     87.178515   \nstd     108.821667             13.078451     42.748795   \nmin       8.000000              0.000000      0.000000   \n25%      40.000000              0.000000     62.000000   \n50%     122.000000              0.000000     77.760000   \n75%     223.000000              0.000000    108.000000   \nmax     356.000000            122.000000    508.000000   \n\n       required_car_parking_spaces  total_of_special_requests  \ncount                 21996.000000               21996.000000  \nmean                      0.061466                   0.435443  \nstd                       0.240944                   0.743031  \nmin                       0.000000                   0.000000  \n25%                       0.000000                   0.000000  \n50%                       0.000000                   0.000000  \n75%                       0.000000                   1.000000  \nmax                       2.000000                   5.000000  ",
      "text/html": "<div>\n<style scoped>\n    .dataframe tbody tr th:only-of-type {\n        vertical-align: middle;\n    }\n\n    .dataframe tbody tr th {\n        vertical-align: top;\n    }\n\n    .dataframe thead th {\n        text-align: right;\n    }\n</style>\n<table border=\"1\" class=\"dataframe\">\n  <thead>\n    <tr style=\"text-align: right;\">\n      <th></th>\n      <th>is_canceled</th>\n      <th>lead_time</th>\n      <th>arrival_date_year</th>\n      <th>arrival_date_week_number</th>\n      <th>arrival_date_day_of_month</th>\n      <th>stays_in_weekend_nights</th>\n      <th>stays_in_week_nights</th>\n      <th>adults</th>\n      <th>children</th>\n      <th>babies</th>\n      <th>is_repeated_guest</th>\n      <th>previous_cancellations</th>\n      <th>previous_bookings_not_canceled</th>\n      <th>booking_changes</th>\n      <th>agent</th>\n      <th>company</th>\n      <th>days_in_waiting_list</th>\n      <th>adr</th>\n      <th>required_car_parking_spaces</th>\n      <th>total_of_special_requests</th>\n    </tr>\n  </thead>\n  <tbody>\n    <tr>\n      <th>count</th>\n      <td>21996.000000</td>\n      <td>21996.000000</td>\n      <td>21996.0</td>\n      <td>21996.000000</td>\n      <td>21996.000000</td>\n      <td>21996.000000</td>\n      <td>21996.000000</td>\n      <td>21996.000000</td>\n      <td>21992.000000</td>\n      <td>21996.000000</td>\n      <td>21996.000000</td>\n      <td>21996.000000</td>\n      <td>21996.000000</td>\n      <td>21996.000000</td>\n      <td>18897.000000</td>\n      <td>1305.000000</td>\n      <td>21996.000000</td>\n      <td>21996.000000</td>\n      <td>21996.000000</td>\n      <td>21996.000000</td>\n    </tr>\n    <tr>\n      <th>mean</th>\n      <td>0.370158</td>\n      <td>97.245999</td>\n      <td>2018.0</td>\n      <td>39.618976</td>\n      <td>15.630342</td>\n      <td>0.929714</td>\n      <td>2.461266</td>\n      <td>1.830424</td>\n      <td>0.061704</td>\n      <td>0.010138</td>\n      <td>0.029142</td>\n      <td>0.336425</td>\n      <td>0.031915</td>\n      <td>0.177669</td>\n      <td>78.455416</td>\n      <td>151.665900</td>\n      <td>2.279778</td>\n      <td>87.178515</td>\n      <td>0.061466</td>\n      <td>0.435443</td>\n    </tr>\n    <tr>\n      <th>std</th>\n      <td>0.482858</td>\n      <td>105.104227</td>\n      <td>0.0</td>\n      <td>6.810472</td>\n      <td>8.712245</td>\n      <td>1.005584</td>\n      <td>1.892400</td>\n      <td>0.851232</td>\n      <td>0.319672</td>\n      <td>0.116152</td>\n      <td>0.168207</td>\n      <td>1.823073</td>\n      <td>0.374912</td>\n      <td>0.545776</td>\n      <td>102.368913</td>\n      <td>108.821667</td>\n      <td>13.078451</td>\n      <td>42.748795</td>\n      <td>0.240944</td>\n      <td>0.743031</td>\n    </tr>\n    <tr>\n      <th>min</th>\n      <td>0.000000</td>\n      <td>0.000000</td>\n      <td>2018.0</td>\n      <td>27.000000</td>\n      <td>1.000000</td>\n      <td>0.000000</td>\n      <td>0.000000</td>\n      <td>0.000000</td>\n      <td>0.000000</td>\n      <td>0.000000</td>\n      <td>0.000000</td>\n      <td>0.000000</td>\n      <td>0.000000</td>\n      <td>0.000000</td>\n      <td>1.000000</td>\n      <td>8.000000</td>\n      <td>0.000000</td>\n      <td>0.000000</td>\n      <td>0.000000</td>\n      <td>0.000000</td>\n    </tr>\n    <tr>\n      <th>25%</th>\n      <td>0.000000</td>\n      <td>14.000000</td>\n      <td>2018.0</td>\n      <td>34.000000</td>\n      <td>8.000000</td>\n      <td>0.000000</td>\n      <td>1.000000</td>\n      <td>2.000000</td>\n      <td>0.000000</td>\n      <td>0.000000</td>\n      <td>0.000000</td>\n      <td>0.000000</td>\n      <td>0.000000</td>\n      <td>0.000000</td>\n      <td>5.000000</td>\n      <td>40.000000</td>\n      <td>0.000000</td>\n      <td>62.000000</td>\n      <td>0.000000</td>\n      <td>0.000000</td>\n    </tr>\n    <tr>\n      <th>50%</th>\n      <td>0.000000</td>\n      <td>56.000000</td>\n      <td>2018.0</td>\n      <td>39.000000</td>\n      <td>16.000000</td>\n      <td>1.000000</td>\n      <td>2.000000</td>\n      <td>2.000000</td>\n      <td>0.000000</td>\n      <td>0.000000</td>\n      <td>0.000000</td>\n      <td>0.000000</td>\n      <td>0.000000</td>\n      <td>0.000000</td>\n      <td>14.000000</td>\n      <td>122.000000</td>\n      <td>0.000000</td>\n      <td>77.760000</td>\n      <td>0.000000</td>\n      <td>0.000000</td>\n    </tr>\n    <tr>\n      <th>75%</th>\n      <td>1.000000</td>\n      <td>146.000000</td>\n      <td>2018.0</td>\n      <td>44.000000</td>\n      <td>23.000000</td>\n      <td>2.000000</td>\n      <td>3.000000</td>\n      <td>2.000000</td>\n      <td>0.000000</td>\n      <td>0.000000</td>\n      <td>0.000000</td>\n      <td>0.000000</td>\n      <td>0.000000</td>\n      <td>0.000000</td>\n      <td>175.000000</td>\n      <td>223.000000</td>\n      <td>0.000000</td>\n      <td>108.000000</td>\n      <td>0.000000</td>\n      <td>1.000000</td>\n    </tr>\n    <tr>\n      <th>max</th>\n      <td>1.000000</td>\n      <td>737.000000</td>\n      <td>2018.0</td>\n      <td>53.000000</td>\n      <td>31.000000</td>\n      <td>18.000000</td>\n      <td>42.000000</td>\n      <td>55.000000</td>\n      <td>10.000000</td>\n      <td>9.000000</td>\n      <td>1.000000</td>\n      <td>26.000000</td>\n      <td>14.000000</td>\n      <td>20.000000</td>\n      <td>352.000000</td>\n      <td>356.000000</td>\n      <td>122.000000</td>\n      <td>508.000000</td>\n      <td>2.000000</td>\n      <td>5.000000</td>\n    </tr>\n  </tbody>\n</table>\n</div>"
     },
     "metadata": {}
    }
   ]
  },
  {
   "cell_type": "code",
   "metadata": {
    "cell_id": "a9487f1275df4e7988c2194a015bd44f",
    "tags": [],
    "deepnote_to_be_reexecuted": false,
    "source_hash": "cfc25576",
    "execution_start": 1660314353693,
    "execution_millis": 48,
    "deepnote_cell_type": "code",
    "deepnote_cell_height": 696
   },
   "source": "df_2018.info()",
   "execution_count": null,
   "outputs": [
    {
     "name": "stdout",
     "text": "<class 'pandas.core.frame.DataFrame'>\nRangeIndex: 21996 entries, 0 to 21995\nData columns (total 32 columns):\n #   Column                          Non-Null Count  Dtype  \n---  ------                          --------------  -----  \n 0   hotel                           21996 non-null  object \n 1   is_canceled                     21996 non-null  int64  \n 2   lead_time                       21996 non-null  int64  \n 3   arrival_date_year               21996 non-null  int64  \n 4   arrival_date_month              21996 non-null  object \n 5   arrival_date_week_number        21996 non-null  int64  \n 6   arrival_date_day_of_month       21996 non-null  int64  \n 7   stays_in_weekend_nights         21996 non-null  int64  \n 8   stays_in_week_nights            21996 non-null  int64  \n 9   adults                          21996 non-null  int64  \n 10  children                        21992 non-null  float64\n 11  babies                          21996 non-null  int64  \n 12  meal                            21996 non-null  object \n 13  country                         21863 non-null  object \n 14  market_segment                  21996 non-null  object \n 15  distribution_channel            21996 non-null  object \n 16  is_repeated_guest               21996 non-null  int64  \n 17  previous_cancellations          21996 non-null  int64  \n 18  previous_bookings_not_canceled  21996 non-null  int64  \n 19  reserved_room_type              21996 non-null  object \n 20  assigned_room_type              21996 non-null  object \n 21  booking_changes                 21996 non-null  int64  \n 22  deposit_type                    21996 non-null  object \n 23  agent                           18897 non-null  float64\n 24  company                         1305 non-null   float64\n 25  days_in_waiting_list            21996 non-null  int64  \n 26  customer_type                   21996 non-null  object \n 27  adr                             21996 non-null  float64\n 28  required_car_parking_spaces     21996 non-null  int64  \n 29  total_of_special_requests       21996 non-null  int64  \n 30  reservation_status              21996 non-null  object \n 31  reservation_status_date         21996 non-null  object \ndtypes: float64(4), int64(16), object(12)\nmemory usage: 5.4+ MB\n",
     "output_type": "stream"
    }
   ]
  },
  {
   "cell_type": "markdown",
   "source": "##### 2019 Revenue General Data Insights",
   "metadata": {
    "cell_id": "30fa9cbd33aa4ce1af19d9a9e993ca6b",
    "tags": [],
    "deepnote_cell_type": "markdown",
    "deepnote_cell_height": 54
   }
  },
  {
   "cell_type": "code",
   "metadata": {
    "cell_id": "a1f64b41fb564ce7bc19f05970b4a8be",
    "tags": [],
    "deepnote_to_be_reexecuted": false,
    "source_hash": "3a0a99c1",
    "execution_start": 1660314353781,
    "execution_millis": 345,
    "deepnote_cell_type": "code",
    "deepnote_cell_height": 406.796875
   },
   "source": "df_2019.head()",
   "execution_count": null,
   "outputs": [
    {
     "output_type": "execute_result",
     "execution_count": 6,
     "data": {
      "application/vnd.deepnote.dataframe.v3+json": {
       "column_count": 32,
       "row_count": 5,
       "columns": [
        {
         "name": "hotel",
         "dtype": "object",
         "stats": {
          "unique_count": 1,
          "nan_count": 0,
          "categories": [
           {
            "name": "Resort Hotel",
            "count": 5
           }
          ]
         }
        },
        {
         "name": "is_canceled",
         "dtype": "int64",
         "stats": {
          "unique_count": 1,
          "nan_count": 0,
          "min": "1",
          "max": "1",
          "histogram": [
           {
            "bin_start": 0.5,
            "bin_end": 0.6,
            "count": 0
           },
           {
            "bin_start": 0.6,
            "bin_end": 0.7,
            "count": 0
           },
           {
            "bin_start": 0.7,
            "bin_end": 0.8,
            "count": 0
           },
           {
            "bin_start": 0.8,
            "bin_end": 0.9,
            "count": 0
           },
           {
            "bin_start": 0.9,
            "bin_end": 1,
            "count": 0
           },
           {
            "bin_start": 1,
            "bin_end": 1.1,
            "count": 5
           },
           {
            "bin_start": 1.1,
            "bin_end": 1.2000000000000002,
            "count": 0
           },
           {
            "bin_start": 1.2000000000000002,
            "bin_end": 1.3,
            "count": 0
           },
           {
            "bin_start": 1.3,
            "bin_end": 1.4,
            "count": 0
           },
           {
            "bin_start": 1.4,
            "bin_end": 1.5,
            "count": 0
           }
          ]
         }
        },
        {
         "name": "lead_time",
         "dtype": "int64",
         "stats": {
          "unique_count": 3,
          "nan_count": 0,
          "min": "20",
          "max": "113",
          "histogram": [
           {
            "bin_start": 20,
            "bin_end": 29.3,
            "count": 1
           },
           {
            "bin_start": 29.3,
            "bin_end": 38.6,
            "count": 0
           },
           {
            "bin_start": 38.6,
            "bin_end": 47.900000000000006,
            "count": 0
           },
           {
            "bin_start": 47.900000000000006,
            "bin_end": 57.2,
            "count": 0
           },
           {
            "bin_start": 57.2,
            "bin_end": 66.5,
            "count": 0
           },
           {
            "bin_start": 66.5,
            "bin_end": 75.80000000000001,
            "count": 0
           },
           {
            "bin_start": 75.80000000000001,
            "bin_end": 85.10000000000001,
            "count": 1
           },
           {
            "bin_start": 85.10000000000001,
            "bin_end": 94.4,
            "count": 0
           },
           {
            "bin_start": 94.4,
            "bin_end": 103.7,
            "count": 0
           },
           {
            "bin_start": 103.7,
            "bin_end": 113,
            "count": 3
           }
          ]
         }
        },
        {
         "name": "arrival_date_year",
         "dtype": "int64",
         "stats": {
          "unique_count": 1,
          "nan_count": 0,
          "min": "2019",
          "max": "2019",
          "histogram": [
           {
            "bin_start": 2018.5,
            "bin_end": 2018.6,
            "count": 0
           },
           {
            "bin_start": 2018.6,
            "bin_end": 2018.7,
            "count": 0
           },
           {
            "bin_start": 2018.7,
            "bin_end": 2018.8,
            "count": 0
           },
           {
            "bin_start": 2018.8,
            "bin_end": 2018.9,
            "count": 0
           },
           {
            "bin_start": 2018.9,
            "bin_end": 2019,
            "count": 0
           },
           {
            "bin_start": 2019,
            "bin_end": 2019.1,
            "count": 5
           },
           {
            "bin_start": 2019.1,
            "bin_end": 2019.2,
            "count": 0
           },
           {
            "bin_start": 2019.2,
            "bin_end": 2019.3,
            "count": 0
           },
           {
            "bin_start": 2019.3,
            "bin_end": 2019.4,
            "count": 0
           },
           {
            "bin_start": 2019.4,
            "bin_end": 2019.5,
            "count": 0
           }
          ]
         }
        },
        {
         "name": "arrival_date_month",
         "dtype": "object",
         "stats": {
          "unique_count": 1,
          "nan_count": 0,
          "categories": [
           {
            "name": "January",
            "count": 5
           }
          ]
         }
        },
        {
         "name": "arrival_date_week_number",
         "dtype": "int64",
         "stats": {
          "unique_count": 1,
          "nan_count": 0,
          "min": "1",
          "max": "1",
          "histogram": [
           {
            "bin_start": 0.5,
            "bin_end": 0.6,
            "count": 0
           },
           {
            "bin_start": 0.6,
            "bin_end": 0.7,
            "count": 0
           },
           {
            "bin_start": 0.7,
            "bin_end": 0.8,
            "count": 0
           },
           {
            "bin_start": 0.8,
            "bin_end": 0.9,
            "count": 0
           },
           {
            "bin_start": 0.9,
            "bin_end": 1,
            "count": 0
           },
           {
            "bin_start": 1,
            "bin_end": 1.1,
            "count": 5
           },
           {
            "bin_start": 1.1,
            "bin_end": 1.2000000000000002,
            "count": 0
           },
           {
            "bin_start": 1.2000000000000002,
            "bin_end": 1.3,
            "count": 0
           },
           {
            "bin_start": 1.3,
            "bin_end": 1.4,
            "count": 0
           },
           {
            "bin_start": 1.4,
            "bin_end": 1.5,
            "count": 0
           }
          ]
         }
        },
        {
         "name": "arrival_date_day_of_month",
         "dtype": "int64",
         "stats": {
          "unique_count": 2,
          "nan_count": 0,
          "min": "1",
          "max": "2",
          "histogram": [
           {
            "bin_start": 1,
            "bin_end": 1.1,
            "count": 2
           },
           {
            "bin_start": 1.1,
            "bin_end": 1.2,
            "count": 0
           },
           {
            "bin_start": 1.2,
            "bin_end": 1.3,
            "count": 0
           },
           {
            "bin_start": 1.3,
            "bin_end": 1.4,
            "count": 0
           },
           {
            "bin_start": 1.4,
            "bin_end": 1.5,
            "count": 0
           },
           {
            "bin_start": 1.5,
            "bin_end": 1.6,
            "count": 0
           },
           {
            "bin_start": 1.6,
            "bin_end": 1.7000000000000002,
            "count": 0
           },
           {
            "bin_start": 1.7000000000000002,
            "bin_end": 1.8,
            "count": 0
           },
           {
            "bin_start": 1.8,
            "bin_end": 1.9,
            "count": 0
           },
           {
            "bin_start": 1.9,
            "bin_end": 2,
            "count": 3
           }
          ]
         }
        },
        {
         "name": "stays_in_weekend_nights",
         "dtype": "int64",
         "stats": {
          "unique_count": 2,
          "nan_count": 0,
          "min": "0",
          "max": "1",
          "histogram": [
           {
            "bin_start": 0,
            "bin_end": 0.1,
            "count": 4
           },
           {
            "bin_start": 0.1,
            "bin_end": 0.2,
            "count": 0
           },
           {
            "bin_start": 0.2,
            "bin_end": 0.30000000000000004,
            "count": 0
           },
           {
            "bin_start": 0.30000000000000004,
            "bin_end": 0.4,
            "count": 0
           },
           {
            "bin_start": 0.4,
            "bin_end": 0.5,
            "count": 0
           },
           {
            "bin_start": 0.5,
            "bin_end": 0.6000000000000001,
            "count": 0
           },
           {
            "bin_start": 0.6000000000000001,
            "bin_end": 0.7000000000000001,
            "count": 0
           },
           {
            "bin_start": 0.7000000000000001,
            "bin_end": 0.8,
            "count": 0
           },
           {
            "bin_start": 0.8,
            "bin_end": 0.9,
            "count": 0
           },
           {
            "bin_start": 0.9,
            "bin_end": 1,
            "count": 1
           }
          ]
         }
        },
        {
         "name": "stays_in_week_nights",
         "dtype": "int64",
         "stats": {
          "unique_count": 2,
          "nan_count": 0,
          "min": "1",
          "max": "2",
          "histogram": [
           {
            "bin_start": 1,
            "bin_end": 1.1,
            "count": 3
           },
           {
            "bin_start": 1.1,
            "bin_end": 1.2,
            "count": 0
           },
           {
            "bin_start": 1.2,
            "bin_end": 1.3,
            "count": 0
           },
           {
            "bin_start": 1.3,
            "bin_end": 1.4,
            "count": 0
           },
           {
            "bin_start": 1.4,
            "bin_end": 1.5,
            "count": 0
           },
           {
            "bin_start": 1.5,
            "bin_end": 1.6,
            "count": 0
           },
           {
            "bin_start": 1.6,
            "bin_end": 1.7000000000000002,
            "count": 0
           },
           {
            "bin_start": 1.7000000000000002,
            "bin_end": 1.8,
            "count": 0
           },
           {
            "bin_start": 1.8,
            "bin_end": 1.9,
            "count": 0
           },
           {
            "bin_start": 1.9,
            "bin_end": 2,
            "count": 2
           }
          ]
         }
        },
        {
         "name": "adults",
         "dtype": "int64",
         "stats": {
          "unique_count": 1,
          "nan_count": 0,
          "min": "2",
          "max": "2",
          "histogram": [
           {
            "bin_start": 1.5,
            "bin_end": 1.6,
            "count": 0
           },
           {
            "bin_start": 1.6,
            "bin_end": 1.7,
            "count": 0
           },
           {
            "bin_start": 1.7,
            "bin_end": 1.8,
            "count": 0
           },
           {
            "bin_start": 1.8,
            "bin_end": 1.9,
            "count": 0
           },
           {
            "bin_start": 1.9,
            "bin_end": 2,
            "count": 0
           },
           {
            "bin_start": 2,
            "bin_end": 2.1,
            "count": 5
           },
           {
            "bin_start": 2.1,
            "bin_end": 2.2,
            "count": 0
           },
           {
            "bin_start": 2.2,
            "bin_end": 2.3,
            "count": 0
           },
           {
            "bin_start": 2.3,
            "bin_end": 2.4,
            "count": 0
           },
           {
            "bin_start": 2.4,
            "bin_end": 2.5,
            "count": 0
           }
          ]
         }
        },
        {
         "name": "children",
         "dtype": "float64",
         "stats": {
          "unique_count": 2,
          "nan_count": 0,
          "min": "0.0",
          "max": "2.0",
          "histogram": [
           {
            "bin_start": 0,
            "bin_end": 0.2,
            "count": 4
           },
           {
            "bin_start": 0.2,
            "bin_end": 0.4,
            "count": 0
           },
           {
            "bin_start": 0.4,
            "bin_end": 0.6000000000000001,
            "count": 0
           },
           {
            "bin_start": 0.6000000000000001,
            "bin_end": 0.8,
            "count": 0
           },
           {
            "bin_start": 0.8,
            "bin_end": 1,
            "count": 0
           },
           {
            "bin_start": 1,
            "bin_end": 1.2000000000000002,
            "count": 0
           },
           {
            "bin_start": 1.2000000000000002,
            "bin_end": 1.4000000000000001,
            "count": 0
           },
           {
            "bin_start": 1.4000000000000001,
            "bin_end": 1.6,
            "count": 0
           },
           {
            "bin_start": 1.6,
            "bin_end": 1.8,
            "count": 0
           },
           {
            "bin_start": 1.8,
            "bin_end": 2,
            "count": 1
           }
          ]
         }
        },
        {
         "name": "babies",
         "dtype": "int64",
         "stats": {
          "unique_count": 1,
          "nan_count": 0,
          "min": "0",
          "max": "0",
          "histogram": [
           {
            "bin_start": -0.5,
            "bin_end": -0.4,
            "count": 0
           },
           {
            "bin_start": -0.4,
            "bin_end": -0.3,
            "count": 0
           },
           {
            "bin_start": -0.3,
            "bin_end": -0.19999999999999996,
            "count": 0
           },
           {
            "bin_start": -0.19999999999999996,
            "bin_end": -0.09999999999999998,
            "count": 0
           },
           {
            "bin_start": -0.09999999999999998,
            "bin_end": 0,
            "count": 0
           },
           {
            "bin_start": 0,
            "bin_end": 0.10000000000000009,
            "count": 5
           },
           {
            "bin_start": 0.10000000000000009,
            "bin_end": 0.20000000000000007,
            "count": 0
           },
           {
            "bin_start": 0.20000000000000007,
            "bin_end": 0.30000000000000004,
            "count": 0
           },
           {
            "bin_start": 0.30000000000000004,
            "bin_end": 0.4,
            "count": 0
           },
           {
            "bin_start": 0.4,
            "bin_end": 0.5,
            "count": 0
           }
          ]
         }
        },
        {
         "name": "meal",
         "dtype": "object",
         "stats": {
          "unique_count": 2,
          "nan_count": 0,
          "categories": [
           {
            "name": "HB",
            "count": 3
           },
           {
            "name": "BB",
            "count": 2
           }
          ]
         }
        },
        {
         "name": "country",
         "dtype": "object",
         "stats": {
          "unique_count": 1,
          "nan_count": 0,
          "categories": [
           {
            "name": "PRT",
            "count": 5
           }
          ]
         }
        },
        {
         "name": "market_segment",
         "dtype": "object",
         "stats": {
          "unique_count": 2,
          "nan_count": 0,
          "categories": [
           {
            "name": "Groups",
            "count": 3
           },
           {
            "name": "Online TA",
            "count": 2
           }
          ]
         }
        },
        {
         "name": "distribution_channel",
         "dtype": "object",
         "stats": {
          "unique_count": 2,
          "nan_count": 0,
          "categories": [
           {
            "name": "Direct",
            "count": 3
           },
           {
            "name": "TA/TO",
            "count": 2
           }
          ]
         }
        },
        {
         "name": "is_repeated_guest",
         "dtype": "int64",
         "stats": {
          "unique_count": 1,
          "nan_count": 0,
          "min": "0",
          "max": "0",
          "histogram": [
           {
            "bin_start": -0.5,
            "bin_end": -0.4,
            "count": 0
           },
           {
            "bin_start": -0.4,
            "bin_end": -0.3,
            "count": 0
           },
           {
            "bin_start": -0.3,
            "bin_end": -0.19999999999999996,
            "count": 0
           },
           {
            "bin_start": -0.19999999999999996,
            "bin_end": -0.09999999999999998,
            "count": 0
           },
           {
            "bin_start": -0.09999999999999998,
            "bin_end": 0,
            "count": 0
           },
           {
            "bin_start": 0,
            "bin_end": 0.10000000000000009,
            "count": 5
           },
           {
            "bin_start": 0.10000000000000009,
            "bin_end": 0.20000000000000007,
            "count": 0
           },
           {
            "bin_start": 0.20000000000000007,
            "bin_end": 0.30000000000000004,
            "count": 0
           },
           {
            "bin_start": 0.30000000000000004,
            "bin_end": 0.4,
            "count": 0
           },
           {
            "bin_start": 0.4,
            "bin_end": 0.5,
            "count": 0
           }
          ]
         }
        },
        {
         "name": "previous_cancellations",
         "dtype": "int64",
         "stats": {
          "unique_count": 1,
          "nan_count": 0,
          "min": "0",
          "max": "0",
          "histogram": [
           {
            "bin_start": -0.5,
            "bin_end": -0.4,
            "count": 0
           },
           {
            "bin_start": -0.4,
            "bin_end": -0.3,
            "count": 0
           },
           {
            "bin_start": -0.3,
            "bin_end": -0.19999999999999996,
            "count": 0
           },
           {
            "bin_start": -0.19999999999999996,
            "bin_end": -0.09999999999999998,
            "count": 0
           },
           {
            "bin_start": -0.09999999999999998,
            "bin_end": 0,
            "count": 0
           },
           {
            "bin_start": 0,
            "bin_end": 0.10000000000000009,
            "count": 5
           },
           {
            "bin_start": 0.10000000000000009,
            "bin_end": 0.20000000000000007,
            "count": 0
           },
           {
            "bin_start": 0.20000000000000007,
            "bin_end": 0.30000000000000004,
            "count": 0
           },
           {
            "bin_start": 0.30000000000000004,
            "bin_end": 0.4,
            "count": 0
           },
           {
            "bin_start": 0.4,
            "bin_end": 0.5,
            "count": 0
           }
          ]
         }
        },
        {
         "name": "previous_bookings_not_canceled",
         "dtype": "int64",
         "stats": {
          "unique_count": 1,
          "nan_count": 0,
          "min": "0",
          "max": "0",
          "histogram": [
           {
            "bin_start": -0.5,
            "bin_end": -0.4,
            "count": 0
           },
           {
            "bin_start": -0.4,
            "bin_end": -0.3,
            "count": 0
           },
           {
            "bin_start": -0.3,
            "bin_end": -0.19999999999999996,
            "count": 0
           },
           {
            "bin_start": -0.19999999999999996,
            "bin_end": -0.09999999999999998,
            "count": 0
           },
           {
            "bin_start": -0.09999999999999998,
            "bin_end": 0,
            "count": 0
           },
           {
            "bin_start": 0,
            "bin_end": 0.10000000000000009,
            "count": 5
           },
           {
            "bin_start": 0.10000000000000009,
            "bin_end": 0.20000000000000007,
            "count": 0
           },
           {
            "bin_start": 0.20000000000000007,
            "bin_end": 0.30000000000000004,
            "count": 0
           },
           {
            "bin_start": 0.30000000000000004,
            "bin_end": 0.4,
            "count": 0
           },
           {
            "bin_start": 0.4,
            "bin_end": 0.5,
            "count": 0
           }
          ]
         }
        },
        {
         "name": "reserved_room_type",
         "dtype": "object",
         "stats": {
          "unique_count": 2,
          "nan_count": 0,
          "categories": [
           {
            "name": "A",
            "count": 4
           },
           {
            "name": "G",
            "count": 1
           }
          ]
         }
        },
        {
         "name": "assigned_room_type",
         "dtype": "object",
         "stats": {
          "unique_count": 2,
          "nan_count": 0,
          "categories": [
           {
            "name": "A",
            "count": 4
           },
           {
            "name": "G",
            "count": 1
           }
          ]
         }
        },
        {
         "name": "booking_changes",
         "dtype": "int64",
         "stats": {
          "unique_count": 1,
          "nan_count": 0,
          "min": "0",
          "max": "0",
          "histogram": [
           {
            "bin_start": -0.5,
            "bin_end": -0.4,
            "count": 0
           },
           {
            "bin_start": -0.4,
            "bin_end": -0.3,
            "count": 0
           },
           {
            "bin_start": -0.3,
            "bin_end": -0.19999999999999996,
            "count": 0
           },
           {
            "bin_start": -0.19999999999999996,
            "bin_end": -0.09999999999999998,
            "count": 0
           },
           {
            "bin_start": -0.09999999999999998,
            "bin_end": 0,
            "count": 0
           },
           {
            "bin_start": 0,
            "bin_end": 0.10000000000000009,
            "count": 5
           },
           {
            "bin_start": 0.10000000000000009,
            "bin_end": 0.20000000000000007,
            "count": 0
           },
           {
            "bin_start": 0.20000000000000007,
            "bin_end": 0.30000000000000004,
            "count": 0
           },
           {
            "bin_start": 0.30000000000000004,
            "bin_end": 0.4,
            "count": 0
           },
           {
            "bin_start": 0.4,
            "bin_end": 0.5,
            "count": 0
           }
          ]
         }
        },
        {
         "name": "deposit_type",
         "dtype": "object",
         "stats": {
          "unique_count": 2,
          "nan_count": 0,
          "categories": [
           {
            "name": "Non Refund",
            "count": 3
           },
           {
            "name": "No Deposit",
            "count": 2
           }
          ]
         }
        },
        {
         "name": "agent",
         "dtype": "float64",
         "stats": {
          "unique_count": 2,
          "nan_count": 0,
          "min": "240.0",
          "max": "305.0",
          "histogram": [
           {
            "bin_start": 240,
            "bin_end": 246.5,
            "count": 2
           },
           {
            "bin_start": 246.5,
            "bin_end": 253,
            "count": 0
           },
           {
            "bin_start": 253,
            "bin_end": 259.5,
            "count": 0
           },
           {
            "bin_start": 259.5,
            "bin_end": 266,
            "count": 0
           },
           {
            "bin_start": 266,
            "bin_end": 272.5,
            "count": 0
           },
           {
            "bin_start": 272.5,
            "bin_end": 279,
            "count": 0
           },
           {
            "bin_start": 279,
            "bin_end": 285.5,
            "count": 0
           },
           {
            "bin_start": 285.5,
            "bin_end": 292,
            "count": 0
           },
           {
            "bin_start": 292,
            "bin_end": 298.5,
            "count": 0
           },
           {
            "bin_start": 298.5,
            "bin_end": 305,
            "count": 3
           }
          ]
         }
        },
        {
         "name": "company",
         "dtype": "float64",
         "stats": {
          "unique_count": 0,
          "nan_count": 5,
          "min": null,
          "max": null,
          "histogram": [
           {
            "bin_start": 0,
            "bin_end": 0.1,
            "count": 0
           },
           {
            "bin_start": 0.1,
            "bin_end": 0.2,
            "count": 0
           },
           {
            "bin_start": 0.2,
            "bin_end": 0.30000000000000004,
            "count": 0
           },
           {
            "bin_start": 0.30000000000000004,
            "bin_end": 0.4,
            "count": 0
           },
           {
            "bin_start": 0.4,
            "bin_end": 0.5,
            "count": 0
           },
           {
            "bin_start": 0.5,
            "bin_end": 0.6000000000000001,
            "count": 0
           },
           {
            "bin_start": 0.6000000000000001,
            "bin_end": 0.7000000000000001,
            "count": 0
           },
           {
            "bin_start": 0.7000000000000001,
            "bin_end": 0.8,
            "count": 0
           },
           {
            "bin_start": 0.8,
            "bin_end": 0.9,
            "count": 0
           },
           {
            "bin_start": 0.9,
            "bin_end": 1,
            "count": 0
           }
          ]
         }
        },
        {
         "name": "days_in_waiting_list",
         "dtype": "int64",
         "stats": {
          "unique_count": 1,
          "nan_count": 0,
          "min": "0",
          "max": "0",
          "histogram": [
           {
            "bin_start": -0.5,
            "bin_end": -0.4,
            "count": 0
           },
           {
            "bin_start": -0.4,
            "bin_end": -0.3,
            "count": 0
           },
           {
            "bin_start": -0.3,
            "bin_end": -0.19999999999999996,
            "count": 0
           },
           {
            "bin_start": -0.19999999999999996,
            "bin_end": -0.09999999999999998,
            "count": 0
           },
           {
            "bin_start": -0.09999999999999998,
            "bin_end": 0,
            "count": 0
           },
           {
            "bin_start": 0,
            "bin_end": 0.10000000000000009,
            "count": 5
           },
           {
            "bin_start": 0.10000000000000009,
            "bin_end": 0.20000000000000007,
            "count": 0
           },
           {
            "bin_start": 0.20000000000000007,
            "bin_end": 0.30000000000000004,
            "count": 0
           },
           {
            "bin_start": 0.30000000000000004,
            "bin_end": 0.4,
            "count": 0
           },
           {
            "bin_start": 0.4,
            "bin_end": 0.5,
            "count": 0
           }
          ]
         }
        },
        {
         "name": "customer_type",
         "dtype": "object",
         "stats": {
          "unique_count": 1,
          "nan_count": 0,
          "categories": [
           {
            "name": "Transient",
            "count": 5
           }
          ]
         }
        },
        {
         "name": "adr",
         "dtype": "float64",
         "stats": {
          "unique_count": 3,
          "nan_count": 0,
          "min": "57.9",
          "max": "119.0",
          "histogram": [
           {
            "bin_start": 57.9,
            "bin_end": 64.01,
            "count": 1
           },
           {
            "bin_start": 64.01,
            "bin_end": 70.12,
            "count": 0
           },
           {
            "bin_start": 70.12,
            "bin_end": 76.23,
            "count": 3
           },
           {
            "bin_start": 76.23,
            "bin_end": 82.34,
            "count": 0
           },
           {
            "bin_start": 82.34,
            "bin_end": 88.45,
            "count": 0
           },
           {
            "bin_start": 88.45,
            "bin_end": 94.56,
            "count": 0
           },
           {
            "bin_start": 94.56,
            "bin_end": 100.67,
            "count": 0
           },
           {
            "bin_start": 100.67,
            "bin_end": 106.78,
            "count": 0
           },
           {
            "bin_start": 106.78,
            "bin_end": 112.89,
            "count": 0
           },
           {
            "bin_start": 112.89,
            "bin_end": 119,
            "count": 1
           }
          ]
         }
        },
        {
         "name": "required_car_parking_spaces",
         "dtype": "int64",
         "stats": {
          "unique_count": 1,
          "nan_count": 0,
          "min": "0",
          "max": "0",
          "histogram": [
           {
            "bin_start": -0.5,
            "bin_end": -0.4,
            "count": 0
           },
           {
            "bin_start": -0.4,
            "bin_end": -0.3,
            "count": 0
           },
           {
            "bin_start": -0.3,
            "bin_end": -0.19999999999999996,
            "count": 0
           },
           {
            "bin_start": -0.19999999999999996,
            "bin_end": -0.09999999999999998,
            "count": 0
           },
           {
            "bin_start": -0.09999999999999998,
            "bin_end": 0,
            "count": 0
           },
           {
            "bin_start": 0,
            "bin_end": 0.10000000000000009,
            "count": 5
           },
           {
            "bin_start": 0.10000000000000009,
            "bin_end": 0.20000000000000007,
            "count": 0
           },
           {
            "bin_start": 0.20000000000000007,
            "bin_end": 0.30000000000000004,
            "count": 0
           },
           {
            "bin_start": 0.30000000000000004,
            "bin_end": 0.4,
            "count": 0
           },
           {
            "bin_start": 0.4,
            "bin_end": 0.5,
            "count": 0
           }
          ]
         }
        },
        {
         "name": "total_of_special_requests",
         "dtype": "int64",
         "stats": {
          "unique_count": 2,
          "nan_count": 0,
          "min": "0",
          "max": "1",
          "histogram": [
           {
            "bin_start": 0,
            "bin_end": 0.1,
            "count": 4
           },
           {
            "bin_start": 0.1,
            "bin_end": 0.2,
            "count": 0
           },
           {
            "bin_start": 0.2,
            "bin_end": 0.30000000000000004,
            "count": 0
           },
           {
            "bin_start": 0.30000000000000004,
            "bin_end": 0.4,
            "count": 0
           },
           {
            "bin_start": 0.4,
            "bin_end": 0.5,
            "count": 0
           },
           {
            "bin_start": 0.5,
            "bin_end": 0.6000000000000001,
            "count": 0
           },
           {
            "bin_start": 0.6000000000000001,
            "bin_end": 0.7000000000000001,
            "count": 0
           },
           {
            "bin_start": 0.7000000000000001,
            "bin_end": 0.8,
            "count": 0
           },
           {
            "bin_start": 0.8,
            "bin_end": 0.9,
            "count": 0
           },
           {
            "bin_start": 0.9,
            "bin_end": 1,
            "count": 1
           }
          ]
         }
        },
        {
         "name": "reservation_status",
         "dtype": "object",
         "stats": {
          "unique_count": 1,
          "nan_count": 0,
          "categories": [
           {
            "name": "Canceled",
            "count": 5
           }
          ]
         }
        },
        {
         "name": "reservation_status_date",
         "dtype": "object",
         "stats": {
          "unique_count": 3,
          "nan_count": 0,
          "categories": [
           {
            "name": "16-11-18",
            "count": 3
           },
           {
            "name": "22-12-18",
            "count": 1
           },
           {
            "name": "20-12-18",
            "count": 1
           }
          ]
         }
        },
        {
         "name": "_deepnote_index_column",
         "dtype": "int64"
        }
       ],
       "rows": [
        {
         "hotel": "Resort Hotel",
         "is_canceled": 1,
         "lead_time": 20,
         "arrival_date_year": 2019,
         "arrival_date_month": "January",
         "arrival_date_week_number": 1,
         "arrival_date_day_of_month": 1,
         "stays_in_weekend_nights": 0,
         "stays_in_week_nights": 2,
         "adults": 2,
         "children": 2,
         "babies": 0,
         "meal": "BB",
         "country": "PRT",
         "market_segment": "Online TA",
         "distribution_channel": "TA/TO",
         "is_repeated_guest": 0,
         "previous_cancellations": 0,
         "previous_bookings_not_canceled": 0,
         "reserved_room_type": "G",
         "assigned_room_type": "G",
         "booking_changes": 0,
         "deposit_type": "No Deposit",
         "agent": 240,
         "company": "nan",
         "days_in_waiting_list": 0,
         "customer_type": "Transient",
         "adr": 119,
         "required_car_parking_spaces": 0,
         "total_of_special_requests": 0,
         "reservation_status": "Canceled",
         "reservation_status_date": "22-12-18",
         "_deepnote_index_column": 0
        },
        {
         "hotel": "Resort Hotel",
         "is_canceled": 1,
         "lead_time": 76,
         "arrival_date_year": 2019,
         "arrival_date_month": "January",
         "arrival_date_week_number": 1,
         "arrival_date_day_of_month": 1,
         "stays_in_weekend_nights": 1,
         "stays_in_week_nights": 2,
         "adults": 2,
         "children": 0,
         "babies": 0,
         "meal": "BB",
         "country": "PRT",
         "market_segment": "Online TA",
         "distribution_channel": "TA/TO",
         "is_repeated_guest": 0,
         "previous_cancellations": 0,
         "previous_bookings_not_canceled": 0,
         "reserved_room_type": "A",
         "assigned_room_type": "A",
         "booking_changes": 0,
         "deposit_type": "No Deposit",
         "agent": 240,
         "company": "nan",
         "days_in_waiting_list": 0,
         "customer_type": "Transient",
         "adr": 57.9,
         "required_car_parking_spaces": 0,
         "total_of_special_requests": 1,
         "reservation_status": "Canceled",
         "reservation_status_date": "20-12-18",
         "_deepnote_index_column": 1
        },
        {
         "hotel": "Resort Hotel",
         "is_canceled": 1,
         "lead_time": 113,
         "arrival_date_year": 2019,
         "arrival_date_month": "January",
         "arrival_date_week_number": 1,
         "arrival_date_day_of_month": 2,
         "stays_in_weekend_nights": 0,
         "stays_in_week_nights": 1,
         "adults": 2,
         "children": 0,
         "babies": 0,
         "meal": "HB",
         "country": "PRT",
         "market_segment": "Groups",
         "distribution_channel": "Direct",
         "is_repeated_guest": 0,
         "previous_cancellations": 0,
         "previous_bookings_not_canceled": 0,
         "reserved_room_type": "A",
         "assigned_room_type": "A",
         "booking_changes": 0,
         "deposit_type": "Non Refund",
         "agent": 305,
         "company": "nan",
         "days_in_waiting_list": 0,
         "customer_type": "Transient",
         "adr": 72,
         "required_car_parking_spaces": 0,
         "total_of_special_requests": 0,
         "reservation_status": "Canceled",
         "reservation_status_date": "16-11-18",
         "_deepnote_index_column": 2
        },
        {
         "hotel": "Resort Hotel",
         "is_canceled": 1,
         "lead_time": 113,
         "arrival_date_year": 2019,
         "arrival_date_month": "January",
         "arrival_date_week_number": 1,
         "arrival_date_day_of_month": 2,
         "stays_in_weekend_nights": 0,
         "stays_in_week_nights": 1,
         "adults": 2,
         "children": 0,
         "babies": 0,
         "meal": "HB",
         "country": "PRT",
         "market_segment": "Groups",
         "distribution_channel": "Direct",
         "is_repeated_guest": 0,
         "previous_cancellations": 0,
         "previous_bookings_not_canceled": 0,
         "reserved_room_type": "A",
         "assigned_room_type": "A",
         "booking_changes": 0,
         "deposit_type": "Non Refund",
         "agent": 305,
         "company": "nan",
         "days_in_waiting_list": 0,
         "customer_type": "Transient",
         "adr": 72,
         "required_car_parking_spaces": 0,
         "total_of_special_requests": 0,
         "reservation_status": "Canceled",
         "reservation_status_date": "16-11-18",
         "_deepnote_index_column": 3
        },
        {
         "hotel": "Resort Hotel",
         "is_canceled": 1,
         "lead_time": 113,
         "arrival_date_year": 2019,
         "arrival_date_month": "January",
         "arrival_date_week_number": 1,
         "arrival_date_day_of_month": 2,
         "stays_in_weekend_nights": 0,
         "stays_in_week_nights": 1,
         "adults": 2,
         "children": 0,
         "babies": 0,
         "meal": "HB",
         "country": "PRT",
         "market_segment": "Groups",
         "distribution_channel": "Direct",
         "is_repeated_guest": 0,
         "previous_cancellations": 0,
         "previous_bookings_not_canceled": 0,
         "reserved_room_type": "A",
         "assigned_room_type": "A",
         "booking_changes": 0,
         "deposit_type": "Non Refund",
         "agent": 305,
         "company": "nan",
         "days_in_waiting_list": 0,
         "customer_type": "Transient",
         "adr": 72,
         "required_car_parking_spaces": 0,
         "total_of_special_requests": 0,
         "reservation_status": "Canceled",
         "reservation_status_date": "16-11-18",
         "_deepnote_index_column": 4
        }
       ]
      },
      "text/plain": "          hotel  is_canceled  lead_time  arrival_date_year arrival_date_month  \\\n0  Resort Hotel            1         20               2019            January   \n1  Resort Hotel            1         76               2019            January   \n2  Resort Hotel            1        113               2019            January   \n3  Resort Hotel            1        113               2019            January   \n4  Resort Hotel            1        113               2019            January   \n\n   arrival_date_week_number  arrival_date_day_of_month  \\\n0                         1                          1   \n1                         1                          1   \n2                         1                          2   \n3                         1                          2   \n4                         1                          2   \n\n   stays_in_weekend_nights  stays_in_week_nights  adults  ...  deposit_type  \\\n0                        0                     2       2  ...    No Deposit   \n1                        1                     2       2  ...    No Deposit   \n2                        0                     1       2  ...    Non Refund   \n3                        0                     1       2  ...    Non Refund   \n4                        0                     1       2  ...    Non Refund   \n\n   agent company days_in_waiting_list customer_type    adr  \\\n0  240.0     NaN                    0     Transient  119.0   \n1  240.0     NaN                    0     Transient   57.9   \n2  305.0     NaN                    0     Transient   72.0   \n3  305.0     NaN                    0     Transient   72.0   \n4  305.0     NaN                    0     Transient   72.0   \n\n   required_car_parking_spaces  total_of_special_requests  reservation_status  \\\n0                            0                          0            Canceled   \n1                            0                          1            Canceled   \n2                            0                          0            Canceled   \n3                            0                          0            Canceled   \n4                            0                          0            Canceled   \n\n  reservation_status_date  \n0                22-12-18  \n1                20-12-18  \n2                16-11-18  \n3                16-11-18  \n4                16-11-18  \n\n[5 rows x 32 columns]",
      "text/html": "<div>\n<style scoped>\n    .dataframe tbody tr th:only-of-type {\n        vertical-align: middle;\n    }\n\n    .dataframe tbody tr th {\n        vertical-align: top;\n    }\n\n    .dataframe thead th {\n        text-align: right;\n    }\n</style>\n<table border=\"1\" class=\"dataframe\">\n  <thead>\n    <tr style=\"text-align: right;\">\n      <th></th>\n      <th>hotel</th>\n      <th>is_canceled</th>\n      <th>lead_time</th>\n      <th>arrival_date_year</th>\n      <th>arrival_date_month</th>\n      <th>arrival_date_week_number</th>\n      <th>arrival_date_day_of_month</th>\n      <th>stays_in_weekend_nights</th>\n      <th>stays_in_week_nights</th>\n      <th>adults</th>\n      <th>...</th>\n      <th>deposit_type</th>\n      <th>agent</th>\n      <th>company</th>\n      <th>days_in_waiting_list</th>\n      <th>customer_type</th>\n      <th>adr</th>\n      <th>required_car_parking_spaces</th>\n      <th>total_of_special_requests</th>\n      <th>reservation_status</th>\n      <th>reservation_status_date</th>\n    </tr>\n  </thead>\n  <tbody>\n    <tr>\n      <th>0</th>\n      <td>Resort Hotel</td>\n      <td>1</td>\n      <td>20</td>\n      <td>2019</td>\n      <td>January</td>\n      <td>1</td>\n      <td>1</td>\n      <td>0</td>\n      <td>2</td>\n      <td>2</td>\n      <td>...</td>\n      <td>No Deposit</td>\n      <td>240.0</td>\n      <td>NaN</td>\n      <td>0</td>\n      <td>Transient</td>\n      <td>119.0</td>\n      <td>0</td>\n      <td>0</td>\n      <td>Canceled</td>\n      <td>22-12-18</td>\n    </tr>\n    <tr>\n      <th>1</th>\n      <td>Resort Hotel</td>\n      <td>1</td>\n      <td>76</td>\n      <td>2019</td>\n      <td>January</td>\n      <td>1</td>\n      <td>1</td>\n      <td>1</td>\n      <td>2</td>\n      <td>2</td>\n      <td>...</td>\n      <td>No Deposit</td>\n      <td>240.0</td>\n      <td>NaN</td>\n      <td>0</td>\n      <td>Transient</td>\n      <td>57.9</td>\n      <td>0</td>\n      <td>1</td>\n      <td>Canceled</td>\n      <td>20-12-18</td>\n    </tr>\n    <tr>\n      <th>2</th>\n      <td>Resort Hotel</td>\n      <td>1</td>\n      <td>113</td>\n      <td>2019</td>\n      <td>January</td>\n      <td>1</td>\n      <td>2</td>\n      <td>0</td>\n      <td>1</td>\n      <td>2</td>\n      <td>...</td>\n      <td>Non Refund</td>\n      <td>305.0</td>\n      <td>NaN</td>\n      <td>0</td>\n      <td>Transient</td>\n      <td>72.0</td>\n      <td>0</td>\n      <td>0</td>\n      <td>Canceled</td>\n      <td>16-11-18</td>\n    </tr>\n    <tr>\n      <th>3</th>\n      <td>Resort Hotel</td>\n      <td>1</td>\n      <td>113</td>\n      <td>2019</td>\n      <td>January</td>\n      <td>1</td>\n      <td>2</td>\n      <td>0</td>\n      <td>1</td>\n      <td>2</td>\n      <td>...</td>\n      <td>Non Refund</td>\n      <td>305.0</td>\n      <td>NaN</td>\n      <td>0</td>\n      <td>Transient</td>\n      <td>72.0</td>\n      <td>0</td>\n      <td>0</td>\n      <td>Canceled</td>\n      <td>16-11-18</td>\n    </tr>\n    <tr>\n      <th>4</th>\n      <td>Resort Hotel</td>\n      <td>1</td>\n      <td>113</td>\n      <td>2019</td>\n      <td>January</td>\n      <td>1</td>\n      <td>2</td>\n      <td>0</td>\n      <td>1</td>\n      <td>2</td>\n      <td>...</td>\n      <td>Non Refund</td>\n      <td>305.0</td>\n      <td>NaN</td>\n      <td>0</td>\n      <td>Transient</td>\n      <td>72.0</td>\n      <td>0</td>\n      <td>0</td>\n      <td>Canceled</td>\n      <td>16-11-18</td>\n    </tr>\n  </tbody>\n</table>\n<p>5 rows × 32 columns</p>\n</div>"
     },
     "metadata": {}
    }
   ]
  },
  {
   "cell_type": "code",
   "metadata": {
    "cell_id": "881b363f5ac640688d7b2de729c329d1",
    "tags": [],
    "deepnote_to_be_reexecuted": false,
    "source_hash": "ef120b64",
    "execution_start": 1660314354211,
    "execution_millis": 404,
    "deepnote_cell_type": "code",
    "deepnote_cell_height": 529.796875
   },
   "source": "df_2019.describe()",
   "execution_count": null,
   "outputs": [
    {
     "output_type": "execute_result",
     "execution_count": 7,
     "data": {
      "application/vnd.deepnote.dataframe.v3+json": {
       "column_count": 20,
       "row_count": 8,
       "columns": [
        {
         "name": "is_canceled",
         "dtype": "float64",
         "stats": {
          "unique_count": 5,
          "nan_count": 0,
          "min": "0.0",
          "max": "79264.0",
          "histogram": [
           {
            "bin_start": 0,
            "bin_end": 7926.4,
            "count": 7
           },
           {
            "bin_start": 7926.4,
            "bin_end": 15852.8,
            "count": 0
           },
           {
            "bin_start": 15852.8,
            "bin_end": 23779.199999999997,
            "count": 0
           },
           {
            "bin_start": 23779.199999999997,
            "bin_end": 31705.6,
            "count": 0
           },
           {
            "bin_start": 31705.6,
            "bin_end": 39632,
            "count": 0
           },
           {
            "bin_start": 39632,
            "bin_end": 47558.399999999994,
            "count": 0
           },
           {
            "bin_start": 47558.399999999994,
            "bin_end": 55484.799999999996,
            "count": 0
           },
           {
            "bin_start": 55484.799999999996,
            "bin_end": 63411.2,
            "count": 0
           },
           {
            "bin_start": 63411.2,
            "bin_end": 71337.59999999999,
            "count": 0
           },
           {
            "bin_start": 71337.59999999999,
            "bin_end": 79264,
            "count": 1
           }
          ]
         }
        },
        {
         "name": "lead_time",
         "dtype": "float64",
         "stats": {
          "unique_count": 8,
          "nan_count": 0,
          "min": "0.0",
          "max": "79264.0",
          "histogram": [
           {
            "bin_start": 0,
            "bin_end": 7926.4,
            "count": 7
           },
           {
            "bin_start": 7926.4,
            "bin_end": 15852.8,
            "count": 0
           },
           {
            "bin_start": 15852.8,
            "bin_end": 23779.199999999997,
            "count": 0
           },
           {
            "bin_start": 23779.199999999997,
            "bin_end": 31705.6,
            "count": 0
           },
           {
            "bin_start": 31705.6,
            "bin_end": 39632,
            "count": 0
           },
           {
            "bin_start": 39632,
            "bin_end": 47558.399999999994,
            "count": 0
           },
           {
            "bin_start": 47558.399999999994,
            "bin_end": 55484.799999999996,
            "count": 0
           },
           {
            "bin_start": 55484.799999999996,
            "bin_end": 63411.2,
            "count": 0
           },
           {
            "bin_start": 63411.2,
            "bin_end": 71337.59999999999,
            "count": 0
           },
           {
            "bin_start": 71337.59999999999,
            "bin_end": 79264,
            "count": 1
           }
          ]
         }
        },
        {
         "name": "arrival_date_year",
         "dtype": "float64",
         "stats": {
          "unique_count": 3,
          "nan_count": 0,
          "min": "0.0",
          "max": "79264.0",
          "histogram": [
           {
            "bin_start": 0,
            "bin_end": 7926.4,
            "count": 7
           },
           {
            "bin_start": 7926.4,
            "bin_end": 15852.8,
            "count": 0
           },
           {
            "bin_start": 15852.8,
            "bin_end": 23779.199999999997,
            "count": 0
           },
           {
            "bin_start": 23779.199999999997,
            "bin_end": 31705.6,
            "count": 0
           },
           {
            "bin_start": 31705.6,
            "bin_end": 39632,
            "count": 0
           },
           {
            "bin_start": 39632,
            "bin_end": 47558.399999999994,
            "count": 0
           },
           {
            "bin_start": 47558.399999999994,
            "bin_end": 55484.799999999996,
            "count": 0
           },
           {
            "bin_start": 55484.799999999996,
            "bin_end": 63411.2,
            "count": 0
           },
           {
            "bin_start": 63411.2,
            "bin_end": 71337.59999999999,
            "count": 0
           },
           {
            "bin_start": 71337.59999999999,
            "bin_end": 79264,
            "count": 1
           }
          ]
         }
        },
        {
         "name": "arrival_date_week_number",
         "dtype": "float64",
         "stats": {
          "unique_count": 8,
          "nan_count": 0,
          "min": "1.0",
          "max": "79264.0",
          "histogram": [
           {
            "bin_start": 1,
            "bin_end": 7927.3,
            "count": 7
           },
           {
            "bin_start": 7927.3,
            "bin_end": 15853.6,
            "count": 0
           },
           {
            "bin_start": 15853.6,
            "bin_end": 23779.9,
            "count": 0
           },
           {
            "bin_start": 23779.9,
            "bin_end": 31706.2,
            "count": 0
           },
           {
            "bin_start": 31706.2,
            "bin_end": 39632.5,
            "count": 0
           },
           {
            "bin_start": 39632.5,
            "bin_end": 47558.8,
            "count": 0
           },
           {
            "bin_start": 47558.8,
            "bin_end": 55485.1,
            "count": 0
           },
           {
            "bin_start": 55485.1,
            "bin_end": 63411.4,
            "count": 0
           },
           {
            "bin_start": 63411.4,
            "bin_end": 71337.7,
            "count": 0
           },
           {
            "bin_start": 71337.7,
            "bin_end": 79264,
            "count": 1
           }
          ]
         }
        },
        {
         "name": "arrival_date_day_of_month",
         "dtype": "float64",
         "stats": {
          "unique_count": 8,
          "nan_count": 0,
          "min": "1.0",
          "max": "79264.0",
          "histogram": [
           {
            "bin_start": 1,
            "bin_end": 7927.3,
            "count": 7
           },
           {
            "bin_start": 7927.3,
            "bin_end": 15853.6,
            "count": 0
           },
           {
            "bin_start": 15853.6,
            "bin_end": 23779.9,
            "count": 0
           },
           {
            "bin_start": 23779.9,
            "bin_end": 31706.2,
            "count": 0
           },
           {
            "bin_start": 31706.2,
            "bin_end": 39632.5,
            "count": 0
           },
           {
            "bin_start": 39632.5,
            "bin_end": 47558.8,
            "count": 0
           },
           {
            "bin_start": 47558.8,
            "bin_end": 55485.1,
            "count": 0
           },
           {
            "bin_start": 55485.1,
            "bin_end": 63411.4,
            "count": 0
           },
           {
            "bin_start": 63411.4,
            "bin_end": 71337.7,
            "count": 0
           },
           {
            "bin_start": 71337.7,
            "bin_end": 79264,
            "count": 1
           }
          ]
         }
        },
        {
         "name": "stays_in_weekend_nights",
         "dtype": "float64",
         "stats": {
          "unique_count": 7,
          "nan_count": 0,
          "min": "0.0",
          "max": "79264.0",
          "histogram": [
           {
            "bin_start": 0,
            "bin_end": 7926.4,
            "count": 7
           },
           {
            "bin_start": 7926.4,
            "bin_end": 15852.8,
            "count": 0
           },
           {
            "bin_start": 15852.8,
            "bin_end": 23779.199999999997,
            "count": 0
           },
           {
            "bin_start": 23779.199999999997,
            "bin_end": 31705.6,
            "count": 0
           },
           {
            "bin_start": 31705.6,
            "bin_end": 39632,
            "count": 0
           },
           {
            "bin_start": 39632,
            "bin_end": 47558.399999999994,
            "count": 0
           },
           {
            "bin_start": 47558.399999999994,
            "bin_end": 55484.799999999996,
            "count": 0
           },
           {
            "bin_start": 55484.799999999996,
            "bin_end": 63411.2,
            "count": 0
           },
           {
            "bin_start": 63411.2,
            "bin_end": 71337.59999999999,
            "count": 0
           },
           {
            "bin_start": 71337.59999999999,
            "bin_end": 79264,
            "count": 1
           }
          ]
         }
        },
        {
         "name": "stays_in_week_nights",
         "dtype": "float64",
         "stats": {
          "unique_count": 8,
          "nan_count": 0,
          "min": "0.0",
          "max": "79264.0",
          "histogram": [
           {
            "bin_start": 0,
            "bin_end": 7926.4,
            "count": 7
           },
           {
            "bin_start": 7926.4,
            "bin_end": 15852.8,
            "count": 0
           },
           {
            "bin_start": 15852.8,
            "bin_end": 23779.199999999997,
            "count": 0
           },
           {
            "bin_start": 23779.199999999997,
            "bin_end": 31705.6,
            "count": 0
           },
           {
            "bin_start": 31705.6,
            "bin_end": 39632,
            "count": 0
           },
           {
            "bin_start": 39632,
            "bin_end": 47558.399999999994,
            "count": 0
           },
           {
            "bin_start": 47558.399999999994,
            "bin_end": 55484.799999999996,
            "count": 0
           },
           {
            "bin_start": 55484.799999999996,
            "bin_end": 63411.2,
            "count": 0
           },
           {
            "bin_start": 63411.2,
            "bin_end": 71337.59999999999,
            "count": 0
           },
           {
            "bin_start": 71337.59999999999,
            "bin_end": 79264,
            "count": 1
           }
          ]
         }
        },
        {
         "name": "adults",
         "dtype": "float64",
         "stats": {
          "unique_count": 6,
          "nan_count": 0,
          "min": "0.0",
          "max": "79264.0",
          "histogram": [
           {
            "bin_start": 0,
            "bin_end": 7926.4,
            "count": 7
           },
           {
            "bin_start": 7926.4,
            "bin_end": 15852.8,
            "count": 0
           },
           {
            "bin_start": 15852.8,
            "bin_end": 23779.199999999997,
            "count": 0
           },
           {
            "bin_start": 23779.199999999997,
            "bin_end": 31705.6,
            "count": 0
           },
           {
            "bin_start": 31705.6,
            "bin_end": 39632,
            "count": 0
           },
           {
            "bin_start": 39632,
            "bin_end": 47558.399999999994,
            "count": 0
           },
           {
            "bin_start": 47558.399999999994,
            "bin_end": 55484.799999999996,
            "count": 0
           },
           {
            "bin_start": 55484.799999999996,
            "bin_end": 63411.2,
            "count": 0
           },
           {
            "bin_start": 63411.2,
            "bin_end": 71337.59999999999,
            "count": 0
           },
           {
            "bin_start": 71337.59999999999,
            "bin_end": 79264,
            "count": 1
           }
          ]
         }
        },
        {
         "name": "children",
         "dtype": "float64",
         "stats": {
          "unique_count": 5,
          "nan_count": 0,
          "min": "0.0",
          "max": "79260.0",
          "histogram": [
           {
            "bin_start": 0,
            "bin_end": 7926,
            "count": 7
           },
           {
            "bin_start": 7926,
            "bin_end": 15852,
            "count": 0
           },
           {
            "bin_start": 15852,
            "bin_end": 23778,
            "count": 0
           },
           {
            "bin_start": 23778,
            "bin_end": 31704,
            "count": 0
           },
           {
            "bin_start": 31704,
            "bin_end": 39630,
            "count": 0
           },
           {
            "bin_start": 39630,
            "bin_end": 47556,
            "count": 0
           },
           {
            "bin_start": 47556,
            "bin_end": 55482,
            "count": 0
           },
           {
            "bin_start": 55482,
            "bin_end": 63408,
            "count": 0
           },
           {
            "bin_start": 63408,
            "bin_end": 71334,
            "count": 0
           },
           {
            "bin_start": 71334,
            "bin_end": 79260,
            "count": 1
           }
          ]
         }
        },
        {
         "name": "babies",
         "dtype": "float64",
         "stats": {
          "unique_count": 5,
          "nan_count": 0,
          "min": "0.0",
          "max": "79264.0",
          "histogram": [
           {
            "bin_start": 0,
            "bin_end": 7926.4,
            "count": 7
           },
           {
            "bin_start": 7926.4,
            "bin_end": 15852.8,
            "count": 0
           },
           {
            "bin_start": 15852.8,
            "bin_end": 23779.199999999997,
            "count": 0
           },
           {
            "bin_start": 23779.199999999997,
            "bin_end": 31705.6,
            "count": 0
           },
           {
            "bin_start": 31705.6,
            "bin_end": 39632,
            "count": 0
           },
           {
            "bin_start": 39632,
            "bin_end": 47558.399999999994,
            "count": 0
           },
           {
            "bin_start": 47558.399999999994,
            "bin_end": 55484.799999999996,
            "count": 0
           },
           {
            "bin_start": 55484.799999999996,
            "bin_end": 63411.2,
            "count": 0
           },
           {
            "bin_start": 63411.2,
            "bin_end": 71337.59999999999,
            "count": 0
           },
           {
            "bin_start": 71337.59999999999,
            "bin_end": 79264,
            "count": 1
           }
          ]
         }
        },
        {
         "name": "is_repeated_guest",
         "dtype": "float64",
         "stats": {
          "unique_count": 5,
          "nan_count": 0,
          "min": "0.0",
          "max": "79264.0",
          "histogram": [
           {
            "bin_start": 0,
            "bin_end": 7926.4,
            "count": 7
           },
           {
            "bin_start": 7926.4,
            "bin_end": 15852.8,
            "count": 0
           },
           {
            "bin_start": 15852.8,
            "bin_end": 23779.199999999997,
            "count": 0
           },
           {
            "bin_start": 23779.199999999997,
            "bin_end": 31705.6,
            "count": 0
           },
           {
            "bin_start": 31705.6,
            "bin_end": 39632,
            "count": 0
           },
           {
            "bin_start": 39632,
            "bin_end": 47558.399999999994,
            "count": 0
           },
           {
            "bin_start": 47558.399999999994,
            "bin_end": 55484.799999999996,
            "count": 0
           },
           {
            "bin_start": 55484.799999999996,
            "bin_end": 63411.2,
            "count": 0
           },
           {
            "bin_start": 63411.2,
            "bin_end": 71337.59999999999,
            "count": 0
           },
           {
            "bin_start": 71337.59999999999,
            "bin_end": 79264,
            "count": 1
           }
          ]
         }
        },
        {
         "name": "previous_cancellations",
         "dtype": "float64",
         "stats": {
          "unique_count": 5,
          "nan_count": 0,
          "min": "0.0",
          "max": "79264.0",
          "histogram": [
           {
            "bin_start": 0,
            "bin_end": 7926.4,
            "count": 7
           },
           {
            "bin_start": 7926.4,
            "bin_end": 15852.8,
            "count": 0
           },
           {
            "bin_start": 15852.8,
            "bin_end": 23779.199999999997,
            "count": 0
           },
           {
            "bin_start": 23779.199999999997,
            "bin_end": 31705.6,
            "count": 0
           },
           {
            "bin_start": 31705.6,
            "bin_end": 39632,
            "count": 0
           },
           {
            "bin_start": 39632,
            "bin_end": 47558.399999999994,
            "count": 0
           },
           {
            "bin_start": 47558.399999999994,
            "bin_end": 55484.799999999996,
            "count": 0
           },
           {
            "bin_start": 55484.799999999996,
            "bin_end": 63411.2,
            "count": 0
           },
           {
            "bin_start": 63411.2,
            "bin_end": 71337.59999999999,
            "count": 0
           },
           {
            "bin_start": 71337.59999999999,
            "bin_end": 79264,
            "count": 1
           }
          ]
         }
        },
        {
         "name": "previous_bookings_not_canceled",
         "dtype": "float64",
         "stats": {
          "unique_count": 5,
          "nan_count": 0,
          "min": "0.0",
          "max": "79264.0",
          "histogram": [
           {
            "bin_start": 0,
            "bin_end": 7926.4,
            "count": 7
           },
           {
            "bin_start": 7926.4,
            "bin_end": 15852.8,
            "count": 0
           },
           {
            "bin_start": 15852.8,
            "bin_end": 23779.199999999997,
            "count": 0
           },
           {
            "bin_start": 23779.199999999997,
            "bin_end": 31705.6,
            "count": 0
           },
           {
            "bin_start": 31705.6,
            "bin_end": 39632,
            "count": 0
           },
           {
            "bin_start": 39632,
            "bin_end": 47558.399999999994,
            "count": 0
           },
           {
            "bin_start": 47558.399999999994,
            "bin_end": 55484.799999999996,
            "count": 0
           },
           {
            "bin_start": 55484.799999999996,
            "bin_end": 63411.2,
            "count": 0
           },
           {
            "bin_start": 63411.2,
            "bin_end": 71337.59999999999,
            "count": 0
           },
           {
            "bin_start": 71337.59999999999,
            "bin_end": 79264,
            "count": 1
           }
          ]
         }
        },
        {
         "name": "booking_changes",
         "dtype": "float64",
         "stats": {
          "unique_count": 5,
          "nan_count": 0,
          "min": "0.0",
          "max": "79264.0",
          "histogram": [
           {
            "bin_start": 0,
            "bin_end": 7926.4,
            "count": 7
           },
           {
            "bin_start": 7926.4,
            "bin_end": 15852.8,
            "count": 0
           },
           {
            "bin_start": 15852.8,
            "bin_end": 23779.199999999997,
            "count": 0
           },
           {
            "bin_start": 23779.199999999997,
            "bin_end": 31705.6,
            "count": 0
           },
           {
            "bin_start": 31705.6,
            "bin_end": 39632,
            "count": 0
           },
           {
            "bin_start": 39632,
            "bin_end": 47558.399999999994,
            "count": 0
           },
           {
            "bin_start": 47558.399999999994,
            "bin_end": 55484.799999999996,
            "count": 0
           },
           {
            "bin_start": 55484.799999999996,
            "bin_end": 63411.2,
            "count": 0
           },
           {
            "bin_start": 63411.2,
            "bin_end": 71337.59999999999,
            "count": 0
           },
           {
            "bin_start": 71337.59999999999,
            "bin_end": 79264,
            "count": 1
           }
          ]
         }
        },
        {
         "name": "agent",
         "dtype": "float64",
         "stats": {
          "unique_count": 8,
          "nan_count": 0,
          "min": "1.0",
          "max": "68472.0",
          "histogram": [
           {
            "bin_start": 1,
            "bin_end": 6848.1,
            "count": 7
           },
           {
            "bin_start": 6848.1,
            "bin_end": 13695.2,
            "count": 0
           },
           {
            "bin_start": 13695.2,
            "bin_end": 20542.300000000003,
            "count": 0
           },
           {
            "bin_start": 20542.300000000003,
            "bin_end": 27389.4,
            "count": 0
           },
           {
            "bin_start": 27389.4,
            "bin_end": 34236.5,
            "count": 0
           },
           {
            "bin_start": 34236.5,
            "bin_end": 41083.600000000006,
            "count": 0
           },
           {
            "bin_start": 41083.600000000006,
            "bin_end": 47930.700000000004,
            "count": 0
           },
           {
            "bin_start": 47930.700000000004,
            "bin_end": 54777.8,
            "count": 0
           },
           {
            "bin_start": 54777.8,
            "bin_end": 61624.9,
            "count": 0
           },
           {
            "bin_start": 61624.9,
            "bin_end": 68472,
            "count": 1
           }
          ]
         }
        },
        {
         "name": "company",
         "dtype": "float64",
         "stats": {
          "unique_count": 8,
          "nan_count": 0,
          "min": "6.0",
          "max": "4510.0",
          "histogram": [
           {
            "bin_start": 6,
            "bin_end": 456.4,
            "count": 6
           },
           {
            "bin_start": 456.4,
            "bin_end": 906.8,
            "count": 1
           },
           {
            "bin_start": 906.8,
            "bin_end": 1357.1999999999998,
            "count": 0
           },
           {
            "bin_start": 1357.1999999999998,
            "bin_end": 1807.6,
            "count": 0
           },
           {
            "bin_start": 1807.6,
            "bin_end": 2258,
            "count": 0
           },
           {
            "bin_start": 2258,
            "bin_end": 2708.3999999999996,
            "count": 0
           },
           {
            "bin_start": 2708.3999999999996,
            "bin_end": 3158.7999999999997,
            "count": 0
           },
           {
            "bin_start": 3158.7999999999997,
            "bin_end": 3609.2,
            "count": 0
           },
           {
            "bin_start": 3609.2,
            "bin_end": 4059.6,
            "count": 0
           },
           {
            "bin_start": 4059.6,
            "bin_end": 4510,
            "count": 1
           }
          ]
         }
        },
        {
         "name": "days_in_waiting_list",
         "dtype": "float64",
         "stats": {
          "unique_count": 5,
          "nan_count": 0,
          "min": "0.0",
          "max": "79264.0",
          "histogram": [
           {
            "bin_start": 0,
            "bin_end": 7926.4,
            "count": 7
           },
           {
            "bin_start": 7926.4,
            "bin_end": 15852.8,
            "count": 0
           },
           {
            "bin_start": 15852.8,
            "bin_end": 23779.199999999997,
            "count": 0
           },
           {
            "bin_start": 23779.199999999997,
            "bin_end": 31705.6,
            "count": 0
           },
           {
            "bin_start": 31705.6,
            "bin_end": 39632,
            "count": 0
           },
           {
            "bin_start": 39632,
            "bin_end": 47558.399999999994,
            "count": 0
           },
           {
            "bin_start": 47558.399999999994,
            "bin_end": 55484.799999999996,
            "count": 0
           },
           {
            "bin_start": 55484.799999999996,
            "bin_end": 63411.2,
            "count": 0
           },
           {
            "bin_start": 63411.2,
            "bin_end": 71337.59999999999,
            "count": 0
           },
           {
            "bin_start": 71337.59999999999,
            "bin_end": 79264,
            "count": 1
           }
          ]
         }
        },
        {
         "name": "adr",
         "dtype": "float64",
         "stats": {
          "unique_count": 8,
          "nan_count": 0,
          "min": "0.0",
          "max": "79264.0",
          "histogram": [
           {
            "bin_start": 0,
            "bin_end": 7926.4,
            "count": 7
           },
           {
            "bin_start": 7926.4,
            "bin_end": 15852.8,
            "count": 0
           },
           {
            "bin_start": 15852.8,
            "bin_end": 23779.199999999997,
            "count": 0
           },
           {
            "bin_start": 23779.199999999997,
            "bin_end": 31705.6,
            "count": 0
           },
           {
            "bin_start": 31705.6,
            "bin_end": 39632,
            "count": 0
           },
           {
            "bin_start": 39632,
            "bin_end": 47558.399999999994,
            "count": 0
           },
           {
            "bin_start": 47558.399999999994,
            "bin_end": 55484.799999999996,
            "count": 0
           },
           {
            "bin_start": 55484.799999999996,
            "bin_end": 63411.2,
            "count": 0
           },
           {
            "bin_start": 63411.2,
            "bin_end": 71337.59999999999,
            "count": 0
           },
           {
            "bin_start": 71337.59999999999,
            "bin_end": 79264,
            "count": 1
           }
          ]
         }
        },
        {
         "name": "required_car_parking_spaces",
         "dtype": "float64",
         "stats": {
          "unique_count": 5,
          "nan_count": 0,
          "min": "0.0",
          "max": "79264.0",
          "histogram": [
           {
            "bin_start": 0,
            "bin_end": 7926.4,
            "count": 7
           },
           {
            "bin_start": 7926.4,
            "bin_end": 15852.8,
            "count": 0
           },
           {
            "bin_start": 15852.8,
            "bin_end": 23779.199999999997,
            "count": 0
           },
           {
            "bin_start": 23779.199999999997,
            "bin_end": 31705.6,
            "count": 0
           },
           {
            "bin_start": 31705.6,
            "bin_end": 39632,
            "count": 0
           },
           {
            "bin_start": 39632,
            "bin_end": 47558.399999999994,
            "count": 0
           },
           {
            "bin_start": 47558.399999999994,
            "bin_end": 55484.799999999996,
            "count": 0
           },
           {
            "bin_start": 55484.799999999996,
            "bin_end": 63411.2,
            "count": 0
           },
           {
            "bin_start": 63411.2,
            "bin_end": 71337.59999999999,
            "count": 0
           },
           {
            "bin_start": 71337.59999999999,
            "bin_end": 79264,
            "count": 1
           }
          ]
         }
        },
        {
         "name": "total_of_special_requests",
         "dtype": "float64",
         "stats": {
          "unique_count": 6,
          "nan_count": 0,
          "min": "0.0",
          "max": "79264.0",
          "histogram": [
           {
            "bin_start": 0,
            "bin_end": 7926.4,
            "count": 7
           },
           {
            "bin_start": 7926.4,
            "bin_end": 15852.8,
            "count": 0
           },
           {
            "bin_start": 15852.8,
            "bin_end": 23779.199999999997,
            "count": 0
           },
           {
            "bin_start": 23779.199999999997,
            "bin_end": 31705.6,
            "count": 0
           },
           {
            "bin_start": 31705.6,
            "bin_end": 39632,
            "count": 0
           },
           {
            "bin_start": 39632,
            "bin_end": 47558.399999999994,
            "count": 0
           },
           {
            "bin_start": 47558.399999999994,
            "bin_end": 55484.799999999996,
            "count": 0
           },
           {
            "bin_start": 55484.799999999996,
            "bin_end": 63411.2,
            "count": 0
           },
           {
            "bin_start": 63411.2,
            "bin_end": 71337.59999999999,
            "count": 0
           },
           {
            "bin_start": 71337.59999999999,
            "bin_end": 79264,
            "count": 1
           }
          ]
         }
        },
        {
         "name": "_deepnote_index_column",
         "dtype": "object"
        }
       ],
       "rows": [
        {
         "is_canceled": 79264,
         "lead_time": 79264,
         "arrival_date_year": 79264,
         "arrival_date_week_number": 79264,
         "arrival_date_day_of_month": 79264,
         "stays_in_weekend_nights": 79264,
         "stays_in_week_nights": 79264,
         "adults": 79264,
         "children": 79260,
         "babies": 79264,
         "is_repeated_guest": 79264,
         "previous_cancellations": 79264,
         "previous_bookings_not_canceled": 79264,
         "booking_changes": 79264,
         "agent": 68472,
         "company": 4510,
         "days_in_waiting_list": 79264,
         "adr": 79264,
         "required_car_parking_spaces": 79264,
         "total_of_special_requests": 79264,
         "_deepnote_index_column": "count"
        },
        {
         "is_canceled": 0.36526039563988694,
         "lead_time": 101.06345882115463,
         "arrival_date_year": 2019,
         "arrival_date_week_number": 31.485377977392005,
         "arrival_date_day_of_month": 15.813092955187727,
         "stays_in_weekend_nights": 0.9034744650787243,
         "stays_in_week_nights": 2.450582862333468,
         "adults": 1.845629794105773,
         "children": 0.092480444107999,
         "babies": 0.008705086798546629,
         "is_repeated_guest": 0.030530884134033105,
         "previous_cancellations": 0.12513877674606377,
         "previous_bookings_not_canceled": 0.11881812676624949,
         "booking_changes": 0.21091542188130805,
         "agent": 81.96816216847762,
         "company": 163.4521064301552,
         "days_in_waiting_list": 3.3754667945094874,
         "adr": 95.0000017662495,
         "required_car_parking_spaces": 0.06598203471941866,
         "total_of_special_requests": 0.516274727492935,
         "_deepnote_index_column": "mean"
        },
        {
         "is_canceled": 0.4815061412163323,
         "lead_time": 105.94677239040536,
         "arrival_date_year": 0,
         "arrival_date_week_number": 13.429798958202214,
         "arrival_date_day_of_month": 8.738979118241243,
         "stays_in_weekend_nights": 0.9916477660468194,
         "stays_in_week_nights": 1.8790981458035652,
         "adults": 0.6160850433995968,
         "children": 0.3788880683231485,
         "babies": 0.10452545357030799,
         "is_repeated_guest": 0.17204395564089578,
         "previous_cancellations": 1.025689408652806,
         "previous_bookings_not_canceled": 1.3331108160056886,
         "booking_changes": 0.6343151039889873,
         "agent": 105.12605736859251,
         "company": 113.71587932122829,
         "days_in_waiting_list": 21.27864010559193,
         "adr": 48.273647461570924,
         "required_car_parking_spaces": 0.249165341697722,
         "total_of_special_requests": 0.7575283198422074,
         "_deepnote_index_column": "std"
        },
        {
         "is_canceled": 0,
         "lead_time": 0,
         "arrival_date_year": 2019,
         "arrival_date_week_number": 1,
         "arrival_date_day_of_month": 1,
         "stays_in_weekend_nights": 0,
         "stays_in_week_nights": 0,
         "adults": 0,
         "children": 0,
         "babies": 0,
         "is_repeated_guest": 0,
         "previous_cancellations": 0,
         "previous_bookings_not_canceled": 0,
         "booking_changes": 0,
         "agent": 1,
         "company": 6,
         "days_in_waiting_list": 0,
         "adr": 0,
         "required_car_parking_spaces": 0,
         "total_of_special_requests": 0,
         "_deepnote_index_column": "min"
        },
        {
         "is_canceled": 0,
         "lead_time": 16,
         "arrival_date_year": 2019,
         "arrival_date_week_number": 21,
         "arrival_date_day_of_month": 8,
         "stays_in_weekend_nights": 0,
         "stays_in_week_nights": 1,
         "adults": 2,
         "children": 0,
         "babies": 0,
         "is_repeated_guest": 0,
         "previous_cancellations": 0,
         "previous_bookings_not_canceled": 0,
         "booking_changes": 0,
         "agent": 9,
         "company": 46,
         "days_in_waiting_list": 0,
         "adr": 65,
         "required_car_parking_spaces": 0,
         "total_of_special_requests": 0,
         "_deepnote_index_column": "25%"
        },
        {
         "is_canceled": 0,
         "lead_time": 65,
         "arrival_date_year": 2019,
         "arrival_date_week_number": 34,
         "arrival_date_day_of_month": 16,
         "stays_in_weekend_nights": 1,
         "stays_in_week_nights": 2,
         "adults": 2,
         "children": 0,
         "babies": 0,
         "is_repeated_guest": 0,
         "previous_cancellations": 0,
         "previous_bookings_not_canceled": 0,
         "booking_changes": 0,
         "agent": 14,
         "company": 154,
         "days_in_waiting_list": 0,
         "adr": 89,
         "required_car_parking_spaces": 0,
         "total_of_special_requests": 0,
         "_deepnote_index_column": "50%"
        },
        {
         "is_canceled": 1,
         "lead_time": 157,
         "arrival_date_year": 2019,
         "arrival_date_week_number": 42,
         "arrival_date_day_of_month": 23,
         "stays_in_weekend_nights": 2,
         "stays_in_week_nights": 3,
         "adults": 2,
         "children": 0,
         "babies": 0,
         "is_repeated_guest": 0,
         "previous_cancellations": 0,
         "previous_bookings_not_canceled": 0,
         "booking_changes": 0,
         "agent": 191,
         "company": 223,
         "days_in_waiting_list": 0,
         "adr": 117,
         "required_car_parking_spaces": 0,
         "total_of_special_requests": 1,
         "_deepnote_index_column": "75%"
        },
        {
         "is_canceled": 1,
         "lead_time": 737,
         "arrival_date_year": 2019,
         "arrival_date_week_number": 53,
         "arrival_date_day_of_month": 31,
         "stays_in_weekend_nights": 19,
         "stays_in_week_nights": 50,
         "adults": 55,
         "children": 10,
         "babies": 10,
         "is_repeated_guest": 1,
         "previous_cancellations": 26,
         "previous_bookings_not_canceled": 58,
         "booking_changes": 21,
         "agent": 481,
         "company": 499,
         "days_in_waiting_list": 391,
         "adr": 5400,
         "required_car_parking_spaces": 3,
         "total_of_special_requests": 5,
         "_deepnote_index_column": "max"
        }
       ]
      },
      "text/plain": "        is_canceled     lead_time  arrival_date_year  \\\ncount  79264.000000  79264.000000            79264.0   \nmean       0.365260    101.063459             2019.0   \nstd        0.481506    105.946772                0.0   \nmin        0.000000      0.000000             2019.0   \n25%        0.000000     16.000000             2019.0   \n50%        0.000000     65.000000             2019.0   \n75%        1.000000    157.000000             2019.0   \nmax        1.000000    737.000000             2019.0   \n\n       arrival_date_week_number  arrival_date_day_of_month  \\\ncount              79264.000000               79264.000000   \nmean                  31.485378                  15.813093   \nstd                   13.429799                   8.738979   \nmin                    1.000000                   1.000000   \n25%                   21.000000                   8.000000   \n50%                   34.000000                  16.000000   \n75%                   42.000000                  23.000000   \nmax                   53.000000                  31.000000   \n\n       stays_in_weekend_nights  stays_in_week_nights        adults  \\\ncount             79264.000000          79264.000000  79264.000000   \nmean                  0.903474              2.450583      1.845630   \nstd                   0.991648              1.879098      0.616085   \nmin                   0.000000              0.000000      0.000000   \n25%                   0.000000              1.000000      2.000000   \n50%                   1.000000              2.000000      2.000000   \n75%                   2.000000              3.000000      2.000000   \nmax                  19.000000             50.000000     55.000000   \n\n           children        babies  is_repeated_guest  previous_cancellations  \\\ncount  79260.000000  79264.000000       79264.000000            79264.000000   \nmean       0.092480      0.008705           0.030531                0.125139   \nstd        0.378888      0.104525           0.172044                1.025689   \nmin        0.000000      0.000000           0.000000                0.000000   \n25%        0.000000      0.000000           0.000000                0.000000   \n50%        0.000000      0.000000           0.000000                0.000000   \n75%        0.000000      0.000000           0.000000                0.000000   \nmax       10.000000     10.000000           1.000000               26.000000   \n\n       previous_bookings_not_canceled  booking_changes         agent  \\\ncount                    79264.000000     79264.000000  68472.000000   \nmean                         0.118818         0.210915     81.968162   \nstd                          1.333111         0.634315    105.126057   \nmin                          0.000000         0.000000      1.000000   \n25%                          0.000000         0.000000      9.000000   \n50%                          0.000000         0.000000     14.000000   \n75%                          0.000000         0.000000    191.000000   \nmax                         58.000000        21.000000    481.000000   \n\n           company  days_in_waiting_list           adr  \\\ncount  4510.000000          79264.000000  79264.000000   \nmean    163.452106              3.375467     95.000002   \nstd     113.715879             21.278640     48.273647   \nmin       6.000000              0.000000      0.000000   \n25%      46.000000              0.000000     65.000000   \n50%     154.000000              0.000000     89.000000   \n75%     223.000000              0.000000    117.000000   \nmax     499.000000            391.000000   5400.000000   \n\n       required_car_parking_spaces  total_of_special_requests  \ncount                 79264.000000               79264.000000  \nmean                      0.065982                   0.516275  \nstd                       0.249165                   0.757528  \nmin                       0.000000                   0.000000  \n25%                       0.000000                   0.000000  \n50%                       0.000000                   0.000000  \n75%                       0.000000                   1.000000  \nmax                       3.000000                   5.000000  ",
      "text/html": "<div>\n<style scoped>\n    .dataframe tbody tr th:only-of-type {\n        vertical-align: middle;\n    }\n\n    .dataframe tbody tr th {\n        vertical-align: top;\n    }\n\n    .dataframe thead th {\n        text-align: right;\n    }\n</style>\n<table border=\"1\" class=\"dataframe\">\n  <thead>\n    <tr style=\"text-align: right;\">\n      <th></th>\n      <th>is_canceled</th>\n      <th>lead_time</th>\n      <th>arrival_date_year</th>\n      <th>arrival_date_week_number</th>\n      <th>arrival_date_day_of_month</th>\n      <th>stays_in_weekend_nights</th>\n      <th>stays_in_week_nights</th>\n      <th>adults</th>\n      <th>children</th>\n      <th>babies</th>\n      <th>is_repeated_guest</th>\n      <th>previous_cancellations</th>\n      <th>previous_bookings_not_canceled</th>\n      <th>booking_changes</th>\n      <th>agent</th>\n      <th>company</th>\n      <th>days_in_waiting_list</th>\n      <th>adr</th>\n      <th>required_car_parking_spaces</th>\n      <th>total_of_special_requests</th>\n    </tr>\n  </thead>\n  <tbody>\n    <tr>\n      <th>count</th>\n      <td>79264.000000</td>\n      <td>79264.000000</td>\n      <td>79264.0</td>\n      <td>79264.000000</td>\n      <td>79264.000000</td>\n      <td>79264.000000</td>\n      <td>79264.000000</td>\n      <td>79264.000000</td>\n      <td>79260.000000</td>\n      <td>79264.000000</td>\n      <td>79264.000000</td>\n      <td>79264.000000</td>\n      <td>79264.000000</td>\n      <td>79264.000000</td>\n      <td>68472.000000</td>\n      <td>4510.000000</td>\n      <td>79264.000000</td>\n      <td>79264.000000</td>\n      <td>79264.000000</td>\n      <td>79264.000000</td>\n    </tr>\n    <tr>\n      <th>mean</th>\n      <td>0.365260</td>\n      <td>101.063459</td>\n      <td>2019.0</td>\n      <td>31.485378</td>\n      <td>15.813093</td>\n      <td>0.903474</td>\n      <td>2.450583</td>\n      <td>1.845630</td>\n      <td>0.092480</td>\n      <td>0.008705</td>\n      <td>0.030531</td>\n      <td>0.125139</td>\n      <td>0.118818</td>\n      <td>0.210915</td>\n      <td>81.968162</td>\n      <td>163.452106</td>\n      <td>3.375467</td>\n      <td>95.000002</td>\n      <td>0.065982</td>\n      <td>0.516275</td>\n    </tr>\n    <tr>\n      <th>std</th>\n      <td>0.481506</td>\n      <td>105.946772</td>\n      <td>0.0</td>\n      <td>13.429799</td>\n      <td>8.738979</td>\n      <td>0.991648</td>\n      <td>1.879098</td>\n      <td>0.616085</td>\n      <td>0.378888</td>\n      <td>0.104525</td>\n      <td>0.172044</td>\n      <td>1.025689</td>\n      <td>1.333111</td>\n      <td>0.634315</td>\n      <td>105.126057</td>\n      <td>113.715879</td>\n      <td>21.278640</td>\n      <td>48.273647</td>\n      <td>0.249165</td>\n      <td>0.757528</td>\n    </tr>\n    <tr>\n      <th>min</th>\n      <td>0.000000</td>\n      <td>0.000000</td>\n      <td>2019.0</td>\n      <td>1.000000</td>\n      <td>1.000000</td>\n      <td>0.000000</td>\n      <td>0.000000</td>\n      <td>0.000000</td>\n      <td>0.000000</td>\n      <td>0.000000</td>\n      <td>0.000000</td>\n      <td>0.000000</td>\n      <td>0.000000</td>\n      <td>0.000000</td>\n      <td>1.000000</td>\n      <td>6.000000</td>\n      <td>0.000000</td>\n      <td>0.000000</td>\n      <td>0.000000</td>\n      <td>0.000000</td>\n    </tr>\n    <tr>\n      <th>25%</th>\n      <td>0.000000</td>\n      <td>16.000000</td>\n      <td>2019.0</td>\n      <td>21.000000</td>\n      <td>8.000000</td>\n      <td>0.000000</td>\n      <td>1.000000</td>\n      <td>2.000000</td>\n      <td>0.000000</td>\n      <td>0.000000</td>\n      <td>0.000000</td>\n      <td>0.000000</td>\n      <td>0.000000</td>\n      <td>0.000000</td>\n      <td>9.000000</td>\n      <td>46.000000</td>\n      <td>0.000000</td>\n      <td>65.000000</td>\n      <td>0.000000</td>\n      <td>0.000000</td>\n    </tr>\n    <tr>\n      <th>50%</th>\n      <td>0.000000</td>\n      <td>65.000000</td>\n      <td>2019.0</td>\n      <td>34.000000</td>\n      <td>16.000000</td>\n      <td>1.000000</td>\n      <td>2.000000</td>\n      <td>2.000000</td>\n      <td>0.000000</td>\n      <td>0.000000</td>\n      <td>0.000000</td>\n      <td>0.000000</td>\n      <td>0.000000</td>\n      <td>0.000000</td>\n      <td>14.000000</td>\n      <td>154.000000</td>\n      <td>0.000000</td>\n      <td>89.000000</td>\n      <td>0.000000</td>\n      <td>0.000000</td>\n    </tr>\n    <tr>\n      <th>75%</th>\n      <td>1.000000</td>\n      <td>157.000000</td>\n      <td>2019.0</td>\n      <td>42.000000</td>\n      <td>23.000000</td>\n      <td>2.000000</td>\n      <td>3.000000</td>\n      <td>2.000000</td>\n      <td>0.000000</td>\n      <td>0.000000</td>\n      <td>0.000000</td>\n      <td>0.000000</td>\n      <td>0.000000</td>\n      <td>0.000000</td>\n      <td>191.000000</td>\n      <td>223.000000</td>\n      <td>0.000000</td>\n      <td>117.000000</td>\n      <td>0.000000</td>\n      <td>1.000000</td>\n    </tr>\n    <tr>\n      <th>max</th>\n      <td>1.000000</td>\n      <td>737.000000</td>\n      <td>2019.0</td>\n      <td>53.000000</td>\n      <td>31.000000</td>\n      <td>19.000000</td>\n      <td>50.000000</td>\n      <td>55.000000</td>\n      <td>10.000000</td>\n      <td>10.000000</td>\n      <td>1.000000</td>\n      <td>26.000000</td>\n      <td>58.000000</td>\n      <td>21.000000</td>\n      <td>481.000000</td>\n      <td>499.000000</td>\n      <td>391.000000</td>\n      <td>5400.000000</td>\n      <td>3.000000</td>\n      <td>5.000000</td>\n    </tr>\n  </tbody>\n</table>\n</div>"
     },
     "metadata": {}
    }
   ]
  },
  {
   "cell_type": "code",
   "metadata": {
    "cell_id": "4a4d9d804eee4f7dbb5e19151d90a4dc",
    "tags": [],
    "deepnote_to_be_reexecuted": false,
    "source_hash": "18346ef",
    "execution_start": 1660314354717,
    "execution_millis": 2,
    "deepnote_cell_type": "code",
    "deepnote_cell_height": 696
   },
   "source": "df_2019.info()",
   "execution_count": null,
   "outputs": [
    {
     "name": "stdout",
     "text": "<class 'pandas.core.frame.DataFrame'>\nRangeIndex: 79264 entries, 0 to 79263\nData columns (total 32 columns):\n #   Column                          Non-Null Count  Dtype  \n---  ------                          --------------  -----  \n 0   hotel                           79264 non-null  object \n 1   is_canceled                     79264 non-null  int64  \n 2   lead_time                       79264 non-null  int64  \n 3   arrival_date_year               79264 non-null  int64  \n 4   arrival_date_month              79264 non-null  object \n 5   arrival_date_week_number        79264 non-null  int64  \n 6   arrival_date_day_of_month       79264 non-null  int64  \n 7   stays_in_weekend_nights         79264 non-null  int64  \n 8   stays_in_week_nights            79264 non-null  int64  \n 9   adults                          79264 non-null  int64  \n 10  children                        79260 non-null  float64\n 11  babies                          79264 non-null  int64  \n 12  meal                            79264 non-null  object \n 13  country                         78855 non-null  object \n 14  market_segment                  79264 non-null  object \n 15  distribution_channel            79264 non-null  object \n 16  is_repeated_guest               79264 non-null  int64  \n 17  previous_cancellations          79264 non-null  int64  \n 18  previous_bookings_not_canceled  79264 non-null  int64  \n 19  reserved_room_type              79264 non-null  object \n 20  assigned_room_type              79264 non-null  object \n 21  booking_changes                 79264 non-null  int64  \n 22  deposit_type                    79264 non-null  object \n 23  agent                           68472 non-null  float64\n 24  company                         4510 non-null   float64\n 25  days_in_waiting_list            79264 non-null  int64  \n 26  customer_type                   79264 non-null  object \n 27  adr                             79264 non-null  float64\n 28  required_car_parking_spaces     79264 non-null  int64  \n 29  total_of_special_requests       79264 non-null  int64  \n 30  reservation_status              79264 non-null  object \n 31  reservation_status_date         79264 non-null  object \ndtypes: float64(4), int64(16), object(12)\nmemory usage: 19.4+ MB\n",
     "output_type": "stream"
    }
   ]
  },
  {
   "cell_type": "markdown",
   "source": "##### 2020 Revenue General Data Insights",
   "metadata": {
    "cell_id": "83984b26ab154736bab711f7db825d8a",
    "tags": [],
    "deepnote_cell_type": "markdown",
    "deepnote_cell_height": 54
   }
  },
  {
   "cell_type": "code",
   "metadata": {
    "cell_id": "8851ff93315d45d3b93a658119890325",
    "tags": [],
    "deepnote_to_be_reexecuted": false,
    "source_hash": "d0b24a6d",
    "execution_start": 1660314354817,
    "execution_millis": 149,
    "deepnote_cell_type": "code",
    "deepnote_cell_height": 406.796875
   },
   "source": "df_2020.head()",
   "execution_count": null,
   "outputs": [
    {
     "output_type": "execute_result",
     "execution_count": 9,
     "data": {
      "application/vnd.deepnote.dataframe.v3+json": {
       "column_count": 32,
       "row_count": 5,
       "columns": [
        {
         "name": "hotel",
         "dtype": "object",
         "stats": {
          "unique_count": 1,
          "nan_count": 0,
          "categories": [
           {
            "name": "Resort Hotel",
            "count": 5
           }
          ]
         }
        },
        {
         "name": "is_canceled",
         "dtype": "int64",
         "stats": {
          "unique_count": 1,
          "nan_count": 0,
          "min": "1",
          "max": "1",
          "histogram": [
           {
            "bin_start": 0.5,
            "bin_end": 0.6,
            "count": 0
           },
           {
            "bin_start": 0.6,
            "bin_end": 0.7,
            "count": 0
           },
           {
            "bin_start": 0.7,
            "bin_end": 0.8,
            "count": 0
           },
           {
            "bin_start": 0.8,
            "bin_end": 0.9,
            "count": 0
           },
           {
            "bin_start": 0.9,
            "bin_end": 1,
            "count": 0
           },
           {
            "bin_start": 1,
            "bin_end": 1.1,
            "count": 5
           },
           {
            "bin_start": 1.1,
            "bin_end": 1.2000000000000002,
            "count": 0
           },
           {
            "bin_start": 1.2000000000000002,
            "bin_end": 1.3,
            "count": 0
           },
           {
            "bin_start": 1.3,
            "bin_end": 1.4,
            "count": 0
           },
           {
            "bin_start": 1.4,
            "bin_end": 1.5,
            "count": 0
           }
          ]
         }
        },
        {
         "name": "lead_time",
         "dtype": "int64",
         "stats": {
          "unique_count": 3,
          "nan_count": 0,
          "min": "62",
          "max": "74",
          "histogram": [
           {
            "bin_start": 62,
            "bin_end": 63.2,
            "count": 3
           },
           {
            "bin_start": 63.2,
            "bin_end": 64.4,
            "count": 0
           },
           {
            "bin_start": 64.4,
            "bin_end": 65.6,
            "count": 0
           },
           {
            "bin_start": 65.6,
            "bin_end": 66.8,
            "count": 0
           },
           {
            "bin_start": 66.8,
            "bin_end": 68,
            "count": 0
           },
           {
            "bin_start": 68,
            "bin_end": 69.2,
            "count": 0
           },
           {
            "bin_start": 69.2,
            "bin_end": 70.4,
            "count": 0
           },
           {
            "bin_start": 70.4,
            "bin_end": 71.6,
            "count": 1
           },
           {
            "bin_start": 71.6,
            "bin_end": 72.8,
            "count": 0
           },
           {
            "bin_start": 72.8,
            "bin_end": 74,
            "count": 1
           }
          ]
         }
        },
        {
         "name": "arrival_date_year",
         "dtype": "int64",
         "stats": {
          "unique_count": 1,
          "nan_count": 0,
          "min": "2020",
          "max": "2020",
          "histogram": [
           {
            "bin_start": 2019.5,
            "bin_end": 2019.6,
            "count": 0
           },
           {
            "bin_start": 2019.6,
            "bin_end": 2019.7,
            "count": 0
           },
           {
            "bin_start": 2019.7,
            "bin_end": 2019.8,
            "count": 0
           },
           {
            "bin_start": 2019.8,
            "bin_end": 2019.9,
            "count": 0
           },
           {
            "bin_start": 2019.9,
            "bin_end": 2020,
            "count": 0
           },
           {
            "bin_start": 2020,
            "bin_end": 2020.1,
            "count": 5
           },
           {
            "bin_start": 2020.1,
            "bin_end": 2020.2,
            "count": 0
           },
           {
            "bin_start": 2020.2,
            "bin_end": 2020.3,
            "count": 0
           },
           {
            "bin_start": 2020.3,
            "bin_end": 2020.4,
            "count": 0
           },
           {
            "bin_start": 2020.4,
            "bin_end": 2020.5,
            "count": 0
           }
          ]
         }
        },
        {
         "name": "arrival_date_month",
         "dtype": "object",
         "stats": {
          "unique_count": 1,
          "nan_count": 0,
          "categories": [
           {
            "name": "January",
            "count": 5
           }
          ]
         }
        },
        {
         "name": "arrival_date_week_number",
         "dtype": "int64",
         "stats": {
          "unique_count": 1,
          "nan_count": 0,
          "min": "1",
          "max": "1",
          "histogram": [
           {
            "bin_start": 0.5,
            "bin_end": 0.6,
            "count": 0
           },
           {
            "bin_start": 0.6,
            "bin_end": 0.7,
            "count": 0
           },
           {
            "bin_start": 0.7,
            "bin_end": 0.8,
            "count": 0
           },
           {
            "bin_start": 0.8,
            "bin_end": 0.9,
            "count": 0
           },
           {
            "bin_start": 0.9,
            "bin_end": 1,
            "count": 0
           },
           {
            "bin_start": 1,
            "bin_end": 1.1,
            "count": 5
           },
           {
            "bin_start": 1.1,
            "bin_end": 1.2000000000000002,
            "count": 0
           },
           {
            "bin_start": 1.2000000000000002,
            "bin_end": 1.3,
            "count": 0
           },
           {
            "bin_start": 1.3,
            "bin_end": 1.4,
            "count": 0
           },
           {
            "bin_start": 1.4,
            "bin_end": 1.5,
            "count": 0
           }
          ]
         }
        },
        {
         "name": "arrival_date_day_of_month",
         "dtype": "int64",
         "stats": {
          "unique_count": 1,
          "nan_count": 0,
          "min": "1",
          "max": "1",
          "histogram": [
           {
            "bin_start": 0.5,
            "bin_end": 0.6,
            "count": 0
           },
           {
            "bin_start": 0.6,
            "bin_end": 0.7,
            "count": 0
           },
           {
            "bin_start": 0.7,
            "bin_end": 0.8,
            "count": 0
           },
           {
            "bin_start": 0.8,
            "bin_end": 0.9,
            "count": 0
           },
           {
            "bin_start": 0.9,
            "bin_end": 1,
            "count": 0
           },
           {
            "bin_start": 1,
            "bin_end": 1.1,
            "count": 5
           },
           {
            "bin_start": 1.1,
            "bin_end": 1.2000000000000002,
            "count": 0
           },
           {
            "bin_start": 1.2000000000000002,
            "bin_end": 1.3,
            "count": 0
           },
           {
            "bin_start": 1.3,
            "bin_end": 1.4,
            "count": 0
           },
           {
            "bin_start": 1.4,
            "bin_end": 1.5,
            "count": 0
           }
          ]
         }
        },
        {
         "name": "stays_in_weekend_nights",
         "dtype": "int64",
         "stats": {
          "unique_count": 2,
          "nan_count": 0,
          "min": "1",
          "max": "2",
          "histogram": [
           {
            "bin_start": 1,
            "bin_end": 1.1,
            "count": 1
           },
           {
            "bin_start": 1.1,
            "bin_end": 1.2,
            "count": 0
           },
           {
            "bin_start": 1.2,
            "bin_end": 1.3,
            "count": 0
           },
           {
            "bin_start": 1.3,
            "bin_end": 1.4,
            "count": 0
           },
           {
            "bin_start": 1.4,
            "bin_end": 1.5,
            "count": 0
           },
           {
            "bin_start": 1.5,
            "bin_end": 1.6,
            "count": 0
           },
           {
            "bin_start": 1.6,
            "bin_end": 1.7000000000000002,
            "count": 0
           },
           {
            "bin_start": 1.7000000000000002,
            "bin_end": 1.8,
            "count": 0
           },
           {
            "bin_start": 1.8,
            "bin_end": 1.9,
            "count": 0
           },
           {
            "bin_start": 1.9,
            "bin_end": 2,
            "count": 4
           }
          ]
         }
        },
        {
         "name": "stays_in_week_nights",
         "dtype": "int64",
         "stats": {
          "unique_count": 2,
          "nan_count": 0,
          "min": "0",
          "max": "2",
          "histogram": [
           {
            "bin_start": 0,
            "bin_end": 0.2,
            "count": 1
           },
           {
            "bin_start": 0.2,
            "bin_end": 0.4,
            "count": 0
           },
           {
            "bin_start": 0.4,
            "bin_end": 0.6000000000000001,
            "count": 0
           },
           {
            "bin_start": 0.6000000000000001,
            "bin_end": 0.8,
            "count": 0
           },
           {
            "bin_start": 0.8,
            "bin_end": 1,
            "count": 0
           },
           {
            "bin_start": 1,
            "bin_end": 1.2000000000000002,
            "count": 0
           },
           {
            "bin_start": 1.2000000000000002,
            "bin_end": 1.4000000000000001,
            "count": 0
           },
           {
            "bin_start": 1.4000000000000001,
            "bin_end": 1.6,
            "count": 0
           },
           {
            "bin_start": 1.6,
            "bin_end": 1.8,
            "count": 0
           },
           {
            "bin_start": 1.8,
            "bin_end": 2,
            "count": 4
           }
          ]
         }
        },
        {
         "name": "adults",
         "dtype": "int64",
         "stats": {
          "unique_count": 2,
          "nan_count": 0,
          "min": "1",
          "max": "2",
          "histogram": [
           {
            "bin_start": 1,
            "bin_end": 1.1,
            "count": 1
           },
           {
            "bin_start": 1.1,
            "bin_end": 1.2,
            "count": 0
           },
           {
            "bin_start": 1.2,
            "bin_end": 1.3,
            "count": 0
           },
           {
            "bin_start": 1.3,
            "bin_end": 1.4,
            "count": 0
           },
           {
            "bin_start": 1.4,
            "bin_end": 1.5,
            "count": 0
           },
           {
            "bin_start": 1.5,
            "bin_end": 1.6,
            "count": 0
           },
           {
            "bin_start": 1.6,
            "bin_end": 1.7000000000000002,
            "count": 0
           },
           {
            "bin_start": 1.7000000000000002,
            "bin_end": 1.8,
            "count": 0
           },
           {
            "bin_start": 1.8,
            "bin_end": 1.9,
            "count": 0
           },
           {
            "bin_start": 1.9,
            "bin_end": 2,
            "count": 4
           }
          ]
         }
        },
        {
         "name": "children",
         "dtype": "int64",
         "stats": {
          "unique_count": 1,
          "nan_count": 0,
          "min": "0",
          "max": "0",
          "histogram": [
           {
            "bin_start": -0.5,
            "bin_end": -0.4,
            "count": 0
           },
           {
            "bin_start": -0.4,
            "bin_end": -0.3,
            "count": 0
           },
           {
            "bin_start": -0.3,
            "bin_end": -0.19999999999999996,
            "count": 0
           },
           {
            "bin_start": -0.19999999999999996,
            "bin_end": -0.09999999999999998,
            "count": 0
           },
           {
            "bin_start": -0.09999999999999998,
            "bin_end": 0,
            "count": 0
           },
           {
            "bin_start": 0,
            "bin_end": 0.10000000000000009,
            "count": 5
           },
           {
            "bin_start": 0.10000000000000009,
            "bin_end": 0.20000000000000007,
            "count": 0
           },
           {
            "bin_start": 0.20000000000000007,
            "bin_end": 0.30000000000000004,
            "count": 0
           },
           {
            "bin_start": 0.30000000000000004,
            "bin_end": 0.4,
            "count": 0
           },
           {
            "bin_start": 0.4,
            "bin_end": 0.5,
            "count": 0
           }
          ]
         }
        },
        {
         "name": "babies",
         "dtype": "int64",
         "stats": {
          "unique_count": 1,
          "nan_count": 0,
          "min": "0",
          "max": "0",
          "histogram": [
           {
            "bin_start": -0.5,
            "bin_end": -0.4,
            "count": 0
           },
           {
            "bin_start": -0.4,
            "bin_end": -0.3,
            "count": 0
           },
           {
            "bin_start": -0.3,
            "bin_end": -0.19999999999999996,
            "count": 0
           },
           {
            "bin_start": -0.19999999999999996,
            "bin_end": -0.09999999999999998,
            "count": 0
           },
           {
            "bin_start": -0.09999999999999998,
            "bin_end": 0,
            "count": 0
           },
           {
            "bin_start": 0,
            "bin_end": 0.10000000000000009,
            "count": 5
           },
           {
            "bin_start": 0.10000000000000009,
            "bin_end": 0.20000000000000007,
            "count": 0
           },
           {
            "bin_start": 0.20000000000000007,
            "bin_end": 0.30000000000000004,
            "count": 0
           },
           {
            "bin_start": 0.30000000000000004,
            "bin_end": 0.4,
            "count": 0
           },
           {
            "bin_start": 0.4,
            "bin_end": 0.5,
            "count": 0
           }
          ]
         }
        },
        {
         "name": "meal",
         "dtype": "object",
         "stats": {
          "unique_count": 1,
          "nan_count": 0,
          "categories": [
           {
            "name": "BB",
            "count": 5
           }
          ]
         }
        },
        {
         "name": "country",
         "dtype": "object",
         "stats": {
          "unique_count": 2,
          "nan_count": 0,
          "categories": [
           {
            "name": "AUT",
            "count": 3
           },
           {
            "name": "PRT",
            "count": 2
           }
          ]
         }
        },
        {
         "name": "market_segment",
         "dtype": "object",
         "stats": {
          "unique_count": 1,
          "nan_count": 0,
          "categories": [
           {
            "name": "Online TA",
            "count": 5
           }
          ]
         }
        },
        {
         "name": "distribution_channel",
         "dtype": "object",
         "stats": {
          "unique_count": 1,
          "nan_count": 0,
          "categories": [
           {
            "name": "TA/TO",
            "count": 5
           }
          ]
         }
        },
        {
         "name": "is_repeated_guest",
         "dtype": "int64",
         "stats": {
          "unique_count": 1,
          "nan_count": 0,
          "min": "0",
          "max": "0",
          "histogram": [
           {
            "bin_start": -0.5,
            "bin_end": -0.4,
            "count": 0
           },
           {
            "bin_start": -0.4,
            "bin_end": -0.3,
            "count": 0
           },
           {
            "bin_start": -0.3,
            "bin_end": -0.19999999999999996,
            "count": 0
           },
           {
            "bin_start": -0.19999999999999996,
            "bin_end": -0.09999999999999998,
            "count": 0
           },
           {
            "bin_start": -0.09999999999999998,
            "bin_end": 0,
            "count": 0
           },
           {
            "bin_start": 0,
            "bin_end": 0.10000000000000009,
            "count": 5
           },
           {
            "bin_start": 0.10000000000000009,
            "bin_end": 0.20000000000000007,
            "count": 0
           },
           {
            "bin_start": 0.20000000000000007,
            "bin_end": 0.30000000000000004,
            "count": 0
           },
           {
            "bin_start": 0.30000000000000004,
            "bin_end": 0.4,
            "count": 0
           },
           {
            "bin_start": 0.4,
            "bin_end": 0.5,
            "count": 0
           }
          ]
         }
        },
        {
         "name": "previous_cancellations",
         "dtype": "int64",
         "stats": {
          "unique_count": 1,
          "nan_count": 0,
          "min": "0",
          "max": "0",
          "histogram": [
           {
            "bin_start": -0.5,
            "bin_end": -0.4,
            "count": 0
           },
           {
            "bin_start": -0.4,
            "bin_end": -0.3,
            "count": 0
           },
           {
            "bin_start": -0.3,
            "bin_end": -0.19999999999999996,
            "count": 0
           },
           {
            "bin_start": -0.19999999999999996,
            "bin_end": -0.09999999999999998,
            "count": 0
           },
           {
            "bin_start": -0.09999999999999998,
            "bin_end": 0,
            "count": 0
           },
           {
            "bin_start": 0,
            "bin_end": 0.10000000000000009,
            "count": 5
           },
           {
            "bin_start": 0.10000000000000009,
            "bin_end": 0.20000000000000007,
            "count": 0
           },
           {
            "bin_start": 0.20000000000000007,
            "bin_end": 0.30000000000000004,
            "count": 0
           },
           {
            "bin_start": 0.30000000000000004,
            "bin_end": 0.4,
            "count": 0
           },
           {
            "bin_start": 0.4,
            "bin_end": 0.5,
            "count": 0
           }
          ]
         }
        },
        {
         "name": "previous_bookings_not_canceled",
         "dtype": "int64",
         "stats": {
          "unique_count": 1,
          "nan_count": 0,
          "min": "0",
          "max": "0",
          "histogram": [
           {
            "bin_start": -0.5,
            "bin_end": -0.4,
            "count": 0
           },
           {
            "bin_start": -0.4,
            "bin_end": -0.3,
            "count": 0
           },
           {
            "bin_start": -0.3,
            "bin_end": -0.19999999999999996,
            "count": 0
           },
           {
            "bin_start": -0.19999999999999996,
            "bin_end": -0.09999999999999998,
            "count": 0
           },
           {
            "bin_start": -0.09999999999999998,
            "bin_end": 0,
            "count": 0
           },
           {
            "bin_start": 0,
            "bin_end": 0.10000000000000009,
            "count": 5
           },
           {
            "bin_start": 0.10000000000000009,
            "bin_end": 0.20000000000000007,
            "count": 0
           },
           {
            "bin_start": 0.20000000000000007,
            "bin_end": 0.30000000000000004,
            "count": 0
           },
           {
            "bin_start": 0.30000000000000004,
            "bin_end": 0.4,
            "count": 0
           },
           {
            "bin_start": 0.4,
            "bin_end": 0.5,
            "count": 0
           }
          ]
         }
        },
        {
         "name": "reserved_room_type",
         "dtype": "object",
         "stats": {
          "unique_count": 1,
          "nan_count": 0,
          "categories": [
           {
            "name": "A",
            "count": 5
           }
          ]
         }
        },
        {
         "name": "assigned_room_type",
         "dtype": "object",
         "stats": {
          "unique_count": 1,
          "nan_count": 0,
          "categories": [
           {
            "name": "A",
            "count": 5
           }
          ]
         }
        },
        {
         "name": "booking_changes",
         "dtype": "int64",
         "stats": {
          "unique_count": 1,
          "nan_count": 0,
          "min": "0",
          "max": "0",
          "histogram": [
           {
            "bin_start": -0.5,
            "bin_end": -0.4,
            "count": 0
           },
           {
            "bin_start": -0.4,
            "bin_end": -0.3,
            "count": 0
           },
           {
            "bin_start": -0.3,
            "bin_end": -0.19999999999999996,
            "count": 0
           },
           {
            "bin_start": -0.19999999999999996,
            "bin_end": -0.09999999999999998,
            "count": 0
           },
           {
            "bin_start": -0.09999999999999998,
            "bin_end": 0,
            "count": 0
           },
           {
            "bin_start": 0,
            "bin_end": 0.10000000000000009,
            "count": 5
           },
           {
            "bin_start": 0.10000000000000009,
            "bin_end": 0.20000000000000007,
            "count": 0
           },
           {
            "bin_start": 0.20000000000000007,
            "bin_end": 0.30000000000000004,
            "count": 0
           },
           {
            "bin_start": 0.30000000000000004,
            "bin_end": 0.4,
            "count": 0
           },
           {
            "bin_start": 0.4,
            "bin_end": 0.5,
            "count": 0
           }
          ]
         }
        },
        {
         "name": "deposit_type",
         "dtype": "object",
         "stats": {
          "unique_count": 1,
          "nan_count": 0,
          "categories": [
           {
            "name": "No Deposit",
            "count": 5
           }
          ]
         }
        },
        {
         "name": "agent",
         "dtype": "float64",
         "stats": {
          "unique_count": 3,
          "nan_count": 0,
          "min": "5.0",
          "max": "241.0",
          "histogram": [
           {
            "bin_start": 5,
            "bin_end": 28.6,
            "count": 1
           },
           {
            "bin_start": 28.6,
            "bin_end": 52.2,
            "count": 0
           },
           {
            "bin_start": 52.2,
            "bin_end": 75.80000000000001,
            "count": 0
           },
           {
            "bin_start": 75.80000000000001,
            "bin_end": 99.4,
            "count": 0
           },
           {
            "bin_start": 99.4,
            "bin_end": 123,
            "count": 0
           },
           {
            "bin_start": 123,
            "bin_end": 146.60000000000002,
            "count": 0
           },
           {
            "bin_start": 146.60000000000002,
            "bin_end": 170.20000000000002,
            "count": 0
           },
           {
            "bin_start": 170.20000000000002,
            "bin_end": 193.8,
            "count": 0
           },
           {
            "bin_start": 193.8,
            "bin_end": 217.4,
            "count": 0
           },
           {
            "bin_start": 217.4,
            "bin_end": 241,
            "count": 4
           }
          ]
         }
        },
        {
         "name": "company",
         "dtype": "float64",
         "stats": {
          "unique_count": 0,
          "nan_count": 5,
          "min": null,
          "max": null,
          "histogram": [
           {
            "bin_start": 0,
            "bin_end": 0.1,
            "count": 0
           },
           {
            "bin_start": 0.1,
            "bin_end": 0.2,
            "count": 0
           },
           {
            "bin_start": 0.2,
            "bin_end": 0.30000000000000004,
            "count": 0
           },
           {
            "bin_start": 0.30000000000000004,
            "bin_end": 0.4,
            "count": 0
           },
           {
            "bin_start": 0.4,
            "bin_end": 0.5,
            "count": 0
           },
           {
            "bin_start": 0.5,
            "bin_end": 0.6000000000000001,
            "count": 0
           },
           {
            "bin_start": 0.6000000000000001,
            "bin_end": 0.7000000000000001,
            "count": 0
           },
           {
            "bin_start": 0.7000000000000001,
            "bin_end": 0.8,
            "count": 0
           },
           {
            "bin_start": 0.8,
            "bin_end": 0.9,
            "count": 0
           },
           {
            "bin_start": 0.9,
            "bin_end": 1,
            "count": 0
           }
          ]
         }
        },
        {
         "name": "days_in_waiting_list",
         "dtype": "int64",
         "stats": {
          "unique_count": 1,
          "nan_count": 0,
          "min": "0",
          "max": "0",
          "histogram": [
           {
            "bin_start": -0.5,
            "bin_end": -0.4,
            "count": 0
           },
           {
            "bin_start": -0.4,
            "bin_end": -0.3,
            "count": 0
           },
           {
            "bin_start": -0.3,
            "bin_end": -0.19999999999999996,
            "count": 0
           },
           {
            "bin_start": -0.19999999999999996,
            "bin_end": -0.09999999999999998,
            "count": 0
           },
           {
            "bin_start": -0.09999999999999998,
            "bin_end": 0,
            "count": 0
           },
           {
            "bin_start": 0,
            "bin_end": 0.10000000000000009,
            "count": 5
           },
           {
            "bin_start": 0.10000000000000009,
            "bin_end": 0.20000000000000007,
            "count": 0
           },
           {
            "bin_start": 0.20000000000000007,
            "bin_end": 0.30000000000000004,
            "count": 0
           },
           {
            "bin_start": 0.30000000000000004,
            "bin_end": 0.4,
            "count": 0
           },
           {
            "bin_start": 0.4,
            "bin_end": 0.5,
            "count": 0
           }
          ]
         }
        },
        {
         "name": "customer_type",
         "dtype": "object",
         "stats": {
          "unique_count": 1,
          "nan_count": 0,
          "categories": [
           {
            "name": "Transient",
            "count": 5
           }
          ]
         }
        },
        {
         "name": "adr",
         "dtype": "float64",
         "stats": {
          "unique_count": 3,
          "nan_count": 0,
          "min": "32.22",
          "max": "57.6",
          "histogram": [
           {
            "bin_start": 32.22,
            "bin_end": 34.757999999999996,
            "count": 1
           },
           {
            "bin_start": 34.757999999999996,
            "bin_end": 37.296,
            "count": 0
           },
           {
            "bin_start": 37.296,
            "bin_end": 39.834,
            "count": 0
           },
           {
            "bin_start": 39.834,
            "bin_end": 42.372,
            "count": 0
           },
           {
            "bin_start": 42.372,
            "bin_end": 44.91,
            "count": 0
           },
           {
            "bin_start": 44.91,
            "bin_end": 47.448,
            "count": 0
           },
           {
            "bin_start": 47.448,
            "bin_end": 49.986000000000004,
            "count": 0
           },
           {
            "bin_start": 49.986000000000004,
            "bin_end": 52.524,
            "count": 3
           },
           {
            "bin_start": 52.524,
            "bin_end": 55.062,
            "count": 0
           },
           {
            "bin_start": 55.062,
            "bin_end": 57.6,
            "count": 1
           }
          ]
         }
        },
        {
         "name": "required_car_parking_spaces",
         "dtype": "int64",
         "stats": {
          "unique_count": 1,
          "nan_count": 0,
          "min": "0",
          "max": "0",
          "histogram": [
           {
            "bin_start": -0.5,
            "bin_end": -0.4,
            "count": 0
           },
           {
            "bin_start": -0.4,
            "bin_end": -0.3,
            "count": 0
           },
           {
            "bin_start": -0.3,
            "bin_end": -0.19999999999999996,
            "count": 0
           },
           {
            "bin_start": -0.19999999999999996,
            "bin_end": -0.09999999999999998,
            "count": 0
           },
           {
            "bin_start": -0.09999999999999998,
            "bin_end": 0,
            "count": 0
           },
           {
            "bin_start": 0,
            "bin_end": 0.10000000000000009,
            "count": 5
           },
           {
            "bin_start": 0.10000000000000009,
            "bin_end": 0.20000000000000007,
            "count": 0
           },
           {
            "bin_start": 0.20000000000000007,
            "bin_end": 0.30000000000000004,
            "count": 0
           },
           {
            "bin_start": 0.30000000000000004,
            "bin_end": 0.4,
            "count": 0
           },
           {
            "bin_start": 0.4,
            "bin_end": 0.5,
            "count": 0
           }
          ]
         }
        },
        {
         "name": "total_of_special_requests",
         "dtype": "int64",
         "stats": {
          "unique_count": 2,
          "nan_count": 0,
          "min": "0",
          "max": "1",
          "histogram": [
           {
            "bin_start": 0,
            "bin_end": 0.1,
            "count": 1
           },
           {
            "bin_start": 0.1,
            "bin_end": 0.2,
            "count": 0
           },
           {
            "bin_start": 0.2,
            "bin_end": 0.30000000000000004,
            "count": 0
           },
           {
            "bin_start": 0.30000000000000004,
            "bin_end": 0.4,
            "count": 0
           },
           {
            "bin_start": 0.4,
            "bin_end": 0.5,
            "count": 0
           },
           {
            "bin_start": 0.5,
            "bin_end": 0.6000000000000001,
            "count": 0
           },
           {
            "bin_start": 0.6000000000000001,
            "bin_end": 0.7000000000000001,
            "count": 0
           },
           {
            "bin_start": 0.7000000000000001,
            "bin_end": 0.8,
            "count": 0
           },
           {
            "bin_start": 0.8,
            "bin_end": 0.9,
            "count": 0
           },
           {
            "bin_start": 0.9,
            "bin_end": 1,
            "count": 4
           }
          ]
         }
        },
        {
         "name": "reservation_status",
         "dtype": "object",
         "stats": {
          "unique_count": 1,
          "nan_count": 0,
          "categories": [
           {
            "name": "Canceled",
            "count": 5
           }
          ]
         }
        },
        {
         "name": "reservation_status_date",
         "dtype": "object",
         "stats": {
          "unique_count": 4,
          "nan_count": 0,
          "categories": [
           {
            "name": "04-12-19",
            "count": 2
           },
           {
            "name": "20-10-19",
            "count": 1
           },
           {
            "name": "2 others",
            "count": 2
           }
          ]
         }
        },
        {
         "name": "_deepnote_index_column",
         "dtype": "int64"
        }
       ],
       "rows": [
        {
         "hotel": "Resort Hotel",
         "is_canceled": 1,
         "lead_time": 74,
         "arrival_date_year": 2020,
         "arrival_date_month": "January",
         "arrival_date_week_number": 1,
         "arrival_date_day_of_month": 1,
         "stays_in_weekend_nights": 1,
         "stays_in_week_nights": 0,
         "adults": 2,
         "children": 0,
         "babies": 0,
         "meal": "BB",
         "country": "PRT",
         "market_segment": "Online TA",
         "distribution_channel": "TA/TO",
         "is_repeated_guest": 0,
         "previous_cancellations": 0,
         "previous_bookings_not_canceled": 0,
         "reserved_room_type": "A",
         "assigned_room_type": "A",
         "booking_changes": 0,
         "deposit_type": "No Deposit",
         "agent": 5,
         "company": "nan",
         "days_in_waiting_list": 0,
         "customer_type": "Transient",
         "adr": 57.6,
         "required_car_parking_spaces": 0,
         "total_of_special_requests": 0,
         "reservation_status": "Canceled",
         "reservation_status_date": "20-10-19",
         "_deepnote_index_column": 0
        },
        {
         "hotel": "Resort Hotel",
         "is_canceled": 1,
         "lead_time": 62,
         "arrival_date_year": 2020,
         "arrival_date_month": "January",
         "arrival_date_week_number": 1,
         "arrival_date_day_of_month": 1,
         "stays_in_weekend_nights": 2,
         "stays_in_week_nights": 2,
         "adults": 2,
         "children": 0,
         "babies": 0,
         "meal": "BB",
         "country": "AUT",
         "market_segment": "Online TA",
         "distribution_channel": "TA/TO",
         "is_repeated_guest": 0,
         "previous_cancellations": 0,
         "previous_bookings_not_canceled": 0,
         "reserved_room_type": "A",
         "assigned_room_type": "A",
         "booking_changes": 0,
         "deposit_type": "No Deposit",
         "agent": 240,
         "company": "nan",
         "days_in_waiting_list": 0,
         "customer_type": "Transient",
         "adr": 51.5,
         "required_car_parking_spaces": 0,
         "total_of_special_requests": 1,
         "reservation_status": "Canceled",
         "reservation_status_date": "04-12-19",
         "_deepnote_index_column": 1
        },
        {
         "hotel": "Resort Hotel",
         "is_canceled": 1,
         "lead_time": 62,
         "arrival_date_year": 2020,
         "arrival_date_month": "January",
         "arrival_date_week_number": 1,
         "arrival_date_day_of_month": 1,
         "stays_in_weekend_nights": 2,
         "stays_in_week_nights": 2,
         "adults": 2,
         "children": 0,
         "babies": 0,
         "meal": "BB",
         "country": "AUT",
         "market_segment": "Online TA",
         "distribution_channel": "TA/TO",
         "is_repeated_guest": 0,
         "previous_cancellations": 0,
         "previous_bookings_not_canceled": 0,
         "reserved_room_type": "A",
         "assigned_room_type": "A",
         "booking_changes": 0,
         "deposit_type": "No Deposit",
         "agent": 240,
         "company": "nan",
         "days_in_waiting_list": 0,
         "customer_type": "Transient",
         "adr": 51.5,
         "required_car_parking_spaces": 0,
         "total_of_special_requests": 1,
         "reservation_status": "Canceled",
         "reservation_status_date": "11-11-19",
         "_deepnote_index_column": 2
        },
        {
         "hotel": "Resort Hotel",
         "is_canceled": 1,
         "lead_time": 62,
         "arrival_date_year": 2020,
         "arrival_date_month": "January",
         "arrival_date_week_number": 1,
         "arrival_date_day_of_month": 1,
         "stays_in_weekend_nights": 2,
         "stays_in_week_nights": 2,
         "adults": 2,
         "children": 0,
         "babies": 0,
         "meal": "BB",
         "country": "AUT",
         "market_segment": "Online TA",
         "distribution_channel": "TA/TO",
         "is_repeated_guest": 0,
         "previous_cancellations": 0,
         "previous_bookings_not_canceled": 0,
         "reserved_room_type": "A",
         "assigned_room_type": "A",
         "booking_changes": 0,
         "deposit_type": "No Deposit",
         "agent": 240,
         "company": "nan",
         "days_in_waiting_list": 0,
         "customer_type": "Transient",
         "adr": 51.5,
         "required_car_parking_spaces": 0,
         "total_of_special_requests": 1,
         "reservation_status": "Canceled",
         "reservation_status_date": "04-12-19",
         "_deepnote_index_column": 3
        },
        {
         "hotel": "Resort Hotel",
         "is_canceled": 1,
         "lead_time": 71,
         "arrival_date_year": 2020,
         "arrival_date_month": "January",
         "arrival_date_week_number": 1,
         "arrival_date_day_of_month": 1,
         "stays_in_weekend_nights": 2,
         "stays_in_week_nights": 2,
         "adults": 1,
         "children": 0,
         "babies": 0,
         "meal": "BB",
         "country": "PRT",
         "market_segment": "Online TA",
         "distribution_channel": "TA/TO",
         "is_repeated_guest": 0,
         "previous_cancellations": 0,
         "previous_bookings_not_canceled": 0,
         "reserved_room_type": "A",
         "assigned_room_type": "A",
         "booking_changes": 0,
         "deposit_type": "No Deposit",
         "agent": 241,
         "company": "nan",
         "days_in_waiting_list": 0,
         "customer_type": "Transient",
         "adr": 32.22,
         "required_car_parking_spaces": 0,
         "total_of_special_requests": 1,
         "reservation_status": "Canceled",
         "reservation_status_date": "29-10-19",
         "_deepnote_index_column": 4
        }
       ]
      },
      "text/plain": "          hotel  is_canceled  lead_time  arrival_date_year arrival_date_month  \\\n0  Resort Hotel            1         74               2020            January   \n1  Resort Hotel            1         62               2020            January   \n2  Resort Hotel            1         62               2020            January   \n3  Resort Hotel            1         62               2020            January   \n4  Resort Hotel            1         71               2020            January   \n\n   arrival_date_week_number  arrival_date_day_of_month  \\\n0                         1                          1   \n1                         1                          1   \n2                         1                          1   \n3                         1                          1   \n4                         1                          1   \n\n   stays_in_weekend_nights  stays_in_week_nights  adults  ...  deposit_type  \\\n0                        1                     0       2  ...    No Deposit   \n1                        2                     2       2  ...    No Deposit   \n2                        2                     2       2  ...    No Deposit   \n3                        2                     2       2  ...    No Deposit   \n4                        2                     2       1  ...    No Deposit   \n\n   agent company days_in_waiting_list customer_type    adr  \\\n0    5.0     NaN                    0     Transient  57.60   \n1  240.0     NaN                    0     Transient  51.50   \n2  240.0     NaN                    0     Transient  51.50   \n3  240.0     NaN                    0     Transient  51.50   \n4  241.0     NaN                    0     Transient  32.22   \n\n   required_car_parking_spaces  total_of_special_requests  reservation_status  \\\n0                            0                          0            Canceled   \n1                            0                          1            Canceled   \n2                            0                          1            Canceled   \n3                            0                          1            Canceled   \n4                            0                          1            Canceled   \n\n  reservation_status_date  \n0                20-10-19  \n1                04-12-19  \n2                11-11-19  \n3                04-12-19  \n4                29-10-19  \n\n[5 rows x 32 columns]",
      "text/html": "<div>\n<style scoped>\n    .dataframe tbody tr th:only-of-type {\n        vertical-align: middle;\n    }\n\n    .dataframe tbody tr th {\n        vertical-align: top;\n    }\n\n    .dataframe thead th {\n        text-align: right;\n    }\n</style>\n<table border=\"1\" class=\"dataframe\">\n  <thead>\n    <tr style=\"text-align: right;\">\n      <th></th>\n      <th>hotel</th>\n      <th>is_canceled</th>\n      <th>lead_time</th>\n      <th>arrival_date_year</th>\n      <th>arrival_date_month</th>\n      <th>arrival_date_week_number</th>\n      <th>arrival_date_day_of_month</th>\n      <th>stays_in_weekend_nights</th>\n      <th>stays_in_week_nights</th>\n      <th>adults</th>\n      <th>...</th>\n      <th>deposit_type</th>\n      <th>agent</th>\n      <th>company</th>\n      <th>days_in_waiting_list</th>\n      <th>customer_type</th>\n      <th>adr</th>\n      <th>required_car_parking_spaces</th>\n      <th>total_of_special_requests</th>\n      <th>reservation_status</th>\n      <th>reservation_status_date</th>\n    </tr>\n  </thead>\n  <tbody>\n    <tr>\n      <th>0</th>\n      <td>Resort Hotel</td>\n      <td>1</td>\n      <td>74</td>\n      <td>2020</td>\n      <td>January</td>\n      <td>1</td>\n      <td>1</td>\n      <td>1</td>\n      <td>0</td>\n      <td>2</td>\n      <td>...</td>\n      <td>No Deposit</td>\n      <td>5.0</td>\n      <td>NaN</td>\n      <td>0</td>\n      <td>Transient</td>\n      <td>57.60</td>\n      <td>0</td>\n      <td>0</td>\n      <td>Canceled</td>\n      <td>20-10-19</td>\n    </tr>\n    <tr>\n      <th>1</th>\n      <td>Resort Hotel</td>\n      <td>1</td>\n      <td>62</td>\n      <td>2020</td>\n      <td>January</td>\n      <td>1</td>\n      <td>1</td>\n      <td>2</td>\n      <td>2</td>\n      <td>2</td>\n      <td>...</td>\n      <td>No Deposit</td>\n      <td>240.0</td>\n      <td>NaN</td>\n      <td>0</td>\n      <td>Transient</td>\n      <td>51.50</td>\n      <td>0</td>\n      <td>1</td>\n      <td>Canceled</td>\n      <td>04-12-19</td>\n    </tr>\n    <tr>\n      <th>2</th>\n      <td>Resort Hotel</td>\n      <td>1</td>\n      <td>62</td>\n      <td>2020</td>\n      <td>January</td>\n      <td>1</td>\n      <td>1</td>\n      <td>2</td>\n      <td>2</td>\n      <td>2</td>\n      <td>...</td>\n      <td>No Deposit</td>\n      <td>240.0</td>\n      <td>NaN</td>\n      <td>0</td>\n      <td>Transient</td>\n      <td>51.50</td>\n      <td>0</td>\n      <td>1</td>\n      <td>Canceled</td>\n      <td>11-11-19</td>\n    </tr>\n    <tr>\n      <th>3</th>\n      <td>Resort Hotel</td>\n      <td>1</td>\n      <td>62</td>\n      <td>2020</td>\n      <td>January</td>\n      <td>1</td>\n      <td>1</td>\n      <td>2</td>\n      <td>2</td>\n      <td>2</td>\n      <td>...</td>\n      <td>No Deposit</td>\n      <td>240.0</td>\n      <td>NaN</td>\n      <td>0</td>\n      <td>Transient</td>\n      <td>51.50</td>\n      <td>0</td>\n      <td>1</td>\n      <td>Canceled</td>\n      <td>04-12-19</td>\n    </tr>\n    <tr>\n      <th>4</th>\n      <td>Resort Hotel</td>\n      <td>1</td>\n      <td>71</td>\n      <td>2020</td>\n      <td>January</td>\n      <td>1</td>\n      <td>1</td>\n      <td>2</td>\n      <td>2</td>\n      <td>1</td>\n      <td>...</td>\n      <td>No Deposit</td>\n      <td>241.0</td>\n      <td>NaN</td>\n      <td>0</td>\n      <td>Transient</td>\n      <td>32.22</td>\n      <td>0</td>\n      <td>1</td>\n      <td>Canceled</td>\n      <td>29-10-19</td>\n    </tr>\n  </tbody>\n</table>\n<p>5 rows × 32 columns</p>\n</div>"
     },
     "metadata": {}
    }
   ]
  },
  {
   "cell_type": "code",
   "metadata": {
    "cell_id": "20fe98adeda64b879bd4a94677850b8a",
    "tags": [],
    "deepnote_to_be_reexecuted": false,
    "source_hash": "baea0249",
    "execution_start": 1660314354985,
    "execution_millis": 1042,
    "deepnote_cell_type": "code",
    "deepnote_cell_height": 529.796875
   },
   "source": "df_2020.describe()",
   "execution_count": null,
   "outputs": [
    {
     "output_type": "execute_result",
     "execution_count": 10,
     "data": {
      "application/vnd.deepnote.dataframe.v3+json": {
       "column_count": 20,
       "row_count": 8,
       "columns": [
        {
         "name": "is_canceled",
         "dtype": "float64",
         "stats": {
          "unique_count": 5,
          "nan_count": 0,
          "min": "0.0",
          "max": "40687.0",
          "histogram": [
           {
            "bin_start": 0,
            "bin_end": 4068.7,
            "count": 7
           },
           {
            "bin_start": 4068.7,
            "bin_end": 8137.4,
            "count": 0
           },
           {
            "bin_start": 8137.4,
            "bin_end": 12206.099999999999,
            "count": 0
           },
           {
            "bin_start": 12206.099999999999,
            "bin_end": 16274.8,
            "count": 0
           },
           {
            "bin_start": 16274.8,
            "bin_end": 20343.5,
            "count": 0
           },
           {
            "bin_start": 20343.5,
            "bin_end": 24412.199999999997,
            "count": 0
           },
           {
            "bin_start": 24412.199999999997,
            "bin_end": 28480.899999999998,
            "count": 0
           },
           {
            "bin_start": 28480.899999999998,
            "bin_end": 32549.6,
            "count": 0
           },
           {
            "bin_start": 32549.6,
            "bin_end": 36618.299999999996,
            "count": 0
           },
           {
            "bin_start": 36618.299999999996,
            "bin_end": 40687,
            "count": 1
           }
          ]
         }
        },
        {
         "name": "lead_time",
         "dtype": "float64",
         "stats": {
          "unique_count": 8,
          "nan_count": 0,
          "min": "0.0",
          "max": "40687.0",
          "histogram": [
           {
            "bin_start": 0,
            "bin_end": 4068.7,
            "count": 7
           },
           {
            "bin_start": 4068.7,
            "bin_end": 8137.4,
            "count": 0
           },
           {
            "bin_start": 8137.4,
            "bin_end": 12206.099999999999,
            "count": 0
           },
           {
            "bin_start": 12206.099999999999,
            "bin_end": 16274.8,
            "count": 0
           },
           {
            "bin_start": 16274.8,
            "bin_end": 20343.5,
            "count": 0
           },
           {
            "bin_start": 20343.5,
            "bin_end": 24412.199999999997,
            "count": 0
           },
           {
            "bin_start": 24412.199999999997,
            "bin_end": 28480.899999999998,
            "count": 0
           },
           {
            "bin_start": 28480.899999999998,
            "bin_end": 32549.6,
            "count": 0
           },
           {
            "bin_start": 32549.6,
            "bin_end": 36618.299999999996,
            "count": 0
           },
           {
            "bin_start": 36618.299999999996,
            "bin_end": 40687,
            "count": 1
           }
          ]
         }
        },
        {
         "name": "arrival_date_year",
         "dtype": "float64",
         "stats": {
          "unique_count": 3,
          "nan_count": 0,
          "min": "0.0",
          "max": "40687.0",
          "histogram": [
           {
            "bin_start": 0,
            "bin_end": 4068.7,
            "count": 7
           },
           {
            "bin_start": 4068.7,
            "bin_end": 8137.4,
            "count": 0
           },
           {
            "bin_start": 8137.4,
            "bin_end": 12206.099999999999,
            "count": 0
           },
           {
            "bin_start": 12206.099999999999,
            "bin_end": 16274.8,
            "count": 0
           },
           {
            "bin_start": 16274.8,
            "bin_end": 20343.5,
            "count": 0
           },
           {
            "bin_start": 20343.5,
            "bin_end": 24412.199999999997,
            "count": 0
           },
           {
            "bin_start": 24412.199999999997,
            "bin_end": 28480.899999999998,
            "count": 0
           },
           {
            "bin_start": 28480.899999999998,
            "bin_end": 32549.6,
            "count": 0
           },
           {
            "bin_start": 32549.6,
            "bin_end": 36618.299999999996,
            "count": 0
           },
           {
            "bin_start": 36618.299999999996,
            "bin_end": 40687,
            "count": 1
           }
          ]
         }
        },
        {
         "name": "arrival_date_week_number",
         "dtype": "float64",
         "stats": {
          "unique_count": 8,
          "nan_count": 0,
          "min": "1.0",
          "max": "40687.0",
          "histogram": [
           {
            "bin_start": 1,
            "bin_end": 4069.6,
            "count": 7
           },
           {
            "bin_start": 4069.6,
            "bin_end": 8138.2,
            "count": 0
           },
           {
            "bin_start": 8138.2,
            "bin_end": 12206.8,
            "count": 0
           },
           {
            "bin_start": 12206.8,
            "bin_end": 16275.4,
            "count": 0
           },
           {
            "bin_start": 16275.4,
            "bin_end": 20344,
            "count": 0
           },
           {
            "bin_start": 20344,
            "bin_end": 24412.6,
            "count": 0
           },
           {
            "bin_start": 24412.6,
            "bin_end": 28481.2,
            "count": 0
           },
           {
            "bin_start": 28481.2,
            "bin_end": 32549.8,
            "count": 0
           },
           {
            "bin_start": 32549.8,
            "bin_end": 36618.4,
            "count": 0
           },
           {
            "bin_start": 36618.4,
            "bin_end": 40687,
            "count": 1
           }
          ]
         }
        },
        {
         "name": "arrival_date_day_of_month",
         "dtype": "float64",
         "stats": {
          "unique_count": 8,
          "nan_count": 0,
          "min": "1.0",
          "max": "40687.0",
          "histogram": [
           {
            "bin_start": 1,
            "bin_end": 4069.6,
            "count": 7
           },
           {
            "bin_start": 4069.6,
            "bin_end": 8138.2,
            "count": 0
           },
           {
            "bin_start": 8138.2,
            "bin_end": 12206.8,
            "count": 0
           },
           {
            "bin_start": 12206.8,
            "bin_end": 16275.4,
            "count": 0
           },
           {
            "bin_start": 16275.4,
            "bin_end": 20344,
            "count": 0
           },
           {
            "bin_start": 20344,
            "bin_end": 24412.6,
            "count": 0
           },
           {
            "bin_start": 24412.6,
            "bin_end": 28481.2,
            "count": 0
           },
           {
            "bin_start": 28481.2,
            "bin_end": 32549.8,
            "count": 0
           },
           {
            "bin_start": 32549.8,
            "bin_end": 36618.4,
            "count": 0
           },
           {
            "bin_start": 36618.4,
            "bin_end": 40687,
            "count": 1
           }
          ]
         }
        },
        {
         "name": "stays_in_weekend_nights",
         "dtype": "float64",
         "stats": {
          "unique_count": 7,
          "nan_count": 0,
          "min": "0.0",
          "max": "40687.0",
          "histogram": [
           {
            "bin_start": 0,
            "bin_end": 4068.7,
            "count": 7
           },
           {
            "bin_start": 4068.7,
            "bin_end": 8137.4,
            "count": 0
           },
           {
            "bin_start": 8137.4,
            "bin_end": 12206.099999999999,
            "count": 0
           },
           {
            "bin_start": 12206.099999999999,
            "bin_end": 16274.8,
            "count": 0
           },
           {
            "bin_start": 16274.8,
            "bin_end": 20343.5,
            "count": 0
           },
           {
            "bin_start": 20343.5,
            "bin_end": 24412.199999999997,
            "count": 0
           },
           {
            "bin_start": 24412.199999999997,
            "bin_end": 28480.899999999998,
            "count": 0
           },
           {
            "bin_start": 28480.899999999998,
            "bin_end": 32549.6,
            "count": 0
           },
           {
            "bin_start": 32549.6,
            "bin_end": 36618.299999999996,
            "count": 0
           },
           {
            "bin_start": 36618.299999999996,
            "bin_end": 40687,
            "count": 1
           }
          ]
         }
        },
        {
         "name": "stays_in_week_nights",
         "dtype": "float64",
         "stats": {
          "unique_count": 8,
          "nan_count": 0,
          "min": "0.0",
          "max": "40687.0",
          "histogram": [
           {
            "bin_start": 0,
            "bin_end": 4068.7,
            "count": 7
           },
           {
            "bin_start": 4068.7,
            "bin_end": 8137.4,
            "count": 0
           },
           {
            "bin_start": 8137.4,
            "bin_end": 12206.099999999999,
            "count": 0
           },
           {
            "bin_start": 12206.099999999999,
            "bin_end": 16274.8,
            "count": 0
           },
           {
            "bin_start": 16274.8,
            "bin_end": 20343.5,
            "count": 0
           },
           {
            "bin_start": 20343.5,
            "bin_end": 24412.199999999997,
            "count": 0
           },
           {
            "bin_start": 24412.199999999997,
            "bin_end": 28480.899999999998,
            "count": 0
           },
           {
            "bin_start": 28480.899999999998,
            "bin_end": 32549.6,
            "count": 0
           },
           {
            "bin_start": 32549.6,
            "bin_end": 36618.299999999996,
            "count": 0
           },
           {
            "bin_start": 36618.299999999996,
            "bin_end": 40687,
            "count": 1
           }
          ]
         }
        },
        {
         "name": "adults",
         "dtype": "float64",
         "stats": {
          "unique_count": 6,
          "nan_count": 0,
          "min": "0.0",
          "max": "40687.0",
          "histogram": [
           {
            "bin_start": 0,
            "bin_end": 4068.7,
            "count": 7
           },
           {
            "bin_start": 4068.7,
            "bin_end": 8137.4,
            "count": 0
           },
           {
            "bin_start": 8137.4,
            "bin_end": 12206.099999999999,
            "count": 0
           },
           {
            "bin_start": 12206.099999999999,
            "bin_end": 16274.8,
            "count": 0
           },
           {
            "bin_start": 16274.8,
            "bin_end": 20343.5,
            "count": 0
           },
           {
            "bin_start": 20343.5,
            "bin_end": 24412.199999999997,
            "count": 0
           },
           {
            "bin_start": 24412.199999999997,
            "bin_end": 28480.899999999998,
            "count": 0
           },
           {
            "bin_start": 28480.899999999998,
            "bin_end": 32549.6,
            "count": 0
           },
           {
            "bin_start": 32549.6,
            "bin_end": 36618.299999999996,
            "count": 0
           },
           {
            "bin_start": 36618.299999999996,
            "bin_end": 40687,
            "count": 1
           }
          ]
         }
        },
        {
         "name": "children",
         "dtype": "float64",
         "stats": {
          "unique_count": 5,
          "nan_count": 0,
          "min": "0.0",
          "max": "40687.0",
          "histogram": [
           {
            "bin_start": 0,
            "bin_end": 4068.7,
            "count": 7
           },
           {
            "bin_start": 4068.7,
            "bin_end": 8137.4,
            "count": 0
           },
           {
            "bin_start": 8137.4,
            "bin_end": 12206.099999999999,
            "count": 0
           },
           {
            "bin_start": 12206.099999999999,
            "bin_end": 16274.8,
            "count": 0
           },
           {
            "bin_start": 16274.8,
            "bin_end": 20343.5,
            "count": 0
           },
           {
            "bin_start": 20343.5,
            "bin_end": 24412.199999999997,
            "count": 0
           },
           {
            "bin_start": 24412.199999999997,
            "bin_end": 28480.899999999998,
            "count": 0
           },
           {
            "bin_start": 28480.899999999998,
            "bin_end": 32549.6,
            "count": 0
           },
           {
            "bin_start": 32549.6,
            "bin_end": 36618.299999999996,
            "count": 0
           },
           {
            "bin_start": 36618.299999999996,
            "bin_end": 40687,
            "count": 1
           }
          ]
         }
        },
        {
         "name": "babies",
         "dtype": "float64",
         "stats": {
          "unique_count": 5,
          "nan_count": 0,
          "min": "0.0",
          "max": "40687.0",
          "histogram": [
           {
            "bin_start": 0,
            "bin_end": 4068.7,
            "count": 7
           },
           {
            "bin_start": 4068.7,
            "bin_end": 8137.4,
            "count": 0
           },
           {
            "bin_start": 8137.4,
            "bin_end": 12206.099999999999,
            "count": 0
           },
           {
            "bin_start": 12206.099999999999,
            "bin_end": 16274.8,
            "count": 0
           },
           {
            "bin_start": 16274.8,
            "bin_end": 20343.5,
            "count": 0
           },
           {
            "bin_start": 20343.5,
            "bin_end": 24412.199999999997,
            "count": 0
           },
           {
            "bin_start": 24412.199999999997,
            "bin_end": 28480.899999999998,
            "count": 0
           },
           {
            "bin_start": 28480.899999999998,
            "bin_end": 32549.6,
            "count": 0
           },
           {
            "bin_start": 32549.6,
            "bin_end": 36618.299999999996,
            "count": 0
           },
           {
            "bin_start": 36618.299999999996,
            "bin_end": 40687,
            "count": 1
           }
          ]
         }
        },
        {
         "name": "is_repeated_guest",
         "dtype": "float64",
         "stats": {
          "unique_count": 5,
          "nan_count": 0,
          "min": "0.0",
          "max": "40687.0",
          "histogram": [
           {
            "bin_start": 0,
            "bin_end": 4068.7,
            "count": 7
           },
           {
            "bin_start": 4068.7,
            "bin_end": 8137.4,
            "count": 0
           },
           {
            "bin_start": 8137.4,
            "bin_end": 12206.099999999999,
            "count": 0
           },
           {
            "bin_start": 12206.099999999999,
            "bin_end": 16274.8,
            "count": 0
           },
           {
            "bin_start": 16274.8,
            "bin_end": 20343.5,
            "count": 0
           },
           {
            "bin_start": 20343.5,
            "bin_end": 24412.199999999997,
            "count": 0
           },
           {
            "bin_start": 24412.199999999997,
            "bin_end": 28480.899999999998,
            "count": 0
           },
           {
            "bin_start": 28480.899999999998,
            "bin_end": 32549.6,
            "count": 0
           },
           {
            "bin_start": 32549.6,
            "bin_end": 36618.299999999996,
            "count": 0
           },
           {
            "bin_start": 36618.299999999996,
            "bin_end": 40687,
            "count": 1
           }
          ]
         }
        },
        {
         "name": "previous_cancellations",
         "dtype": "float64",
         "stats": {
          "unique_count": 5,
          "nan_count": 0,
          "min": "0.0",
          "max": "40687.0",
          "histogram": [
           {
            "bin_start": 0,
            "bin_end": 4068.7,
            "count": 7
           },
           {
            "bin_start": 4068.7,
            "bin_end": 8137.4,
            "count": 0
           },
           {
            "bin_start": 8137.4,
            "bin_end": 12206.099999999999,
            "count": 0
           },
           {
            "bin_start": 12206.099999999999,
            "bin_end": 16274.8,
            "count": 0
           },
           {
            "bin_start": 16274.8,
            "bin_end": 20343.5,
            "count": 0
           },
           {
            "bin_start": 20343.5,
            "bin_end": 24412.199999999997,
            "count": 0
           },
           {
            "bin_start": 24412.199999999997,
            "bin_end": 28480.899999999998,
            "count": 0
           },
           {
            "bin_start": 28480.899999999998,
            "bin_end": 32549.6,
            "count": 0
           },
           {
            "bin_start": 32549.6,
            "bin_end": 36618.299999999996,
            "count": 0
           },
           {
            "bin_start": 36618.299999999996,
            "bin_end": 40687,
            "count": 1
           }
          ]
         }
        },
        {
         "name": "previous_bookings_not_canceled",
         "dtype": "float64",
         "stats": {
          "unique_count": 5,
          "nan_count": 0,
          "min": "0.0",
          "max": "40687.0",
          "histogram": [
           {
            "bin_start": 0,
            "bin_end": 4068.7,
            "count": 7
           },
           {
            "bin_start": 4068.7,
            "bin_end": 8137.4,
            "count": 0
           },
           {
            "bin_start": 8137.4,
            "bin_end": 12206.099999999999,
            "count": 0
           },
           {
            "bin_start": 12206.099999999999,
            "bin_end": 16274.8,
            "count": 0
           },
           {
            "bin_start": 16274.8,
            "bin_end": 20343.5,
            "count": 0
           },
           {
            "bin_start": 20343.5,
            "bin_end": 24412.199999999997,
            "count": 0
           },
           {
            "bin_start": 24412.199999999997,
            "bin_end": 28480.899999999998,
            "count": 0
           },
           {
            "bin_start": 28480.899999999998,
            "bin_end": 32549.6,
            "count": 0
           },
           {
            "bin_start": 32549.6,
            "bin_end": 36618.299999999996,
            "count": 0
           },
           {
            "bin_start": 36618.299999999996,
            "bin_end": 40687,
            "count": 1
           }
          ]
         }
        },
        {
         "name": "booking_changes",
         "dtype": "float64",
         "stats": {
          "unique_count": 5,
          "nan_count": 0,
          "min": "0.0",
          "max": "40687.0",
          "histogram": [
           {
            "bin_start": 0,
            "bin_end": 4068.7,
            "count": 7
           },
           {
            "bin_start": 4068.7,
            "bin_end": 8137.4,
            "count": 0
           },
           {
            "bin_start": 8137.4,
            "bin_end": 12206.099999999999,
            "count": 0
           },
           {
            "bin_start": 12206.099999999999,
            "bin_end": 16274.8,
            "count": 0
           },
           {
            "bin_start": 16274.8,
            "bin_end": 20343.5,
            "count": 0
           },
           {
            "bin_start": 20343.5,
            "bin_end": 24412.199999999997,
            "count": 0
           },
           {
            "bin_start": 24412.199999999997,
            "bin_end": 28480.899999999998,
            "count": 0
           },
           {
            "bin_start": 28480.899999999998,
            "bin_end": 32549.6,
            "count": 0
           },
           {
            "bin_start": 32549.6,
            "bin_end": 36618.299999999996,
            "count": 0
           },
           {
            "bin_start": 36618.299999999996,
            "bin_end": 40687,
            "count": 1
           }
          ]
         }
        },
        {
         "name": "agent",
         "dtype": "float64",
         "stats": {
          "unique_count": 8,
          "nan_count": 0,
          "min": "1.0",
          "max": "35023.0",
          "histogram": [
           {
            "bin_start": 1,
            "bin_end": 3503.2,
            "count": 7
           },
           {
            "bin_start": 3503.2,
            "bin_end": 7005.4,
            "count": 0
           },
           {
            "bin_start": 7005.4,
            "bin_end": 10507.599999999999,
            "count": 0
           },
           {
            "bin_start": 10507.599999999999,
            "bin_end": 14009.8,
            "count": 0
           },
           {
            "bin_start": 14009.8,
            "bin_end": 17512,
            "count": 0
           },
           {
            "bin_start": 17512,
            "bin_end": 21014.199999999997,
            "count": 0
           },
           {
            "bin_start": 21014.199999999997,
            "bin_end": 24516.399999999998,
            "count": 0
           },
           {
            "bin_start": 24516.399999999998,
            "bin_end": 28018.6,
            "count": 0
           },
           {
            "bin_start": 28018.6,
            "bin_end": 31520.8,
            "count": 0
           },
           {
            "bin_start": 31520.8,
            "bin_end": 35023,
            "count": 1
           }
          ]
         }
        },
        {
         "name": "company",
         "dtype": "float64",
         "stats": {
          "unique_count": 8,
          "nan_count": 0,
          "min": "9.0",
          "max": "2310.0",
          "histogram": [
           {
            "bin_start": 9,
            "bin_end": 239.1,
            "count": 4
           },
           {
            "bin_start": 239.1,
            "bin_end": 469.2,
            "count": 2
           },
           {
            "bin_start": 469.2,
            "bin_end": 699.3,
            "count": 1
           },
           {
            "bin_start": 699.3,
            "bin_end": 929.4,
            "count": 0
           },
           {
            "bin_start": 929.4,
            "bin_end": 1159.5,
            "count": 0
           },
           {
            "bin_start": 1159.5,
            "bin_end": 1389.6,
            "count": 0
           },
           {
            "bin_start": 1389.6,
            "bin_end": 1619.7,
            "count": 0
           },
           {
            "bin_start": 1619.7,
            "bin_end": 1849.8,
            "count": 0
           },
           {
            "bin_start": 1849.8,
            "bin_end": 2079.9,
            "count": 0
           },
           {
            "bin_start": 2079.9,
            "bin_end": 2310,
            "count": 1
           }
          ]
         }
        },
        {
         "name": "days_in_waiting_list",
         "dtype": "float64",
         "stats": {
          "unique_count": 5,
          "nan_count": 0,
          "min": "0.0",
          "max": "40687.0",
          "histogram": [
           {
            "bin_start": 0,
            "bin_end": 4068.7,
            "count": 7
           },
           {
            "bin_start": 4068.7,
            "bin_end": 8137.4,
            "count": 0
           },
           {
            "bin_start": 8137.4,
            "bin_end": 12206.099999999999,
            "count": 0
           },
           {
            "bin_start": 12206.099999999999,
            "bin_end": 16274.8,
            "count": 0
           },
           {
            "bin_start": 16274.8,
            "bin_end": 20343.5,
            "count": 0
           },
           {
            "bin_start": 20343.5,
            "bin_end": 24412.199999999997,
            "count": 0
           },
           {
            "bin_start": 24412.199999999997,
            "bin_end": 28480.899999999998,
            "count": 0
           },
           {
            "bin_start": 28480.899999999998,
            "bin_end": 32549.6,
            "count": 0
           },
           {
            "bin_start": 32549.6,
            "bin_end": 36618.299999999996,
            "count": 0
           },
           {
            "bin_start": 36618.299999999996,
            "bin_end": 40687,
            "count": 1
           }
          ]
         }
        },
        {
         "name": "adr",
         "dtype": "float64",
         "stats": {
          "unique_count": 8,
          "nan_count": 0,
          "min": "-6.38",
          "max": "40687.0",
          "histogram": [
           {
            "bin_start": -6.38,
            "bin_end": 4062.9579999999996,
            "count": 7
           },
           {
            "bin_start": 4062.9579999999996,
            "bin_end": 8132.295999999999,
            "count": 0
           },
           {
            "bin_start": 8132.295999999999,
            "bin_end": 12201.634,
            "count": 0
           },
           {
            "bin_start": 12201.634,
            "bin_end": 16270.972,
            "count": 0
           },
           {
            "bin_start": 16270.972,
            "bin_end": 20340.309999999998,
            "count": 0
           },
           {
            "bin_start": 20340.309999999998,
            "bin_end": 24409.647999999997,
            "count": 0
           },
           {
            "bin_start": 24409.647999999997,
            "bin_end": 28478.985999999997,
            "count": 0
           },
           {
            "bin_start": 28478.985999999997,
            "bin_end": 32548.323999999997,
            "count": 0
           },
           {
            "bin_start": 32548.323999999997,
            "bin_end": 36617.662000000004,
            "count": 0
           },
           {
            "bin_start": 36617.662000000004,
            "bin_end": 40687,
            "count": 1
           }
          ]
         }
        },
        {
         "name": "required_car_parking_spaces",
         "dtype": "float64",
         "stats": {
          "unique_count": 5,
          "nan_count": 0,
          "min": "0.0",
          "max": "40687.0",
          "histogram": [
           {
            "bin_start": 0,
            "bin_end": 4068.7,
            "count": 7
           },
           {
            "bin_start": 4068.7,
            "bin_end": 8137.4,
            "count": 0
           },
           {
            "bin_start": 8137.4,
            "bin_end": 12206.099999999999,
            "count": 0
           },
           {
            "bin_start": 12206.099999999999,
            "bin_end": 16274.8,
            "count": 0
           },
           {
            "bin_start": 16274.8,
            "bin_end": 20343.5,
            "count": 0
           },
           {
            "bin_start": 20343.5,
            "bin_end": 24412.199999999997,
            "count": 0
           },
           {
            "bin_start": 24412.199999999997,
            "bin_end": 28480.899999999998,
            "count": 0
           },
           {
            "bin_start": 28480.899999999998,
            "bin_end": 32549.6,
            "count": 0
           },
           {
            "bin_start": 32549.6,
            "bin_end": 36618.299999999996,
            "count": 0
           },
           {
            "bin_start": 36618.299999999996,
            "bin_end": 40687,
            "count": 1
           }
          ]
         }
        },
        {
         "name": "total_of_special_requests",
         "dtype": "float64",
         "stats": {
          "unique_count": 6,
          "nan_count": 0,
          "min": "0.0",
          "max": "40687.0",
          "histogram": [
           {
            "bin_start": 0,
            "bin_end": 4068.7,
            "count": 7
           },
           {
            "bin_start": 4068.7,
            "bin_end": 8137.4,
            "count": 0
           },
           {
            "bin_start": 8137.4,
            "bin_end": 12206.099999999999,
            "count": 0
           },
           {
            "bin_start": 12206.099999999999,
            "bin_end": 16274.8,
            "count": 0
           },
           {
            "bin_start": 16274.8,
            "bin_end": 20343.5,
            "count": 0
           },
           {
            "bin_start": 20343.5,
            "bin_end": 24412.199999999997,
            "count": 0
           },
           {
            "bin_start": 24412.199999999997,
            "bin_end": 28480.899999999998,
            "count": 0
           },
           {
            "bin_start": 28480.899999999998,
            "bin_end": 32549.6,
            "count": 0
           },
           {
            "bin_start": 32549.6,
            "bin_end": 36618.299999999996,
            "count": 0
           },
           {
            "bin_start": 36618.299999999996,
            "bin_end": 40687,
            "count": 1
           }
          ]
         }
        },
        {
         "name": "_deepnote_index_column",
         "dtype": "object"
        }
       ],
       "rows": [
        {
         "is_canceled": 40687,
         "lead_time": 40687,
         "arrival_date_year": 40687,
         "arrival_date_week_number": 40687,
         "arrival_date_day_of_month": 40687,
         "stays_in_weekend_nights": 40687,
         "stays_in_week_nights": 40687,
         "adults": 40687,
         "children": 40687,
         "babies": 40687,
         "is_repeated_guest": 40687,
         "previous_cancellations": 40687,
         "previous_bookings_not_canceled": 40687,
         "booking_changes": 40687,
         "agent": 35023,
         "company": 2310,
         "days_in_waiting_list": 40687,
         "adr": 40687,
         "required_car_parking_spaces": 40687,
         "total_of_special_requests": 40687,
         "_deepnote_index_column": "count"
        },
        {
         "is_canceled": 0.38697864182662767,
         "lead_time": 109.2592228475926,
         "arrival_date_year": 2020,
         "arrival_date_week_number": 18.630373337921203,
         "arrival_date_day_of_month": 15.688180499913978,
         "stays_in_weekend_nights": 0.9733084277533365,
         "stays_in_week_nights": 2.601543490549807,
         "adults": 1.8779954285152505,
         "children": 0.12628112173421485,
         "babies": 0.006463981124192003,
         "is_repeated_guest": 0.034187824120726525,
         "previous_cancellations": 0.011871113623516111,
         "previous_bookings_not_canceled": 0.17106200997861726,
         "booking_changes": 0.2394376582200703,
         "agent": 96.85540930245838,
         "company": 239.6969696969697,
         "days_in_waiting_list": 0.2351856858456018,
         "adr": 114.6379499594465,
         "required_car_parking_spaces": 0.054980706368127415,
         "total_of_special_requests": 0.6765060092904367,
         "_deepnote_index_column": "mean"
        },
        {
         "is_canceled": 0.4870646807716277,
         "lead_time": 107.94095306275473,
         "arrival_date_year": 0,
         "arrival_date_week_number": 9.422474501135511,
         "arrival_date_day_of_month": 8.746705963485905,
         "stays_in_weekend_nights": 1.0143372374497057,
         "stays_in_week_nights": 1.9732905538739591,
         "adults": 0.4961724735518254,
         "children": 0.43613870373616503,
         "babies": 0.08165868423453945,
         "is_repeated_guest": 0.18171358881446,
         "previous_cancellations": 0.18452029049159563,
         "previous_bookings_not_canceled": 1.7653297529276277,
         "booking_changes": 0.6834285832933623,
         "agent": 120.6646461115198,
         "company": 148.39802838449478,
         "days_in_waiting_list": 4.458833941986147,
         "adr": 52.256303724232055,
         "required_car_parking_spaces": 0.23589378372975897,
         "total_of_special_requests": 0.8465307826537989,
         "_deepnote_index_column": "std"
        },
        {
         "is_canceled": 0,
         "lead_time": 0,
         "arrival_date_year": 2020,
         "arrival_date_week_number": 1,
         "arrival_date_day_of_month": 1,
         "stays_in_weekend_nights": 0,
         "stays_in_week_nights": 0,
         "adults": 0,
         "children": 0,
         "babies": 0,
         "is_repeated_guest": 0,
         "previous_cancellations": 0,
         "previous_bookings_not_canceled": 0,
         "booking_changes": 0,
         "agent": 1,
         "company": 9,
         "days_in_waiting_list": 0,
         "adr": -6.38,
         "required_car_parking_spaces": 0,
         "total_of_special_requests": 0,
         "_deepnote_index_column": "min"
        },
        {
         "is_canceled": 0,
         "lead_time": 23,
         "arrival_date_year": 2020,
         "arrival_date_week_number": 11,
         "arrival_date_day_of_month": 8,
         "stays_in_weekend_nights": 0,
         "stays_in_week_nights": 1,
         "adults": 2,
         "children": 0,
         "babies": 0,
         "is_repeated_guest": 0,
         "previous_cancellations": 0,
         "previous_bookings_not_canceled": 0,
         "booking_changes": 0,
         "agent": 9,
         "company": 127,
         "days_in_waiting_list": 0,
         "adr": 80,
         "required_car_parking_spaces": 0,
         "total_of_special_requests": 0,
         "_deepnote_index_column": "25%"
        },
        {
         "is_canceled": 0,
         "lead_time": 80,
         "arrival_date_year": 2020,
         "arrival_date_week_number": 19,
         "arrival_date_day_of_month": 16,
         "stays_in_weekend_nights": 1,
         "stays_in_week_nights": 2,
         "adults": 2,
         "children": 0,
         "babies": 0,
         "is_repeated_guest": 0,
         "previous_cancellations": 0,
         "previous_bookings_not_canceled": 0,
         "booking_changes": 0,
         "agent": 14,
         "company": 223,
         "days_in_waiting_list": 0,
         "adr": 107.1,
         "required_car_parking_spaces": 0,
         "total_of_special_requests": 0,
         "_deepnote_index_column": "50%"
        },
        {
         "is_canceled": 1,
         "lead_time": 164.5,
         "arrival_date_year": 2020,
         "arrival_date_week_number": 26,
         "arrival_date_day_of_month": 23,
         "stays_in_weekend_nights": 2,
         "stays_in_week_nights": 3,
         "adults": 2,
         "children": 0,
         "babies": 0,
         "is_repeated_guest": 0,
         "previous_cancellations": 0,
         "previous_bookings_not_canceled": 0,
         "booking_changes": 0,
         "agent": 240,
         "company": 366,
         "days_in_waiting_list": 0,
         "adr": 140,
         "required_car_parking_spaces": 0,
         "total_of_special_requests": 1,
         "_deepnote_index_column": "75%"
        },
        {
         "is_canceled": 1,
         "lead_time": 629,
         "arrival_date_year": 2020,
         "arrival_date_week_number": 35,
         "arrival_date_day_of_month": 31,
         "stays_in_weekend_nights": 16,
         "stays_in_week_nights": 40,
         "adults": 4,
         "children": 3,
         "babies": 2,
         "is_repeated_guest": 1,
         "previous_cancellations": 6,
         "previous_bookings_not_canceled": 72,
         "booking_changes": 18,
         "agent": 535,
         "company": 543,
         "days_in_waiting_list": 223,
         "adr": 510,
         "required_car_parking_spaces": 8,
         "total_of_special_requests": 5,
         "_deepnote_index_column": "max"
        }
       ]
      },
      "text/plain": "        is_canceled     lead_time  arrival_date_year  \\\ncount  40687.000000  40687.000000            40687.0   \nmean       0.386979    109.259223             2020.0   \nstd        0.487065    107.940953                0.0   \nmin        0.000000      0.000000             2020.0   \n25%        0.000000     23.000000             2020.0   \n50%        0.000000     80.000000             2020.0   \n75%        1.000000    164.500000             2020.0   \nmax        1.000000    629.000000             2020.0   \n\n       arrival_date_week_number  arrival_date_day_of_month  \\\ncount              40687.000000               40687.000000   \nmean                  18.630373                  15.688180   \nstd                    9.422475                   8.746706   \nmin                    1.000000                   1.000000   \n25%                   11.000000                   8.000000   \n50%                   19.000000                  16.000000   \n75%                   26.000000                  23.000000   \nmax                   35.000000                  31.000000   \n\n       stays_in_weekend_nights  stays_in_week_nights        adults  \\\ncount             40687.000000          40687.000000  40687.000000   \nmean                  0.973308              2.601543      1.877995   \nstd                   1.014337              1.973291      0.496172   \nmin                   0.000000              0.000000      0.000000   \n25%                   0.000000              1.000000      2.000000   \n50%                   1.000000              2.000000      2.000000   \n75%                   2.000000              3.000000      2.000000   \nmax                  16.000000             40.000000      4.000000   \n\n           children        babies  is_repeated_guest  previous_cancellations  \\\ncount  40687.000000  40687.000000       40687.000000            40687.000000   \nmean       0.126281      0.006464           0.034188                0.011871   \nstd        0.436139      0.081659           0.181714                0.184520   \nmin        0.000000      0.000000           0.000000                0.000000   \n25%        0.000000      0.000000           0.000000                0.000000   \n50%        0.000000      0.000000           0.000000                0.000000   \n75%        0.000000      0.000000           0.000000                0.000000   \nmax        3.000000      2.000000           1.000000                6.000000   \n\n       previous_bookings_not_canceled  booking_changes         agent  \\\ncount                    40687.000000     40687.000000  35023.000000   \nmean                         0.171062         0.239438     96.855409   \nstd                          1.765330         0.683429    120.664646   \nmin                          0.000000         0.000000      1.000000   \n25%                          0.000000         0.000000      9.000000   \n50%                          0.000000         0.000000     14.000000   \n75%                          0.000000         0.000000    240.000000   \nmax                         72.000000        18.000000    535.000000   \n\n           company  days_in_waiting_list           adr  \\\ncount  2310.000000          40687.000000  40687.000000   \nmean    239.696970              0.235186    114.637950   \nstd     148.398028              4.458834     52.256304   \nmin       9.000000              0.000000     -6.380000   \n25%     127.000000              0.000000     80.000000   \n50%     223.000000              0.000000    107.100000   \n75%     366.000000              0.000000    140.000000   \nmax     543.000000            223.000000    510.000000   \n\n       required_car_parking_spaces  total_of_special_requests  \ncount                 40687.000000               40687.000000  \nmean                      0.054981                   0.676506  \nstd                       0.235894                   0.846531  \nmin                       0.000000                   0.000000  \n25%                       0.000000                   0.000000  \n50%                       0.000000                   0.000000  \n75%                       0.000000                   1.000000  \nmax                       8.000000                   5.000000  ",
      "text/html": "<div>\n<style scoped>\n    .dataframe tbody tr th:only-of-type {\n        vertical-align: middle;\n    }\n\n    .dataframe tbody tr th {\n        vertical-align: top;\n    }\n\n    .dataframe thead th {\n        text-align: right;\n    }\n</style>\n<table border=\"1\" class=\"dataframe\">\n  <thead>\n    <tr style=\"text-align: right;\">\n      <th></th>\n      <th>is_canceled</th>\n      <th>lead_time</th>\n      <th>arrival_date_year</th>\n      <th>arrival_date_week_number</th>\n      <th>arrival_date_day_of_month</th>\n      <th>stays_in_weekend_nights</th>\n      <th>stays_in_week_nights</th>\n      <th>adults</th>\n      <th>children</th>\n      <th>babies</th>\n      <th>is_repeated_guest</th>\n      <th>previous_cancellations</th>\n      <th>previous_bookings_not_canceled</th>\n      <th>booking_changes</th>\n      <th>agent</th>\n      <th>company</th>\n      <th>days_in_waiting_list</th>\n      <th>adr</th>\n      <th>required_car_parking_spaces</th>\n      <th>total_of_special_requests</th>\n    </tr>\n  </thead>\n  <tbody>\n    <tr>\n      <th>count</th>\n      <td>40687.000000</td>\n      <td>40687.000000</td>\n      <td>40687.0</td>\n      <td>40687.000000</td>\n      <td>40687.000000</td>\n      <td>40687.000000</td>\n      <td>40687.000000</td>\n      <td>40687.000000</td>\n      <td>40687.000000</td>\n      <td>40687.000000</td>\n      <td>40687.000000</td>\n      <td>40687.000000</td>\n      <td>40687.000000</td>\n      <td>40687.000000</td>\n      <td>35023.000000</td>\n      <td>2310.000000</td>\n      <td>40687.000000</td>\n      <td>40687.000000</td>\n      <td>40687.000000</td>\n      <td>40687.000000</td>\n    </tr>\n    <tr>\n      <th>mean</th>\n      <td>0.386979</td>\n      <td>109.259223</td>\n      <td>2020.0</td>\n      <td>18.630373</td>\n      <td>15.688180</td>\n      <td>0.973308</td>\n      <td>2.601543</td>\n      <td>1.877995</td>\n      <td>0.126281</td>\n      <td>0.006464</td>\n      <td>0.034188</td>\n      <td>0.011871</td>\n      <td>0.171062</td>\n      <td>0.239438</td>\n      <td>96.855409</td>\n      <td>239.696970</td>\n      <td>0.235186</td>\n      <td>114.637950</td>\n      <td>0.054981</td>\n      <td>0.676506</td>\n    </tr>\n    <tr>\n      <th>std</th>\n      <td>0.487065</td>\n      <td>107.940953</td>\n      <td>0.0</td>\n      <td>9.422475</td>\n      <td>8.746706</td>\n      <td>1.014337</td>\n      <td>1.973291</td>\n      <td>0.496172</td>\n      <td>0.436139</td>\n      <td>0.081659</td>\n      <td>0.181714</td>\n      <td>0.184520</td>\n      <td>1.765330</td>\n      <td>0.683429</td>\n      <td>120.664646</td>\n      <td>148.398028</td>\n      <td>4.458834</td>\n      <td>52.256304</td>\n      <td>0.235894</td>\n      <td>0.846531</td>\n    </tr>\n    <tr>\n      <th>min</th>\n      <td>0.000000</td>\n      <td>0.000000</td>\n      <td>2020.0</td>\n      <td>1.000000</td>\n      <td>1.000000</td>\n      <td>0.000000</td>\n      <td>0.000000</td>\n      <td>0.000000</td>\n      <td>0.000000</td>\n      <td>0.000000</td>\n      <td>0.000000</td>\n      <td>0.000000</td>\n      <td>0.000000</td>\n      <td>0.000000</td>\n      <td>1.000000</td>\n      <td>9.000000</td>\n      <td>0.000000</td>\n      <td>-6.380000</td>\n      <td>0.000000</td>\n      <td>0.000000</td>\n    </tr>\n    <tr>\n      <th>25%</th>\n      <td>0.000000</td>\n      <td>23.000000</td>\n      <td>2020.0</td>\n      <td>11.000000</td>\n      <td>8.000000</td>\n      <td>0.000000</td>\n      <td>1.000000</td>\n      <td>2.000000</td>\n      <td>0.000000</td>\n      <td>0.000000</td>\n      <td>0.000000</td>\n      <td>0.000000</td>\n      <td>0.000000</td>\n      <td>0.000000</td>\n      <td>9.000000</td>\n      <td>127.000000</td>\n      <td>0.000000</td>\n      <td>80.000000</td>\n      <td>0.000000</td>\n      <td>0.000000</td>\n    </tr>\n    <tr>\n      <th>50%</th>\n      <td>0.000000</td>\n      <td>80.000000</td>\n      <td>2020.0</td>\n      <td>19.000000</td>\n      <td>16.000000</td>\n      <td>1.000000</td>\n      <td>2.000000</td>\n      <td>2.000000</td>\n      <td>0.000000</td>\n      <td>0.000000</td>\n      <td>0.000000</td>\n      <td>0.000000</td>\n      <td>0.000000</td>\n      <td>0.000000</td>\n      <td>14.000000</td>\n      <td>223.000000</td>\n      <td>0.000000</td>\n      <td>107.100000</td>\n      <td>0.000000</td>\n      <td>0.000000</td>\n    </tr>\n    <tr>\n      <th>75%</th>\n      <td>1.000000</td>\n      <td>164.500000</td>\n      <td>2020.0</td>\n      <td>26.000000</td>\n      <td>23.000000</td>\n      <td>2.000000</td>\n      <td>3.000000</td>\n      <td>2.000000</td>\n      <td>0.000000</td>\n      <td>0.000000</td>\n      <td>0.000000</td>\n      <td>0.000000</td>\n      <td>0.000000</td>\n      <td>0.000000</td>\n      <td>240.000000</td>\n      <td>366.000000</td>\n      <td>0.000000</td>\n      <td>140.000000</td>\n      <td>0.000000</td>\n      <td>1.000000</td>\n    </tr>\n    <tr>\n      <th>max</th>\n      <td>1.000000</td>\n      <td>629.000000</td>\n      <td>2020.0</td>\n      <td>35.000000</td>\n      <td>31.000000</td>\n      <td>16.000000</td>\n      <td>40.000000</td>\n      <td>4.000000</td>\n      <td>3.000000</td>\n      <td>2.000000</td>\n      <td>1.000000</td>\n      <td>6.000000</td>\n      <td>72.000000</td>\n      <td>18.000000</td>\n      <td>535.000000</td>\n      <td>543.000000</td>\n      <td>223.000000</td>\n      <td>510.000000</td>\n      <td>8.000000</td>\n      <td>5.000000</td>\n    </tr>\n  </tbody>\n</table>\n</div>"
     },
     "metadata": {}
    }
   ]
  },
  {
   "cell_type": "code",
   "metadata": {
    "cell_id": "e13fa93be7cb4680b075951e7f6c0fc6",
    "tags": [],
    "deepnote_to_be_reexecuted": false,
    "source_hash": "d45ddf67",
    "execution_start": 1660314355361,
    "execution_millis": 720,
    "deepnote_cell_type": "code",
    "deepnote_cell_height": 696
   },
   "source": "df_2020.info()",
   "execution_count": null,
   "outputs": [
    {
     "name": "stdout",
     "text": "<class 'pandas.core.frame.DataFrame'>\nRangeIndex: 40687 entries, 0 to 40686\nData columns (total 32 columns):\n #   Column                          Non-Null Count  Dtype  \n---  ------                          --------------  -----  \n 0   hotel                           40687 non-null  object \n 1   is_canceled                     40687 non-null  int64  \n 2   lead_time                       40687 non-null  int64  \n 3   arrival_date_year               40687 non-null  int64  \n 4   arrival_date_month              40687 non-null  object \n 5   arrival_date_week_number        40687 non-null  int64  \n 6   arrival_date_day_of_month       40687 non-null  int64  \n 7   stays_in_weekend_nights         40687 non-null  int64  \n 8   stays_in_week_nights            40687 non-null  int64  \n 9   adults                          40687 non-null  int64  \n 10  children                        40687 non-null  int64  \n 11  babies                          40687 non-null  int64  \n 12  meal                            40687 non-null  object \n 13  country                         40604 non-null  object \n 14  market_segment                  40687 non-null  object \n 15  distribution_channel            40687 non-null  object \n 16  is_repeated_guest               40687 non-null  int64  \n 17  previous_cancellations          40687 non-null  int64  \n 18  previous_bookings_not_canceled  40687 non-null  int64  \n 19  reserved_room_type              40687 non-null  object \n 20  assigned_room_type              40687 non-null  object \n 21  booking_changes                 40687 non-null  int64  \n 22  deposit_type                    40687 non-null  object \n 23  agent                           35023 non-null  float64\n 24  company                         2310 non-null   float64\n 25  days_in_waiting_list            40687 non-null  int64  \n 26  customer_type                   40687 non-null  object \n 27  adr                             40687 non-null  float64\n 28  required_car_parking_spaces     40687 non-null  int64  \n 29  total_of_special_requests       40687 non-null  int64  \n 30  reservation_status              40687 non-null  object \n 31  reservation_status_date         40687 non-null  object \ndtypes: float64(3), int64(17), object(12)\nmemory usage: 9.9+ MB\n",
     "output_type": "stream"
    }
   ]
  },
  {
   "cell_type": "code",
   "metadata": {
    "cell_id": "60dddacf357e493cbbb3d1c00edd9d3b",
    "tags": [],
    "deepnote_to_be_reexecuted": false,
    "source_hash": "db385539",
    "execution_start": 1660314355407,
    "execution_millis": 677,
    "deepnote_cell_type": "code",
    "deepnote_cell_height": 324.375,
    "deepnote_output_heights": [
     232.390625
    ]
   },
   "source": "df_2020.columns",
   "execution_count": null,
   "outputs": [
    {
     "output_type": "execute_result",
     "execution_count": 12,
     "data": {
      "text/plain": "Index(['hotel', 'is_canceled', 'lead_time', 'arrival_date_year',\n       'arrival_date_month', 'arrival_date_week_number',\n       'arrival_date_day_of_month', 'stays_in_weekend_nights',\n       'stays_in_week_nights', 'adults', 'children', 'babies', 'meal',\n       'country', 'market_segment', 'distribution_channel',\n       'is_repeated_guest', 'previous_cancellations',\n       'previous_bookings_not_canceled', 'reserved_room_type',\n       'assigned_room_type', 'booking_changes', 'deposit_type', 'agent',\n       'company', 'days_in_waiting_list', 'customer_type', 'adr',\n       'required_car_parking_spaces', 'total_of_special_requests',\n       'reservation_status', 'reservation_status_date'],\n      dtype='object')"
     },
     "metadata": {}
    }
   ]
  },
  {
   "cell_type": "markdown",
   "source": "As far as can be observed from the collective datasets, the years 2018 and 2020 have only about 6 months of data, and as such certain insights that look across a full year cannot be reliably obtained",
   "metadata": {
    "cell_id": "94d019a96c0840d2bc65ab89f0ae265b",
    "tags": [],
    "deepnote_cell_type": "markdown",
    "deepnote_cell_height": 97.1875
   }
  },
  {
   "cell_type": "markdown",
   "source": "##### General Unified Data Examination",
   "metadata": {
    "cell_id": "d9f090696be449c7b880b87fa60835aa",
    "tags": [],
    "deepnote_cell_type": "markdown",
    "deepnote_cell_height": 54
   }
  },
  {
   "cell_type": "code",
   "metadata": {
    "cell_id": "a6a23746b53a4ddfa88e2d710c605504",
    "tags": [],
    "deepnote_to_be_reexecuted": false,
    "source_hash": "7fc6dd93",
    "execution_start": 1660314355408,
    "execution_millis": 687,
    "deepnote_cell_type": "code",
    "deepnote_cell_height": 483.796875
   },
   "source": "# Concatenate the separate yearly dataframes into one comprehensive dataframe and drop original index\ndf = pd.concat([df_2018, df_2019, df_2020], axis=0)\ndf = df.reset_index()\ndf.drop('index', inplace=True, axis=1)\ndf.head()",
   "execution_count": null,
   "outputs": [
    {
     "output_type": "execute_result",
     "execution_count": 13,
     "data": {
      "application/vnd.deepnote.dataframe.v3+json": {
       "column_count": 32,
       "row_count": 5,
       "columns": [
        {
         "name": "hotel",
         "dtype": "object",
         "stats": {
          "unique_count": 1,
          "nan_count": 0,
          "categories": [
           {
            "name": "Resort Hotel",
            "count": 5
           }
          ]
         }
        },
        {
         "name": "is_canceled",
         "dtype": "int64",
         "stats": {
          "unique_count": 1,
          "nan_count": 0,
          "min": "1",
          "max": "1",
          "histogram": [
           {
            "bin_start": 0.5,
            "bin_end": 0.6,
            "count": 0
           },
           {
            "bin_start": 0.6,
            "bin_end": 0.7,
            "count": 0
           },
           {
            "bin_start": 0.7,
            "bin_end": 0.8,
            "count": 0
           },
           {
            "bin_start": 0.8,
            "bin_end": 0.9,
            "count": 0
           },
           {
            "bin_start": 0.9,
            "bin_end": 1,
            "count": 0
           },
           {
            "bin_start": 1,
            "bin_end": 1.1,
            "count": 5
           },
           {
            "bin_start": 1.1,
            "bin_end": 1.2000000000000002,
            "count": 0
           },
           {
            "bin_start": 1.2000000000000002,
            "bin_end": 1.3,
            "count": 0
           },
           {
            "bin_start": 1.3,
            "bin_end": 1.4,
            "count": 0
           },
           {
            "bin_start": 1.4,
            "bin_end": 1.5,
            "count": 0
           }
          ]
         }
        },
        {
         "name": "lead_time",
         "dtype": "int64",
         "stats": {
          "unique_count": 5,
          "nan_count": 0,
          "min": "23",
          "max": "96",
          "histogram": [
           {
            "bin_start": 23,
            "bin_end": 30.3,
            "count": 1
           },
           {
            "bin_start": 30.3,
            "bin_end": 37.6,
            "count": 0
           },
           {
            "bin_start": 37.6,
            "bin_end": 44.9,
            "count": 0
           },
           {
            "bin_start": 44.9,
            "bin_end": 52.2,
            "count": 0
           },
           {
            "bin_start": 52.2,
            "bin_end": 59.5,
            "count": 0
           },
           {
            "bin_start": 59.5,
            "bin_end": 66.8,
            "count": 1
           },
           {
            "bin_start": 66.8,
            "bin_end": 74.1,
            "count": 0
           },
           {
            "bin_start": 74.1,
            "bin_end": 81.4,
            "count": 1
           },
           {
            "bin_start": 81.4,
            "bin_end": 88.7,
            "count": 1
           },
           {
            "bin_start": 88.7,
            "bin_end": 96,
            "count": 1
           }
          ]
         }
        },
        {
         "name": "arrival_date_year",
         "dtype": "int64",
         "stats": {
          "unique_count": 1,
          "nan_count": 0,
          "min": "2018",
          "max": "2018",
          "histogram": [
           {
            "bin_start": 2017.5,
            "bin_end": 2017.6,
            "count": 0
           },
           {
            "bin_start": 2017.6,
            "bin_end": 2017.7,
            "count": 0
           },
           {
            "bin_start": 2017.7,
            "bin_end": 2017.8,
            "count": 0
           },
           {
            "bin_start": 2017.8,
            "bin_end": 2017.9,
            "count": 0
           },
           {
            "bin_start": 2017.9,
            "bin_end": 2018,
            "count": 0
           },
           {
            "bin_start": 2018,
            "bin_end": 2018.1,
            "count": 5
           },
           {
            "bin_start": 2018.1,
            "bin_end": 2018.2,
            "count": 0
           },
           {
            "bin_start": 2018.2,
            "bin_end": 2018.3,
            "count": 0
           },
           {
            "bin_start": 2018.3,
            "bin_end": 2018.4,
            "count": 0
           },
           {
            "bin_start": 2018.4,
            "bin_end": 2018.5,
            "count": 0
           }
          ]
         }
        },
        {
         "name": "arrival_date_month",
         "dtype": "object",
         "stats": {
          "unique_count": 1,
          "nan_count": 0,
          "categories": [
           {
            "name": "July",
            "count": 5
           }
          ]
         }
        },
        {
         "name": "arrival_date_week_number",
         "dtype": "int64",
         "stats": {
          "unique_count": 1,
          "nan_count": 0,
          "min": "27",
          "max": "27",
          "histogram": [
           {
            "bin_start": 26.5,
            "bin_end": 26.6,
            "count": 0
           },
           {
            "bin_start": 26.6,
            "bin_end": 26.7,
            "count": 0
           },
           {
            "bin_start": 26.7,
            "bin_end": 26.8,
            "count": 0
           },
           {
            "bin_start": 26.8,
            "bin_end": 26.9,
            "count": 0
           },
           {
            "bin_start": 26.9,
            "bin_end": 27,
            "count": 0
           },
           {
            "bin_start": 27,
            "bin_end": 27.1,
            "count": 5
           },
           {
            "bin_start": 27.1,
            "bin_end": 27.2,
            "count": 0
           },
           {
            "bin_start": 27.2,
            "bin_end": 27.3,
            "count": 0
           },
           {
            "bin_start": 27.3,
            "bin_end": 27.4,
            "count": 0
           },
           {
            "bin_start": 27.4,
            "bin_end": 27.5,
            "count": 0
           }
          ]
         }
        },
        {
         "name": "arrival_date_day_of_month",
         "dtype": "int64",
         "stats": {
          "unique_count": 1,
          "nan_count": 0,
          "min": "1",
          "max": "1",
          "histogram": [
           {
            "bin_start": 0.5,
            "bin_end": 0.6,
            "count": 0
           },
           {
            "bin_start": 0.6,
            "bin_end": 0.7,
            "count": 0
           },
           {
            "bin_start": 0.7,
            "bin_end": 0.8,
            "count": 0
           },
           {
            "bin_start": 0.8,
            "bin_end": 0.9,
            "count": 0
           },
           {
            "bin_start": 0.9,
            "bin_end": 1,
            "count": 0
           },
           {
            "bin_start": 1,
            "bin_end": 1.1,
            "count": 5
           },
           {
            "bin_start": 1.1,
            "bin_end": 1.2000000000000002,
            "count": 0
           },
           {
            "bin_start": 1.2000000000000002,
            "bin_end": 1.3,
            "count": 0
           },
           {
            "bin_start": 1.3,
            "bin_end": 1.4,
            "count": 0
           },
           {
            "bin_start": 1.4,
            "bin_end": 1.5,
            "count": 0
           }
          ]
         }
        },
        {
         "name": "stays_in_weekend_nights",
         "dtype": "int64",
         "stats": {
          "unique_count": 2,
          "nan_count": 0,
          "min": "0",
          "max": "2",
          "histogram": [
           {
            "bin_start": 0,
            "bin_end": 0.2,
            "count": 3
           },
           {
            "bin_start": 0.2,
            "bin_end": 0.4,
            "count": 0
           },
           {
            "bin_start": 0.4,
            "bin_end": 0.6000000000000001,
            "count": 0
           },
           {
            "bin_start": 0.6000000000000001,
            "bin_end": 0.8,
            "count": 0
           },
           {
            "bin_start": 0.8,
            "bin_end": 1,
            "count": 0
           },
           {
            "bin_start": 1,
            "bin_end": 1.2000000000000002,
            "count": 0
           },
           {
            "bin_start": 1.2000000000000002,
            "bin_end": 1.4000000000000001,
            "count": 0
           },
           {
            "bin_start": 1.4000000000000001,
            "bin_end": 1.6,
            "count": 0
           },
           {
            "bin_start": 1.6,
            "bin_end": 1.8,
            "count": 0
           },
           {
            "bin_start": 1.8,
            "bin_end": 2,
            "count": 2
           }
          ]
         }
        },
        {
         "name": "stays_in_week_nights",
         "dtype": "int64",
         "stats": {
          "unique_count": 4,
          "nan_count": 0,
          "min": "3",
          "max": "8",
          "histogram": [
           {
            "bin_start": 3,
            "bin_end": 3.5,
            "count": 2
           },
           {
            "bin_start": 3.5,
            "bin_end": 4,
            "count": 0
           },
           {
            "bin_start": 4,
            "bin_end": 4.5,
            "count": 1
           },
           {
            "bin_start": 4.5,
            "bin_end": 5,
            "count": 0
           },
           {
            "bin_start": 5,
            "bin_end": 5.5,
            "count": 1
           },
           {
            "bin_start": 5.5,
            "bin_end": 6,
            "count": 0
           },
           {
            "bin_start": 6,
            "bin_end": 6.5,
            "count": 0
           },
           {
            "bin_start": 6.5,
            "bin_end": 7,
            "count": 0
           },
           {
            "bin_start": 7,
            "bin_end": 7.5,
            "count": 0
           },
           {
            "bin_start": 7.5,
            "bin_end": 8,
            "count": 1
           }
          ]
         }
        },
        {
         "name": "adults",
         "dtype": "int64",
         "stats": {
          "unique_count": 1,
          "nan_count": 0,
          "min": "2",
          "max": "2",
          "histogram": [
           {
            "bin_start": 1.5,
            "bin_end": 1.6,
            "count": 0
           },
           {
            "bin_start": 1.6,
            "bin_end": 1.7,
            "count": 0
           },
           {
            "bin_start": 1.7,
            "bin_end": 1.8,
            "count": 0
           },
           {
            "bin_start": 1.8,
            "bin_end": 1.9,
            "count": 0
           },
           {
            "bin_start": 1.9,
            "bin_end": 2,
            "count": 0
           },
           {
            "bin_start": 2,
            "bin_end": 2.1,
            "count": 5
           },
           {
            "bin_start": 2.1,
            "bin_end": 2.2,
            "count": 0
           },
           {
            "bin_start": 2.2,
            "bin_end": 2.3,
            "count": 0
           },
           {
            "bin_start": 2.3,
            "bin_end": 2.4,
            "count": 0
           },
           {
            "bin_start": 2.4,
            "bin_end": 2.5,
            "count": 0
           }
          ]
         }
        },
        {
         "name": "children",
         "dtype": "float64",
         "stats": {
          "unique_count": 1,
          "nan_count": 0,
          "min": "0.0",
          "max": "0.0",
          "histogram": [
           {
            "bin_start": -0.5,
            "bin_end": -0.4,
            "count": 0
           },
           {
            "bin_start": -0.4,
            "bin_end": -0.3,
            "count": 0
           },
           {
            "bin_start": -0.3,
            "bin_end": -0.19999999999999996,
            "count": 0
           },
           {
            "bin_start": -0.19999999999999996,
            "bin_end": -0.09999999999999998,
            "count": 0
           },
           {
            "bin_start": -0.09999999999999998,
            "bin_end": 0,
            "count": 0
           },
           {
            "bin_start": 0,
            "bin_end": 0.10000000000000009,
            "count": 5
           },
           {
            "bin_start": 0.10000000000000009,
            "bin_end": 0.20000000000000007,
            "count": 0
           },
           {
            "bin_start": 0.20000000000000007,
            "bin_end": 0.30000000000000004,
            "count": 0
           },
           {
            "bin_start": 0.30000000000000004,
            "bin_end": 0.4,
            "count": 0
           },
           {
            "bin_start": 0.4,
            "bin_end": 0.5,
            "count": 0
           }
          ]
         }
        },
        {
         "name": "babies",
         "dtype": "int64",
         "stats": {
          "unique_count": 1,
          "nan_count": 0,
          "min": "0",
          "max": "0",
          "histogram": [
           {
            "bin_start": -0.5,
            "bin_end": -0.4,
            "count": 0
           },
           {
            "bin_start": -0.4,
            "bin_end": -0.3,
            "count": 0
           },
           {
            "bin_start": -0.3,
            "bin_end": -0.19999999999999996,
            "count": 0
           },
           {
            "bin_start": -0.19999999999999996,
            "bin_end": -0.09999999999999998,
            "count": 0
           },
           {
            "bin_start": -0.09999999999999998,
            "bin_end": 0,
            "count": 0
           },
           {
            "bin_start": 0,
            "bin_end": 0.10000000000000009,
            "count": 5
           },
           {
            "bin_start": 0.10000000000000009,
            "bin_end": 0.20000000000000007,
            "count": 0
           },
           {
            "bin_start": 0.20000000000000007,
            "bin_end": 0.30000000000000004,
            "count": 0
           },
           {
            "bin_start": 0.30000000000000004,
            "bin_end": 0.4,
            "count": 0
           },
           {
            "bin_start": 0.4,
            "bin_end": 0.5,
            "count": 0
           }
          ]
         }
        },
        {
         "name": "meal",
         "dtype": "object",
         "stats": {
          "unique_count": 2,
          "nan_count": 0,
          "categories": [
           {
            "name": "BB",
            "count": 4
           },
           {
            "name": "HB",
            "count": 1
           }
          ]
         }
        },
        {
         "name": "country",
         "dtype": "object",
         "stats": {
          "unique_count": 1,
          "nan_count": 0,
          "categories": [
           {
            "name": "PRT",
            "count": 5
           }
          ]
         }
        },
        {
         "name": "market_segment",
         "dtype": "object",
         "stats": {
          "unique_count": 3,
          "nan_count": 0,
          "categories": [
           {
            "name": "Online TA",
            "count": 3
           },
           {
            "name": "Offline TA/TO",
            "count": 1
           },
           {
            "name": "Direct",
            "count": 1
           }
          ]
         }
        },
        {
         "name": "distribution_channel",
         "dtype": "object",
         "stats": {
          "unique_count": 2,
          "nan_count": 0,
          "categories": [
           {
            "name": "TA/TO",
            "count": 4
           },
           {
            "name": "Direct",
            "count": 1
           }
          ]
         }
        },
        {
         "name": "is_repeated_guest",
         "dtype": "int64",
         "stats": {
          "unique_count": 1,
          "nan_count": 0,
          "min": "0",
          "max": "0",
          "histogram": [
           {
            "bin_start": -0.5,
            "bin_end": -0.4,
            "count": 0
           },
           {
            "bin_start": -0.4,
            "bin_end": -0.3,
            "count": 0
           },
           {
            "bin_start": -0.3,
            "bin_end": -0.19999999999999996,
            "count": 0
           },
           {
            "bin_start": -0.19999999999999996,
            "bin_end": -0.09999999999999998,
            "count": 0
           },
           {
            "bin_start": -0.09999999999999998,
            "bin_end": 0,
            "count": 0
           },
           {
            "bin_start": 0,
            "bin_end": 0.10000000000000009,
            "count": 5
           },
           {
            "bin_start": 0.10000000000000009,
            "bin_end": 0.20000000000000007,
            "count": 0
           },
           {
            "bin_start": 0.20000000000000007,
            "bin_end": 0.30000000000000004,
            "count": 0
           },
           {
            "bin_start": 0.30000000000000004,
            "bin_end": 0.4,
            "count": 0
           },
           {
            "bin_start": 0.4,
            "bin_end": 0.5,
            "count": 0
           }
          ]
         }
        },
        {
         "name": "previous_cancellations",
         "dtype": "int64",
         "stats": {
          "unique_count": 1,
          "nan_count": 0,
          "min": "0",
          "max": "0",
          "histogram": [
           {
            "bin_start": -0.5,
            "bin_end": -0.4,
            "count": 0
           },
           {
            "bin_start": -0.4,
            "bin_end": -0.3,
            "count": 0
           },
           {
            "bin_start": -0.3,
            "bin_end": -0.19999999999999996,
            "count": 0
           },
           {
            "bin_start": -0.19999999999999996,
            "bin_end": -0.09999999999999998,
            "count": 0
           },
           {
            "bin_start": -0.09999999999999998,
            "bin_end": 0,
            "count": 0
           },
           {
            "bin_start": 0,
            "bin_end": 0.10000000000000009,
            "count": 5
           },
           {
            "bin_start": 0.10000000000000009,
            "bin_end": 0.20000000000000007,
            "count": 0
           },
           {
            "bin_start": 0.20000000000000007,
            "bin_end": 0.30000000000000004,
            "count": 0
           },
           {
            "bin_start": 0.30000000000000004,
            "bin_end": 0.4,
            "count": 0
           },
           {
            "bin_start": 0.4,
            "bin_end": 0.5,
            "count": 0
           }
          ]
         }
        },
        {
         "name": "previous_bookings_not_canceled",
         "dtype": "int64",
         "stats": {
          "unique_count": 1,
          "nan_count": 0,
          "min": "0",
          "max": "0",
          "histogram": [
           {
            "bin_start": -0.5,
            "bin_end": -0.4,
            "count": 0
           },
           {
            "bin_start": -0.4,
            "bin_end": -0.3,
            "count": 0
           },
           {
            "bin_start": -0.3,
            "bin_end": -0.19999999999999996,
            "count": 0
           },
           {
            "bin_start": -0.19999999999999996,
            "bin_end": -0.09999999999999998,
            "count": 0
           },
           {
            "bin_start": -0.09999999999999998,
            "bin_end": 0,
            "count": 0
           },
           {
            "bin_start": 0,
            "bin_end": 0.10000000000000009,
            "count": 5
           },
           {
            "bin_start": 0.10000000000000009,
            "bin_end": 0.20000000000000007,
            "count": 0
           },
           {
            "bin_start": 0.20000000000000007,
            "bin_end": 0.30000000000000004,
            "count": 0
           },
           {
            "bin_start": 0.30000000000000004,
            "bin_end": 0.4,
            "count": 0
           },
           {
            "bin_start": 0.4,
            "bin_end": 0.5,
            "count": 0
           }
          ]
         }
        },
        {
         "name": "reserved_room_type",
         "dtype": "object",
         "stats": {
          "unique_count": 3,
          "nan_count": 0,
          "categories": [
           {
            "name": "E",
            "count": 3
           },
           {
            "name": "A",
            "count": 1
           },
           {
            "name": "D",
            "count": 1
           }
          ]
         }
        },
        {
         "name": "assigned_room_type",
         "dtype": "object",
         "stats": {
          "unique_count": 3,
          "nan_count": 0,
          "categories": [
           {
            "name": "E",
            "count": 3
           },
           {
            "name": "A",
            "count": 1
           },
           {
            "name": "D",
            "count": 1
           }
          ]
         }
        },
        {
         "name": "booking_changes",
         "dtype": "int64",
         "stats": {
          "unique_count": 1,
          "nan_count": 0,
          "min": "0",
          "max": "0",
          "histogram": [
           {
            "bin_start": -0.5,
            "bin_end": -0.4,
            "count": 0
           },
           {
            "bin_start": -0.4,
            "bin_end": -0.3,
            "count": 0
           },
           {
            "bin_start": -0.3,
            "bin_end": -0.19999999999999996,
            "count": 0
           },
           {
            "bin_start": -0.19999999999999996,
            "bin_end": -0.09999999999999998,
            "count": 0
           },
           {
            "bin_start": -0.09999999999999998,
            "bin_end": 0,
            "count": 0
           },
           {
            "bin_start": 0,
            "bin_end": 0.10000000000000009,
            "count": 5
           },
           {
            "bin_start": 0.10000000000000009,
            "bin_end": 0.20000000000000007,
            "count": 0
           },
           {
            "bin_start": 0.20000000000000007,
            "bin_end": 0.30000000000000004,
            "count": 0
           },
           {
            "bin_start": 0.30000000000000004,
            "bin_end": 0.4,
            "count": 0
           },
           {
            "bin_start": 0.4,
            "bin_end": 0.5,
            "count": 0
           }
          ]
         }
        },
        {
         "name": "deposit_type",
         "dtype": "object",
         "stats": {
          "unique_count": 1,
          "nan_count": 0,
          "categories": [
           {
            "name": "No Deposit",
            "count": 5
           }
          ]
         }
        },
        {
         "name": "agent",
         "dtype": "float64",
         "stats": {
          "unique_count": 2,
          "nan_count": 1,
          "min": "15.0",
          "max": "240.0",
          "histogram": [
           {
            "bin_start": 15,
            "bin_end": 37.5,
            "count": 1
           },
           {
            "bin_start": 37.5,
            "bin_end": 60,
            "count": 0
           },
           {
            "bin_start": 60,
            "bin_end": 82.5,
            "count": 0
           },
           {
            "bin_start": 82.5,
            "bin_end": 105,
            "count": 0
           },
           {
            "bin_start": 105,
            "bin_end": 127.5,
            "count": 0
           },
           {
            "bin_start": 127.5,
            "bin_end": 150,
            "count": 0
           },
           {
            "bin_start": 150,
            "bin_end": 172.5,
            "count": 0
           },
           {
            "bin_start": 172.5,
            "bin_end": 195,
            "count": 0
           },
           {
            "bin_start": 195,
            "bin_end": 217.5,
            "count": 0
           },
           {
            "bin_start": 217.5,
            "bin_end": 240,
            "count": 3
           }
          ]
         }
        },
        {
         "name": "company",
         "dtype": "float64",
         "stats": {
          "unique_count": 0,
          "nan_count": 5,
          "min": null,
          "max": null,
          "histogram": [
           {
            "bin_start": 0,
            "bin_end": 0.1,
            "count": 0
           },
           {
            "bin_start": 0.1,
            "bin_end": 0.2,
            "count": 0
           },
           {
            "bin_start": 0.2,
            "bin_end": 0.30000000000000004,
            "count": 0
           },
           {
            "bin_start": 0.30000000000000004,
            "bin_end": 0.4,
            "count": 0
           },
           {
            "bin_start": 0.4,
            "bin_end": 0.5,
            "count": 0
           },
           {
            "bin_start": 0.5,
            "bin_end": 0.6000000000000001,
            "count": 0
           },
           {
            "bin_start": 0.6000000000000001,
            "bin_end": 0.7000000000000001,
            "count": 0
           },
           {
            "bin_start": 0.7000000000000001,
            "bin_end": 0.8,
            "count": 0
           },
           {
            "bin_start": 0.8,
            "bin_end": 0.9,
            "count": 0
           },
           {
            "bin_start": 0.9,
            "bin_end": 1,
            "count": 0
           }
          ]
         }
        },
        {
         "name": "days_in_waiting_list",
         "dtype": "int64",
         "stats": {
          "unique_count": 1,
          "nan_count": 0,
          "min": "0",
          "max": "0",
          "histogram": [
           {
            "bin_start": -0.5,
            "bin_end": -0.4,
            "count": 0
           },
           {
            "bin_start": -0.4,
            "bin_end": -0.3,
            "count": 0
           },
           {
            "bin_start": -0.3,
            "bin_end": -0.19999999999999996,
            "count": 0
           },
           {
            "bin_start": -0.19999999999999996,
            "bin_end": -0.09999999999999998,
            "count": 0
           },
           {
            "bin_start": -0.09999999999999998,
            "bin_end": 0,
            "count": 0
           },
           {
            "bin_start": 0,
            "bin_end": 0.10000000000000009,
            "count": 5
           },
           {
            "bin_start": 0.10000000000000009,
            "bin_end": 0.20000000000000007,
            "count": 0
           },
           {
            "bin_start": 0.20000000000000007,
            "bin_end": 0.30000000000000004,
            "count": 0
           },
           {
            "bin_start": 0.30000000000000004,
            "bin_end": 0.4,
            "count": 0
           },
           {
            "bin_start": 0.4,
            "bin_end": 0.5,
            "count": 0
           }
          ]
         }
        },
        {
         "name": "customer_type",
         "dtype": "object",
         "stats": {
          "unique_count": 1,
          "nan_count": 0,
          "categories": [
           {
            "name": "Transient",
            "count": 5
           }
          ]
         }
        },
        {
         "name": "adr",
         "dtype": "float64",
         "stats": {
          "unique_count": 5,
          "nan_count": 0,
          "min": "82.0",
          "max": "123.0",
          "histogram": [
           {
            "bin_start": 82,
            "bin_end": 86.1,
            "count": 1
           },
           {
            "bin_start": 86.1,
            "bin_end": 90.2,
            "count": 0
           },
           {
            "bin_start": 90.2,
            "bin_end": 94.3,
            "count": 0
           },
           {
            "bin_start": 94.3,
            "bin_end": 98.4,
            "count": 0
           },
           {
            "bin_start": 98.4,
            "bin_end": 102.5,
            "count": 0
           },
           {
            "bin_start": 102.5,
            "bin_end": 106.6,
            "count": 1
           },
           {
            "bin_start": 106.6,
            "bin_end": 110.69999999999999,
            "count": 2
           },
           {
            "bin_start": 110.69999999999999,
            "bin_end": 114.8,
            "count": 0
           },
           {
            "bin_start": 114.8,
            "bin_end": 118.9,
            "count": 0
           },
           {
            "bin_start": 118.9,
            "bin_end": 123,
            "count": 1
           }
          ]
         }
        },
        {
         "name": "required_car_parking_spaces",
         "dtype": "int64",
         "stats": {
          "unique_count": 1,
          "nan_count": 0,
          "min": "0",
          "max": "0",
          "histogram": [
           {
            "bin_start": -0.5,
            "bin_end": -0.4,
            "count": 0
           },
           {
            "bin_start": -0.4,
            "bin_end": -0.3,
            "count": 0
           },
           {
            "bin_start": -0.3,
            "bin_end": -0.19999999999999996,
            "count": 0
           },
           {
            "bin_start": -0.19999999999999996,
            "bin_end": -0.09999999999999998,
            "count": 0
           },
           {
            "bin_start": -0.09999999999999998,
            "bin_end": 0,
            "count": 0
           },
           {
            "bin_start": 0,
            "bin_end": 0.10000000000000009,
            "count": 5
           },
           {
            "bin_start": 0.10000000000000009,
            "bin_end": 0.20000000000000007,
            "count": 0
           },
           {
            "bin_start": 0.20000000000000007,
            "bin_end": 0.30000000000000004,
            "count": 0
           },
           {
            "bin_start": 0.30000000000000004,
            "bin_end": 0.4,
            "count": 0
           },
           {
            "bin_start": 0.4,
            "bin_end": 0.5,
            "count": 0
           }
          ]
         }
        },
        {
         "name": "total_of_special_requests",
         "dtype": "int64",
         "stats": {
          "unique_count": 3,
          "nan_count": 0,
          "min": "0",
          "max": "2",
          "histogram": [
           {
            "bin_start": 0,
            "bin_end": 0.2,
            "count": 2
           },
           {
            "bin_start": 0.2,
            "bin_end": 0.4,
            "count": 0
           },
           {
            "bin_start": 0.4,
            "bin_end": 0.6000000000000001,
            "count": 0
           },
           {
            "bin_start": 0.6000000000000001,
            "bin_end": 0.8,
            "count": 0
           },
           {
            "bin_start": 0.8,
            "bin_end": 1,
            "count": 0
           },
           {
            "bin_start": 1,
            "bin_end": 1.2000000000000002,
            "count": 1
           },
           {
            "bin_start": 1.2000000000000002,
            "bin_end": 1.4000000000000001,
            "count": 0
           },
           {
            "bin_start": 1.4000000000000001,
            "bin_end": 1.6,
            "count": 0
           },
           {
            "bin_start": 1.6,
            "bin_end": 1.8,
            "count": 0
           },
           {
            "bin_start": 1.8,
            "bin_end": 2,
            "count": 2
           }
          ]
         }
        },
        {
         "name": "reservation_status",
         "dtype": "object",
         "stats": {
          "unique_count": 1,
          "nan_count": 0,
          "categories": [
           {
            "name": "Canceled",
            "count": 5
           }
          ]
         }
        },
        {
         "name": "reservation_status_date",
         "dtype": "object",
         "stats": {
          "unique_count": 5,
          "nan_count": 0,
          "categories": [
           {
            "name": "06-05-18",
            "count": 1
           },
           {
            "name": "22-04-18",
            "count": 1
           },
           {
            "name": "3 others",
            "count": 3
           }
          ]
         }
        },
        {
         "name": "_deepnote_index_column",
         "dtype": "int64"
        }
       ],
       "rows": [
        {
         "hotel": "Resort Hotel",
         "is_canceled": 1,
         "lead_time": 85,
         "arrival_date_year": 2018,
         "arrival_date_month": "July",
         "arrival_date_week_number": 27,
         "arrival_date_day_of_month": 1,
         "stays_in_weekend_nights": 0,
         "stays_in_week_nights": 3,
         "adults": 2,
         "children": 0,
         "babies": 0,
         "meal": "BB",
         "country": "PRT",
         "market_segment": "Online TA",
         "distribution_channel": "TA/TO",
         "is_repeated_guest": 0,
         "previous_cancellations": 0,
         "previous_bookings_not_canceled": 0,
         "reserved_room_type": "A",
         "assigned_room_type": "A",
         "booking_changes": 0,
         "deposit_type": "No Deposit",
         "agent": 240,
         "company": "nan",
         "days_in_waiting_list": 0,
         "customer_type": "Transient",
         "adr": 82,
         "required_car_parking_spaces": 0,
         "total_of_special_requests": 1,
         "reservation_status": "Canceled",
         "reservation_status_date": "06-05-18",
         "_deepnote_index_column": 0
        },
        {
         "hotel": "Resort Hotel",
         "is_canceled": 1,
         "lead_time": 75,
         "arrival_date_year": 2018,
         "arrival_date_month": "July",
         "arrival_date_week_number": 27,
         "arrival_date_day_of_month": 1,
         "stays_in_weekend_nights": 0,
         "stays_in_week_nights": 3,
         "adults": 2,
         "children": 0,
         "babies": 0,
         "meal": "HB",
         "country": "PRT",
         "market_segment": "Offline TA/TO",
         "distribution_channel": "TA/TO",
         "is_repeated_guest": 0,
         "previous_cancellations": 0,
         "previous_bookings_not_canceled": 0,
         "reserved_room_type": "D",
         "assigned_room_type": "D",
         "booking_changes": 0,
         "deposit_type": "No Deposit",
         "agent": 15,
         "company": "nan",
         "days_in_waiting_list": 0,
         "customer_type": "Transient",
         "adr": 105.5,
         "required_car_parking_spaces": 0,
         "total_of_special_requests": 0,
         "reservation_status": "Canceled",
         "reservation_status_date": "22-04-18",
         "_deepnote_index_column": 1
        },
        {
         "hotel": "Resort Hotel",
         "is_canceled": 1,
         "lead_time": 23,
         "arrival_date_year": 2018,
         "arrival_date_month": "July",
         "arrival_date_week_number": 27,
         "arrival_date_day_of_month": 1,
         "stays_in_weekend_nights": 0,
         "stays_in_week_nights": 4,
         "adults": 2,
         "children": 0,
         "babies": 0,
         "meal": "BB",
         "country": "PRT",
         "market_segment": "Online TA",
         "distribution_channel": "TA/TO",
         "is_repeated_guest": 0,
         "previous_cancellations": 0,
         "previous_bookings_not_canceled": 0,
         "reserved_room_type": "E",
         "assigned_room_type": "E",
         "booking_changes": 0,
         "deposit_type": "No Deposit",
         "agent": 240,
         "company": "nan",
         "days_in_waiting_list": 0,
         "customer_type": "Transient",
         "adr": 123,
         "required_car_parking_spaces": 0,
         "total_of_special_requests": 0,
         "reservation_status": "Canceled",
         "reservation_status_date": "23-06-18",
         "_deepnote_index_column": 2
        },
        {
         "hotel": "Resort Hotel",
         "is_canceled": 1,
         "lead_time": 60,
         "arrival_date_year": 2018,
         "arrival_date_month": "July",
         "arrival_date_week_number": 27,
         "arrival_date_day_of_month": 1,
         "stays_in_weekend_nights": 2,
         "stays_in_week_nights": 5,
         "adults": 2,
         "children": 0,
         "babies": 0,
         "meal": "BB",
         "country": "PRT",
         "market_segment": "Online TA",
         "distribution_channel": "TA/TO",
         "is_repeated_guest": 0,
         "previous_cancellations": 0,
         "previous_bookings_not_canceled": 0,
         "reserved_room_type": "E",
         "assigned_room_type": "E",
         "booking_changes": 0,
         "deposit_type": "No Deposit",
         "agent": 240,
         "company": "nan",
         "days_in_waiting_list": 0,
         "customer_type": "Transient",
         "adr": 107,
         "required_car_parking_spaces": 0,
         "total_of_special_requests": 2,
         "reservation_status": "Canceled",
         "reservation_status_date": "11-05-18",
         "_deepnote_index_column": 3
        },
        {
         "hotel": "Resort Hotel",
         "is_canceled": 1,
         "lead_time": 96,
         "arrival_date_year": 2018,
         "arrival_date_month": "July",
         "arrival_date_week_number": 27,
         "arrival_date_day_of_month": 1,
         "stays_in_weekend_nights": 2,
         "stays_in_week_nights": 8,
         "adults": 2,
         "children": 0,
         "babies": 0,
         "meal": "BB",
         "country": "PRT",
         "market_segment": "Direct",
         "distribution_channel": "Direct",
         "is_repeated_guest": 0,
         "previous_cancellations": 0,
         "previous_bookings_not_canceled": 0,
         "reserved_room_type": "E",
         "assigned_room_type": "E",
         "booking_changes": 0,
         "deposit_type": "No Deposit",
         "agent": "nan",
         "company": "nan",
         "days_in_waiting_list": 0,
         "customer_type": "Transient",
         "adr": 108.3,
         "required_car_parking_spaces": 0,
         "total_of_special_requests": 2,
         "reservation_status": "Canceled",
         "reservation_status_date": "29-05-18",
         "_deepnote_index_column": 4
        }
       ]
      },
      "text/plain": "          hotel  is_canceled  lead_time  arrival_date_year arrival_date_month  \\\n0  Resort Hotel            1         85               2018               July   \n1  Resort Hotel            1         75               2018               July   \n2  Resort Hotel            1         23               2018               July   \n3  Resort Hotel            1         60               2018               July   \n4  Resort Hotel            1         96               2018               July   \n\n   arrival_date_week_number  arrival_date_day_of_month  \\\n0                        27                          1   \n1                        27                          1   \n2                        27                          1   \n3                        27                          1   \n4                        27                          1   \n\n   stays_in_weekend_nights  stays_in_week_nights  adults  ...  deposit_type  \\\n0                        0                     3       2  ...    No Deposit   \n1                        0                     3       2  ...    No Deposit   \n2                        0                     4       2  ...    No Deposit   \n3                        2                     5       2  ...    No Deposit   \n4                        2                     8       2  ...    No Deposit   \n\n   agent company days_in_waiting_list customer_type    adr  \\\n0  240.0     NaN                    0     Transient   82.0   \n1   15.0     NaN                    0     Transient  105.5   \n2  240.0     NaN                    0     Transient  123.0   \n3  240.0     NaN                    0     Transient  107.0   \n4    NaN     NaN                    0     Transient  108.3   \n\n   required_car_parking_spaces  total_of_special_requests  reservation_status  \\\n0                            0                          1            Canceled   \n1                            0                          0            Canceled   \n2                            0                          0            Canceled   \n3                            0                          2            Canceled   \n4                            0                          2            Canceled   \n\n  reservation_status_date  \n0                06-05-18  \n1                22-04-18  \n2                23-06-18  \n3                11-05-18  \n4                29-05-18  \n\n[5 rows x 32 columns]",
      "text/html": "<div>\n<style scoped>\n    .dataframe tbody tr th:only-of-type {\n        vertical-align: middle;\n    }\n\n    .dataframe tbody tr th {\n        vertical-align: top;\n    }\n\n    .dataframe thead th {\n        text-align: right;\n    }\n</style>\n<table border=\"1\" class=\"dataframe\">\n  <thead>\n    <tr style=\"text-align: right;\">\n      <th></th>\n      <th>hotel</th>\n      <th>is_canceled</th>\n      <th>lead_time</th>\n      <th>arrival_date_year</th>\n      <th>arrival_date_month</th>\n      <th>arrival_date_week_number</th>\n      <th>arrival_date_day_of_month</th>\n      <th>stays_in_weekend_nights</th>\n      <th>stays_in_week_nights</th>\n      <th>adults</th>\n      <th>...</th>\n      <th>deposit_type</th>\n      <th>agent</th>\n      <th>company</th>\n      <th>days_in_waiting_list</th>\n      <th>customer_type</th>\n      <th>adr</th>\n      <th>required_car_parking_spaces</th>\n      <th>total_of_special_requests</th>\n      <th>reservation_status</th>\n      <th>reservation_status_date</th>\n    </tr>\n  </thead>\n  <tbody>\n    <tr>\n      <th>0</th>\n      <td>Resort Hotel</td>\n      <td>1</td>\n      <td>85</td>\n      <td>2018</td>\n      <td>July</td>\n      <td>27</td>\n      <td>1</td>\n      <td>0</td>\n      <td>3</td>\n      <td>2</td>\n      <td>...</td>\n      <td>No Deposit</td>\n      <td>240.0</td>\n      <td>NaN</td>\n      <td>0</td>\n      <td>Transient</td>\n      <td>82.0</td>\n      <td>0</td>\n      <td>1</td>\n      <td>Canceled</td>\n      <td>06-05-18</td>\n    </tr>\n    <tr>\n      <th>1</th>\n      <td>Resort Hotel</td>\n      <td>1</td>\n      <td>75</td>\n      <td>2018</td>\n      <td>July</td>\n      <td>27</td>\n      <td>1</td>\n      <td>0</td>\n      <td>3</td>\n      <td>2</td>\n      <td>...</td>\n      <td>No Deposit</td>\n      <td>15.0</td>\n      <td>NaN</td>\n      <td>0</td>\n      <td>Transient</td>\n      <td>105.5</td>\n      <td>0</td>\n      <td>0</td>\n      <td>Canceled</td>\n      <td>22-04-18</td>\n    </tr>\n    <tr>\n      <th>2</th>\n      <td>Resort Hotel</td>\n      <td>1</td>\n      <td>23</td>\n      <td>2018</td>\n      <td>July</td>\n      <td>27</td>\n      <td>1</td>\n      <td>0</td>\n      <td>4</td>\n      <td>2</td>\n      <td>...</td>\n      <td>No Deposit</td>\n      <td>240.0</td>\n      <td>NaN</td>\n      <td>0</td>\n      <td>Transient</td>\n      <td>123.0</td>\n      <td>0</td>\n      <td>0</td>\n      <td>Canceled</td>\n      <td>23-06-18</td>\n    </tr>\n    <tr>\n      <th>3</th>\n      <td>Resort Hotel</td>\n      <td>1</td>\n      <td>60</td>\n      <td>2018</td>\n      <td>July</td>\n      <td>27</td>\n      <td>1</td>\n      <td>2</td>\n      <td>5</td>\n      <td>2</td>\n      <td>...</td>\n      <td>No Deposit</td>\n      <td>240.0</td>\n      <td>NaN</td>\n      <td>0</td>\n      <td>Transient</td>\n      <td>107.0</td>\n      <td>0</td>\n      <td>2</td>\n      <td>Canceled</td>\n      <td>11-05-18</td>\n    </tr>\n    <tr>\n      <th>4</th>\n      <td>Resort Hotel</td>\n      <td>1</td>\n      <td>96</td>\n      <td>2018</td>\n      <td>July</td>\n      <td>27</td>\n      <td>1</td>\n      <td>2</td>\n      <td>8</td>\n      <td>2</td>\n      <td>...</td>\n      <td>No Deposit</td>\n      <td>NaN</td>\n      <td>NaN</td>\n      <td>0</td>\n      <td>Transient</td>\n      <td>108.3</td>\n      <td>0</td>\n      <td>2</td>\n      <td>Canceled</td>\n      <td>29-05-18</td>\n    </tr>\n  </tbody>\n</table>\n<p>5 rows × 32 columns</p>\n</div>"
     },
     "metadata": {}
    }
   ]
  },
  {
   "cell_type": "code",
   "metadata": {
    "cell_id": "4fa93c2c882543ba8a535e1f11e472b2",
    "tags": [],
    "deepnote_to_be_reexecuted": false,
    "source_hash": "14f60b8f",
    "execution_start": 1660314355808,
    "execution_millis": 288,
    "deepnote_cell_type": "code",
    "deepnote_cell_height": 113.1875,
    "deepnote_output_heights": [
     21.1875
    ]
   },
   "source": "df.shape",
   "execution_count": null,
   "outputs": [
    {
     "output_type": "execute_result",
     "execution_count": 14,
     "data": {
      "text/plain": "(141947, 32)"
     },
     "metadata": {}
    }
   ]
  },
  {
   "cell_type": "code",
   "metadata": {
    "cell_id": "7e6135b0f1054776996beeeb985b725a",
    "tags": [],
    "deepnote_to_be_reexecuted": false,
    "source_hash": "f88152d9",
    "execution_start": 1660314355831,
    "execution_millis": 293,
    "deepnote_cell_type": "code",
    "deepnote_cell_height": 529.796875
   },
   "source": "df.describe()",
   "execution_count": null,
   "outputs": [
    {
     "output_type": "execute_result",
     "execution_count": 15,
     "data": {
      "application/vnd.deepnote.dataframe.v3+json": {
       "column_count": 20,
       "row_count": 8,
       "columns": [
        {
         "name": "is_canceled",
         "dtype": "float64",
         "stats": {
          "unique_count": 5,
          "nan_count": 0,
          "min": "0.0",
          "max": "141947.0",
          "histogram": [
           {
            "bin_start": 0,
            "bin_end": 14194.7,
            "count": 7
           },
           {
            "bin_start": 14194.7,
            "bin_end": 28389.4,
            "count": 0
           },
           {
            "bin_start": 28389.4,
            "bin_end": 42584.100000000006,
            "count": 0
           },
           {
            "bin_start": 42584.100000000006,
            "bin_end": 56778.8,
            "count": 0
           },
           {
            "bin_start": 56778.8,
            "bin_end": 70973.5,
            "count": 0
           },
           {
            "bin_start": 70973.5,
            "bin_end": 85168.20000000001,
            "count": 0
           },
           {
            "bin_start": 85168.20000000001,
            "bin_end": 99362.90000000001,
            "count": 0
           },
           {
            "bin_start": 99362.90000000001,
            "bin_end": 113557.6,
            "count": 0
           },
           {
            "bin_start": 113557.6,
            "bin_end": 127752.3,
            "count": 0
           },
           {
            "bin_start": 127752.3,
            "bin_end": 141947,
            "count": 1
           }
          ]
         }
        },
        {
         "name": "lead_time",
         "dtype": "float64",
         "stats": {
          "unique_count": 8,
          "nan_count": 0,
          "min": "0.0",
          "max": "141947.0",
          "histogram": [
           {
            "bin_start": 0,
            "bin_end": 14194.7,
            "count": 7
           },
           {
            "bin_start": 14194.7,
            "bin_end": 28389.4,
            "count": 0
           },
           {
            "bin_start": 28389.4,
            "bin_end": 42584.100000000006,
            "count": 0
           },
           {
            "bin_start": 42584.100000000006,
            "bin_end": 56778.8,
            "count": 0
           },
           {
            "bin_start": 56778.8,
            "bin_end": 70973.5,
            "count": 0
           },
           {
            "bin_start": 70973.5,
            "bin_end": 85168.20000000001,
            "count": 0
           },
           {
            "bin_start": 85168.20000000001,
            "bin_end": 99362.90000000001,
            "count": 0
           },
           {
            "bin_start": 99362.90000000001,
            "bin_end": 113557.6,
            "count": 0
           },
           {
            "bin_start": 113557.6,
            "bin_end": 127752.3,
            "count": 0
           },
           {
            "bin_start": 127752.3,
            "bin_end": 141947,
            "count": 1
           }
          ]
         }
        },
        {
         "name": "arrival_date_year",
         "dtype": "float64",
         "stats": {
          "unique_count": 6,
          "nan_count": 0,
          "min": "0.6513515504124902",
          "max": "141947.0",
          "histogram": [
           {
            "bin_start": 0.6513515504124902,
            "bin_end": 14195.28621639537,
            "count": 7
           },
           {
            "bin_start": 14195.28621639537,
            "bin_end": 28389.92108124033,
            "count": 0
           },
           {
            "bin_start": 28389.92108124033,
            "bin_end": 42584.55594608529,
            "count": 0
           },
           {
            "bin_start": 42584.55594608529,
            "bin_end": 56779.190810930246,
            "count": 0
           },
           {
            "bin_start": 56779.190810930246,
            "bin_end": 70973.82567577521,
            "count": 0
           },
           {
            "bin_start": 70973.82567577521,
            "bin_end": 85168.46054062017,
            "count": 0
           },
           {
            "bin_start": 85168.46054062017,
            "bin_end": 99363.09540546512,
            "count": 0
           },
           {
            "bin_start": 99363.09540546512,
            "bin_end": 113557.73027031009,
            "count": 0
           },
           {
            "bin_start": 113557.73027031009,
            "bin_end": 127752.36513515505,
            "count": 0
           },
           {
            "bin_start": 127752.36513515505,
            "bin_end": 141947,
            "count": 1
           }
          ]
         }
        },
        {
         "name": "arrival_date_week_number",
         "dtype": "float64",
         "stats": {
          "unique_count": 8,
          "nan_count": 0,
          "min": "1.0",
          "max": "141947.0",
          "histogram": [
           {
            "bin_start": 1,
            "bin_end": 14195.6,
            "count": 7
           },
           {
            "bin_start": 14195.6,
            "bin_end": 28390.2,
            "count": 0
           },
           {
            "bin_start": 28390.2,
            "bin_end": 42584.8,
            "count": 0
           },
           {
            "bin_start": 42584.8,
            "bin_end": 56779.4,
            "count": 0
           },
           {
            "bin_start": 56779.4,
            "bin_end": 70974,
            "count": 0
           },
           {
            "bin_start": 70974,
            "bin_end": 85168.6,
            "count": 0
           },
           {
            "bin_start": 85168.6,
            "bin_end": 99363.2,
            "count": 0
           },
           {
            "bin_start": 99363.2,
            "bin_end": 113557.8,
            "count": 0
           },
           {
            "bin_start": 113557.8,
            "bin_end": 127752.40000000001,
            "count": 0
           },
           {
            "bin_start": 127752.40000000001,
            "bin_end": 141947,
            "count": 1
           }
          ]
         }
        },
        {
         "name": "arrival_date_day_of_month",
         "dtype": "float64",
         "stats": {
          "unique_count": 8,
          "nan_count": 0,
          "min": "1.0",
          "max": "141947.0",
          "histogram": [
           {
            "bin_start": 1,
            "bin_end": 14195.6,
            "count": 7
           },
           {
            "bin_start": 14195.6,
            "bin_end": 28390.2,
            "count": 0
           },
           {
            "bin_start": 28390.2,
            "bin_end": 42584.8,
            "count": 0
           },
           {
            "bin_start": 42584.8,
            "bin_end": 56779.4,
            "count": 0
           },
           {
            "bin_start": 56779.4,
            "bin_end": 70974,
            "count": 0
           },
           {
            "bin_start": 70974,
            "bin_end": 85168.6,
            "count": 0
           },
           {
            "bin_start": 85168.6,
            "bin_end": 99363.2,
            "count": 0
           },
           {
            "bin_start": 99363.2,
            "bin_end": 113557.8,
            "count": 0
           },
           {
            "bin_start": 113557.8,
            "bin_end": 127752.40000000001,
            "count": 0
           },
           {
            "bin_start": 127752.40000000001,
            "bin_end": 141947,
            "count": 1
           }
          ]
         }
        },
        {
         "name": "stays_in_weekend_nights",
         "dtype": "float64",
         "stats": {
          "unique_count": 7,
          "nan_count": 0,
          "min": "0.0",
          "max": "141947.0",
          "histogram": [
           {
            "bin_start": 0,
            "bin_end": 14194.7,
            "count": 7
           },
           {
            "bin_start": 14194.7,
            "bin_end": 28389.4,
            "count": 0
           },
           {
            "bin_start": 28389.4,
            "bin_end": 42584.100000000006,
            "count": 0
           },
           {
            "bin_start": 42584.100000000006,
            "bin_end": 56778.8,
            "count": 0
           },
           {
            "bin_start": 56778.8,
            "bin_end": 70973.5,
            "count": 0
           },
           {
            "bin_start": 70973.5,
            "bin_end": 85168.20000000001,
            "count": 0
           },
           {
            "bin_start": 85168.20000000001,
            "bin_end": 99362.90000000001,
            "count": 0
           },
           {
            "bin_start": 99362.90000000001,
            "bin_end": 113557.6,
            "count": 0
           },
           {
            "bin_start": 113557.6,
            "bin_end": 127752.3,
            "count": 0
           },
           {
            "bin_start": 127752.3,
            "bin_end": 141947,
            "count": 1
           }
          ]
         }
        },
        {
         "name": "stays_in_week_nights",
         "dtype": "float64",
         "stats": {
          "unique_count": 8,
          "nan_count": 0,
          "min": "0.0",
          "max": "141947.0",
          "histogram": [
           {
            "bin_start": 0,
            "bin_end": 14194.7,
            "count": 7
           },
           {
            "bin_start": 14194.7,
            "bin_end": 28389.4,
            "count": 0
           },
           {
            "bin_start": 28389.4,
            "bin_end": 42584.100000000006,
            "count": 0
           },
           {
            "bin_start": 42584.100000000006,
            "bin_end": 56778.8,
            "count": 0
           },
           {
            "bin_start": 56778.8,
            "bin_end": 70973.5,
            "count": 0
           },
           {
            "bin_start": 70973.5,
            "bin_end": 85168.20000000001,
            "count": 0
           },
           {
            "bin_start": 85168.20000000001,
            "bin_end": 99362.90000000001,
            "count": 0
           },
           {
            "bin_start": 99362.90000000001,
            "bin_end": 113557.6,
            "count": 0
           },
           {
            "bin_start": 113557.6,
            "bin_end": 127752.3,
            "count": 0
           },
           {
            "bin_start": 127752.3,
            "bin_end": 141947,
            "count": 1
           }
          ]
         }
        },
        {
         "name": "adults",
         "dtype": "float64",
         "stats": {
          "unique_count": 6,
          "nan_count": 0,
          "min": "0.0",
          "max": "141947.0",
          "histogram": [
           {
            "bin_start": 0,
            "bin_end": 14194.7,
            "count": 7
           },
           {
            "bin_start": 14194.7,
            "bin_end": 28389.4,
            "count": 0
           },
           {
            "bin_start": 28389.4,
            "bin_end": 42584.100000000006,
            "count": 0
           },
           {
            "bin_start": 42584.100000000006,
            "bin_end": 56778.8,
            "count": 0
           },
           {
            "bin_start": 56778.8,
            "bin_end": 70973.5,
            "count": 0
           },
           {
            "bin_start": 70973.5,
            "bin_end": 85168.20000000001,
            "count": 0
           },
           {
            "bin_start": 85168.20000000001,
            "bin_end": 99362.90000000001,
            "count": 0
           },
           {
            "bin_start": 99362.90000000001,
            "bin_end": 113557.6,
            "count": 0
           },
           {
            "bin_start": 113557.6,
            "bin_end": 127752.3,
            "count": 0
           },
           {
            "bin_start": 127752.3,
            "bin_end": 141947,
            "count": 1
           }
          ]
         }
        },
        {
         "name": "children",
         "dtype": "float64",
         "stats": {
          "unique_count": 5,
          "nan_count": 0,
          "min": "0.0",
          "max": "141939.0",
          "histogram": [
           {
            "bin_start": 0,
            "bin_end": 14193.9,
            "count": 7
           },
           {
            "bin_start": 14193.9,
            "bin_end": 28387.8,
            "count": 0
           },
           {
            "bin_start": 28387.8,
            "bin_end": 42581.7,
            "count": 0
           },
           {
            "bin_start": 42581.7,
            "bin_end": 56775.6,
            "count": 0
           },
           {
            "bin_start": 56775.6,
            "bin_end": 70969.5,
            "count": 0
           },
           {
            "bin_start": 70969.5,
            "bin_end": 85163.4,
            "count": 0
           },
           {
            "bin_start": 85163.4,
            "bin_end": 99357.3,
            "count": 0
           },
           {
            "bin_start": 99357.3,
            "bin_end": 113551.2,
            "count": 0
           },
           {
            "bin_start": 113551.2,
            "bin_end": 127745.09999999999,
            "count": 0
           },
           {
            "bin_start": 127745.09999999999,
            "bin_end": 141939,
            "count": 1
           }
          ]
         }
        },
        {
         "name": "babies",
         "dtype": "float64",
         "stats": {
          "unique_count": 5,
          "nan_count": 0,
          "min": "0.0",
          "max": "141947.0",
          "histogram": [
           {
            "bin_start": 0,
            "bin_end": 14194.7,
            "count": 7
           },
           {
            "bin_start": 14194.7,
            "bin_end": 28389.4,
            "count": 0
           },
           {
            "bin_start": 28389.4,
            "bin_end": 42584.100000000006,
            "count": 0
           },
           {
            "bin_start": 42584.100000000006,
            "bin_end": 56778.8,
            "count": 0
           },
           {
            "bin_start": 56778.8,
            "bin_end": 70973.5,
            "count": 0
           },
           {
            "bin_start": 70973.5,
            "bin_end": 85168.20000000001,
            "count": 0
           },
           {
            "bin_start": 85168.20000000001,
            "bin_end": 99362.90000000001,
            "count": 0
           },
           {
            "bin_start": 99362.90000000001,
            "bin_end": 113557.6,
            "count": 0
           },
           {
            "bin_start": 113557.6,
            "bin_end": 127752.3,
            "count": 0
           },
           {
            "bin_start": 127752.3,
            "bin_end": 141947,
            "count": 1
           }
          ]
         }
        },
        {
         "name": "is_repeated_guest",
         "dtype": "float64",
         "stats": {
          "unique_count": 5,
          "nan_count": 0,
          "min": "0.0",
          "max": "141947.0",
          "histogram": [
           {
            "bin_start": 0,
            "bin_end": 14194.7,
            "count": 7
           },
           {
            "bin_start": 14194.7,
            "bin_end": 28389.4,
            "count": 0
           },
           {
            "bin_start": 28389.4,
            "bin_end": 42584.100000000006,
            "count": 0
           },
           {
            "bin_start": 42584.100000000006,
            "bin_end": 56778.8,
            "count": 0
           },
           {
            "bin_start": 56778.8,
            "bin_end": 70973.5,
            "count": 0
           },
           {
            "bin_start": 70973.5,
            "bin_end": 85168.20000000001,
            "count": 0
           },
           {
            "bin_start": 85168.20000000001,
            "bin_end": 99362.90000000001,
            "count": 0
           },
           {
            "bin_start": 99362.90000000001,
            "bin_end": 113557.6,
            "count": 0
           },
           {
            "bin_start": 113557.6,
            "bin_end": 127752.3,
            "count": 0
           },
           {
            "bin_start": 127752.3,
            "bin_end": 141947,
            "count": 1
           }
          ]
         }
        },
        {
         "name": "previous_cancellations",
         "dtype": "float64",
         "stats": {
          "unique_count": 5,
          "nan_count": 0,
          "min": "0.0",
          "max": "141947.0",
          "histogram": [
           {
            "bin_start": 0,
            "bin_end": 14194.7,
            "count": 7
           },
           {
            "bin_start": 14194.7,
            "bin_end": 28389.4,
            "count": 0
           },
           {
            "bin_start": 28389.4,
            "bin_end": 42584.100000000006,
            "count": 0
           },
           {
            "bin_start": 42584.100000000006,
            "bin_end": 56778.8,
            "count": 0
           },
           {
            "bin_start": 56778.8,
            "bin_end": 70973.5,
            "count": 0
           },
           {
            "bin_start": 70973.5,
            "bin_end": 85168.20000000001,
            "count": 0
           },
           {
            "bin_start": 85168.20000000001,
            "bin_end": 99362.90000000001,
            "count": 0
           },
           {
            "bin_start": 99362.90000000001,
            "bin_end": 113557.6,
            "count": 0
           },
           {
            "bin_start": 113557.6,
            "bin_end": 127752.3,
            "count": 0
           },
           {
            "bin_start": 127752.3,
            "bin_end": 141947,
            "count": 1
           }
          ]
         }
        },
        {
         "name": "previous_bookings_not_canceled",
         "dtype": "float64",
         "stats": {
          "unique_count": 5,
          "nan_count": 0,
          "min": "0.0",
          "max": "141947.0",
          "histogram": [
           {
            "bin_start": 0,
            "bin_end": 14194.7,
            "count": 7
           },
           {
            "bin_start": 14194.7,
            "bin_end": 28389.4,
            "count": 0
           },
           {
            "bin_start": 28389.4,
            "bin_end": 42584.100000000006,
            "count": 0
           },
           {
            "bin_start": 42584.100000000006,
            "bin_end": 56778.8,
            "count": 0
           },
           {
            "bin_start": 56778.8,
            "bin_end": 70973.5,
            "count": 0
           },
           {
            "bin_start": 70973.5,
            "bin_end": 85168.20000000001,
            "count": 0
           },
           {
            "bin_start": 85168.20000000001,
            "bin_end": 99362.90000000001,
            "count": 0
           },
           {
            "bin_start": 99362.90000000001,
            "bin_end": 113557.6,
            "count": 0
           },
           {
            "bin_start": 113557.6,
            "bin_end": 127752.3,
            "count": 0
           },
           {
            "bin_start": 127752.3,
            "bin_end": 141947,
            "count": 1
           }
          ]
         }
        },
        {
         "name": "booking_changes",
         "dtype": "float64",
         "stats": {
          "unique_count": 5,
          "nan_count": 0,
          "min": "0.0",
          "max": "141947.0",
          "histogram": [
           {
            "bin_start": 0,
            "bin_end": 14194.7,
            "count": 7
           },
           {
            "bin_start": 14194.7,
            "bin_end": 28389.4,
            "count": 0
           },
           {
            "bin_start": 28389.4,
            "bin_end": 42584.100000000006,
            "count": 0
           },
           {
            "bin_start": 42584.100000000006,
            "bin_end": 56778.8,
            "count": 0
           },
           {
            "bin_start": 56778.8,
            "bin_end": 70973.5,
            "count": 0
           },
           {
            "bin_start": 70973.5,
            "bin_end": 85168.20000000001,
            "count": 0
           },
           {
            "bin_start": 85168.20000000001,
            "bin_end": 99362.90000000001,
            "count": 0
           },
           {
            "bin_start": 99362.90000000001,
            "bin_end": 113557.6,
            "count": 0
           },
           {
            "bin_start": 113557.6,
            "bin_end": 127752.3,
            "count": 0
           },
           {
            "bin_start": 127752.3,
            "bin_end": 141947,
            "count": 1
           }
          ]
         }
        },
        {
         "name": "agent",
         "dtype": "float64",
         "stats": {
          "unique_count": 8,
          "nan_count": 0,
          "min": "1.0",
          "max": "122392.0",
          "histogram": [
           {
            "bin_start": 1,
            "bin_end": 12240.1,
            "count": 7
           },
           {
            "bin_start": 12240.1,
            "bin_end": 24479.2,
            "count": 0
           },
           {
            "bin_start": 24479.2,
            "bin_end": 36718.3,
            "count": 0
           },
           {
            "bin_start": 36718.3,
            "bin_end": 48957.4,
            "count": 0
           },
           {
            "bin_start": 48957.4,
            "bin_end": 61196.5,
            "count": 0
           },
           {
            "bin_start": 61196.5,
            "bin_end": 73435.6,
            "count": 0
           },
           {
            "bin_start": 73435.6,
            "bin_end": 85674.7,
            "count": 0
           },
           {
            "bin_start": 85674.7,
            "bin_end": 97913.8,
            "count": 0
           },
           {
            "bin_start": 97913.8,
            "bin_end": 110152.90000000001,
            "count": 0
           },
           {
            "bin_start": 110152.90000000001,
            "bin_end": 122392,
            "count": 1
           }
          ]
         }
        },
        {
         "name": "company",
         "dtype": "float64",
         "stats": {
          "unique_count": 8,
          "nan_count": 0,
          "min": "6.0",
          "max": "8125.0",
          "histogram": [
           {
            "bin_start": 6,
            "bin_end": 817.9,
            "count": 7
           },
           {
            "bin_start": 817.9,
            "bin_end": 1629.8,
            "count": 0
           },
           {
            "bin_start": 1629.8,
            "bin_end": 2441.7,
            "count": 0
           },
           {
            "bin_start": 2441.7,
            "bin_end": 3253.6,
            "count": 0
           },
           {
            "bin_start": 3253.6,
            "bin_end": 4065.5,
            "count": 0
           },
           {
            "bin_start": 4065.5,
            "bin_end": 4877.4,
            "count": 0
           },
           {
            "bin_start": 4877.4,
            "bin_end": 5689.3,
            "count": 0
           },
           {
            "bin_start": 5689.3,
            "bin_end": 6501.2,
            "count": 0
           },
           {
            "bin_start": 6501.2,
            "bin_end": 7313.099999999999,
            "count": 0
           },
           {
            "bin_start": 7313.099999999999,
            "bin_end": 8125,
            "count": 1
           }
          ]
         }
        },
        {
         "name": "days_in_waiting_list",
         "dtype": "float64",
         "stats": {
          "unique_count": 5,
          "nan_count": 0,
          "min": "0.0",
          "max": "141947.0",
          "histogram": [
           {
            "bin_start": 0,
            "bin_end": 14194.7,
            "count": 7
           },
           {
            "bin_start": 14194.7,
            "bin_end": 28389.4,
            "count": 0
           },
           {
            "bin_start": 28389.4,
            "bin_end": 42584.100000000006,
            "count": 0
           },
           {
            "bin_start": 42584.100000000006,
            "bin_end": 56778.8,
            "count": 0
           },
           {
            "bin_start": 56778.8,
            "bin_end": 70973.5,
            "count": 0
           },
           {
            "bin_start": 70973.5,
            "bin_end": 85168.20000000001,
            "count": 0
           },
           {
            "bin_start": 85168.20000000001,
            "bin_end": 99362.90000000001,
            "count": 0
           },
           {
            "bin_start": 99362.90000000001,
            "bin_end": 113557.6,
            "count": 0
           },
           {
            "bin_start": 113557.6,
            "bin_end": 127752.3,
            "count": 0
           },
           {
            "bin_start": 127752.3,
            "bin_end": 141947,
            "count": 1
           }
          ]
         }
        },
        {
         "name": "adr",
         "dtype": "float64",
         "stats": {
          "unique_count": 8,
          "nan_count": 0,
          "min": "-6.38",
          "max": "141947.0",
          "histogram": [
           {
            "bin_start": -6.38,
            "bin_end": 14188.958,
            "count": 7
           },
           {
            "bin_start": 14188.958,
            "bin_end": 28384.296,
            "count": 0
           },
           {
            "bin_start": 28384.296,
            "bin_end": 42579.634,
            "count": 0
           },
           {
            "bin_start": 42579.634,
            "bin_end": 56774.972,
            "count": 0
           },
           {
            "bin_start": 56774.972,
            "bin_end": 70970.31,
            "count": 0
           },
           {
            "bin_start": 70970.31,
            "bin_end": 85165.64799999999,
            "count": 0
           },
           {
            "bin_start": 85165.64799999999,
            "bin_end": 99360.98599999999,
            "count": 0
           },
           {
            "bin_start": 99360.98599999999,
            "bin_end": 113556.324,
            "count": 0
           },
           {
            "bin_start": 113556.324,
            "bin_end": 127751.662,
            "count": 0
           },
           {
            "bin_start": 127751.662,
            "bin_end": 141947,
            "count": 1
           }
          ]
         }
        },
        {
         "name": "required_car_parking_spaces",
         "dtype": "float64",
         "stats": {
          "unique_count": 5,
          "nan_count": 0,
          "min": "0.0",
          "max": "141947.0",
          "histogram": [
           {
            "bin_start": 0,
            "bin_end": 14194.7,
            "count": 7
           },
           {
            "bin_start": 14194.7,
            "bin_end": 28389.4,
            "count": 0
           },
           {
            "bin_start": 28389.4,
            "bin_end": 42584.100000000006,
            "count": 0
           },
           {
            "bin_start": 42584.100000000006,
            "bin_end": 56778.8,
            "count": 0
           },
           {
            "bin_start": 56778.8,
            "bin_end": 70973.5,
            "count": 0
           },
           {
            "bin_start": 70973.5,
            "bin_end": 85168.20000000001,
            "count": 0
           },
           {
            "bin_start": 85168.20000000001,
            "bin_end": 99362.90000000001,
            "count": 0
           },
           {
            "bin_start": 99362.90000000001,
            "bin_end": 113557.6,
            "count": 0
           },
           {
            "bin_start": 113557.6,
            "bin_end": 127752.3,
            "count": 0
           },
           {
            "bin_start": 127752.3,
            "bin_end": 141947,
            "count": 1
           }
          ]
         }
        },
        {
         "name": "total_of_special_requests",
         "dtype": "float64",
         "stats": {
          "unique_count": 6,
          "nan_count": 0,
          "min": "0.0",
          "max": "141947.0",
          "histogram": [
           {
            "bin_start": 0,
            "bin_end": 14194.7,
            "count": 7
           },
           {
            "bin_start": 14194.7,
            "bin_end": 28389.4,
            "count": 0
           },
           {
            "bin_start": 28389.4,
            "bin_end": 42584.100000000006,
            "count": 0
           },
           {
            "bin_start": 42584.100000000006,
            "bin_end": 56778.8,
            "count": 0
           },
           {
            "bin_start": 56778.8,
            "bin_end": 70973.5,
            "count": 0
           },
           {
            "bin_start": 70973.5,
            "bin_end": 85168.20000000001,
            "count": 0
           },
           {
            "bin_start": 85168.20000000001,
            "bin_end": 99362.90000000001,
            "count": 0
           },
           {
            "bin_start": 99362.90000000001,
            "bin_end": 113557.6,
            "count": 0
           },
           {
            "bin_start": 113557.6,
            "bin_end": 127752.3,
            "count": 0
           },
           {
            "bin_start": 127752.3,
            "bin_end": 141947,
            "count": 1
           }
          ]
         }
        },
        {
         "name": "_deepnote_index_column",
         "dtype": "object"
        }
       ],
       "rows": [
        {
         "is_canceled": 141947,
         "lead_time": 141947,
         "arrival_date_year": 141947,
         "arrival_date_week_number": 141947,
         "arrival_date_day_of_month": 141947,
         "stays_in_weekend_nights": 141947,
         "stays_in_week_nights": 141947,
         "adults": 141947,
         "children": 141939,
         "babies": 141947,
         "is_repeated_guest": 141947,
         "previous_cancellations": 141947,
         "previous_bookings_not_canceled": 141947,
         "booking_changes": 141947,
         "agent": 122392,
         "company": 8125,
         "days_in_waiting_list": 141947,
         "adr": 141947,
         "required_car_parking_spaces": 141947,
         "total_of_special_requests": 141947,
         "_deepnote_index_column": "count"
        },
        {
         "is_canceled": 0.37224457015646684,
         "lead_time": 102.82110224238625,
         "arrival_date_year": 2019.131675907205,
         "arrival_date_week_number": 29.06105800052132,
         "arrival_date_day_of_month": 15.74896968586867,
         "stays_in_weekend_nights": 0.9275574686326586,
         "stays_in_week_nights": 2.4955088871198403,
         "adults": 1.852550599871783,
         "children": 0.09740099620259407,
         "babies": 0.008284782348341282,
         "is_repeated_guest": 0.031363818890149144,
         "previous_cancellations": 0.12541300626290094,
         "previous_bookings_not_canceled": 0.12032660077352815,
         "booking_changes": 0.21393900540342523,
         "agent": 85.68585365056539,
         "company": 183.23606153846154,
         "days_in_waiting_list": 2.305564753041628,
         "adr": 99.41691638428426,
         "required_car_parking_spaces": 0.062128822729610345,
         "total_of_special_requests": 0.549676992116776,
         "_deepnote_index_column": "mean"
        },
        {
         "is_canceled": 0.4834047955855685,
         "lead_time": 106.47856902986993,
         "arrival_date_year": 0.6513515504124902,
         "arrival_date_week_number": 13.604757514848018,
         "arrival_date_day_of_month": 8.737313713570279,
         "stays_in_weekend_nights": 1.0008171370477736,
         "stays_in_week_nights": 1.909783631439016,
         "adults": 0.6285531021828248,
         "children": 0.38854904696957465,
         "babies": 0.10051987138574292,
         "is_repeated_guest": 0.17429958055239536,
         "previous_cancellations": 1.0596306484679525,
         "previous_bookings_not_canceled": 1.3817979902853195,
         "booking_changes": 0.6364789585216787,
         "agent": 109.62859760948038,
         "company": 128.92194996169698,
         "days_in_waiting_list": 16.938253080382413,
         "adr": 49.67554930500768,
         "required_car_parking_spaces": 0.24420474920925642,
         "total_of_special_requests": 0.7865410979413935,
         "_deepnote_index_column": "std"
        },
        {
         "is_canceled": 0,
         "lead_time": 0,
         "arrival_date_year": 2018,
         "arrival_date_week_number": 1,
         "arrival_date_day_of_month": 1,
         "stays_in_weekend_nights": 0,
         "stays_in_week_nights": 0,
         "adults": 0,
         "children": 0,
         "babies": 0,
         "is_repeated_guest": 0,
         "previous_cancellations": 0,
         "previous_bookings_not_canceled": 0,
         "booking_changes": 0,
         "agent": 1,
         "company": 6,
         "days_in_waiting_list": 0,
         "adr": -6.38,
         "required_car_parking_spaces": 0,
         "total_of_special_requests": 0,
         "_deepnote_index_column": "min"
        },
        {
         "is_canceled": 0,
         "lead_time": 17,
         "arrival_date_year": 2019,
         "arrival_date_week_number": 18,
         "arrival_date_day_of_month": 8,
         "stays_in_weekend_nights": 0,
         "stays_in_week_nights": 1,
         "adults": 2,
         "children": 0,
         "babies": 0,
         "is_repeated_guest": 0,
         "previous_cancellations": 0,
         "previous_bookings_not_canceled": 0,
         "booking_changes": 0,
         "agent": 9,
         "company": 51,
         "days_in_waiting_list": 0,
         "adr": 65.75,
         "required_car_parking_spaces": 0,
         "total_of_special_requests": 0,
         "_deepnote_index_column": "25%"
        },
        {
         "is_canceled": 0,
         "lead_time": 68,
         "arrival_date_year": 2019,
         "arrival_date_week_number": 30,
         "arrival_date_day_of_month": 16,
         "stays_in_weekend_nights": 1,
         "stays_in_week_nights": 2,
         "adults": 2,
         "children": 0,
         "babies": 0,
         "is_repeated_guest": 0,
         "previous_cancellations": 0,
         "previous_bookings_not_canceled": 0,
         "booking_changes": 0,
         "agent": 14,
         "company": 174,
         "days_in_waiting_list": 0,
         "adr": 90.95,
         "required_car_parking_spaces": 0,
         "total_of_special_requests": 0,
         "_deepnote_index_column": "50%"
        },
        {
         "is_canceled": 1,
         "lead_time": 158,
         "arrival_date_year": 2020,
         "arrival_date_week_number": 40,
         "arrival_date_day_of_month": 23,
         "stays_in_weekend_nights": 2,
         "stays_in_week_nights": 3,
         "adults": 2,
         "children": 0,
         "babies": 0,
         "is_repeated_guest": 0,
         "previous_cancellations": 0,
         "previous_bookings_not_canceled": 0,
         "booking_changes": 0,
         "agent": 229,
         "company": 269,
         "days_in_waiting_list": 0,
         "adr": 123,
         "required_car_parking_spaces": 0,
         "total_of_special_requests": 1,
         "_deepnote_index_column": "75%"
        },
        {
         "is_canceled": 1,
         "lead_time": 737,
         "arrival_date_year": 2020,
         "arrival_date_week_number": 53,
         "arrival_date_day_of_month": 31,
         "stays_in_weekend_nights": 19,
         "stays_in_week_nights": 50,
         "adults": 55,
         "children": 10,
         "babies": 10,
         "is_repeated_guest": 1,
         "previous_cancellations": 26,
         "previous_bookings_not_canceled": 72,
         "booking_changes": 21,
         "agent": 535,
         "company": 543,
         "days_in_waiting_list": 391,
         "adr": 5400,
         "required_car_parking_spaces": 8,
         "total_of_special_requests": 5,
         "_deepnote_index_column": "max"
        }
       ]
      },
      "text/plain": "         is_canceled      lead_time  arrival_date_year  \\\ncount  141947.000000  141947.000000      141947.000000   \nmean        0.372245     102.821102        2019.131676   \nstd         0.483405     106.478569           0.651352   \nmin         0.000000       0.000000        2018.000000   \n25%         0.000000      17.000000        2019.000000   \n50%         0.000000      68.000000        2019.000000   \n75%         1.000000     158.000000        2020.000000   \nmax         1.000000     737.000000        2020.000000   \n\n       arrival_date_week_number  arrival_date_day_of_month  \\\ncount             141947.000000              141947.000000   \nmean                  29.061058                  15.748970   \nstd                   13.604758                   8.737314   \nmin                    1.000000                   1.000000   \n25%                   18.000000                   8.000000   \n50%                   30.000000                  16.000000   \n75%                   40.000000                  23.000000   \nmax                   53.000000                  31.000000   \n\n       stays_in_weekend_nights  stays_in_week_nights         adults  \\\ncount            141947.000000         141947.000000  141947.000000   \nmean                  0.927557              2.495509       1.852551   \nstd                   1.000817              1.909784       0.628553   \nmin                   0.000000              0.000000       0.000000   \n25%                   0.000000              1.000000       2.000000   \n50%                   1.000000              2.000000       2.000000   \n75%                   2.000000              3.000000       2.000000   \nmax                  19.000000             50.000000      55.000000   \n\n            children         babies  is_repeated_guest  \\\ncount  141939.000000  141947.000000      141947.000000   \nmean        0.097401       0.008285           0.031364   \nstd         0.388549       0.100520           0.174300   \nmin         0.000000       0.000000           0.000000   \n25%         0.000000       0.000000           0.000000   \n50%         0.000000       0.000000           0.000000   \n75%         0.000000       0.000000           0.000000   \nmax        10.000000      10.000000           1.000000   \n\n       previous_cancellations  previous_bookings_not_canceled  \\\ncount           141947.000000                   141947.000000   \nmean                 0.125413                        0.120327   \nstd                  1.059631                        1.381798   \nmin                  0.000000                        0.000000   \n25%                  0.000000                        0.000000   \n50%                  0.000000                        0.000000   \n75%                  0.000000                        0.000000   \nmax                 26.000000                       72.000000   \n\n       booking_changes          agent      company  days_in_waiting_list  \\\ncount    141947.000000  122392.000000  8125.000000         141947.000000   \nmean          0.213939      85.685854   183.236062              2.305565   \nstd           0.636479     109.628598   128.921950             16.938253   \nmin           0.000000       1.000000     6.000000              0.000000   \n25%           0.000000       9.000000    51.000000              0.000000   \n50%           0.000000      14.000000   174.000000              0.000000   \n75%           0.000000     229.000000   269.000000              0.000000   \nmax          21.000000     535.000000   543.000000            391.000000   \n\n                 adr  required_car_parking_spaces  total_of_special_requests  \ncount  141947.000000                141947.000000              141947.000000  \nmean       99.416916                     0.062129                   0.549677  \nstd        49.675549                     0.244205                   0.786541  \nmin        -6.380000                     0.000000                   0.000000  \n25%        65.750000                     0.000000                   0.000000  \n50%        90.950000                     0.000000                   0.000000  \n75%       123.000000                     0.000000                   1.000000  \nmax      5400.000000                     8.000000                   5.000000  ",
      "text/html": "<div>\n<style scoped>\n    .dataframe tbody tr th:only-of-type {\n        vertical-align: middle;\n    }\n\n    .dataframe tbody tr th {\n        vertical-align: top;\n    }\n\n    .dataframe thead th {\n        text-align: right;\n    }\n</style>\n<table border=\"1\" class=\"dataframe\">\n  <thead>\n    <tr style=\"text-align: right;\">\n      <th></th>\n      <th>is_canceled</th>\n      <th>lead_time</th>\n      <th>arrival_date_year</th>\n      <th>arrival_date_week_number</th>\n      <th>arrival_date_day_of_month</th>\n      <th>stays_in_weekend_nights</th>\n      <th>stays_in_week_nights</th>\n      <th>adults</th>\n      <th>children</th>\n      <th>babies</th>\n      <th>is_repeated_guest</th>\n      <th>previous_cancellations</th>\n      <th>previous_bookings_not_canceled</th>\n      <th>booking_changes</th>\n      <th>agent</th>\n      <th>company</th>\n      <th>days_in_waiting_list</th>\n      <th>adr</th>\n      <th>required_car_parking_spaces</th>\n      <th>total_of_special_requests</th>\n    </tr>\n  </thead>\n  <tbody>\n    <tr>\n      <th>count</th>\n      <td>141947.000000</td>\n      <td>141947.000000</td>\n      <td>141947.000000</td>\n      <td>141947.000000</td>\n      <td>141947.000000</td>\n      <td>141947.000000</td>\n      <td>141947.000000</td>\n      <td>141947.000000</td>\n      <td>141939.000000</td>\n      <td>141947.000000</td>\n      <td>141947.000000</td>\n      <td>141947.000000</td>\n      <td>141947.000000</td>\n      <td>141947.000000</td>\n      <td>122392.000000</td>\n      <td>8125.000000</td>\n      <td>141947.000000</td>\n      <td>141947.000000</td>\n      <td>141947.000000</td>\n      <td>141947.000000</td>\n    </tr>\n    <tr>\n      <th>mean</th>\n      <td>0.372245</td>\n      <td>102.821102</td>\n      <td>2019.131676</td>\n      <td>29.061058</td>\n      <td>15.748970</td>\n      <td>0.927557</td>\n      <td>2.495509</td>\n      <td>1.852551</td>\n      <td>0.097401</td>\n      <td>0.008285</td>\n      <td>0.031364</td>\n      <td>0.125413</td>\n      <td>0.120327</td>\n      <td>0.213939</td>\n      <td>85.685854</td>\n      <td>183.236062</td>\n      <td>2.305565</td>\n      <td>99.416916</td>\n      <td>0.062129</td>\n      <td>0.549677</td>\n    </tr>\n    <tr>\n      <th>std</th>\n      <td>0.483405</td>\n      <td>106.478569</td>\n      <td>0.651352</td>\n      <td>13.604758</td>\n      <td>8.737314</td>\n      <td>1.000817</td>\n      <td>1.909784</td>\n      <td>0.628553</td>\n      <td>0.388549</td>\n      <td>0.100520</td>\n      <td>0.174300</td>\n      <td>1.059631</td>\n      <td>1.381798</td>\n      <td>0.636479</td>\n      <td>109.628598</td>\n      <td>128.921950</td>\n      <td>16.938253</td>\n      <td>49.675549</td>\n      <td>0.244205</td>\n      <td>0.786541</td>\n    </tr>\n    <tr>\n      <th>min</th>\n      <td>0.000000</td>\n      <td>0.000000</td>\n      <td>2018.000000</td>\n      <td>1.000000</td>\n      <td>1.000000</td>\n      <td>0.000000</td>\n      <td>0.000000</td>\n      <td>0.000000</td>\n      <td>0.000000</td>\n      <td>0.000000</td>\n      <td>0.000000</td>\n      <td>0.000000</td>\n      <td>0.000000</td>\n      <td>0.000000</td>\n      <td>1.000000</td>\n      <td>6.000000</td>\n      <td>0.000000</td>\n      <td>-6.380000</td>\n      <td>0.000000</td>\n      <td>0.000000</td>\n    </tr>\n    <tr>\n      <th>25%</th>\n      <td>0.000000</td>\n      <td>17.000000</td>\n      <td>2019.000000</td>\n      <td>18.000000</td>\n      <td>8.000000</td>\n      <td>0.000000</td>\n      <td>1.000000</td>\n      <td>2.000000</td>\n      <td>0.000000</td>\n      <td>0.000000</td>\n      <td>0.000000</td>\n      <td>0.000000</td>\n      <td>0.000000</td>\n      <td>0.000000</td>\n      <td>9.000000</td>\n      <td>51.000000</td>\n      <td>0.000000</td>\n      <td>65.750000</td>\n      <td>0.000000</td>\n      <td>0.000000</td>\n    </tr>\n    <tr>\n      <th>50%</th>\n      <td>0.000000</td>\n      <td>68.000000</td>\n      <td>2019.000000</td>\n      <td>30.000000</td>\n      <td>16.000000</td>\n      <td>1.000000</td>\n      <td>2.000000</td>\n      <td>2.000000</td>\n      <td>0.000000</td>\n      <td>0.000000</td>\n      <td>0.000000</td>\n      <td>0.000000</td>\n      <td>0.000000</td>\n      <td>0.000000</td>\n      <td>14.000000</td>\n      <td>174.000000</td>\n      <td>0.000000</td>\n      <td>90.950000</td>\n      <td>0.000000</td>\n      <td>0.000000</td>\n    </tr>\n    <tr>\n      <th>75%</th>\n      <td>1.000000</td>\n      <td>158.000000</td>\n      <td>2020.000000</td>\n      <td>40.000000</td>\n      <td>23.000000</td>\n      <td>2.000000</td>\n      <td>3.000000</td>\n      <td>2.000000</td>\n      <td>0.000000</td>\n      <td>0.000000</td>\n      <td>0.000000</td>\n      <td>0.000000</td>\n      <td>0.000000</td>\n      <td>0.000000</td>\n      <td>229.000000</td>\n      <td>269.000000</td>\n      <td>0.000000</td>\n      <td>123.000000</td>\n      <td>0.000000</td>\n      <td>1.000000</td>\n    </tr>\n    <tr>\n      <th>max</th>\n      <td>1.000000</td>\n      <td>737.000000</td>\n      <td>2020.000000</td>\n      <td>53.000000</td>\n      <td>31.000000</td>\n      <td>19.000000</td>\n      <td>50.000000</td>\n      <td>55.000000</td>\n      <td>10.000000</td>\n      <td>10.000000</td>\n      <td>1.000000</td>\n      <td>26.000000</td>\n      <td>72.000000</td>\n      <td>21.000000</td>\n      <td>535.000000</td>\n      <td>543.000000</td>\n      <td>391.000000</td>\n      <td>5400.000000</td>\n      <td>8.000000</td>\n      <td>5.000000</td>\n    </tr>\n  </tbody>\n</table>\n</div>"
     },
     "metadata": {}
    }
   ]
  },
  {
   "cell_type": "code",
   "metadata": {
    "cell_id": "1521b2fcecff4120a0d07cf25a15f458",
    "tags": [],
    "deepnote_to_be_reexecuted": false,
    "source_hash": "de1e323c",
    "execution_start": 1660314356134,
    "execution_millis": 180,
    "deepnote_cell_type": "code",
    "deepnote_cell_height": 696
   },
   "source": "df.info()",
   "execution_count": null,
   "outputs": [
    {
     "name": "stdout",
     "text": "<class 'pandas.core.frame.DataFrame'>\nRangeIndex: 141947 entries, 0 to 141946\nData columns (total 32 columns):\n #   Column                          Non-Null Count   Dtype  \n---  ------                          --------------   -----  \n 0   hotel                           141947 non-null  object \n 1   is_canceled                     141947 non-null  int64  \n 2   lead_time                       141947 non-null  int64  \n 3   arrival_date_year               141947 non-null  int64  \n 4   arrival_date_month              141947 non-null  object \n 5   arrival_date_week_number        141947 non-null  int64  \n 6   arrival_date_day_of_month       141947 non-null  int64  \n 7   stays_in_weekend_nights         141947 non-null  int64  \n 8   stays_in_week_nights            141947 non-null  int64  \n 9   adults                          141947 non-null  int64  \n 10  children                        141939 non-null  float64\n 11  babies                          141947 non-null  int64  \n 12  meal                            141947 non-null  object \n 13  country                         141322 non-null  object \n 14  market_segment                  141947 non-null  object \n 15  distribution_channel            141947 non-null  object \n 16  is_repeated_guest               141947 non-null  int64  \n 17  previous_cancellations          141947 non-null  int64  \n 18  previous_bookings_not_canceled  141947 non-null  int64  \n 19  reserved_room_type              141947 non-null  object \n 20  assigned_room_type              141947 non-null  object \n 21  booking_changes                 141947 non-null  int64  \n 22  deposit_type                    141947 non-null  object \n 23  agent                           122392 non-null  float64\n 24  company                         8125 non-null    float64\n 25  days_in_waiting_list            141947 non-null  int64  \n 26  customer_type                   141947 non-null  object \n 27  adr                             141947 non-null  float64\n 28  required_car_parking_spaces     141947 non-null  int64  \n 29  total_of_special_requests       141947 non-null  int64  \n 30  reservation_status              141947 non-null  object \n 31  reservation_status_date         141947 non-null  object \ndtypes: float64(4), int64(16), object(12)\nmemory usage: 34.7+ MB\n",
     "output_type": "stream"
    }
   ]
  },
  {
   "cell_type": "code",
   "metadata": {
    "cell_id": "030bd7a48b204224a20e8e6138af8540",
    "tags": [],
    "deepnote_to_be_reexecuted": false,
    "source_hash": "33ced542",
    "execution_start": 1660314356364,
    "execution_millis": 0,
    "deepnote_cell_type": "code",
    "deepnote_cell_height": 342.375,
    "deepnote_output_heights": [
     232.390625
    ]
   },
   "source": "# Overview of the dataset columns\ndf.columns",
   "execution_count": null,
   "outputs": [
    {
     "output_type": "execute_result",
     "execution_count": 17,
     "data": {
      "text/plain": "Index(['hotel', 'is_canceled', 'lead_time', 'arrival_date_year',\n       'arrival_date_month', 'arrival_date_week_number',\n       'arrival_date_day_of_month', 'stays_in_weekend_nights',\n       'stays_in_week_nights', 'adults', 'children', 'babies', 'meal',\n       'country', 'market_segment', 'distribution_channel',\n       'is_repeated_guest', 'previous_cancellations',\n       'previous_bookings_not_canceled', 'reserved_room_type',\n       'assigned_room_type', 'booking_changes', 'deposit_type', 'agent',\n       'company', 'days_in_waiting_list', 'customer_type', 'adr',\n       'required_car_parking_spaces', 'total_of_special_requests',\n       'reservation_status', 'reservation_status_date'],\n      dtype='object')"
     },
     "metadata": {}
    }
   ]
  },
  {
   "cell_type": "code",
   "metadata": {
    "cell_id": "f1c5d393df3748ebb0ee89cea25fd2d3",
    "tags": [],
    "deepnote_to_be_reexecuted": false,
    "source_hash": "3adbbc88",
    "execution_start": 1660314356410,
    "execution_millis": 46,
    "deepnote_cell_type": "code",
    "deepnote_cell_height": 531
   },
   "source": "# Market Segment/Discount dataframe\ndf_ms",
   "execution_count": null,
   "outputs": [
    {
     "output_type": "execute_result",
     "execution_count": 18,
     "data": {
      "application/vnd.deepnote.dataframe.v3+json": {
       "column_count": 2,
       "row_count": 8,
       "columns": [
        {
         "name": "Discount",
         "dtype": "float64",
         "stats": {
          "unique_count": 6,
          "nan_count": 0,
          "min": "0.0",
          "max": "1.0",
          "histogram": [
           {
            "bin_start": 0,
            "bin_end": 0.1,
            "count": 1
           },
           {
            "bin_start": 0.1,
            "bin_end": 0.2,
            "count": 3
           },
           {
            "bin_start": 0.2,
            "bin_end": 0.30000000000000004,
            "count": 3
           },
           {
            "bin_start": 0.30000000000000004,
            "bin_end": 0.4,
            "count": 0
           },
           {
            "bin_start": 0.4,
            "bin_end": 0.5,
            "count": 0
           },
           {
            "bin_start": 0.5,
            "bin_end": 0.6000000000000001,
            "count": 0
           },
           {
            "bin_start": 0.6000000000000001,
            "bin_end": 0.7000000000000001,
            "count": 0
           },
           {
            "bin_start": 0.7000000000000001,
            "bin_end": 0.8,
            "count": 0
           },
           {
            "bin_start": 0.8,
            "bin_end": 0.9,
            "count": 0
           },
           {
            "bin_start": 0.9,
            "bin_end": 1,
            "count": 1
           }
          ]
         }
        },
        {
         "name": "market_segment",
         "dtype": "object",
         "stats": {
          "unique_count": 8,
          "nan_count": 0,
          "categories": [
           {
            "name": "Undefined",
            "count": 1
           },
           {
            "name": "Direct",
            "count": 1
           },
           {
            "name": "6 others",
            "count": 6
           }
          ]
         }
        },
        {
         "name": "_deepnote_index_column",
         "dtype": "int64"
        }
       ],
       "rows": [
        {
         "Discount": 0,
         "market_segment": "Undefined",
         "_deepnote_index_column": 0
        },
        {
         "Discount": 0.1,
         "market_segment": "Direct",
         "_deepnote_index_column": 1
        },
        {
         "Discount": 0.1,
         "market_segment": "Groups",
         "_deepnote_index_column": 2
        },
        {
         "Discount": 0.15,
         "market_segment": "Corporate",
         "_deepnote_index_column": 3
        },
        {
         "Discount": 0.2,
         "market_segment": "Aviation",
         "_deepnote_index_column": 4
        },
        {
         "Discount": 0.3,
         "market_segment": "Offline TA/TO",
         "_deepnote_index_column": 5
        },
        {
         "Discount": 0.3,
         "market_segment": "Online TA",
         "_deepnote_index_column": 6
        },
        {
         "Discount": 1,
         "market_segment": "Complementary",
         "_deepnote_index_column": 7
        }
       ]
      },
      "text/plain": "   Discount market_segment\n0      0.00      Undefined\n1      0.10         Direct\n2      0.10         Groups\n3      0.15      Corporate\n4      0.20       Aviation\n5      0.30  Offline TA/TO\n6      0.30      Online TA\n7      1.00  Complementary",
      "text/html": "<div>\n<style scoped>\n    .dataframe tbody tr th:only-of-type {\n        vertical-align: middle;\n    }\n\n    .dataframe tbody tr th {\n        vertical-align: top;\n    }\n\n    .dataframe thead th {\n        text-align: right;\n    }\n</style>\n<table border=\"1\" class=\"dataframe\">\n  <thead>\n    <tr style=\"text-align: right;\">\n      <th></th>\n      <th>Discount</th>\n      <th>market_segment</th>\n    </tr>\n  </thead>\n  <tbody>\n    <tr>\n      <th>0</th>\n      <td>0.00</td>\n      <td>Undefined</td>\n    </tr>\n    <tr>\n      <th>1</th>\n      <td>0.10</td>\n      <td>Direct</td>\n    </tr>\n    <tr>\n      <th>2</th>\n      <td>0.10</td>\n      <td>Groups</td>\n    </tr>\n    <tr>\n      <th>3</th>\n      <td>0.15</td>\n      <td>Corporate</td>\n    </tr>\n    <tr>\n      <th>4</th>\n      <td>0.20</td>\n      <td>Aviation</td>\n    </tr>\n    <tr>\n      <th>5</th>\n      <td>0.30</td>\n      <td>Offline TA/TO</td>\n    </tr>\n    <tr>\n      <th>6</th>\n      <td>0.30</td>\n      <td>Online TA</td>\n    </tr>\n    <tr>\n      <th>7</th>\n      <td>1.00</td>\n      <td>Complementary</td>\n    </tr>\n  </tbody>\n</table>\n</div>"
     },
     "metadata": {}
    }
   ]
  },
  {
   "cell_type": "code",
   "metadata": {
    "cell_id": "11e104bef07a47b599a821fc43092b9a",
    "tags": [],
    "deepnote_to_be_reexecuted": false,
    "source_hash": "32f7f5b3",
    "execution_start": 1660314356454,
    "execution_millis": 2,
    "deepnote_cell_type": "code",
    "deepnote_cell_height": 264.578125,
    "deepnote_output_heights": [
     59.59375
    ]
   },
   "source": "# Market Segment with largest discount value\n\n# max_discount = df_ms['Discount'].max()\n# max_discount_type = df_ms['market_segment'][df_ms['Discount'] == max_discount].values[0]\n# print(max_discount_type, max_discount) ## Alt approach\n\ndf_ms.loc[df_ms['Discount'].idxmax()]",
   "execution_count": null,
   "outputs": [
    {
     "output_type": "execute_result",
     "execution_count": 19,
     "data": {
      "text/plain": "Discount                    1.0\nmarket_segment    Complementary\nName: 7, dtype: object"
     },
     "metadata": {}
    }
   ]
  },
  {
   "cell_type": "code",
   "metadata": {
    "cell_id": "0b7294344d094fcea54ffe02b028d104",
    "tags": [],
    "deepnote_to_be_reexecuted": false,
    "source_hash": "51b8e11f",
    "execution_start": 1660314356628,
    "execution_millis": 123819,
    "deepnote_cell_type": "code",
    "deepnote_cell_height": 465.796875
   },
   "source": "# Adding \"Discount\" column to full dataframe to ease revenue calculations\ndiscount = [df_ms[df_ms['market_segment'] == (df['market_segment']).values[i]]['Discount'].values[0] for i in df.index]\ndf.insert(16, 'Discount', discount)\ndf.head()",
   "execution_count": null,
   "outputs": [
    {
     "output_type": "execute_result",
     "execution_count": 20,
     "data": {
      "application/vnd.deepnote.dataframe.v3+json": {
       "column_count": 33,
       "row_count": 5,
       "columns": [
        {
         "name": "hotel",
         "dtype": "object",
         "stats": {
          "unique_count": 1,
          "nan_count": 0,
          "categories": [
           {
            "name": "Resort Hotel",
            "count": 5
           }
          ]
         }
        },
        {
         "name": "is_canceled",
         "dtype": "int64",
         "stats": {
          "unique_count": 1,
          "nan_count": 0,
          "min": "1",
          "max": "1",
          "histogram": [
           {
            "bin_start": 0.5,
            "bin_end": 0.6,
            "count": 0
           },
           {
            "bin_start": 0.6,
            "bin_end": 0.7,
            "count": 0
           },
           {
            "bin_start": 0.7,
            "bin_end": 0.8,
            "count": 0
           },
           {
            "bin_start": 0.8,
            "bin_end": 0.9,
            "count": 0
           },
           {
            "bin_start": 0.9,
            "bin_end": 1,
            "count": 0
           },
           {
            "bin_start": 1,
            "bin_end": 1.1,
            "count": 5
           },
           {
            "bin_start": 1.1,
            "bin_end": 1.2000000000000002,
            "count": 0
           },
           {
            "bin_start": 1.2000000000000002,
            "bin_end": 1.3,
            "count": 0
           },
           {
            "bin_start": 1.3,
            "bin_end": 1.4,
            "count": 0
           },
           {
            "bin_start": 1.4,
            "bin_end": 1.5,
            "count": 0
           }
          ]
         }
        },
        {
         "name": "lead_time",
         "dtype": "int64",
         "stats": {
          "unique_count": 5,
          "nan_count": 0,
          "min": "23",
          "max": "96",
          "histogram": [
           {
            "bin_start": 23,
            "bin_end": 30.3,
            "count": 1
           },
           {
            "bin_start": 30.3,
            "bin_end": 37.6,
            "count": 0
           },
           {
            "bin_start": 37.6,
            "bin_end": 44.9,
            "count": 0
           },
           {
            "bin_start": 44.9,
            "bin_end": 52.2,
            "count": 0
           },
           {
            "bin_start": 52.2,
            "bin_end": 59.5,
            "count": 0
           },
           {
            "bin_start": 59.5,
            "bin_end": 66.8,
            "count": 1
           },
           {
            "bin_start": 66.8,
            "bin_end": 74.1,
            "count": 0
           },
           {
            "bin_start": 74.1,
            "bin_end": 81.4,
            "count": 1
           },
           {
            "bin_start": 81.4,
            "bin_end": 88.7,
            "count": 1
           },
           {
            "bin_start": 88.7,
            "bin_end": 96,
            "count": 1
           }
          ]
         }
        },
        {
         "name": "arrival_date_year",
         "dtype": "int64",
         "stats": {
          "unique_count": 1,
          "nan_count": 0,
          "min": "2018",
          "max": "2018",
          "histogram": [
           {
            "bin_start": 2017.5,
            "bin_end": 2017.6,
            "count": 0
           },
           {
            "bin_start": 2017.6,
            "bin_end": 2017.7,
            "count": 0
           },
           {
            "bin_start": 2017.7,
            "bin_end": 2017.8,
            "count": 0
           },
           {
            "bin_start": 2017.8,
            "bin_end": 2017.9,
            "count": 0
           },
           {
            "bin_start": 2017.9,
            "bin_end": 2018,
            "count": 0
           },
           {
            "bin_start": 2018,
            "bin_end": 2018.1,
            "count": 5
           },
           {
            "bin_start": 2018.1,
            "bin_end": 2018.2,
            "count": 0
           },
           {
            "bin_start": 2018.2,
            "bin_end": 2018.3,
            "count": 0
           },
           {
            "bin_start": 2018.3,
            "bin_end": 2018.4,
            "count": 0
           },
           {
            "bin_start": 2018.4,
            "bin_end": 2018.5,
            "count": 0
           }
          ]
         }
        },
        {
         "name": "arrival_date_month",
         "dtype": "object",
         "stats": {
          "unique_count": 1,
          "nan_count": 0,
          "categories": [
           {
            "name": "July",
            "count": 5
           }
          ]
         }
        },
        {
         "name": "arrival_date_week_number",
         "dtype": "int64",
         "stats": {
          "unique_count": 1,
          "nan_count": 0,
          "min": "27",
          "max": "27",
          "histogram": [
           {
            "bin_start": 26.5,
            "bin_end": 26.6,
            "count": 0
           },
           {
            "bin_start": 26.6,
            "bin_end": 26.7,
            "count": 0
           },
           {
            "bin_start": 26.7,
            "bin_end": 26.8,
            "count": 0
           },
           {
            "bin_start": 26.8,
            "bin_end": 26.9,
            "count": 0
           },
           {
            "bin_start": 26.9,
            "bin_end": 27,
            "count": 0
           },
           {
            "bin_start": 27,
            "bin_end": 27.1,
            "count": 5
           },
           {
            "bin_start": 27.1,
            "bin_end": 27.2,
            "count": 0
           },
           {
            "bin_start": 27.2,
            "bin_end": 27.3,
            "count": 0
           },
           {
            "bin_start": 27.3,
            "bin_end": 27.4,
            "count": 0
           },
           {
            "bin_start": 27.4,
            "bin_end": 27.5,
            "count": 0
           }
          ]
         }
        },
        {
         "name": "arrival_date_day_of_month",
         "dtype": "int64",
         "stats": {
          "unique_count": 1,
          "nan_count": 0,
          "min": "1",
          "max": "1",
          "histogram": [
           {
            "bin_start": 0.5,
            "bin_end": 0.6,
            "count": 0
           },
           {
            "bin_start": 0.6,
            "bin_end": 0.7,
            "count": 0
           },
           {
            "bin_start": 0.7,
            "bin_end": 0.8,
            "count": 0
           },
           {
            "bin_start": 0.8,
            "bin_end": 0.9,
            "count": 0
           },
           {
            "bin_start": 0.9,
            "bin_end": 1,
            "count": 0
           },
           {
            "bin_start": 1,
            "bin_end": 1.1,
            "count": 5
           },
           {
            "bin_start": 1.1,
            "bin_end": 1.2000000000000002,
            "count": 0
           },
           {
            "bin_start": 1.2000000000000002,
            "bin_end": 1.3,
            "count": 0
           },
           {
            "bin_start": 1.3,
            "bin_end": 1.4,
            "count": 0
           },
           {
            "bin_start": 1.4,
            "bin_end": 1.5,
            "count": 0
           }
          ]
         }
        },
        {
         "name": "stays_in_weekend_nights",
         "dtype": "int64",
         "stats": {
          "unique_count": 2,
          "nan_count": 0,
          "min": "0",
          "max": "2",
          "histogram": [
           {
            "bin_start": 0,
            "bin_end": 0.2,
            "count": 3
           },
           {
            "bin_start": 0.2,
            "bin_end": 0.4,
            "count": 0
           },
           {
            "bin_start": 0.4,
            "bin_end": 0.6000000000000001,
            "count": 0
           },
           {
            "bin_start": 0.6000000000000001,
            "bin_end": 0.8,
            "count": 0
           },
           {
            "bin_start": 0.8,
            "bin_end": 1,
            "count": 0
           },
           {
            "bin_start": 1,
            "bin_end": 1.2000000000000002,
            "count": 0
           },
           {
            "bin_start": 1.2000000000000002,
            "bin_end": 1.4000000000000001,
            "count": 0
           },
           {
            "bin_start": 1.4000000000000001,
            "bin_end": 1.6,
            "count": 0
           },
           {
            "bin_start": 1.6,
            "bin_end": 1.8,
            "count": 0
           },
           {
            "bin_start": 1.8,
            "bin_end": 2,
            "count": 2
           }
          ]
         }
        },
        {
         "name": "stays_in_week_nights",
         "dtype": "int64",
         "stats": {
          "unique_count": 4,
          "nan_count": 0,
          "min": "3",
          "max": "8",
          "histogram": [
           {
            "bin_start": 3,
            "bin_end": 3.5,
            "count": 2
           },
           {
            "bin_start": 3.5,
            "bin_end": 4,
            "count": 0
           },
           {
            "bin_start": 4,
            "bin_end": 4.5,
            "count": 1
           },
           {
            "bin_start": 4.5,
            "bin_end": 5,
            "count": 0
           },
           {
            "bin_start": 5,
            "bin_end": 5.5,
            "count": 1
           },
           {
            "bin_start": 5.5,
            "bin_end": 6,
            "count": 0
           },
           {
            "bin_start": 6,
            "bin_end": 6.5,
            "count": 0
           },
           {
            "bin_start": 6.5,
            "bin_end": 7,
            "count": 0
           },
           {
            "bin_start": 7,
            "bin_end": 7.5,
            "count": 0
           },
           {
            "bin_start": 7.5,
            "bin_end": 8,
            "count": 1
           }
          ]
         }
        },
        {
         "name": "adults",
         "dtype": "int64",
         "stats": {
          "unique_count": 1,
          "nan_count": 0,
          "min": "2",
          "max": "2",
          "histogram": [
           {
            "bin_start": 1.5,
            "bin_end": 1.6,
            "count": 0
           },
           {
            "bin_start": 1.6,
            "bin_end": 1.7,
            "count": 0
           },
           {
            "bin_start": 1.7,
            "bin_end": 1.8,
            "count": 0
           },
           {
            "bin_start": 1.8,
            "bin_end": 1.9,
            "count": 0
           },
           {
            "bin_start": 1.9,
            "bin_end": 2,
            "count": 0
           },
           {
            "bin_start": 2,
            "bin_end": 2.1,
            "count": 5
           },
           {
            "bin_start": 2.1,
            "bin_end": 2.2,
            "count": 0
           },
           {
            "bin_start": 2.2,
            "bin_end": 2.3,
            "count": 0
           },
           {
            "bin_start": 2.3,
            "bin_end": 2.4,
            "count": 0
           },
           {
            "bin_start": 2.4,
            "bin_end": 2.5,
            "count": 0
           }
          ]
         }
        },
        {
         "name": "children",
         "dtype": "float64",
         "stats": {
          "unique_count": 1,
          "nan_count": 0,
          "min": "0.0",
          "max": "0.0",
          "histogram": [
           {
            "bin_start": -0.5,
            "bin_end": -0.4,
            "count": 0
           },
           {
            "bin_start": -0.4,
            "bin_end": -0.3,
            "count": 0
           },
           {
            "bin_start": -0.3,
            "bin_end": -0.19999999999999996,
            "count": 0
           },
           {
            "bin_start": -0.19999999999999996,
            "bin_end": -0.09999999999999998,
            "count": 0
           },
           {
            "bin_start": -0.09999999999999998,
            "bin_end": 0,
            "count": 0
           },
           {
            "bin_start": 0,
            "bin_end": 0.10000000000000009,
            "count": 5
           },
           {
            "bin_start": 0.10000000000000009,
            "bin_end": 0.20000000000000007,
            "count": 0
           },
           {
            "bin_start": 0.20000000000000007,
            "bin_end": 0.30000000000000004,
            "count": 0
           },
           {
            "bin_start": 0.30000000000000004,
            "bin_end": 0.4,
            "count": 0
           },
           {
            "bin_start": 0.4,
            "bin_end": 0.5,
            "count": 0
           }
          ]
         }
        },
        {
         "name": "babies",
         "dtype": "int64",
         "stats": {
          "unique_count": 1,
          "nan_count": 0,
          "min": "0",
          "max": "0",
          "histogram": [
           {
            "bin_start": -0.5,
            "bin_end": -0.4,
            "count": 0
           },
           {
            "bin_start": -0.4,
            "bin_end": -0.3,
            "count": 0
           },
           {
            "bin_start": -0.3,
            "bin_end": -0.19999999999999996,
            "count": 0
           },
           {
            "bin_start": -0.19999999999999996,
            "bin_end": -0.09999999999999998,
            "count": 0
           },
           {
            "bin_start": -0.09999999999999998,
            "bin_end": 0,
            "count": 0
           },
           {
            "bin_start": 0,
            "bin_end": 0.10000000000000009,
            "count": 5
           },
           {
            "bin_start": 0.10000000000000009,
            "bin_end": 0.20000000000000007,
            "count": 0
           },
           {
            "bin_start": 0.20000000000000007,
            "bin_end": 0.30000000000000004,
            "count": 0
           },
           {
            "bin_start": 0.30000000000000004,
            "bin_end": 0.4,
            "count": 0
           },
           {
            "bin_start": 0.4,
            "bin_end": 0.5,
            "count": 0
           }
          ]
         }
        },
        {
         "name": "meal",
         "dtype": "object",
         "stats": {
          "unique_count": 2,
          "nan_count": 0,
          "categories": [
           {
            "name": "BB",
            "count": 4
           },
           {
            "name": "HB",
            "count": 1
           }
          ]
         }
        },
        {
         "name": "country",
         "dtype": "object",
         "stats": {
          "unique_count": 1,
          "nan_count": 0,
          "categories": [
           {
            "name": "PRT",
            "count": 5
           }
          ]
         }
        },
        {
         "name": "market_segment",
         "dtype": "object",
         "stats": {
          "unique_count": 3,
          "nan_count": 0,
          "categories": [
           {
            "name": "Online TA",
            "count": 3
           },
           {
            "name": "Offline TA/TO",
            "count": 1
           },
           {
            "name": "Direct",
            "count": 1
           }
          ]
         }
        },
        {
         "name": "distribution_channel",
         "dtype": "object",
         "stats": {
          "unique_count": 2,
          "nan_count": 0,
          "categories": [
           {
            "name": "TA/TO",
            "count": 4
           },
           {
            "name": "Direct",
            "count": 1
           }
          ]
         }
        },
        {
         "name": "Discount",
         "dtype": "float64",
         "stats": {
          "unique_count": 2,
          "nan_count": 0,
          "min": "0.1",
          "max": "0.3",
          "histogram": [
           {
            "bin_start": 0.1,
            "bin_end": 0.12,
            "count": 1
           },
           {
            "bin_start": 0.12,
            "bin_end": 0.14,
            "count": 0
           },
           {
            "bin_start": 0.14,
            "bin_end": 0.16,
            "count": 0
           },
           {
            "bin_start": 0.16,
            "bin_end": 0.18,
            "count": 0
           },
           {
            "bin_start": 0.18,
            "bin_end": 0.19999999999999998,
            "count": 0
           },
           {
            "bin_start": 0.19999999999999998,
            "bin_end": 0.21999999999999997,
            "count": 0
           },
           {
            "bin_start": 0.21999999999999997,
            "bin_end": 0.24,
            "count": 0
           },
           {
            "bin_start": 0.24,
            "bin_end": 0.26,
            "count": 0
           },
           {
            "bin_start": 0.26,
            "bin_end": 0.27999999999999997,
            "count": 0
           },
           {
            "bin_start": 0.27999999999999997,
            "bin_end": 0.3,
            "count": 4
           }
          ]
         }
        },
        {
         "name": "is_repeated_guest",
         "dtype": "int64",
         "stats": {
          "unique_count": 1,
          "nan_count": 0,
          "min": "0",
          "max": "0",
          "histogram": [
           {
            "bin_start": -0.5,
            "bin_end": -0.4,
            "count": 0
           },
           {
            "bin_start": -0.4,
            "bin_end": -0.3,
            "count": 0
           },
           {
            "bin_start": -0.3,
            "bin_end": -0.19999999999999996,
            "count": 0
           },
           {
            "bin_start": -0.19999999999999996,
            "bin_end": -0.09999999999999998,
            "count": 0
           },
           {
            "bin_start": -0.09999999999999998,
            "bin_end": 0,
            "count": 0
           },
           {
            "bin_start": 0,
            "bin_end": 0.10000000000000009,
            "count": 5
           },
           {
            "bin_start": 0.10000000000000009,
            "bin_end": 0.20000000000000007,
            "count": 0
           },
           {
            "bin_start": 0.20000000000000007,
            "bin_end": 0.30000000000000004,
            "count": 0
           },
           {
            "bin_start": 0.30000000000000004,
            "bin_end": 0.4,
            "count": 0
           },
           {
            "bin_start": 0.4,
            "bin_end": 0.5,
            "count": 0
           }
          ]
         }
        },
        {
         "name": "previous_cancellations",
         "dtype": "int64",
         "stats": {
          "unique_count": 1,
          "nan_count": 0,
          "min": "0",
          "max": "0",
          "histogram": [
           {
            "bin_start": -0.5,
            "bin_end": -0.4,
            "count": 0
           },
           {
            "bin_start": -0.4,
            "bin_end": -0.3,
            "count": 0
           },
           {
            "bin_start": -0.3,
            "bin_end": -0.19999999999999996,
            "count": 0
           },
           {
            "bin_start": -0.19999999999999996,
            "bin_end": -0.09999999999999998,
            "count": 0
           },
           {
            "bin_start": -0.09999999999999998,
            "bin_end": 0,
            "count": 0
           },
           {
            "bin_start": 0,
            "bin_end": 0.10000000000000009,
            "count": 5
           },
           {
            "bin_start": 0.10000000000000009,
            "bin_end": 0.20000000000000007,
            "count": 0
           },
           {
            "bin_start": 0.20000000000000007,
            "bin_end": 0.30000000000000004,
            "count": 0
           },
           {
            "bin_start": 0.30000000000000004,
            "bin_end": 0.4,
            "count": 0
           },
           {
            "bin_start": 0.4,
            "bin_end": 0.5,
            "count": 0
           }
          ]
         }
        },
        {
         "name": "previous_bookings_not_canceled",
         "dtype": "int64",
         "stats": {
          "unique_count": 1,
          "nan_count": 0,
          "min": "0",
          "max": "0",
          "histogram": [
           {
            "bin_start": -0.5,
            "bin_end": -0.4,
            "count": 0
           },
           {
            "bin_start": -0.4,
            "bin_end": -0.3,
            "count": 0
           },
           {
            "bin_start": -0.3,
            "bin_end": -0.19999999999999996,
            "count": 0
           },
           {
            "bin_start": -0.19999999999999996,
            "bin_end": -0.09999999999999998,
            "count": 0
           },
           {
            "bin_start": -0.09999999999999998,
            "bin_end": 0,
            "count": 0
           },
           {
            "bin_start": 0,
            "bin_end": 0.10000000000000009,
            "count": 5
           },
           {
            "bin_start": 0.10000000000000009,
            "bin_end": 0.20000000000000007,
            "count": 0
           },
           {
            "bin_start": 0.20000000000000007,
            "bin_end": 0.30000000000000004,
            "count": 0
           },
           {
            "bin_start": 0.30000000000000004,
            "bin_end": 0.4,
            "count": 0
           },
           {
            "bin_start": 0.4,
            "bin_end": 0.5,
            "count": 0
           }
          ]
         }
        },
        {
         "name": "reserved_room_type",
         "dtype": "object",
         "stats": {
          "unique_count": 3,
          "nan_count": 0,
          "categories": [
           {
            "name": "E",
            "count": 3
           },
           {
            "name": "A",
            "count": 1
           },
           {
            "name": "D",
            "count": 1
           }
          ]
         }
        },
        {
         "name": "assigned_room_type",
         "dtype": "object",
         "stats": {
          "unique_count": 3,
          "nan_count": 0,
          "categories": [
           {
            "name": "E",
            "count": 3
           },
           {
            "name": "A",
            "count": 1
           },
           {
            "name": "D",
            "count": 1
           }
          ]
         }
        },
        {
         "name": "booking_changes",
         "dtype": "int64",
         "stats": {
          "unique_count": 1,
          "nan_count": 0,
          "min": "0",
          "max": "0",
          "histogram": [
           {
            "bin_start": -0.5,
            "bin_end": -0.4,
            "count": 0
           },
           {
            "bin_start": -0.4,
            "bin_end": -0.3,
            "count": 0
           },
           {
            "bin_start": -0.3,
            "bin_end": -0.19999999999999996,
            "count": 0
           },
           {
            "bin_start": -0.19999999999999996,
            "bin_end": -0.09999999999999998,
            "count": 0
           },
           {
            "bin_start": -0.09999999999999998,
            "bin_end": 0,
            "count": 0
           },
           {
            "bin_start": 0,
            "bin_end": 0.10000000000000009,
            "count": 5
           },
           {
            "bin_start": 0.10000000000000009,
            "bin_end": 0.20000000000000007,
            "count": 0
           },
           {
            "bin_start": 0.20000000000000007,
            "bin_end": 0.30000000000000004,
            "count": 0
           },
           {
            "bin_start": 0.30000000000000004,
            "bin_end": 0.4,
            "count": 0
           },
           {
            "bin_start": 0.4,
            "bin_end": 0.5,
            "count": 0
           }
          ]
         }
        },
        {
         "name": "deposit_type",
         "dtype": "object",
         "stats": {
          "unique_count": 1,
          "nan_count": 0,
          "categories": [
           {
            "name": "No Deposit",
            "count": 5
           }
          ]
         }
        },
        {
         "name": "agent",
         "dtype": "float64",
         "stats": {
          "unique_count": 2,
          "nan_count": 1,
          "min": "15.0",
          "max": "240.0",
          "histogram": [
           {
            "bin_start": 15,
            "bin_end": 37.5,
            "count": 1
           },
           {
            "bin_start": 37.5,
            "bin_end": 60,
            "count": 0
           },
           {
            "bin_start": 60,
            "bin_end": 82.5,
            "count": 0
           },
           {
            "bin_start": 82.5,
            "bin_end": 105,
            "count": 0
           },
           {
            "bin_start": 105,
            "bin_end": 127.5,
            "count": 0
           },
           {
            "bin_start": 127.5,
            "bin_end": 150,
            "count": 0
           },
           {
            "bin_start": 150,
            "bin_end": 172.5,
            "count": 0
           },
           {
            "bin_start": 172.5,
            "bin_end": 195,
            "count": 0
           },
           {
            "bin_start": 195,
            "bin_end": 217.5,
            "count": 0
           },
           {
            "bin_start": 217.5,
            "bin_end": 240,
            "count": 3
           }
          ]
         }
        },
        {
         "name": "company",
         "dtype": "float64",
         "stats": {
          "unique_count": 0,
          "nan_count": 5,
          "min": null,
          "max": null,
          "histogram": [
           {
            "bin_start": 0,
            "bin_end": 0.1,
            "count": 0
           },
           {
            "bin_start": 0.1,
            "bin_end": 0.2,
            "count": 0
           },
           {
            "bin_start": 0.2,
            "bin_end": 0.30000000000000004,
            "count": 0
           },
           {
            "bin_start": 0.30000000000000004,
            "bin_end": 0.4,
            "count": 0
           },
           {
            "bin_start": 0.4,
            "bin_end": 0.5,
            "count": 0
           },
           {
            "bin_start": 0.5,
            "bin_end": 0.6000000000000001,
            "count": 0
           },
           {
            "bin_start": 0.6000000000000001,
            "bin_end": 0.7000000000000001,
            "count": 0
           },
           {
            "bin_start": 0.7000000000000001,
            "bin_end": 0.8,
            "count": 0
           },
           {
            "bin_start": 0.8,
            "bin_end": 0.9,
            "count": 0
           },
           {
            "bin_start": 0.9,
            "bin_end": 1,
            "count": 0
           }
          ]
         }
        },
        {
         "name": "days_in_waiting_list",
         "dtype": "int64",
         "stats": {
          "unique_count": 1,
          "nan_count": 0,
          "min": "0",
          "max": "0",
          "histogram": [
           {
            "bin_start": -0.5,
            "bin_end": -0.4,
            "count": 0
           },
           {
            "bin_start": -0.4,
            "bin_end": -0.3,
            "count": 0
           },
           {
            "bin_start": -0.3,
            "bin_end": -0.19999999999999996,
            "count": 0
           },
           {
            "bin_start": -0.19999999999999996,
            "bin_end": -0.09999999999999998,
            "count": 0
           },
           {
            "bin_start": -0.09999999999999998,
            "bin_end": 0,
            "count": 0
           },
           {
            "bin_start": 0,
            "bin_end": 0.10000000000000009,
            "count": 5
           },
           {
            "bin_start": 0.10000000000000009,
            "bin_end": 0.20000000000000007,
            "count": 0
           },
           {
            "bin_start": 0.20000000000000007,
            "bin_end": 0.30000000000000004,
            "count": 0
           },
           {
            "bin_start": 0.30000000000000004,
            "bin_end": 0.4,
            "count": 0
           },
           {
            "bin_start": 0.4,
            "bin_end": 0.5,
            "count": 0
           }
          ]
         }
        },
        {
         "name": "customer_type",
         "dtype": "object",
         "stats": {
          "unique_count": 1,
          "nan_count": 0,
          "categories": [
           {
            "name": "Transient",
            "count": 5
           }
          ]
         }
        },
        {
         "name": "adr",
         "dtype": "float64",
         "stats": {
          "unique_count": 5,
          "nan_count": 0,
          "min": "82.0",
          "max": "123.0",
          "histogram": [
           {
            "bin_start": 82,
            "bin_end": 86.1,
            "count": 1
           },
           {
            "bin_start": 86.1,
            "bin_end": 90.2,
            "count": 0
           },
           {
            "bin_start": 90.2,
            "bin_end": 94.3,
            "count": 0
           },
           {
            "bin_start": 94.3,
            "bin_end": 98.4,
            "count": 0
           },
           {
            "bin_start": 98.4,
            "bin_end": 102.5,
            "count": 0
           },
           {
            "bin_start": 102.5,
            "bin_end": 106.6,
            "count": 1
           },
           {
            "bin_start": 106.6,
            "bin_end": 110.69999999999999,
            "count": 2
           },
           {
            "bin_start": 110.69999999999999,
            "bin_end": 114.8,
            "count": 0
           },
           {
            "bin_start": 114.8,
            "bin_end": 118.9,
            "count": 0
           },
           {
            "bin_start": 118.9,
            "bin_end": 123,
            "count": 1
           }
          ]
         }
        },
        {
         "name": "required_car_parking_spaces",
         "dtype": "int64",
         "stats": {
          "unique_count": 1,
          "nan_count": 0,
          "min": "0",
          "max": "0",
          "histogram": [
           {
            "bin_start": -0.5,
            "bin_end": -0.4,
            "count": 0
           },
           {
            "bin_start": -0.4,
            "bin_end": -0.3,
            "count": 0
           },
           {
            "bin_start": -0.3,
            "bin_end": -0.19999999999999996,
            "count": 0
           },
           {
            "bin_start": -0.19999999999999996,
            "bin_end": -0.09999999999999998,
            "count": 0
           },
           {
            "bin_start": -0.09999999999999998,
            "bin_end": 0,
            "count": 0
           },
           {
            "bin_start": 0,
            "bin_end": 0.10000000000000009,
            "count": 5
           },
           {
            "bin_start": 0.10000000000000009,
            "bin_end": 0.20000000000000007,
            "count": 0
           },
           {
            "bin_start": 0.20000000000000007,
            "bin_end": 0.30000000000000004,
            "count": 0
           },
           {
            "bin_start": 0.30000000000000004,
            "bin_end": 0.4,
            "count": 0
           },
           {
            "bin_start": 0.4,
            "bin_end": 0.5,
            "count": 0
           }
          ]
         }
        },
        {
         "name": "total_of_special_requests",
         "dtype": "int64",
         "stats": {
          "unique_count": 3,
          "nan_count": 0,
          "min": "0",
          "max": "2",
          "histogram": [
           {
            "bin_start": 0,
            "bin_end": 0.2,
            "count": 2
           },
           {
            "bin_start": 0.2,
            "bin_end": 0.4,
            "count": 0
           },
           {
            "bin_start": 0.4,
            "bin_end": 0.6000000000000001,
            "count": 0
           },
           {
            "bin_start": 0.6000000000000001,
            "bin_end": 0.8,
            "count": 0
           },
           {
            "bin_start": 0.8,
            "bin_end": 1,
            "count": 0
           },
           {
            "bin_start": 1,
            "bin_end": 1.2000000000000002,
            "count": 1
           },
           {
            "bin_start": 1.2000000000000002,
            "bin_end": 1.4000000000000001,
            "count": 0
           },
           {
            "bin_start": 1.4000000000000001,
            "bin_end": 1.6,
            "count": 0
           },
           {
            "bin_start": 1.6,
            "bin_end": 1.8,
            "count": 0
           },
           {
            "bin_start": 1.8,
            "bin_end": 2,
            "count": 2
           }
          ]
         }
        },
        {
         "name": "reservation_status",
         "dtype": "object",
         "stats": {
          "unique_count": 1,
          "nan_count": 0,
          "categories": [
           {
            "name": "Canceled",
            "count": 5
           }
          ]
         }
        },
        {
         "name": "reservation_status_date",
         "dtype": "object",
         "stats": {
          "unique_count": 5,
          "nan_count": 0,
          "categories": [
           {
            "name": "06-05-18",
            "count": 1
           },
           {
            "name": "22-04-18",
            "count": 1
           },
           {
            "name": "3 others",
            "count": 3
           }
          ]
         }
        },
        {
         "name": "_deepnote_index_column",
         "dtype": "int64"
        }
       ],
       "rows": [
        {
         "hotel": "Resort Hotel",
         "is_canceled": 1,
         "lead_time": 85,
         "arrival_date_year": 2018,
         "arrival_date_month": "July",
         "arrival_date_week_number": 27,
         "arrival_date_day_of_month": 1,
         "stays_in_weekend_nights": 0,
         "stays_in_week_nights": 3,
         "adults": 2,
         "children": 0,
         "babies": 0,
         "meal": "BB",
         "country": "PRT",
         "market_segment": "Online TA",
         "distribution_channel": "TA/TO",
         "Discount": 0.3,
         "is_repeated_guest": 0,
         "previous_cancellations": 0,
         "previous_bookings_not_canceled": 0,
         "reserved_room_type": "A",
         "assigned_room_type": "A",
         "booking_changes": 0,
         "deposit_type": "No Deposit",
         "agent": 240,
         "company": "nan",
         "days_in_waiting_list": 0,
         "customer_type": "Transient",
         "adr": 82,
         "required_car_parking_spaces": 0,
         "total_of_special_requests": 1,
         "reservation_status": "Canceled",
         "reservation_status_date": "06-05-18",
         "_deepnote_index_column": 0
        },
        {
         "hotel": "Resort Hotel",
         "is_canceled": 1,
         "lead_time": 75,
         "arrival_date_year": 2018,
         "arrival_date_month": "July",
         "arrival_date_week_number": 27,
         "arrival_date_day_of_month": 1,
         "stays_in_weekend_nights": 0,
         "stays_in_week_nights": 3,
         "adults": 2,
         "children": 0,
         "babies": 0,
         "meal": "HB",
         "country": "PRT",
         "market_segment": "Offline TA/TO",
         "distribution_channel": "TA/TO",
         "Discount": 0.3,
         "is_repeated_guest": 0,
         "previous_cancellations": 0,
         "previous_bookings_not_canceled": 0,
         "reserved_room_type": "D",
         "assigned_room_type": "D",
         "booking_changes": 0,
         "deposit_type": "No Deposit",
         "agent": 15,
         "company": "nan",
         "days_in_waiting_list": 0,
         "customer_type": "Transient",
         "adr": 105.5,
         "required_car_parking_spaces": 0,
         "total_of_special_requests": 0,
         "reservation_status": "Canceled",
         "reservation_status_date": "22-04-18",
         "_deepnote_index_column": 1
        },
        {
         "hotel": "Resort Hotel",
         "is_canceled": 1,
         "lead_time": 23,
         "arrival_date_year": 2018,
         "arrival_date_month": "July",
         "arrival_date_week_number": 27,
         "arrival_date_day_of_month": 1,
         "stays_in_weekend_nights": 0,
         "stays_in_week_nights": 4,
         "adults": 2,
         "children": 0,
         "babies": 0,
         "meal": "BB",
         "country": "PRT",
         "market_segment": "Online TA",
         "distribution_channel": "TA/TO",
         "Discount": 0.3,
         "is_repeated_guest": 0,
         "previous_cancellations": 0,
         "previous_bookings_not_canceled": 0,
         "reserved_room_type": "E",
         "assigned_room_type": "E",
         "booking_changes": 0,
         "deposit_type": "No Deposit",
         "agent": 240,
         "company": "nan",
         "days_in_waiting_list": 0,
         "customer_type": "Transient",
         "adr": 123,
         "required_car_parking_spaces": 0,
         "total_of_special_requests": 0,
         "reservation_status": "Canceled",
         "reservation_status_date": "23-06-18",
         "_deepnote_index_column": 2
        },
        {
         "hotel": "Resort Hotel",
         "is_canceled": 1,
         "lead_time": 60,
         "arrival_date_year": 2018,
         "arrival_date_month": "July",
         "arrival_date_week_number": 27,
         "arrival_date_day_of_month": 1,
         "stays_in_weekend_nights": 2,
         "stays_in_week_nights": 5,
         "adults": 2,
         "children": 0,
         "babies": 0,
         "meal": "BB",
         "country": "PRT",
         "market_segment": "Online TA",
         "distribution_channel": "TA/TO",
         "Discount": 0.3,
         "is_repeated_guest": 0,
         "previous_cancellations": 0,
         "previous_bookings_not_canceled": 0,
         "reserved_room_type": "E",
         "assigned_room_type": "E",
         "booking_changes": 0,
         "deposit_type": "No Deposit",
         "agent": 240,
         "company": "nan",
         "days_in_waiting_list": 0,
         "customer_type": "Transient",
         "adr": 107,
         "required_car_parking_spaces": 0,
         "total_of_special_requests": 2,
         "reservation_status": "Canceled",
         "reservation_status_date": "11-05-18",
         "_deepnote_index_column": 3
        },
        {
         "hotel": "Resort Hotel",
         "is_canceled": 1,
         "lead_time": 96,
         "arrival_date_year": 2018,
         "arrival_date_month": "July",
         "arrival_date_week_number": 27,
         "arrival_date_day_of_month": 1,
         "stays_in_weekend_nights": 2,
         "stays_in_week_nights": 8,
         "adults": 2,
         "children": 0,
         "babies": 0,
         "meal": "BB",
         "country": "PRT",
         "market_segment": "Direct",
         "distribution_channel": "Direct",
         "Discount": 0.1,
         "is_repeated_guest": 0,
         "previous_cancellations": 0,
         "previous_bookings_not_canceled": 0,
         "reserved_room_type": "E",
         "assigned_room_type": "E",
         "booking_changes": 0,
         "deposit_type": "No Deposit",
         "agent": "nan",
         "company": "nan",
         "days_in_waiting_list": 0,
         "customer_type": "Transient",
         "adr": 108.3,
         "required_car_parking_spaces": 0,
         "total_of_special_requests": 2,
         "reservation_status": "Canceled",
         "reservation_status_date": "29-05-18",
         "_deepnote_index_column": 4
        }
       ]
      },
      "text/plain": "          hotel  is_canceled  lead_time  arrival_date_year arrival_date_month  \\\n0  Resort Hotel            1         85               2018               July   \n1  Resort Hotel            1         75               2018               July   \n2  Resort Hotel            1         23               2018               July   \n3  Resort Hotel            1         60               2018               July   \n4  Resort Hotel            1         96               2018               July   \n\n   arrival_date_week_number  arrival_date_day_of_month  \\\n0                        27                          1   \n1                        27                          1   \n2                        27                          1   \n3                        27                          1   \n4                        27                          1   \n\n   stays_in_weekend_nights  stays_in_week_nights  adults  ...  deposit_type  \\\n0                        0                     3       2  ...    No Deposit   \n1                        0                     3       2  ...    No Deposit   \n2                        0                     4       2  ...    No Deposit   \n3                        2                     5       2  ...    No Deposit   \n4                        2                     8       2  ...    No Deposit   \n\n   agent company days_in_waiting_list customer_type    adr  \\\n0  240.0     NaN                    0     Transient   82.0   \n1   15.0     NaN                    0     Transient  105.5   \n2  240.0     NaN                    0     Transient  123.0   \n3  240.0     NaN                    0     Transient  107.0   \n4    NaN     NaN                    0     Transient  108.3   \n\n   required_car_parking_spaces  total_of_special_requests  reservation_status  \\\n0                            0                          1            Canceled   \n1                            0                          0            Canceled   \n2                            0                          0            Canceled   \n3                            0                          2            Canceled   \n4                            0                          2            Canceled   \n\n   reservation_status_date  \n0                 06-05-18  \n1                 22-04-18  \n2                 23-06-18  \n3                 11-05-18  \n4                 29-05-18  \n\n[5 rows x 33 columns]",
      "text/html": "<div>\n<style scoped>\n    .dataframe tbody tr th:only-of-type {\n        vertical-align: middle;\n    }\n\n    .dataframe tbody tr th {\n        vertical-align: top;\n    }\n\n    .dataframe thead th {\n        text-align: right;\n    }\n</style>\n<table border=\"1\" class=\"dataframe\">\n  <thead>\n    <tr style=\"text-align: right;\">\n      <th></th>\n      <th>hotel</th>\n      <th>is_canceled</th>\n      <th>lead_time</th>\n      <th>arrival_date_year</th>\n      <th>arrival_date_month</th>\n      <th>arrival_date_week_number</th>\n      <th>arrival_date_day_of_month</th>\n      <th>stays_in_weekend_nights</th>\n      <th>stays_in_week_nights</th>\n      <th>adults</th>\n      <th>...</th>\n      <th>deposit_type</th>\n      <th>agent</th>\n      <th>company</th>\n      <th>days_in_waiting_list</th>\n      <th>customer_type</th>\n      <th>adr</th>\n      <th>required_car_parking_spaces</th>\n      <th>total_of_special_requests</th>\n      <th>reservation_status</th>\n      <th>reservation_status_date</th>\n    </tr>\n  </thead>\n  <tbody>\n    <tr>\n      <th>0</th>\n      <td>Resort Hotel</td>\n      <td>1</td>\n      <td>85</td>\n      <td>2018</td>\n      <td>July</td>\n      <td>27</td>\n      <td>1</td>\n      <td>0</td>\n      <td>3</td>\n      <td>2</td>\n      <td>...</td>\n      <td>No Deposit</td>\n      <td>240.0</td>\n      <td>NaN</td>\n      <td>0</td>\n      <td>Transient</td>\n      <td>82.0</td>\n      <td>0</td>\n      <td>1</td>\n      <td>Canceled</td>\n      <td>06-05-18</td>\n    </tr>\n    <tr>\n      <th>1</th>\n      <td>Resort Hotel</td>\n      <td>1</td>\n      <td>75</td>\n      <td>2018</td>\n      <td>July</td>\n      <td>27</td>\n      <td>1</td>\n      <td>0</td>\n      <td>3</td>\n      <td>2</td>\n      <td>...</td>\n      <td>No Deposit</td>\n      <td>15.0</td>\n      <td>NaN</td>\n      <td>0</td>\n      <td>Transient</td>\n      <td>105.5</td>\n      <td>0</td>\n      <td>0</td>\n      <td>Canceled</td>\n      <td>22-04-18</td>\n    </tr>\n    <tr>\n      <th>2</th>\n      <td>Resort Hotel</td>\n      <td>1</td>\n      <td>23</td>\n      <td>2018</td>\n      <td>July</td>\n      <td>27</td>\n      <td>1</td>\n      <td>0</td>\n      <td>4</td>\n      <td>2</td>\n      <td>...</td>\n      <td>No Deposit</td>\n      <td>240.0</td>\n      <td>NaN</td>\n      <td>0</td>\n      <td>Transient</td>\n      <td>123.0</td>\n      <td>0</td>\n      <td>0</td>\n      <td>Canceled</td>\n      <td>23-06-18</td>\n    </tr>\n    <tr>\n      <th>3</th>\n      <td>Resort Hotel</td>\n      <td>1</td>\n      <td>60</td>\n      <td>2018</td>\n      <td>July</td>\n      <td>27</td>\n      <td>1</td>\n      <td>2</td>\n      <td>5</td>\n      <td>2</td>\n      <td>...</td>\n      <td>No Deposit</td>\n      <td>240.0</td>\n      <td>NaN</td>\n      <td>0</td>\n      <td>Transient</td>\n      <td>107.0</td>\n      <td>0</td>\n      <td>2</td>\n      <td>Canceled</td>\n      <td>11-05-18</td>\n    </tr>\n    <tr>\n      <th>4</th>\n      <td>Resort Hotel</td>\n      <td>1</td>\n      <td>96</td>\n      <td>2018</td>\n      <td>July</td>\n      <td>27</td>\n      <td>1</td>\n      <td>2</td>\n      <td>8</td>\n      <td>2</td>\n      <td>...</td>\n      <td>No Deposit</td>\n      <td>NaN</td>\n      <td>NaN</td>\n      <td>0</td>\n      <td>Transient</td>\n      <td>108.3</td>\n      <td>0</td>\n      <td>2</td>\n      <td>Canceled</td>\n      <td>29-05-18</td>\n    </tr>\n  </tbody>\n</table>\n<p>5 rows × 33 columns</p>\n</div>"
     },
     "metadata": {}
    }
   ]
  },
  {
   "cell_type": "code",
   "metadata": {
    "cell_id": "2a100ee80d63458fa37fced8071b6a96",
    "tags": [],
    "deepnote_to_be_reexecuted": false,
    "source_hash": "17553f02",
    "execution_start": 1660314480334,
    "execution_millis": 114,
    "deepnote_cell_type": "code",
    "deepnote_cell_height": 408
   },
   "source": "# Meal Package/Cost dataframe\ndf_mc",
   "execution_count": null,
   "outputs": [
    {
     "output_type": "execute_result",
     "execution_count": 21,
     "data": {
      "application/vnd.deepnote.dataframe.v3+json": {
       "column_count": 2,
       "row_count": 5,
       "columns": [
        {
         "name": "Cost",
         "dtype": "float64",
         "stats": {
          "unique_count": 5,
          "nan_count": 0,
          "min": "0.0",
          "max": "35.0",
          "histogram": [
           {
            "bin_start": 0,
            "bin_end": 3.5,
            "count": 1
           },
           {
            "bin_start": 3.5,
            "bin_end": 7,
            "count": 0
           },
           {
            "bin_start": 7,
            "bin_end": 10.5,
            "count": 0
           },
           {
            "bin_start": 10.5,
            "bin_end": 14,
            "count": 1
           },
           {
            "bin_start": 14,
            "bin_end": 17.5,
            "count": 0
           },
           {
            "bin_start": 17.5,
            "bin_end": 21,
            "count": 1
           },
           {
            "bin_start": 21,
            "bin_end": 24.5,
            "count": 1
           },
           {
            "bin_start": 24.5,
            "bin_end": 28,
            "count": 0
           },
           {
            "bin_start": 28,
            "bin_end": 31.5,
            "count": 0
           },
           {
            "bin_start": 31.5,
            "bin_end": 35,
            "count": 1
           }
          ]
         }
        },
        {
         "name": "meal",
         "dtype": "object",
         "stats": {
          "unique_count": 5,
          "nan_count": 0,
          "categories": [
           {
            "name": "Undefined",
            "count": 1
           },
           {
            "name": "BB",
            "count": 1
           },
           {
            "name": "3 others",
            "count": 3
           }
          ]
         }
        },
        {
         "name": "_deepnote_index_column",
         "dtype": "int64"
        }
       ],
       "rows": [
        {
         "Cost": 0,
         "meal": "Undefined",
         "_deepnote_index_column": 0
        },
        {
         "Cost": 12.99,
         "meal": "BB",
         "_deepnote_index_column": 1
        },
        {
         "Cost": 17.99,
         "meal": "HB",
         "_deepnote_index_column": 2
        },
        {
         "Cost": 21.99,
         "meal": "FB",
         "_deepnote_index_column": 3
        },
        {
         "Cost": 35,
         "meal": "SC",
         "_deepnote_index_column": 4
        }
       ]
      },
      "text/plain": "    Cost       meal\n0   0.00  Undefined\n1  12.99         BB\n2  17.99         HB\n3  21.99         FB\n4  35.00         SC",
      "text/html": "<div>\n<style scoped>\n    .dataframe tbody tr th:only-of-type {\n        vertical-align: middle;\n    }\n\n    .dataframe tbody tr th {\n        vertical-align: top;\n    }\n\n    .dataframe thead th {\n        text-align: right;\n    }\n</style>\n<table border=\"1\" class=\"dataframe\">\n  <thead>\n    <tr style=\"text-align: right;\">\n      <th></th>\n      <th>Cost</th>\n      <th>meal</th>\n    </tr>\n  </thead>\n  <tbody>\n    <tr>\n      <th>0</th>\n      <td>0.00</td>\n      <td>Undefined</td>\n    </tr>\n    <tr>\n      <th>1</th>\n      <td>12.99</td>\n      <td>BB</td>\n    </tr>\n    <tr>\n      <th>2</th>\n      <td>17.99</td>\n      <td>HB</td>\n    </tr>\n    <tr>\n      <th>3</th>\n      <td>21.99</td>\n      <td>FB</td>\n    </tr>\n    <tr>\n      <th>4</th>\n      <td>35.00</td>\n      <td>SC</td>\n    </tr>\n  </tbody>\n</table>\n</div>"
     },
     "metadata": {}
    }
   ]
  },
  {
   "cell_type": "code",
   "metadata": {
    "cell_id": "da793966cc7d4ce7a59861c070ae142f",
    "tags": [],
    "deepnote_to_be_reexecuted": false,
    "source_hash": "5e98b226",
    "execution_start": 1660314480340,
    "execution_millis": 35,
    "deepnote_cell_type": "code",
    "deepnote_cell_height": 169.578125,
    "deepnote_output_heights": [
     59.59375
    ]
   },
   "source": "# Most expensive meal package and price\ndf_mc.loc[df_mc['Cost'].idxmax()]",
   "execution_count": null,
   "outputs": [
    {
     "output_type": "execute_result",
     "execution_count": 22,
     "data": {
      "text/plain": "Cost    35.0\nmeal      SC\nName: 4, dtype: object"
     },
     "metadata": {}
    }
   ]
  },
  {
   "cell_type": "code",
   "metadata": {
    "cell_id": "e7852b2c776a4a6aad1d0dbc33c207ef",
    "tags": [],
    "deepnote_to_be_reexecuted": false,
    "source_hash": "6f80093d",
    "execution_start": 1660314480386,
    "execution_millis": 124700,
    "deepnote_cell_type": "code",
    "deepnote_cell_height": 465.796875
   },
   "source": "# Adding meal_cost column to full dataframe\nmeal_cost = [df_mc[df_mc['meal'] == (df['meal']).values[i]]['Cost'].values[0] for i in df.index]\ndf.insert(13, 'meal_cost', meal_cost)\ndf.head()",
   "execution_count": null,
   "outputs": [
    {
     "output_type": "execute_result",
     "execution_count": 23,
     "data": {
      "application/vnd.deepnote.dataframe.v3+json": {
       "column_count": 34,
       "row_count": 5,
       "columns": [
        {
         "name": "hotel",
         "dtype": "object",
         "stats": {
          "unique_count": 1,
          "nan_count": 0,
          "categories": [
           {
            "name": "Resort Hotel",
            "count": 5
           }
          ]
         }
        },
        {
         "name": "is_canceled",
         "dtype": "int64",
         "stats": {
          "unique_count": 1,
          "nan_count": 0,
          "min": "1",
          "max": "1",
          "histogram": [
           {
            "bin_start": 0.5,
            "bin_end": 0.6,
            "count": 0
           },
           {
            "bin_start": 0.6,
            "bin_end": 0.7,
            "count": 0
           },
           {
            "bin_start": 0.7,
            "bin_end": 0.8,
            "count": 0
           },
           {
            "bin_start": 0.8,
            "bin_end": 0.9,
            "count": 0
           },
           {
            "bin_start": 0.9,
            "bin_end": 1,
            "count": 0
           },
           {
            "bin_start": 1,
            "bin_end": 1.1,
            "count": 5
           },
           {
            "bin_start": 1.1,
            "bin_end": 1.2000000000000002,
            "count": 0
           },
           {
            "bin_start": 1.2000000000000002,
            "bin_end": 1.3,
            "count": 0
           },
           {
            "bin_start": 1.3,
            "bin_end": 1.4,
            "count": 0
           },
           {
            "bin_start": 1.4,
            "bin_end": 1.5,
            "count": 0
           }
          ]
         }
        },
        {
         "name": "lead_time",
         "dtype": "int64",
         "stats": {
          "unique_count": 5,
          "nan_count": 0,
          "min": "23",
          "max": "96",
          "histogram": [
           {
            "bin_start": 23,
            "bin_end": 30.3,
            "count": 1
           },
           {
            "bin_start": 30.3,
            "bin_end": 37.6,
            "count": 0
           },
           {
            "bin_start": 37.6,
            "bin_end": 44.9,
            "count": 0
           },
           {
            "bin_start": 44.9,
            "bin_end": 52.2,
            "count": 0
           },
           {
            "bin_start": 52.2,
            "bin_end": 59.5,
            "count": 0
           },
           {
            "bin_start": 59.5,
            "bin_end": 66.8,
            "count": 1
           },
           {
            "bin_start": 66.8,
            "bin_end": 74.1,
            "count": 0
           },
           {
            "bin_start": 74.1,
            "bin_end": 81.4,
            "count": 1
           },
           {
            "bin_start": 81.4,
            "bin_end": 88.7,
            "count": 1
           },
           {
            "bin_start": 88.7,
            "bin_end": 96,
            "count": 1
           }
          ]
         }
        },
        {
         "name": "arrival_date_year",
         "dtype": "int64",
         "stats": {
          "unique_count": 1,
          "nan_count": 0,
          "min": "2018",
          "max": "2018",
          "histogram": [
           {
            "bin_start": 2017.5,
            "bin_end": 2017.6,
            "count": 0
           },
           {
            "bin_start": 2017.6,
            "bin_end": 2017.7,
            "count": 0
           },
           {
            "bin_start": 2017.7,
            "bin_end": 2017.8,
            "count": 0
           },
           {
            "bin_start": 2017.8,
            "bin_end": 2017.9,
            "count": 0
           },
           {
            "bin_start": 2017.9,
            "bin_end": 2018,
            "count": 0
           },
           {
            "bin_start": 2018,
            "bin_end": 2018.1,
            "count": 5
           },
           {
            "bin_start": 2018.1,
            "bin_end": 2018.2,
            "count": 0
           },
           {
            "bin_start": 2018.2,
            "bin_end": 2018.3,
            "count": 0
           },
           {
            "bin_start": 2018.3,
            "bin_end": 2018.4,
            "count": 0
           },
           {
            "bin_start": 2018.4,
            "bin_end": 2018.5,
            "count": 0
           }
          ]
         }
        },
        {
         "name": "arrival_date_month",
         "dtype": "object",
         "stats": {
          "unique_count": 1,
          "nan_count": 0,
          "categories": [
           {
            "name": "July",
            "count": 5
           }
          ]
         }
        },
        {
         "name": "arrival_date_week_number",
         "dtype": "int64",
         "stats": {
          "unique_count": 1,
          "nan_count": 0,
          "min": "27",
          "max": "27",
          "histogram": [
           {
            "bin_start": 26.5,
            "bin_end": 26.6,
            "count": 0
           },
           {
            "bin_start": 26.6,
            "bin_end": 26.7,
            "count": 0
           },
           {
            "bin_start": 26.7,
            "bin_end": 26.8,
            "count": 0
           },
           {
            "bin_start": 26.8,
            "bin_end": 26.9,
            "count": 0
           },
           {
            "bin_start": 26.9,
            "bin_end": 27,
            "count": 0
           },
           {
            "bin_start": 27,
            "bin_end": 27.1,
            "count": 5
           },
           {
            "bin_start": 27.1,
            "bin_end": 27.2,
            "count": 0
           },
           {
            "bin_start": 27.2,
            "bin_end": 27.3,
            "count": 0
           },
           {
            "bin_start": 27.3,
            "bin_end": 27.4,
            "count": 0
           },
           {
            "bin_start": 27.4,
            "bin_end": 27.5,
            "count": 0
           }
          ]
         }
        },
        {
         "name": "arrival_date_day_of_month",
         "dtype": "int64",
         "stats": {
          "unique_count": 1,
          "nan_count": 0,
          "min": "1",
          "max": "1",
          "histogram": [
           {
            "bin_start": 0.5,
            "bin_end": 0.6,
            "count": 0
           },
           {
            "bin_start": 0.6,
            "bin_end": 0.7,
            "count": 0
           },
           {
            "bin_start": 0.7,
            "bin_end": 0.8,
            "count": 0
           },
           {
            "bin_start": 0.8,
            "bin_end": 0.9,
            "count": 0
           },
           {
            "bin_start": 0.9,
            "bin_end": 1,
            "count": 0
           },
           {
            "bin_start": 1,
            "bin_end": 1.1,
            "count": 5
           },
           {
            "bin_start": 1.1,
            "bin_end": 1.2000000000000002,
            "count": 0
           },
           {
            "bin_start": 1.2000000000000002,
            "bin_end": 1.3,
            "count": 0
           },
           {
            "bin_start": 1.3,
            "bin_end": 1.4,
            "count": 0
           },
           {
            "bin_start": 1.4,
            "bin_end": 1.5,
            "count": 0
           }
          ]
         }
        },
        {
         "name": "stays_in_weekend_nights",
         "dtype": "int64",
         "stats": {
          "unique_count": 2,
          "nan_count": 0,
          "min": "0",
          "max": "2",
          "histogram": [
           {
            "bin_start": 0,
            "bin_end": 0.2,
            "count": 3
           },
           {
            "bin_start": 0.2,
            "bin_end": 0.4,
            "count": 0
           },
           {
            "bin_start": 0.4,
            "bin_end": 0.6000000000000001,
            "count": 0
           },
           {
            "bin_start": 0.6000000000000001,
            "bin_end": 0.8,
            "count": 0
           },
           {
            "bin_start": 0.8,
            "bin_end": 1,
            "count": 0
           },
           {
            "bin_start": 1,
            "bin_end": 1.2000000000000002,
            "count": 0
           },
           {
            "bin_start": 1.2000000000000002,
            "bin_end": 1.4000000000000001,
            "count": 0
           },
           {
            "bin_start": 1.4000000000000001,
            "bin_end": 1.6,
            "count": 0
           },
           {
            "bin_start": 1.6,
            "bin_end": 1.8,
            "count": 0
           },
           {
            "bin_start": 1.8,
            "bin_end": 2,
            "count": 2
           }
          ]
         }
        },
        {
         "name": "stays_in_week_nights",
         "dtype": "int64",
         "stats": {
          "unique_count": 4,
          "nan_count": 0,
          "min": "3",
          "max": "8",
          "histogram": [
           {
            "bin_start": 3,
            "bin_end": 3.5,
            "count": 2
           },
           {
            "bin_start": 3.5,
            "bin_end": 4,
            "count": 0
           },
           {
            "bin_start": 4,
            "bin_end": 4.5,
            "count": 1
           },
           {
            "bin_start": 4.5,
            "bin_end": 5,
            "count": 0
           },
           {
            "bin_start": 5,
            "bin_end": 5.5,
            "count": 1
           },
           {
            "bin_start": 5.5,
            "bin_end": 6,
            "count": 0
           },
           {
            "bin_start": 6,
            "bin_end": 6.5,
            "count": 0
           },
           {
            "bin_start": 6.5,
            "bin_end": 7,
            "count": 0
           },
           {
            "bin_start": 7,
            "bin_end": 7.5,
            "count": 0
           },
           {
            "bin_start": 7.5,
            "bin_end": 8,
            "count": 1
           }
          ]
         }
        },
        {
         "name": "adults",
         "dtype": "int64",
         "stats": {
          "unique_count": 1,
          "nan_count": 0,
          "min": "2",
          "max": "2",
          "histogram": [
           {
            "bin_start": 1.5,
            "bin_end": 1.6,
            "count": 0
           },
           {
            "bin_start": 1.6,
            "bin_end": 1.7,
            "count": 0
           },
           {
            "bin_start": 1.7,
            "bin_end": 1.8,
            "count": 0
           },
           {
            "bin_start": 1.8,
            "bin_end": 1.9,
            "count": 0
           },
           {
            "bin_start": 1.9,
            "bin_end": 2,
            "count": 0
           },
           {
            "bin_start": 2,
            "bin_end": 2.1,
            "count": 5
           },
           {
            "bin_start": 2.1,
            "bin_end": 2.2,
            "count": 0
           },
           {
            "bin_start": 2.2,
            "bin_end": 2.3,
            "count": 0
           },
           {
            "bin_start": 2.3,
            "bin_end": 2.4,
            "count": 0
           },
           {
            "bin_start": 2.4,
            "bin_end": 2.5,
            "count": 0
           }
          ]
         }
        },
        {
         "name": "children",
         "dtype": "float64",
         "stats": {
          "unique_count": 1,
          "nan_count": 0,
          "min": "0.0",
          "max": "0.0",
          "histogram": [
           {
            "bin_start": -0.5,
            "bin_end": -0.4,
            "count": 0
           },
           {
            "bin_start": -0.4,
            "bin_end": -0.3,
            "count": 0
           },
           {
            "bin_start": -0.3,
            "bin_end": -0.19999999999999996,
            "count": 0
           },
           {
            "bin_start": -0.19999999999999996,
            "bin_end": -0.09999999999999998,
            "count": 0
           },
           {
            "bin_start": -0.09999999999999998,
            "bin_end": 0,
            "count": 0
           },
           {
            "bin_start": 0,
            "bin_end": 0.10000000000000009,
            "count": 5
           },
           {
            "bin_start": 0.10000000000000009,
            "bin_end": 0.20000000000000007,
            "count": 0
           },
           {
            "bin_start": 0.20000000000000007,
            "bin_end": 0.30000000000000004,
            "count": 0
           },
           {
            "bin_start": 0.30000000000000004,
            "bin_end": 0.4,
            "count": 0
           },
           {
            "bin_start": 0.4,
            "bin_end": 0.5,
            "count": 0
           }
          ]
         }
        },
        {
         "name": "babies",
         "dtype": "int64",
         "stats": {
          "unique_count": 1,
          "nan_count": 0,
          "min": "0",
          "max": "0",
          "histogram": [
           {
            "bin_start": -0.5,
            "bin_end": -0.4,
            "count": 0
           },
           {
            "bin_start": -0.4,
            "bin_end": -0.3,
            "count": 0
           },
           {
            "bin_start": -0.3,
            "bin_end": -0.19999999999999996,
            "count": 0
           },
           {
            "bin_start": -0.19999999999999996,
            "bin_end": -0.09999999999999998,
            "count": 0
           },
           {
            "bin_start": -0.09999999999999998,
            "bin_end": 0,
            "count": 0
           },
           {
            "bin_start": 0,
            "bin_end": 0.10000000000000009,
            "count": 5
           },
           {
            "bin_start": 0.10000000000000009,
            "bin_end": 0.20000000000000007,
            "count": 0
           },
           {
            "bin_start": 0.20000000000000007,
            "bin_end": 0.30000000000000004,
            "count": 0
           },
           {
            "bin_start": 0.30000000000000004,
            "bin_end": 0.4,
            "count": 0
           },
           {
            "bin_start": 0.4,
            "bin_end": 0.5,
            "count": 0
           }
          ]
         }
        },
        {
         "name": "meal",
         "dtype": "object",
         "stats": {
          "unique_count": 2,
          "nan_count": 0,
          "categories": [
           {
            "name": "BB",
            "count": 4
           },
           {
            "name": "HB",
            "count": 1
           }
          ]
         }
        },
        {
         "name": "meal_cost",
         "dtype": "float64",
         "stats": {
          "unique_count": 2,
          "nan_count": 0,
          "min": "12.99",
          "max": "17.99",
          "histogram": [
           {
            "bin_start": 12.99,
            "bin_end": 13.49,
            "count": 4
           },
           {
            "bin_start": 13.49,
            "bin_end": 13.99,
            "count": 0
           },
           {
            "bin_start": 13.99,
            "bin_end": 14.49,
            "count": 0
           },
           {
            "bin_start": 14.49,
            "bin_end": 14.99,
            "count": 0
           },
           {
            "bin_start": 14.99,
            "bin_end": 15.489999999999998,
            "count": 0
           },
           {
            "bin_start": 15.489999999999998,
            "bin_end": 15.989999999999998,
            "count": 0
           },
           {
            "bin_start": 15.989999999999998,
            "bin_end": 16.49,
            "count": 0
           },
           {
            "bin_start": 16.49,
            "bin_end": 16.99,
            "count": 0
           },
           {
            "bin_start": 16.99,
            "bin_end": 17.49,
            "count": 0
           },
           {
            "bin_start": 17.49,
            "bin_end": 17.99,
            "count": 1
           }
          ]
         }
        },
        {
         "name": "country",
         "dtype": "object",
         "stats": {
          "unique_count": 1,
          "nan_count": 0,
          "categories": [
           {
            "name": "PRT",
            "count": 5
           }
          ]
         }
        },
        {
         "name": "market_segment",
         "dtype": "object",
         "stats": {
          "unique_count": 3,
          "nan_count": 0,
          "categories": [
           {
            "name": "Online TA",
            "count": 3
           },
           {
            "name": "Offline TA/TO",
            "count": 1
           },
           {
            "name": "Direct",
            "count": 1
           }
          ]
         }
        },
        {
         "name": "distribution_channel",
         "dtype": "object",
         "stats": {
          "unique_count": 2,
          "nan_count": 0,
          "categories": [
           {
            "name": "TA/TO",
            "count": 4
           },
           {
            "name": "Direct",
            "count": 1
           }
          ]
         }
        },
        {
         "name": "Discount",
         "dtype": "float64",
         "stats": {
          "unique_count": 2,
          "nan_count": 0,
          "min": "0.1",
          "max": "0.3",
          "histogram": [
           {
            "bin_start": 0.1,
            "bin_end": 0.12,
            "count": 1
           },
           {
            "bin_start": 0.12,
            "bin_end": 0.14,
            "count": 0
           },
           {
            "bin_start": 0.14,
            "bin_end": 0.16,
            "count": 0
           },
           {
            "bin_start": 0.16,
            "bin_end": 0.18,
            "count": 0
           },
           {
            "bin_start": 0.18,
            "bin_end": 0.19999999999999998,
            "count": 0
           },
           {
            "bin_start": 0.19999999999999998,
            "bin_end": 0.21999999999999997,
            "count": 0
           },
           {
            "bin_start": 0.21999999999999997,
            "bin_end": 0.24,
            "count": 0
           },
           {
            "bin_start": 0.24,
            "bin_end": 0.26,
            "count": 0
           },
           {
            "bin_start": 0.26,
            "bin_end": 0.27999999999999997,
            "count": 0
           },
           {
            "bin_start": 0.27999999999999997,
            "bin_end": 0.3,
            "count": 4
           }
          ]
         }
        },
        {
         "name": "is_repeated_guest",
         "dtype": "int64",
         "stats": {
          "unique_count": 1,
          "nan_count": 0,
          "min": "0",
          "max": "0",
          "histogram": [
           {
            "bin_start": -0.5,
            "bin_end": -0.4,
            "count": 0
           },
           {
            "bin_start": -0.4,
            "bin_end": -0.3,
            "count": 0
           },
           {
            "bin_start": -0.3,
            "bin_end": -0.19999999999999996,
            "count": 0
           },
           {
            "bin_start": -0.19999999999999996,
            "bin_end": -0.09999999999999998,
            "count": 0
           },
           {
            "bin_start": -0.09999999999999998,
            "bin_end": 0,
            "count": 0
           },
           {
            "bin_start": 0,
            "bin_end": 0.10000000000000009,
            "count": 5
           },
           {
            "bin_start": 0.10000000000000009,
            "bin_end": 0.20000000000000007,
            "count": 0
           },
           {
            "bin_start": 0.20000000000000007,
            "bin_end": 0.30000000000000004,
            "count": 0
           },
           {
            "bin_start": 0.30000000000000004,
            "bin_end": 0.4,
            "count": 0
           },
           {
            "bin_start": 0.4,
            "bin_end": 0.5,
            "count": 0
           }
          ]
         }
        },
        {
         "name": "previous_cancellations",
         "dtype": "int64",
         "stats": {
          "unique_count": 1,
          "nan_count": 0,
          "min": "0",
          "max": "0",
          "histogram": [
           {
            "bin_start": -0.5,
            "bin_end": -0.4,
            "count": 0
           },
           {
            "bin_start": -0.4,
            "bin_end": -0.3,
            "count": 0
           },
           {
            "bin_start": -0.3,
            "bin_end": -0.19999999999999996,
            "count": 0
           },
           {
            "bin_start": -0.19999999999999996,
            "bin_end": -0.09999999999999998,
            "count": 0
           },
           {
            "bin_start": -0.09999999999999998,
            "bin_end": 0,
            "count": 0
           },
           {
            "bin_start": 0,
            "bin_end": 0.10000000000000009,
            "count": 5
           },
           {
            "bin_start": 0.10000000000000009,
            "bin_end": 0.20000000000000007,
            "count": 0
           },
           {
            "bin_start": 0.20000000000000007,
            "bin_end": 0.30000000000000004,
            "count": 0
           },
           {
            "bin_start": 0.30000000000000004,
            "bin_end": 0.4,
            "count": 0
           },
           {
            "bin_start": 0.4,
            "bin_end": 0.5,
            "count": 0
           }
          ]
         }
        },
        {
         "name": "previous_bookings_not_canceled",
         "dtype": "int64",
         "stats": {
          "unique_count": 1,
          "nan_count": 0,
          "min": "0",
          "max": "0",
          "histogram": [
           {
            "bin_start": -0.5,
            "bin_end": -0.4,
            "count": 0
           },
           {
            "bin_start": -0.4,
            "bin_end": -0.3,
            "count": 0
           },
           {
            "bin_start": -0.3,
            "bin_end": -0.19999999999999996,
            "count": 0
           },
           {
            "bin_start": -0.19999999999999996,
            "bin_end": -0.09999999999999998,
            "count": 0
           },
           {
            "bin_start": -0.09999999999999998,
            "bin_end": 0,
            "count": 0
           },
           {
            "bin_start": 0,
            "bin_end": 0.10000000000000009,
            "count": 5
           },
           {
            "bin_start": 0.10000000000000009,
            "bin_end": 0.20000000000000007,
            "count": 0
           },
           {
            "bin_start": 0.20000000000000007,
            "bin_end": 0.30000000000000004,
            "count": 0
           },
           {
            "bin_start": 0.30000000000000004,
            "bin_end": 0.4,
            "count": 0
           },
           {
            "bin_start": 0.4,
            "bin_end": 0.5,
            "count": 0
           }
          ]
         }
        },
        {
         "name": "reserved_room_type",
         "dtype": "object",
         "stats": {
          "unique_count": 3,
          "nan_count": 0,
          "categories": [
           {
            "name": "E",
            "count": 3
           },
           {
            "name": "A",
            "count": 1
           },
           {
            "name": "D",
            "count": 1
           }
          ]
         }
        },
        {
         "name": "assigned_room_type",
         "dtype": "object",
         "stats": {
          "unique_count": 3,
          "nan_count": 0,
          "categories": [
           {
            "name": "E",
            "count": 3
           },
           {
            "name": "A",
            "count": 1
           },
           {
            "name": "D",
            "count": 1
           }
          ]
         }
        },
        {
         "name": "booking_changes",
         "dtype": "int64",
         "stats": {
          "unique_count": 1,
          "nan_count": 0,
          "min": "0",
          "max": "0",
          "histogram": [
           {
            "bin_start": -0.5,
            "bin_end": -0.4,
            "count": 0
           },
           {
            "bin_start": -0.4,
            "bin_end": -0.3,
            "count": 0
           },
           {
            "bin_start": -0.3,
            "bin_end": -0.19999999999999996,
            "count": 0
           },
           {
            "bin_start": -0.19999999999999996,
            "bin_end": -0.09999999999999998,
            "count": 0
           },
           {
            "bin_start": -0.09999999999999998,
            "bin_end": 0,
            "count": 0
           },
           {
            "bin_start": 0,
            "bin_end": 0.10000000000000009,
            "count": 5
           },
           {
            "bin_start": 0.10000000000000009,
            "bin_end": 0.20000000000000007,
            "count": 0
           },
           {
            "bin_start": 0.20000000000000007,
            "bin_end": 0.30000000000000004,
            "count": 0
           },
           {
            "bin_start": 0.30000000000000004,
            "bin_end": 0.4,
            "count": 0
           },
           {
            "bin_start": 0.4,
            "bin_end": 0.5,
            "count": 0
           }
          ]
         }
        },
        {
         "name": "deposit_type",
         "dtype": "object",
         "stats": {
          "unique_count": 1,
          "nan_count": 0,
          "categories": [
           {
            "name": "No Deposit",
            "count": 5
           }
          ]
         }
        },
        {
         "name": "agent",
         "dtype": "float64",
         "stats": {
          "unique_count": 2,
          "nan_count": 1,
          "min": "15.0",
          "max": "240.0",
          "histogram": [
           {
            "bin_start": 15,
            "bin_end": 37.5,
            "count": 1
           },
           {
            "bin_start": 37.5,
            "bin_end": 60,
            "count": 0
           },
           {
            "bin_start": 60,
            "bin_end": 82.5,
            "count": 0
           },
           {
            "bin_start": 82.5,
            "bin_end": 105,
            "count": 0
           },
           {
            "bin_start": 105,
            "bin_end": 127.5,
            "count": 0
           },
           {
            "bin_start": 127.5,
            "bin_end": 150,
            "count": 0
           },
           {
            "bin_start": 150,
            "bin_end": 172.5,
            "count": 0
           },
           {
            "bin_start": 172.5,
            "bin_end": 195,
            "count": 0
           },
           {
            "bin_start": 195,
            "bin_end": 217.5,
            "count": 0
           },
           {
            "bin_start": 217.5,
            "bin_end": 240,
            "count": 3
           }
          ]
         }
        },
        {
         "name": "company",
         "dtype": "float64",
         "stats": {
          "unique_count": 0,
          "nan_count": 5,
          "min": null,
          "max": null,
          "histogram": [
           {
            "bin_start": 0,
            "bin_end": 0.1,
            "count": 0
           },
           {
            "bin_start": 0.1,
            "bin_end": 0.2,
            "count": 0
           },
           {
            "bin_start": 0.2,
            "bin_end": 0.30000000000000004,
            "count": 0
           },
           {
            "bin_start": 0.30000000000000004,
            "bin_end": 0.4,
            "count": 0
           },
           {
            "bin_start": 0.4,
            "bin_end": 0.5,
            "count": 0
           },
           {
            "bin_start": 0.5,
            "bin_end": 0.6000000000000001,
            "count": 0
           },
           {
            "bin_start": 0.6000000000000001,
            "bin_end": 0.7000000000000001,
            "count": 0
           },
           {
            "bin_start": 0.7000000000000001,
            "bin_end": 0.8,
            "count": 0
           },
           {
            "bin_start": 0.8,
            "bin_end": 0.9,
            "count": 0
           },
           {
            "bin_start": 0.9,
            "bin_end": 1,
            "count": 0
           }
          ]
         }
        },
        {
         "name": "days_in_waiting_list",
         "dtype": "int64",
         "stats": {
          "unique_count": 1,
          "nan_count": 0,
          "min": "0",
          "max": "0",
          "histogram": [
           {
            "bin_start": -0.5,
            "bin_end": -0.4,
            "count": 0
           },
           {
            "bin_start": -0.4,
            "bin_end": -0.3,
            "count": 0
           },
           {
            "bin_start": -0.3,
            "bin_end": -0.19999999999999996,
            "count": 0
           },
           {
            "bin_start": -0.19999999999999996,
            "bin_end": -0.09999999999999998,
            "count": 0
           },
           {
            "bin_start": -0.09999999999999998,
            "bin_end": 0,
            "count": 0
           },
           {
            "bin_start": 0,
            "bin_end": 0.10000000000000009,
            "count": 5
           },
           {
            "bin_start": 0.10000000000000009,
            "bin_end": 0.20000000000000007,
            "count": 0
           },
           {
            "bin_start": 0.20000000000000007,
            "bin_end": 0.30000000000000004,
            "count": 0
           },
           {
            "bin_start": 0.30000000000000004,
            "bin_end": 0.4,
            "count": 0
           },
           {
            "bin_start": 0.4,
            "bin_end": 0.5,
            "count": 0
           }
          ]
         }
        },
        {
         "name": "customer_type",
         "dtype": "object",
         "stats": {
          "unique_count": 1,
          "nan_count": 0,
          "categories": [
           {
            "name": "Transient",
            "count": 5
           }
          ]
         }
        },
        {
         "name": "adr",
         "dtype": "float64",
         "stats": {
          "unique_count": 5,
          "nan_count": 0,
          "min": "82.0",
          "max": "123.0",
          "histogram": [
           {
            "bin_start": 82,
            "bin_end": 86.1,
            "count": 1
           },
           {
            "bin_start": 86.1,
            "bin_end": 90.2,
            "count": 0
           },
           {
            "bin_start": 90.2,
            "bin_end": 94.3,
            "count": 0
           },
           {
            "bin_start": 94.3,
            "bin_end": 98.4,
            "count": 0
           },
           {
            "bin_start": 98.4,
            "bin_end": 102.5,
            "count": 0
           },
           {
            "bin_start": 102.5,
            "bin_end": 106.6,
            "count": 1
           },
           {
            "bin_start": 106.6,
            "bin_end": 110.69999999999999,
            "count": 2
           },
           {
            "bin_start": 110.69999999999999,
            "bin_end": 114.8,
            "count": 0
           },
           {
            "bin_start": 114.8,
            "bin_end": 118.9,
            "count": 0
           },
           {
            "bin_start": 118.9,
            "bin_end": 123,
            "count": 1
           }
          ]
         }
        },
        {
         "name": "required_car_parking_spaces",
         "dtype": "int64",
         "stats": {
          "unique_count": 1,
          "nan_count": 0,
          "min": "0",
          "max": "0",
          "histogram": [
           {
            "bin_start": -0.5,
            "bin_end": -0.4,
            "count": 0
           },
           {
            "bin_start": -0.4,
            "bin_end": -0.3,
            "count": 0
           },
           {
            "bin_start": -0.3,
            "bin_end": -0.19999999999999996,
            "count": 0
           },
           {
            "bin_start": -0.19999999999999996,
            "bin_end": -0.09999999999999998,
            "count": 0
           },
           {
            "bin_start": -0.09999999999999998,
            "bin_end": 0,
            "count": 0
           },
           {
            "bin_start": 0,
            "bin_end": 0.10000000000000009,
            "count": 5
           },
           {
            "bin_start": 0.10000000000000009,
            "bin_end": 0.20000000000000007,
            "count": 0
           },
           {
            "bin_start": 0.20000000000000007,
            "bin_end": 0.30000000000000004,
            "count": 0
           },
           {
            "bin_start": 0.30000000000000004,
            "bin_end": 0.4,
            "count": 0
           },
           {
            "bin_start": 0.4,
            "bin_end": 0.5,
            "count": 0
           }
          ]
         }
        },
        {
         "name": "total_of_special_requests",
         "dtype": "int64",
         "stats": {
          "unique_count": 3,
          "nan_count": 0,
          "min": "0",
          "max": "2",
          "histogram": [
           {
            "bin_start": 0,
            "bin_end": 0.2,
            "count": 2
           },
           {
            "bin_start": 0.2,
            "bin_end": 0.4,
            "count": 0
           },
           {
            "bin_start": 0.4,
            "bin_end": 0.6000000000000001,
            "count": 0
           },
           {
            "bin_start": 0.6000000000000001,
            "bin_end": 0.8,
            "count": 0
           },
           {
            "bin_start": 0.8,
            "bin_end": 1,
            "count": 0
           },
           {
            "bin_start": 1,
            "bin_end": 1.2000000000000002,
            "count": 1
           },
           {
            "bin_start": 1.2000000000000002,
            "bin_end": 1.4000000000000001,
            "count": 0
           },
           {
            "bin_start": 1.4000000000000001,
            "bin_end": 1.6,
            "count": 0
           },
           {
            "bin_start": 1.6,
            "bin_end": 1.8,
            "count": 0
           },
           {
            "bin_start": 1.8,
            "bin_end": 2,
            "count": 2
           }
          ]
         }
        },
        {
         "name": "reservation_status",
         "dtype": "object",
         "stats": {
          "unique_count": 1,
          "nan_count": 0,
          "categories": [
           {
            "name": "Canceled",
            "count": 5
           }
          ]
         }
        },
        {
         "name": "reservation_status_date",
         "dtype": "object",
         "stats": {
          "unique_count": 5,
          "nan_count": 0,
          "categories": [
           {
            "name": "06-05-18",
            "count": 1
           },
           {
            "name": "22-04-18",
            "count": 1
           },
           {
            "name": "3 others",
            "count": 3
           }
          ]
         }
        },
        {
         "name": "_deepnote_index_column",
         "dtype": "int64"
        }
       ],
       "rows": [
        {
         "hotel": "Resort Hotel",
         "is_canceled": 1,
         "lead_time": 85,
         "arrival_date_year": 2018,
         "arrival_date_month": "July",
         "arrival_date_week_number": 27,
         "arrival_date_day_of_month": 1,
         "stays_in_weekend_nights": 0,
         "stays_in_week_nights": 3,
         "adults": 2,
         "children": 0,
         "babies": 0,
         "meal": "BB",
         "meal_cost": 12.99,
         "country": "PRT",
         "market_segment": "Online TA",
         "distribution_channel": "TA/TO",
         "Discount": 0.3,
         "is_repeated_guest": 0,
         "previous_cancellations": 0,
         "previous_bookings_not_canceled": 0,
         "reserved_room_type": "A",
         "assigned_room_type": "A",
         "booking_changes": 0,
         "deposit_type": "No Deposit",
         "agent": 240,
         "company": "nan",
         "days_in_waiting_list": 0,
         "customer_type": "Transient",
         "adr": 82,
         "required_car_parking_spaces": 0,
         "total_of_special_requests": 1,
         "reservation_status": "Canceled",
         "reservation_status_date": "06-05-18",
         "_deepnote_index_column": 0
        },
        {
         "hotel": "Resort Hotel",
         "is_canceled": 1,
         "lead_time": 75,
         "arrival_date_year": 2018,
         "arrival_date_month": "July",
         "arrival_date_week_number": 27,
         "arrival_date_day_of_month": 1,
         "stays_in_weekend_nights": 0,
         "stays_in_week_nights": 3,
         "adults": 2,
         "children": 0,
         "babies": 0,
         "meal": "HB",
         "meal_cost": 17.99,
         "country": "PRT",
         "market_segment": "Offline TA/TO",
         "distribution_channel": "TA/TO",
         "Discount": 0.3,
         "is_repeated_guest": 0,
         "previous_cancellations": 0,
         "previous_bookings_not_canceled": 0,
         "reserved_room_type": "D",
         "assigned_room_type": "D",
         "booking_changes": 0,
         "deposit_type": "No Deposit",
         "agent": 15,
         "company": "nan",
         "days_in_waiting_list": 0,
         "customer_type": "Transient",
         "adr": 105.5,
         "required_car_parking_spaces": 0,
         "total_of_special_requests": 0,
         "reservation_status": "Canceled",
         "reservation_status_date": "22-04-18",
         "_deepnote_index_column": 1
        },
        {
         "hotel": "Resort Hotel",
         "is_canceled": 1,
         "lead_time": 23,
         "arrival_date_year": 2018,
         "arrival_date_month": "July",
         "arrival_date_week_number": 27,
         "arrival_date_day_of_month": 1,
         "stays_in_weekend_nights": 0,
         "stays_in_week_nights": 4,
         "adults": 2,
         "children": 0,
         "babies": 0,
         "meal": "BB",
         "meal_cost": 12.99,
         "country": "PRT",
         "market_segment": "Online TA",
         "distribution_channel": "TA/TO",
         "Discount": 0.3,
         "is_repeated_guest": 0,
         "previous_cancellations": 0,
         "previous_bookings_not_canceled": 0,
         "reserved_room_type": "E",
         "assigned_room_type": "E",
         "booking_changes": 0,
         "deposit_type": "No Deposit",
         "agent": 240,
         "company": "nan",
         "days_in_waiting_list": 0,
         "customer_type": "Transient",
         "adr": 123,
         "required_car_parking_spaces": 0,
         "total_of_special_requests": 0,
         "reservation_status": "Canceled",
         "reservation_status_date": "23-06-18",
         "_deepnote_index_column": 2
        },
        {
         "hotel": "Resort Hotel",
         "is_canceled": 1,
         "lead_time": 60,
         "arrival_date_year": 2018,
         "arrival_date_month": "July",
         "arrival_date_week_number": 27,
         "arrival_date_day_of_month": 1,
         "stays_in_weekend_nights": 2,
         "stays_in_week_nights": 5,
         "adults": 2,
         "children": 0,
         "babies": 0,
         "meal": "BB",
         "meal_cost": 12.99,
         "country": "PRT",
         "market_segment": "Online TA",
         "distribution_channel": "TA/TO",
         "Discount": 0.3,
         "is_repeated_guest": 0,
         "previous_cancellations": 0,
         "previous_bookings_not_canceled": 0,
         "reserved_room_type": "E",
         "assigned_room_type": "E",
         "booking_changes": 0,
         "deposit_type": "No Deposit",
         "agent": 240,
         "company": "nan",
         "days_in_waiting_list": 0,
         "customer_type": "Transient",
         "adr": 107,
         "required_car_parking_spaces": 0,
         "total_of_special_requests": 2,
         "reservation_status": "Canceled",
         "reservation_status_date": "11-05-18",
         "_deepnote_index_column": 3
        },
        {
         "hotel": "Resort Hotel",
         "is_canceled": 1,
         "lead_time": 96,
         "arrival_date_year": 2018,
         "arrival_date_month": "July",
         "arrival_date_week_number": 27,
         "arrival_date_day_of_month": 1,
         "stays_in_weekend_nights": 2,
         "stays_in_week_nights": 8,
         "adults": 2,
         "children": 0,
         "babies": 0,
         "meal": "BB",
         "meal_cost": 12.99,
         "country": "PRT",
         "market_segment": "Direct",
         "distribution_channel": "Direct",
         "Discount": 0.1,
         "is_repeated_guest": 0,
         "previous_cancellations": 0,
         "previous_bookings_not_canceled": 0,
         "reserved_room_type": "E",
         "assigned_room_type": "E",
         "booking_changes": 0,
         "deposit_type": "No Deposit",
         "agent": "nan",
         "company": "nan",
         "days_in_waiting_list": 0,
         "customer_type": "Transient",
         "adr": 108.3,
         "required_car_parking_spaces": 0,
         "total_of_special_requests": 2,
         "reservation_status": "Canceled",
         "reservation_status_date": "29-05-18",
         "_deepnote_index_column": 4
        }
       ]
      },
      "text/plain": "          hotel  is_canceled  lead_time  arrival_date_year arrival_date_month  \\\n0  Resort Hotel            1         85               2018               July   \n1  Resort Hotel            1         75               2018               July   \n2  Resort Hotel            1         23               2018               July   \n3  Resort Hotel            1         60               2018               July   \n4  Resort Hotel            1         96               2018               July   \n\n   arrival_date_week_number  arrival_date_day_of_month  \\\n0                        27                          1   \n1                        27                          1   \n2                        27                          1   \n3                        27                          1   \n4                        27                          1   \n\n   stays_in_weekend_nights  stays_in_week_nights  adults  ...  deposit_type  \\\n0                        0                     3       2  ...    No Deposit   \n1                        0                     3       2  ...    No Deposit   \n2                        0                     4       2  ...    No Deposit   \n3                        2                     5       2  ...    No Deposit   \n4                        2                     8       2  ...    No Deposit   \n\n   agent company  days_in_waiting_list customer_type    adr  \\\n0  240.0     NaN                     0     Transient   82.0   \n1   15.0     NaN                     0     Transient  105.5   \n2  240.0     NaN                     0     Transient  123.0   \n3  240.0     NaN                     0     Transient  107.0   \n4    NaN     NaN                     0     Transient  108.3   \n\n  required_car_parking_spaces  total_of_special_requests  reservation_status  \\\n0                           0                          1            Canceled   \n1                           0                          0            Canceled   \n2                           0                          0            Canceled   \n3                           0                          2            Canceled   \n4                           0                          2            Canceled   \n\n   reservation_status_date  \n0                 06-05-18  \n1                 22-04-18  \n2                 23-06-18  \n3                 11-05-18  \n4                 29-05-18  \n\n[5 rows x 34 columns]",
      "text/html": "<div>\n<style scoped>\n    .dataframe tbody tr th:only-of-type {\n        vertical-align: middle;\n    }\n\n    .dataframe tbody tr th {\n        vertical-align: top;\n    }\n\n    .dataframe thead th {\n        text-align: right;\n    }\n</style>\n<table border=\"1\" class=\"dataframe\">\n  <thead>\n    <tr style=\"text-align: right;\">\n      <th></th>\n      <th>hotel</th>\n      <th>is_canceled</th>\n      <th>lead_time</th>\n      <th>arrival_date_year</th>\n      <th>arrival_date_month</th>\n      <th>arrival_date_week_number</th>\n      <th>arrival_date_day_of_month</th>\n      <th>stays_in_weekend_nights</th>\n      <th>stays_in_week_nights</th>\n      <th>adults</th>\n      <th>...</th>\n      <th>deposit_type</th>\n      <th>agent</th>\n      <th>company</th>\n      <th>days_in_waiting_list</th>\n      <th>customer_type</th>\n      <th>adr</th>\n      <th>required_car_parking_spaces</th>\n      <th>total_of_special_requests</th>\n      <th>reservation_status</th>\n      <th>reservation_status_date</th>\n    </tr>\n  </thead>\n  <tbody>\n    <tr>\n      <th>0</th>\n      <td>Resort Hotel</td>\n      <td>1</td>\n      <td>85</td>\n      <td>2018</td>\n      <td>July</td>\n      <td>27</td>\n      <td>1</td>\n      <td>0</td>\n      <td>3</td>\n      <td>2</td>\n      <td>...</td>\n      <td>No Deposit</td>\n      <td>240.0</td>\n      <td>NaN</td>\n      <td>0</td>\n      <td>Transient</td>\n      <td>82.0</td>\n      <td>0</td>\n      <td>1</td>\n      <td>Canceled</td>\n      <td>06-05-18</td>\n    </tr>\n    <tr>\n      <th>1</th>\n      <td>Resort Hotel</td>\n      <td>1</td>\n      <td>75</td>\n      <td>2018</td>\n      <td>July</td>\n      <td>27</td>\n      <td>1</td>\n      <td>0</td>\n      <td>3</td>\n      <td>2</td>\n      <td>...</td>\n      <td>No Deposit</td>\n      <td>15.0</td>\n      <td>NaN</td>\n      <td>0</td>\n      <td>Transient</td>\n      <td>105.5</td>\n      <td>0</td>\n      <td>0</td>\n      <td>Canceled</td>\n      <td>22-04-18</td>\n    </tr>\n    <tr>\n      <th>2</th>\n      <td>Resort Hotel</td>\n      <td>1</td>\n      <td>23</td>\n      <td>2018</td>\n      <td>July</td>\n      <td>27</td>\n      <td>1</td>\n      <td>0</td>\n      <td>4</td>\n      <td>2</td>\n      <td>...</td>\n      <td>No Deposit</td>\n      <td>240.0</td>\n      <td>NaN</td>\n      <td>0</td>\n      <td>Transient</td>\n      <td>123.0</td>\n      <td>0</td>\n      <td>0</td>\n      <td>Canceled</td>\n      <td>23-06-18</td>\n    </tr>\n    <tr>\n      <th>3</th>\n      <td>Resort Hotel</td>\n      <td>1</td>\n      <td>60</td>\n      <td>2018</td>\n      <td>July</td>\n      <td>27</td>\n      <td>1</td>\n      <td>2</td>\n      <td>5</td>\n      <td>2</td>\n      <td>...</td>\n      <td>No Deposit</td>\n      <td>240.0</td>\n      <td>NaN</td>\n      <td>0</td>\n      <td>Transient</td>\n      <td>107.0</td>\n      <td>0</td>\n      <td>2</td>\n      <td>Canceled</td>\n      <td>11-05-18</td>\n    </tr>\n    <tr>\n      <th>4</th>\n      <td>Resort Hotel</td>\n      <td>1</td>\n      <td>96</td>\n      <td>2018</td>\n      <td>July</td>\n      <td>27</td>\n      <td>1</td>\n      <td>2</td>\n      <td>8</td>\n      <td>2</td>\n      <td>...</td>\n      <td>No Deposit</td>\n      <td>NaN</td>\n      <td>NaN</td>\n      <td>0</td>\n      <td>Transient</td>\n      <td>108.3</td>\n      <td>0</td>\n      <td>2</td>\n      <td>Canceled</td>\n      <td>29-05-18</td>\n    </tr>\n  </tbody>\n</table>\n<p>5 rows × 34 columns</p>\n</div>"
     },
     "metadata": {}
    }
   ]
  },
  {
   "cell_type": "markdown",
   "source": "#### Market Segment Distribution",
   "metadata": {
    "cell_id": "ac3247c9911f4dd890f379c8bbbc4f1c",
    "tags": [],
    "deepnote_cell_type": "markdown",
    "deepnote_cell_height": 54
   }
  },
  {
   "cell_type": "code",
   "metadata": {
    "cell_id": "1857ec65064f4743b50eb07977345bbf",
    "tags": [],
    "deepnote_to_be_reexecuted": false,
    "source_hash": "ceb80058",
    "execution_start": 1660314605143,
    "execution_millis": 1,
    "deepnote_cell_type": "code",
    "deepnote_cell_height": 304,
    "deepnote_output_heights": [
     194
    ]
   },
   "source": "# Distribution of market segment\ndf.groupby('market_segment')['hotel'].count()",
   "execution_count": null,
   "outputs": [
    {
     "output_type": "execute_result",
     "execution_count": 24,
     "data": {
      "text/plain": "market_segment\nAviation           237\nComplementary      913\nCorporate         6486\nDirect           14973\nGroups           26115\nOffline TA/TO    30379\nOnline TA        62840\nUndefined            4\nName: hotel, dtype: int64"
     },
     "metadata": {}
    }
   ]
  },
  {
   "cell_type": "code",
   "metadata": {
    "cell_id": "14160accaed04970977e55f4b7868dbb",
    "tags": [],
    "deepnote_to_be_reexecuted": false,
    "source_hash": "358d0ac1",
    "execution_start": 1660314605206,
    "execution_millis": 46,
    "deepnote_cell_type": "code",
    "deepnote_cell_height": 419.1875,
    "deepnote_output_heights": [
     309.1875
    ]
   },
   "source": "# Market segment distribution per hotel type\ndf.groupby(['hotel', 'market_segment'])['hotel'].count()",
   "execution_count": null,
   "outputs": [
    {
     "output_type": "execute_result",
     "execution_count": 25,
     "data": {
      "text/plain": "hotel         market_segment\nCity Hotel    Aviation            237\n              Complementary       677\n              Corporate          3552\n              Direct             7076\n              Groups            18925\n              Offline TA/TO     20795\n              Online TA         41837\n              Undefined             4\nResort Hotel  Complementary       236\n              Corporate          2934\n              Direct             7897\n              Groups             7190\n              Offline TA/TO      9584\n              Online TA         21003\nName: hotel, dtype: int64"
     },
     "metadata": {}
    }
   ]
  },
  {
   "cell_type": "code",
   "metadata": {
    "cell_id": "b761f558e5934553b43714c998a327d4",
    "tags": [],
    "deepnote_to_be_reexecuted": false,
    "source_hash": "f1ca45bb",
    "execution_start": 1660314605293,
    "execution_millis": 158,
    "deepnote_cell_type": "code",
    "deepnote_cell_height": 654
   },
   "source": "# Creating market segment counts dataframe\ndf_msc = pd.DataFrame(df.groupby(['hotel', 'market_segment'])['hotel'].count())\ndf_msc = df_msc.rename(columns={0:'hotel', 'hotel':'market_segment_counts'}).reset_index()\ndf_msc",
   "execution_count": null,
   "outputs": [
    {
     "output_type": "execute_result",
     "execution_count": 26,
     "data": {
      "application/vnd.deepnote.dataframe.v3+json": {
       "column_count": 3,
       "row_count": 14,
       "columns": [
        {
         "name": "hotel",
         "dtype": "object",
         "stats": {
          "unique_count": 2,
          "nan_count": 0,
          "categories": [
           {
            "name": "City Hotel",
            "count": 8
           },
           {
            "name": "Resort Hotel",
            "count": 6
           }
          ]
         }
        },
        {
         "name": "market_segment",
         "dtype": "object",
         "stats": {
          "unique_count": 8,
          "nan_count": 0,
          "categories": [
           {
            "name": "Complementary",
            "count": 2
           },
           {
            "name": "Corporate",
            "count": 2
           },
           {
            "name": "6 others",
            "count": 10
           }
          ]
         }
        },
        {
         "name": "market_segment_counts",
         "dtype": "int64",
         "stats": {
          "unique_count": 14,
          "nan_count": 0,
          "min": "4",
          "max": "41837",
          "histogram": [
           {
            "bin_start": 4,
            "bin_end": 4187.3,
            "count": 6
           },
           {
            "bin_start": 4187.3,
            "bin_end": 8370.6,
            "count": 3
           },
           {
            "bin_start": 8370.6,
            "bin_end": 12553.900000000001,
            "count": 1
           },
           {
            "bin_start": 12553.900000000001,
            "bin_end": 16737.2,
            "count": 0
           },
           {
            "bin_start": 16737.2,
            "bin_end": 20920.5,
            "count": 2
           },
           {
            "bin_start": 20920.5,
            "bin_end": 25103.800000000003,
            "count": 1
           },
           {
            "bin_start": 25103.800000000003,
            "bin_end": 29287.100000000002,
            "count": 0
           },
           {
            "bin_start": 29287.100000000002,
            "bin_end": 33470.4,
            "count": 0
           },
           {
            "bin_start": 33470.4,
            "bin_end": 37653.700000000004,
            "count": 0
           },
           {
            "bin_start": 37653.700000000004,
            "bin_end": 41837,
            "count": 1
           }
          ]
         }
        },
        {
         "name": "_deepnote_index_column",
         "dtype": "int64"
        }
       ],
       "rows": [
        {
         "hotel": "City Hotel",
         "market_segment": "Aviation",
         "market_segment_counts": 237,
         "_deepnote_index_column": 0
        },
        {
         "hotel": "City Hotel",
         "market_segment": "Complementary",
         "market_segment_counts": 677,
         "_deepnote_index_column": 1
        },
        {
         "hotel": "City Hotel",
         "market_segment": "Corporate",
         "market_segment_counts": 3552,
         "_deepnote_index_column": 2
        },
        {
         "hotel": "City Hotel",
         "market_segment": "Direct",
         "market_segment_counts": 7076,
         "_deepnote_index_column": 3
        },
        {
         "hotel": "City Hotel",
         "market_segment": "Groups",
         "market_segment_counts": 18925,
         "_deepnote_index_column": 4
        },
        {
         "hotel": "City Hotel",
         "market_segment": "Offline TA/TO",
         "market_segment_counts": 20795,
         "_deepnote_index_column": 5
        },
        {
         "hotel": "City Hotel",
         "market_segment": "Online TA",
         "market_segment_counts": 41837,
         "_deepnote_index_column": 6
        },
        {
         "hotel": "City Hotel",
         "market_segment": "Undefined",
         "market_segment_counts": 4,
         "_deepnote_index_column": 7
        },
        {
         "hotel": "Resort Hotel",
         "market_segment": "Complementary",
         "market_segment_counts": 236,
         "_deepnote_index_column": 8
        },
        {
         "hotel": "Resort Hotel",
         "market_segment": "Corporate",
         "market_segment_counts": 2934,
         "_deepnote_index_column": 9
        }
       ]
      },
      "text/plain": "           hotel market_segment  market_segment_counts\n0     City Hotel       Aviation                    237\n1     City Hotel  Complementary                    677\n2     City Hotel      Corporate                   3552\n3     City Hotel         Direct                   7076\n4     City Hotel         Groups                  18925\n5     City Hotel  Offline TA/TO                  20795\n6     City Hotel      Online TA                  41837\n7     City Hotel      Undefined                      4\n8   Resort Hotel  Complementary                    236\n9   Resort Hotel      Corporate                   2934\n10  Resort Hotel         Direct                   7897\n11  Resort Hotel         Groups                   7190\n12  Resort Hotel  Offline TA/TO                   9584\n13  Resort Hotel      Online TA                  21003",
      "text/html": "<div>\n<style scoped>\n    .dataframe tbody tr th:only-of-type {\n        vertical-align: middle;\n    }\n\n    .dataframe tbody tr th {\n        vertical-align: top;\n    }\n\n    .dataframe thead th {\n        text-align: right;\n    }\n</style>\n<table border=\"1\" class=\"dataframe\">\n  <thead>\n    <tr style=\"text-align: right;\">\n      <th></th>\n      <th>hotel</th>\n      <th>market_segment</th>\n      <th>market_segment_counts</th>\n    </tr>\n  </thead>\n  <tbody>\n    <tr>\n      <th>0</th>\n      <td>City Hotel</td>\n      <td>Aviation</td>\n      <td>237</td>\n    </tr>\n    <tr>\n      <th>1</th>\n      <td>City Hotel</td>\n      <td>Complementary</td>\n      <td>677</td>\n    </tr>\n    <tr>\n      <th>2</th>\n      <td>City Hotel</td>\n      <td>Corporate</td>\n      <td>3552</td>\n    </tr>\n    <tr>\n      <th>3</th>\n      <td>City Hotel</td>\n      <td>Direct</td>\n      <td>7076</td>\n    </tr>\n    <tr>\n      <th>4</th>\n      <td>City Hotel</td>\n      <td>Groups</td>\n      <td>18925</td>\n    </tr>\n    <tr>\n      <th>5</th>\n      <td>City Hotel</td>\n      <td>Offline TA/TO</td>\n      <td>20795</td>\n    </tr>\n    <tr>\n      <th>6</th>\n      <td>City Hotel</td>\n      <td>Online TA</td>\n      <td>41837</td>\n    </tr>\n    <tr>\n      <th>7</th>\n      <td>City Hotel</td>\n      <td>Undefined</td>\n      <td>4</td>\n    </tr>\n    <tr>\n      <th>8</th>\n      <td>Resort Hotel</td>\n      <td>Complementary</td>\n      <td>236</td>\n    </tr>\n    <tr>\n      <th>9</th>\n      <td>Resort Hotel</td>\n      <td>Corporate</td>\n      <td>2934</td>\n    </tr>\n    <tr>\n      <th>10</th>\n      <td>Resort Hotel</td>\n      <td>Direct</td>\n      <td>7897</td>\n    </tr>\n    <tr>\n      <th>11</th>\n      <td>Resort Hotel</td>\n      <td>Groups</td>\n      <td>7190</td>\n    </tr>\n    <tr>\n      <th>12</th>\n      <td>Resort Hotel</td>\n      <td>Offline TA/TO</td>\n      <td>9584</td>\n    </tr>\n    <tr>\n      <th>13</th>\n      <td>Resort Hotel</td>\n      <td>Online TA</td>\n      <td>21003</td>\n    </tr>\n  </tbody>\n</table>\n</div>"
     },
     "metadata": {}
    }
   ]
  },
  {
   "cell_type": "code",
   "source": "fig1 = px.pie(df, values=df['market_segment'].value_counts(), names=df['market_segment'].unique(), title=\"Overall Hotel Market Segmentation\")\nfig1",
   "metadata": {
    "cell_id": "7d638e42a2814294ab7bd5f28958c89a",
    "tags": [],
    "deepnote_to_be_reexecuted": false,
    "source_hash": "cf4e3546",
    "execution_start": 1660314605450,
    "execution_millis": 4707,
    "deepnote_app_coordinates": {
     "x": 0,
     "y": 0,
     "w": 12,
     "h": 25
    },
    "deepnote_app_is_code_hidden": true,
    "deepnote_cell_type": "code",
    "deepnote_cell_height": 642,
    "deepnote_output_heights": [
     527
    ]
   },
   "execution_count": null,
   "outputs": [
    {
     "data": {
      "text/html": "<html>\n<head><meta charset=\"utf-8\" /></head>\n<body>\n    <div>            <script src=\"https://cdnjs.cloudflare.com/ajax/libs/mathjax/2.7.5/MathJax.js?config=TeX-AMS-MML_SVG\"></script><script type=\"text/javascript\">if (window.MathJax && window.MathJax.Hub && window.MathJax.Hub.Config) {window.MathJax.Hub.Config({SVG: {font: \"STIX-Web\"}});}</script>                <script type=\"text/javascript\">window.PlotlyConfig = {MathJaxConfig: 'local'};</script>\n        <script src=\"https://cdn.plot.ly/plotly-2.12.1.min.js\"></script>                <div id=\"dbee56f8-62b0-4966-8562-c5d9e7e45295\" class=\"plotly-graph-div\" style=\"height:525px; width:100%;\"></div>            <script type=\"text/javascript\">                                    window.PLOTLYENV=window.PLOTLYENV || {};                                    if (document.getElementById(\"dbee56f8-62b0-4966-8562-c5d9e7e45295\")) {                    Plotly.newPlot(                        \"dbee56f8-62b0-4966-8562-c5d9e7e45295\",                        [{\"domain\":{\"x\":[0.0,1.0],\"y\":[0.0,1.0]},\"hovertemplate\":\"label=%{label}<br>value=%{value}<extra></extra>\",\"labels\":[\"Online TA\",\"Offline TA/TO\",\"Direct\",\"Corporate\",\"Groups\",\"Complementary\",\"Undefined\",\"Aviation\"],\"legendgroup\":\"\",\"name\":\"\",\"showlegend\":true,\"values\":[62840,30379,26115,14973,6486,913,237,4],\"type\":\"pie\"}],                        {\"template\":{\"data\":{\"histogram2dcontour\":[{\"type\":\"histogram2dcontour\",\"colorbar\":{\"outlinewidth\":0,\"ticks\":\"\"},\"colorscale\":[[0.0,\"#0d0887\"],[0.1111111111111111,\"#46039f\"],[0.2222222222222222,\"#7201a8\"],[0.3333333333333333,\"#9c179e\"],[0.4444444444444444,\"#bd3786\"],[0.5555555555555556,\"#d8576b\"],[0.6666666666666666,\"#ed7953\"],[0.7777777777777778,\"#fb9f3a\"],[0.8888888888888888,\"#fdca26\"],[1.0,\"#f0f921\"]]}],\"choropleth\":[{\"type\":\"choropleth\",\"colorbar\":{\"outlinewidth\":0,\"ticks\":\"\"}}],\"histogram2d\":[{\"type\":\"histogram2d\",\"colorbar\":{\"outlinewidth\":0,\"ticks\":\"\"},\"colorscale\":[[0.0,\"#0d0887\"],[0.1111111111111111,\"#46039f\"],[0.2222222222222222,\"#7201a8\"],[0.3333333333333333,\"#9c179e\"],[0.4444444444444444,\"#bd3786\"],[0.5555555555555556,\"#d8576b\"],[0.6666666666666666,\"#ed7953\"],[0.7777777777777778,\"#fb9f3a\"],[0.8888888888888888,\"#fdca26\"],[1.0,\"#f0f921\"]]}],\"heatmap\":[{\"type\":\"heatmap\",\"colorbar\":{\"outlinewidth\":0,\"ticks\":\"\"},\"colorscale\":[[0.0,\"#0d0887\"],[0.1111111111111111,\"#46039f\"],[0.2222222222222222,\"#7201a8\"],[0.3333333333333333,\"#9c179e\"],[0.4444444444444444,\"#bd3786\"],[0.5555555555555556,\"#d8576b\"],[0.6666666666666666,\"#ed7953\"],[0.7777777777777778,\"#fb9f3a\"],[0.8888888888888888,\"#fdca26\"],[1.0,\"#f0f921\"]]}],\"heatmapgl\":[{\"type\":\"heatmapgl\",\"colorbar\":{\"outlinewidth\":0,\"ticks\":\"\"},\"colorscale\":[[0.0,\"#0d0887\"],[0.1111111111111111,\"#46039f\"],[0.2222222222222222,\"#7201a8\"],[0.3333333333333333,\"#9c179e\"],[0.4444444444444444,\"#bd3786\"],[0.5555555555555556,\"#d8576b\"],[0.6666666666666666,\"#ed7953\"],[0.7777777777777778,\"#fb9f3a\"],[0.8888888888888888,\"#fdca26\"],[1.0,\"#f0f921\"]]}],\"contourcarpet\":[{\"type\":\"contourcarpet\",\"colorbar\":{\"outlinewidth\":0,\"ticks\":\"\"}}],\"contour\":[{\"type\":\"contour\",\"colorbar\":{\"outlinewidth\":0,\"ticks\":\"\"},\"colorscale\":[[0.0,\"#0d0887\"],[0.1111111111111111,\"#46039f\"],[0.2222222222222222,\"#7201a8\"],[0.3333333333333333,\"#9c179e\"],[0.4444444444444444,\"#bd3786\"],[0.5555555555555556,\"#d8576b\"],[0.6666666666666666,\"#ed7953\"],[0.7777777777777778,\"#fb9f3a\"],[0.8888888888888888,\"#fdca26\"],[1.0,\"#f0f921\"]]}],\"surface\":[{\"type\":\"surface\",\"colorbar\":{\"outlinewidth\":0,\"ticks\":\"\"},\"colorscale\":[[0.0,\"#0d0887\"],[0.1111111111111111,\"#46039f\"],[0.2222222222222222,\"#7201a8\"],[0.3333333333333333,\"#9c179e\"],[0.4444444444444444,\"#bd3786\"],[0.5555555555555556,\"#d8576b\"],[0.6666666666666666,\"#ed7953\"],[0.7777777777777778,\"#fb9f3a\"],[0.8888888888888888,\"#fdca26\"],[1.0,\"#f0f921\"]]}],\"mesh3d\":[{\"type\":\"mesh3d\",\"colorbar\":{\"outlinewidth\":0,\"ticks\":\"\"}}],\"scatter\":[{\"fillpattern\":{\"fillmode\":\"overlay\",\"size\":10,\"solidity\":0.2},\"type\":\"scatter\"}],\"parcoords\":[{\"type\":\"parcoords\",\"line\":{\"colorbar\":{\"outlinewidth\":0,\"ticks\":\"\"}}}],\"scatterpolargl\":[{\"type\":\"scatterpolargl\",\"marker\":{\"colorbar\":{\"outlinewidth\":0,\"ticks\":\"\"}}}],\"bar\":[{\"error_x\":{\"color\":\"#2a3f5f\"},\"error_y\":{\"color\":\"#2a3f5f\"},\"marker\":{\"line\":{\"color\":\"#E5ECF6\",\"width\":0.5},\"pattern\":{\"fillmode\":\"overlay\",\"size\":10,\"solidity\":0.2}},\"type\":\"bar\"}],\"scattergeo\":[{\"type\":\"scattergeo\",\"marker\":{\"colorbar\":{\"outlinewidth\":0,\"ticks\":\"\"}}}],\"scatterpolar\":[{\"type\":\"scatterpolar\",\"marker\":{\"colorbar\":{\"outlinewidth\":0,\"ticks\":\"\"}}}],\"histogram\":[{\"marker\":{\"pattern\":{\"fillmode\":\"overlay\",\"size\":10,\"solidity\":0.2}},\"type\":\"histogram\"}],\"scattergl\":[{\"type\":\"scattergl\",\"marker\":{\"colorbar\":{\"outlinewidth\":0,\"ticks\":\"\"}}}],\"scatter3d\":[{\"type\":\"scatter3d\",\"line\":{\"colorbar\":{\"outlinewidth\":0,\"ticks\":\"\"}},\"marker\":{\"colorbar\":{\"outlinewidth\":0,\"ticks\":\"\"}}}],\"scattermapbox\":[{\"type\":\"scattermapbox\",\"marker\":{\"colorbar\":{\"outlinewidth\":0,\"ticks\":\"\"}}}],\"scatterternary\":[{\"type\":\"scatterternary\",\"marker\":{\"colorbar\":{\"outlinewidth\":0,\"ticks\":\"\"}}}],\"scattercarpet\":[{\"type\":\"scattercarpet\",\"marker\":{\"colorbar\":{\"outlinewidth\":0,\"ticks\":\"\"}}}],\"carpet\":[{\"aaxis\":{\"endlinecolor\":\"#2a3f5f\",\"gridcolor\":\"white\",\"linecolor\":\"white\",\"minorgridcolor\":\"white\",\"startlinecolor\":\"#2a3f5f\"},\"baxis\":{\"endlinecolor\":\"#2a3f5f\",\"gridcolor\":\"white\",\"linecolor\":\"white\",\"minorgridcolor\":\"white\",\"startlinecolor\":\"#2a3f5f\"},\"type\":\"carpet\"}],\"table\":[{\"cells\":{\"fill\":{\"color\":\"#EBF0F8\"},\"line\":{\"color\":\"white\"}},\"header\":{\"fill\":{\"color\":\"#C8D4E3\"},\"line\":{\"color\":\"white\"}},\"type\":\"table\"}],\"barpolar\":[{\"marker\":{\"line\":{\"color\":\"#E5ECF6\",\"width\":0.5},\"pattern\":{\"fillmode\":\"overlay\",\"size\":10,\"solidity\":0.2}},\"type\":\"barpolar\"}],\"pie\":[{\"automargin\":true,\"type\":\"pie\"}]},\"layout\":{\"autotypenumbers\":\"strict\",\"colorway\":[\"#636efa\",\"#EF553B\",\"#00cc96\",\"#ab63fa\",\"#FFA15A\",\"#19d3f3\",\"#FF6692\",\"#B6E880\",\"#FF97FF\",\"#FECB52\"],\"font\":{\"color\":\"#2a3f5f\"},\"hovermode\":\"closest\",\"hoverlabel\":{\"align\":\"left\"},\"paper_bgcolor\":\"white\",\"plot_bgcolor\":\"#E5ECF6\",\"polar\":{\"bgcolor\":\"#E5ECF6\",\"angularaxis\":{\"gridcolor\":\"white\",\"linecolor\":\"white\",\"ticks\":\"\"},\"radialaxis\":{\"gridcolor\":\"white\",\"linecolor\":\"white\",\"ticks\":\"\"}},\"ternary\":{\"bgcolor\":\"#E5ECF6\",\"aaxis\":{\"gridcolor\":\"white\",\"linecolor\":\"white\",\"ticks\":\"\"},\"baxis\":{\"gridcolor\":\"white\",\"linecolor\":\"white\",\"ticks\":\"\"},\"caxis\":{\"gridcolor\":\"white\",\"linecolor\":\"white\",\"ticks\":\"\"}},\"coloraxis\":{\"colorbar\":{\"outlinewidth\":0,\"ticks\":\"\"}},\"colorscale\":{\"sequential\":[[0.0,\"#0d0887\"],[0.1111111111111111,\"#46039f\"],[0.2222222222222222,\"#7201a8\"],[0.3333333333333333,\"#9c179e\"],[0.4444444444444444,\"#bd3786\"],[0.5555555555555556,\"#d8576b\"],[0.6666666666666666,\"#ed7953\"],[0.7777777777777778,\"#fb9f3a\"],[0.8888888888888888,\"#fdca26\"],[1.0,\"#f0f921\"]],\"sequentialminus\":[[0.0,\"#0d0887\"],[0.1111111111111111,\"#46039f\"],[0.2222222222222222,\"#7201a8\"],[0.3333333333333333,\"#9c179e\"],[0.4444444444444444,\"#bd3786\"],[0.5555555555555556,\"#d8576b\"],[0.6666666666666666,\"#ed7953\"],[0.7777777777777778,\"#fb9f3a\"],[0.8888888888888888,\"#fdca26\"],[1.0,\"#f0f921\"]],\"diverging\":[[0,\"#8e0152\"],[0.1,\"#c51b7d\"],[0.2,\"#de77ae\"],[0.3,\"#f1b6da\"],[0.4,\"#fde0ef\"],[0.5,\"#f7f7f7\"],[0.6,\"#e6f5d0\"],[0.7,\"#b8e186\"],[0.8,\"#7fbc41\"],[0.9,\"#4d9221\"],[1,\"#276419\"]]},\"xaxis\":{\"gridcolor\":\"white\",\"linecolor\":\"white\",\"ticks\":\"\",\"title\":{\"standoff\":15},\"zerolinecolor\":\"white\",\"automargin\":true,\"zerolinewidth\":2},\"yaxis\":{\"gridcolor\":\"white\",\"linecolor\":\"white\",\"ticks\":\"\",\"title\":{\"standoff\":15},\"zerolinecolor\":\"white\",\"automargin\":true,\"zerolinewidth\":2},\"scene\":{\"xaxis\":{\"backgroundcolor\":\"#E5ECF6\",\"gridcolor\":\"white\",\"linecolor\":\"white\",\"showbackground\":true,\"ticks\":\"\",\"zerolinecolor\":\"white\",\"gridwidth\":2},\"yaxis\":{\"backgroundcolor\":\"#E5ECF6\",\"gridcolor\":\"white\",\"linecolor\":\"white\",\"showbackground\":true,\"ticks\":\"\",\"zerolinecolor\":\"white\",\"gridwidth\":2},\"zaxis\":{\"backgroundcolor\":\"#E5ECF6\",\"gridcolor\":\"white\",\"linecolor\":\"white\",\"showbackground\":true,\"ticks\":\"\",\"zerolinecolor\":\"white\",\"gridwidth\":2}},\"shapedefaults\":{\"line\":{\"color\":\"#2a3f5f\"}},\"annotationdefaults\":{\"arrowcolor\":\"#2a3f5f\",\"arrowhead\":0,\"arrowwidth\":1},\"geo\":{\"bgcolor\":\"white\",\"landcolor\":\"#E5ECF6\",\"subunitcolor\":\"white\",\"showland\":true,\"showlakes\":true,\"lakecolor\":\"white\"},\"title\":{\"x\":0.05},\"mapbox\":{\"style\":\"light\"}}},\"legend\":{\"tracegroupgap\":0},\"title\":{\"text\":\"Overall Hotel Market Segmentation\"}},                        {\"responsive\": true}                    ).then(function(){\n                            \nvar gd = document.getElementById('dbee56f8-62b0-4966-8562-c5d9e7e45295');\nvar x = new MutationObserver(function (mutations, observer) {{\n        var display = window.getComputedStyle(gd).display;\n        if (!display || display === 'none') {{\n            console.log([gd, 'removed!']);\n            Plotly.purge(gd);\n            observer.disconnect();\n        }}\n}});\n\n// Listen for the removal of the full notebook cells\nvar notebookContainer = gd.closest('#notebook-container');\nif (notebookContainer) {{\n    x.observe(notebookContainer, {childList: true});\n}}\n\n// Listen for the clearing of the current output cell\nvar outputEl = gd.closest('.output');\nif (outputEl) {{\n    x.observe(outputEl, {childList: true});\n}}\n\n                        })                };                            </script>        </div>\n</body>\n</html>"
     },
     "metadata": {},
     "output_type": "display_data"
    }
   ]
  },
  {
   "cell_type": "code",
   "source": "# Pie chart showing market segment distribution per hotel type\nfig1_1 = px.pie(df_msc, values='market_segment_counts', names='market_segment', facet_col='hotel', title=\"Market Segmentation based on Hotel Type\")\nfig1_1.update_layout(legend=dict(title=\"Market Segment\"))\nfig1_1",
   "metadata": {
    "cell_id": "f267d57a5a43429ea9909685000934fe",
    "tags": [],
    "deepnote_to_be_reexecuted": false,
    "source_hash": "bb174a95",
    "execution_start": 1660314610193,
    "execution_millis": 2504,
    "deepnote_app_coordinates": {
     "x": 0,
     "y": 26,
     "w": 12,
     "h": 27
    },
    "deepnote_app_is_code_hidden": true,
    "deepnote_cell_type": "code",
    "deepnote_cell_height": 678,
    "deepnote_output_heights": [
     527
    ]
   },
   "execution_count": null,
   "outputs": [
    {
     "data": {
      "text/html": "<html>\n<head><meta charset=\"utf-8\" /></head>\n<body>\n    <div>            <script src=\"https://cdnjs.cloudflare.com/ajax/libs/mathjax/2.7.5/MathJax.js?config=TeX-AMS-MML_SVG\"></script><script type=\"text/javascript\">if (window.MathJax && window.MathJax.Hub && window.MathJax.Hub.Config) {window.MathJax.Hub.Config({SVG: {font: \"STIX-Web\"}});}</script>                <script type=\"text/javascript\">window.PlotlyConfig = {MathJaxConfig: 'local'};</script>\n        <script src=\"https://cdn.plot.ly/plotly-2.12.1.min.js\"></script>                <div id=\"f2f0ea38-bd44-4778-b94d-584c60cc5783\" class=\"plotly-graph-div\" style=\"height:525px; width:100%;\"></div>            <script type=\"text/javascript\">                                    window.PLOTLYENV=window.PLOTLYENV || {};                                    if (document.getElementById(\"f2f0ea38-bd44-4778-b94d-584c60cc5783\")) {                    Plotly.newPlot(                        \"f2f0ea38-bd44-4778-b94d-584c60cc5783\",                        [{\"domain\":{\"x\":[0.0,0.49],\"y\":[0.0,1.0]},\"hovertemplate\":\"hotel=City Hotel<br>market_segment=%{label}<br>market_segment_counts=%{value}<extra></extra>\",\"labels\":[\"Aviation\",\"Complementary\",\"Corporate\",\"Direct\",\"Groups\",\"Offline TA/TO\",\"Online TA\",\"Undefined\"],\"legendgroup\":\"\",\"name\":\"\",\"showlegend\":true,\"values\":[237,677,3552,7076,18925,20795,41837,4],\"type\":\"pie\"},{\"domain\":{\"x\":[0.51,1.0],\"y\":[0.0,1.0]},\"hovertemplate\":\"hotel=Resort Hotel<br>market_segment=%{label}<br>market_segment_counts=%{value}<extra></extra>\",\"labels\":[\"Complementary\",\"Corporate\",\"Direct\",\"Groups\",\"Offline TA/TO\",\"Online TA\"],\"legendgroup\":\"\",\"name\":\"\",\"showlegend\":true,\"values\":[236,2934,7897,7190,9584,21003],\"type\":\"pie\"}],                        {\"template\":{\"data\":{\"histogram2dcontour\":[{\"type\":\"histogram2dcontour\",\"colorbar\":{\"outlinewidth\":0,\"ticks\":\"\"},\"colorscale\":[[0.0,\"#0d0887\"],[0.1111111111111111,\"#46039f\"],[0.2222222222222222,\"#7201a8\"],[0.3333333333333333,\"#9c179e\"],[0.4444444444444444,\"#bd3786\"],[0.5555555555555556,\"#d8576b\"],[0.6666666666666666,\"#ed7953\"],[0.7777777777777778,\"#fb9f3a\"],[0.8888888888888888,\"#fdca26\"],[1.0,\"#f0f921\"]]}],\"choropleth\":[{\"type\":\"choropleth\",\"colorbar\":{\"outlinewidth\":0,\"ticks\":\"\"}}],\"histogram2d\":[{\"type\":\"histogram2d\",\"colorbar\":{\"outlinewidth\":0,\"ticks\":\"\"},\"colorscale\":[[0.0,\"#0d0887\"],[0.1111111111111111,\"#46039f\"],[0.2222222222222222,\"#7201a8\"],[0.3333333333333333,\"#9c179e\"],[0.4444444444444444,\"#bd3786\"],[0.5555555555555556,\"#d8576b\"],[0.6666666666666666,\"#ed7953\"],[0.7777777777777778,\"#fb9f3a\"],[0.8888888888888888,\"#fdca26\"],[1.0,\"#f0f921\"]]}],\"heatmap\":[{\"type\":\"heatmap\",\"colorbar\":{\"outlinewidth\":0,\"ticks\":\"\"},\"colorscale\":[[0.0,\"#0d0887\"],[0.1111111111111111,\"#46039f\"],[0.2222222222222222,\"#7201a8\"],[0.3333333333333333,\"#9c179e\"],[0.4444444444444444,\"#bd3786\"],[0.5555555555555556,\"#d8576b\"],[0.6666666666666666,\"#ed7953\"],[0.7777777777777778,\"#fb9f3a\"],[0.8888888888888888,\"#fdca26\"],[1.0,\"#f0f921\"]]}],\"heatmapgl\":[{\"type\":\"heatmapgl\",\"colorbar\":{\"outlinewidth\":0,\"ticks\":\"\"},\"colorscale\":[[0.0,\"#0d0887\"],[0.1111111111111111,\"#46039f\"],[0.2222222222222222,\"#7201a8\"],[0.3333333333333333,\"#9c179e\"],[0.4444444444444444,\"#bd3786\"],[0.5555555555555556,\"#d8576b\"],[0.6666666666666666,\"#ed7953\"],[0.7777777777777778,\"#fb9f3a\"],[0.8888888888888888,\"#fdca26\"],[1.0,\"#f0f921\"]]}],\"contourcarpet\":[{\"type\":\"contourcarpet\",\"colorbar\":{\"outlinewidth\":0,\"ticks\":\"\"}}],\"contour\":[{\"type\":\"contour\",\"colorbar\":{\"outlinewidth\":0,\"ticks\":\"\"},\"colorscale\":[[0.0,\"#0d0887\"],[0.1111111111111111,\"#46039f\"],[0.2222222222222222,\"#7201a8\"],[0.3333333333333333,\"#9c179e\"],[0.4444444444444444,\"#bd3786\"],[0.5555555555555556,\"#d8576b\"],[0.6666666666666666,\"#ed7953\"],[0.7777777777777778,\"#fb9f3a\"],[0.8888888888888888,\"#fdca26\"],[1.0,\"#f0f921\"]]}],\"surface\":[{\"type\":\"surface\",\"colorbar\":{\"outlinewidth\":0,\"ticks\":\"\"},\"colorscale\":[[0.0,\"#0d0887\"],[0.1111111111111111,\"#46039f\"],[0.2222222222222222,\"#7201a8\"],[0.3333333333333333,\"#9c179e\"],[0.4444444444444444,\"#bd3786\"],[0.5555555555555556,\"#d8576b\"],[0.6666666666666666,\"#ed7953\"],[0.7777777777777778,\"#fb9f3a\"],[0.8888888888888888,\"#fdca26\"],[1.0,\"#f0f921\"]]}],\"mesh3d\":[{\"type\":\"mesh3d\",\"colorbar\":{\"outlinewidth\":0,\"ticks\":\"\"}}],\"scatter\":[{\"fillpattern\":{\"fillmode\":\"overlay\",\"size\":10,\"solidity\":0.2},\"type\":\"scatter\"}],\"parcoords\":[{\"type\":\"parcoords\",\"line\":{\"colorbar\":{\"outlinewidth\":0,\"ticks\":\"\"}}}],\"scatterpolargl\":[{\"type\":\"scatterpolargl\",\"marker\":{\"colorbar\":{\"outlinewidth\":0,\"ticks\":\"\"}}}],\"bar\":[{\"error_x\":{\"color\":\"#2a3f5f\"},\"error_y\":{\"color\":\"#2a3f5f\"},\"marker\":{\"line\":{\"color\":\"#E5ECF6\",\"width\":0.5},\"pattern\":{\"fillmode\":\"overlay\",\"size\":10,\"solidity\":0.2}},\"type\":\"bar\"}],\"scattergeo\":[{\"type\":\"scattergeo\",\"marker\":{\"colorbar\":{\"outlinewidth\":0,\"ticks\":\"\"}}}],\"scatterpolar\":[{\"type\":\"scatterpolar\",\"marker\":{\"colorbar\":{\"outlinewidth\":0,\"ticks\":\"\"}}}],\"histogram\":[{\"marker\":{\"pattern\":{\"fillmode\":\"overlay\",\"size\":10,\"solidity\":0.2}},\"type\":\"histogram\"}],\"scattergl\":[{\"type\":\"scattergl\",\"marker\":{\"colorbar\":{\"outlinewidth\":0,\"ticks\":\"\"}}}],\"scatter3d\":[{\"type\":\"scatter3d\",\"line\":{\"colorbar\":{\"outlinewidth\":0,\"ticks\":\"\"}},\"marker\":{\"colorbar\":{\"outlinewidth\":0,\"ticks\":\"\"}}}],\"scattermapbox\":[{\"type\":\"scattermapbox\",\"marker\":{\"colorbar\":{\"outlinewidth\":0,\"ticks\":\"\"}}}],\"scatterternary\":[{\"type\":\"scatterternary\",\"marker\":{\"colorbar\":{\"outlinewidth\":0,\"ticks\":\"\"}}}],\"scattercarpet\":[{\"type\":\"scattercarpet\",\"marker\":{\"colorbar\":{\"outlinewidth\":0,\"ticks\":\"\"}}}],\"carpet\":[{\"aaxis\":{\"endlinecolor\":\"#2a3f5f\",\"gridcolor\":\"white\",\"linecolor\":\"white\",\"minorgridcolor\":\"white\",\"startlinecolor\":\"#2a3f5f\"},\"baxis\":{\"endlinecolor\":\"#2a3f5f\",\"gridcolor\":\"white\",\"linecolor\":\"white\",\"minorgridcolor\":\"white\",\"startlinecolor\":\"#2a3f5f\"},\"type\":\"carpet\"}],\"table\":[{\"cells\":{\"fill\":{\"color\":\"#EBF0F8\"},\"line\":{\"color\":\"white\"}},\"header\":{\"fill\":{\"color\":\"#C8D4E3\"},\"line\":{\"color\":\"white\"}},\"type\":\"table\"}],\"barpolar\":[{\"marker\":{\"line\":{\"color\":\"#E5ECF6\",\"width\":0.5},\"pattern\":{\"fillmode\":\"overlay\",\"size\":10,\"solidity\":0.2}},\"type\":\"barpolar\"}],\"pie\":[{\"automargin\":true,\"type\":\"pie\"}]},\"layout\":{\"autotypenumbers\":\"strict\",\"colorway\":[\"#636efa\",\"#EF553B\",\"#00cc96\",\"#ab63fa\",\"#FFA15A\",\"#19d3f3\",\"#FF6692\",\"#B6E880\",\"#FF97FF\",\"#FECB52\"],\"font\":{\"color\":\"#2a3f5f\"},\"hovermode\":\"closest\",\"hoverlabel\":{\"align\":\"left\"},\"paper_bgcolor\":\"white\",\"plot_bgcolor\":\"#E5ECF6\",\"polar\":{\"bgcolor\":\"#E5ECF6\",\"angularaxis\":{\"gridcolor\":\"white\",\"linecolor\":\"white\",\"ticks\":\"\"},\"radialaxis\":{\"gridcolor\":\"white\",\"linecolor\":\"white\",\"ticks\":\"\"}},\"ternary\":{\"bgcolor\":\"#E5ECF6\",\"aaxis\":{\"gridcolor\":\"white\",\"linecolor\":\"white\",\"ticks\":\"\"},\"baxis\":{\"gridcolor\":\"white\",\"linecolor\":\"white\",\"ticks\":\"\"},\"caxis\":{\"gridcolor\":\"white\",\"linecolor\":\"white\",\"ticks\":\"\"}},\"coloraxis\":{\"colorbar\":{\"outlinewidth\":0,\"ticks\":\"\"}},\"colorscale\":{\"sequential\":[[0.0,\"#0d0887\"],[0.1111111111111111,\"#46039f\"],[0.2222222222222222,\"#7201a8\"],[0.3333333333333333,\"#9c179e\"],[0.4444444444444444,\"#bd3786\"],[0.5555555555555556,\"#d8576b\"],[0.6666666666666666,\"#ed7953\"],[0.7777777777777778,\"#fb9f3a\"],[0.8888888888888888,\"#fdca26\"],[1.0,\"#f0f921\"]],\"sequentialminus\":[[0.0,\"#0d0887\"],[0.1111111111111111,\"#46039f\"],[0.2222222222222222,\"#7201a8\"],[0.3333333333333333,\"#9c179e\"],[0.4444444444444444,\"#bd3786\"],[0.5555555555555556,\"#d8576b\"],[0.6666666666666666,\"#ed7953\"],[0.7777777777777778,\"#fb9f3a\"],[0.8888888888888888,\"#fdca26\"],[1.0,\"#f0f921\"]],\"diverging\":[[0,\"#8e0152\"],[0.1,\"#c51b7d\"],[0.2,\"#de77ae\"],[0.3,\"#f1b6da\"],[0.4,\"#fde0ef\"],[0.5,\"#f7f7f7\"],[0.6,\"#e6f5d0\"],[0.7,\"#b8e186\"],[0.8,\"#7fbc41\"],[0.9,\"#4d9221\"],[1,\"#276419\"]]},\"xaxis\":{\"gridcolor\":\"white\",\"linecolor\":\"white\",\"ticks\":\"\",\"title\":{\"standoff\":15},\"zerolinecolor\":\"white\",\"automargin\":true,\"zerolinewidth\":2},\"yaxis\":{\"gridcolor\":\"white\",\"linecolor\":\"white\",\"ticks\":\"\",\"title\":{\"standoff\":15},\"zerolinecolor\":\"white\",\"automargin\":true,\"zerolinewidth\":2},\"scene\":{\"xaxis\":{\"backgroundcolor\":\"#E5ECF6\",\"gridcolor\":\"white\",\"linecolor\":\"white\",\"showbackground\":true,\"ticks\":\"\",\"zerolinecolor\":\"white\",\"gridwidth\":2},\"yaxis\":{\"backgroundcolor\":\"#E5ECF6\",\"gridcolor\":\"white\",\"linecolor\":\"white\",\"showbackground\":true,\"ticks\":\"\",\"zerolinecolor\":\"white\",\"gridwidth\":2},\"zaxis\":{\"backgroundcolor\":\"#E5ECF6\",\"gridcolor\":\"white\",\"linecolor\":\"white\",\"showbackground\":true,\"ticks\":\"\",\"zerolinecolor\":\"white\",\"gridwidth\":2}},\"shapedefaults\":{\"line\":{\"color\":\"#2a3f5f\"}},\"annotationdefaults\":{\"arrowcolor\":\"#2a3f5f\",\"arrowhead\":0,\"arrowwidth\":1},\"geo\":{\"bgcolor\":\"white\",\"landcolor\":\"#E5ECF6\",\"subunitcolor\":\"white\",\"showland\":true,\"showlakes\":true,\"lakecolor\":\"white\"},\"title\":{\"x\":0.05},\"mapbox\":{\"style\":\"light\"}}},\"annotations\":[{\"font\":{},\"showarrow\":false,\"text\":\"hotel=City Hotel\",\"x\":0.245,\"xanchor\":\"center\",\"xref\":\"paper\",\"y\":1.0,\"yanchor\":\"bottom\",\"yref\":\"paper\"},{\"font\":{},\"showarrow\":false,\"text\":\"hotel=Resort Hotel\",\"x\":0.755,\"xanchor\":\"center\",\"xref\":\"paper\",\"y\":1.0,\"yanchor\":\"bottom\",\"yref\":\"paper\"}],\"legend\":{\"tracegroupgap\":0,\"title\":{\"text\":\"Market Segment\"}},\"title\":{\"text\":\"Market Segmentation based on Hotel Type\"}},                        {\"responsive\": true}                    ).then(function(){\n                            \nvar gd = document.getElementById('f2f0ea38-bd44-4778-b94d-584c60cc5783');\nvar x = new MutationObserver(function (mutations, observer) {{\n        var display = window.getComputedStyle(gd).display;\n        if (!display || display === 'none') {{\n            console.log([gd, 'removed!']);\n            Plotly.purge(gd);\n            observer.disconnect();\n        }}\n}});\n\n// Listen for the removal of the full notebook cells\nvar notebookContainer = gd.closest('#notebook-container');\nif (notebookContainer) {{\n    x.observe(notebookContainer, {childList: true});\n}}\n\n// Listen for the clearing of the current output cell\nvar outputEl = gd.closest('.output');\nif (outputEl) {{\n    x.observe(outputEl, {childList: true});\n}}\n\n                        })                };                            </script>        </div>\n</body>\n</html>"
     },
     "metadata": {},
     "output_type": "display_data"
    }
   ]
  },
  {
   "cell_type": "code",
   "source": "fig1_2 = px.bar(df_msc, x='market_segment', y='market_segment_counts', color='market_segment', facet_col='hotel', title=\"Market Segmentation by Hotel Type\")\nfig1_2.update_layout(legend=dict(title=\"Market Segment\"))\nfig1_2",
   "metadata": {
    "cell_id": "8e91e81441064f588247031cbb58f0ca",
    "tags": [],
    "deepnote_to_be_reexecuted": false,
    "source_hash": "7f9b5934",
    "execution_start": 1660314610478,
    "execution_millis": 2228,
    "deepnote_app_coordinates": {
     "x": 0,
     "y": 54,
     "w": 12,
     "h": 26
    },
    "deepnote_app_is_code_hidden": true,
    "deepnote_cell_type": "code",
    "deepnote_cell_height": 660,
    "deepnote_output_heights": [
     527
    ]
   },
   "execution_count": null,
   "outputs": [
    {
     "data": {
      "text/html": "<html>\n<head><meta charset=\"utf-8\" /></head>\n<body>\n    <div>            <script src=\"https://cdnjs.cloudflare.com/ajax/libs/mathjax/2.7.5/MathJax.js?config=TeX-AMS-MML_SVG\"></script><script type=\"text/javascript\">if (window.MathJax && window.MathJax.Hub && window.MathJax.Hub.Config) {window.MathJax.Hub.Config({SVG: {font: \"STIX-Web\"}});}</script>                <script type=\"text/javascript\">window.PlotlyConfig = {MathJaxConfig: 'local'};</script>\n        <script src=\"https://cdn.plot.ly/plotly-2.12.1.min.js\"></script>                <div id=\"09bb1323-d6e1-48b5-9304-d0dbdcf35680\" class=\"plotly-graph-div\" style=\"height:525px; width:100%;\"></div>            <script type=\"text/javascript\">                                    window.PLOTLYENV=window.PLOTLYENV || {};                                    if (document.getElementById(\"09bb1323-d6e1-48b5-9304-d0dbdcf35680\")) {                    Plotly.newPlot(                        \"09bb1323-d6e1-48b5-9304-d0dbdcf35680\",                        [{\"alignmentgroup\":\"True\",\"hovertemplate\":\"market_segment=%{x}<br>hotel=City Hotel<br>market_segment_counts=%{y}<extra></extra>\",\"legendgroup\":\"Aviation\",\"marker\":{\"color\":\"#636efa\",\"pattern\":{\"shape\":\"\"}},\"name\":\"Aviation\",\"offsetgroup\":\"Aviation\",\"orientation\":\"v\",\"showlegend\":true,\"textposition\":\"auto\",\"x\":[\"Aviation\"],\"xaxis\":\"x\",\"y\":[237],\"yaxis\":\"y\",\"type\":\"bar\"},{\"alignmentgroup\":\"True\",\"hovertemplate\":\"market_segment=%{x}<br>hotel=City Hotel<br>market_segment_counts=%{y}<extra></extra>\",\"legendgroup\":\"Complementary\",\"marker\":{\"color\":\"#EF553B\",\"pattern\":{\"shape\":\"\"}},\"name\":\"Complementary\",\"offsetgroup\":\"Complementary\",\"orientation\":\"v\",\"showlegend\":true,\"textposition\":\"auto\",\"x\":[\"Complementary\"],\"xaxis\":\"x\",\"y\":[677],\"yaxis\":\"y\",\"type\":\"bar\"},{\"alignmentgroup\":\"True\",\"hovertemplate\":\"market_segment=%{x}<br>hotel=Resort Hotel<br>market_segment_counts=%{y}<extra></extra>\",\"legendgroup\":\"Complementary\",\"marker\":{\"color\":\"#EF553B\",\"pattern\":{\"shape\":\"\"}},\"name\":\"Complementary\",\"offsetgroup\":\"Complementary\",\"orientation\":\"v\",\"showlegend\":false,\"textposition\":\"auto\",\"x\":[\"Complementary\"],\"xaxis\":\"x2\",\"y\":[236],\"yaxis\":\"y2\",\"type\":\"bar\"},{\"alignmentgroup\":\"True\",\"hovertemplate\":\"market_segment=%{x}<br>hotel=City Hotel<br>market_segment_counts=%{y}<extra></extra>\",\"legendgroup\":\"Corporate\",\"marker\":{\"color\":\"#00cc96\",\"pattern\":{\"shape\":\"\"}},\"name\":\"Corporate\",\"offsetgroup\":\"Corporate\",\"orientation\":\"v\",\"showlegend\":true,\"textposition\":\"auto\",\"x\":[\"Corporate\"],\"xaxis\":\"x\",\"y\":[3552],\"yaxis\":\"y\",\"type\":\"bar\"},{\"alignmentgroup\":\"True\",\"hovertemplate\":\"market_segment=%{x}<br>hotel=Resort Hotel<br>market_segment_counts=%{y}<extra></extra>\",\"legendgroup\":\"Corporate\",\"marker\":{\"color\":\"#00cc96\",\"pattern\":{\"shape\":\"\"}},\"name\":\"Corporate\",\"offsetgroup\":\"Corporate\",\"orientation\":\"v\",\"showlegend\":false,\"textposition\":\"auto\",\"x\":[\"Corporate\"],\"xaxis\":\"x2\",\"y\":[2934],\"yaxis\":\"y2\",\"type\":\"bar\"},{\"alignmentgroup\":\"True\",\"hovertemplate\":\"market_segment=%{x}<br>hotel=City Hotel<br>market_segment_counts=%{y}<extra></extra>\",\"legendgroup\":\"Direct\",\"marker\":{\"color\":\"#ab63fa\",\"pattern\":{\"shape\":\"\"}},\"name\":\"Direct\",\"offsetgroup\":\"Direct\",\"orientation\":\"v\",\"showlegend\":true,\"textposition\":\"auto\",\"x\":[\"Direct\"],\"xaxis\":\"x\",\"y\":[7076],\"yaxis\":\"y\",\"type\":\"bar\"},{\"alignmentgroup\":\"True\",\"hovertemplate\":\"market_segment=%{x}<br>hotel=Resort Hotel<br>market_segment_counts=%{y}<extra></extra>\",\"legendgroup\":\"Direct\",\"marker\":{\"color\":\"#ab63fa\",\"pattern\":{\"shape\":\"\"}},\"name\":\"Direct\",\"offsetgroup\":\"Direct\",\"orientation\":\"v\",\"showlegend\":false,\"textposition\":\"auto\",\"x\":[\"Direct\"],\"xaxis\":\"x2\",\"y\":[7897],\"yaxis\":\"y2\",\"type\":\"bar\"},{\"alignmentgroup\":\"True\",\"hovertemplate\":\"market_segment=%{x}<br>hotel=City Hotel<br>market_segment_counts=%{y}<extra></extra>\",\"legendgroup\":\"Groups\",\"marker\":{\"color\":\"#FFA15A\",\"pattern\":{\"shape\":\"\"}},\"name\":\"Groups\",\"offsetgroup\":\"Groups\",\"orientation\":\"v\",\"showlegend\":true,\"textposition\":\"auto\",\"x\":[\"Groups\"],\"xaxis\":\"x\",\"y\":[18925],\"yaxis\":\"y\",\"type\":\"bar\"},{\"alignmentgroup\":\"True\",\"hovertemplate\":\"market_segment=%{x}<br>hotel=Resort Hotel<br>market_segment_counts=%{y}<extra></extra>\",\"legendgroup\":\"Groups\",\"marker\":{\"color\":\"#FFA15A\",\"pattern\":{\"shape\":\"\"}},\"name\":\"Groups\",\"offsetgroup\":\"Groups\",\"orientation\":\"v\",\"showlegend\":false,\"textposition\":\"auto\",\"x\":[\"Groups\"],\"xaxis\":\"x2\",\"y\":[7190],\"yaxis\":\"y2\",\"type\":\"bar\"},{\"alignmentgroup\":\"True\",\"hovertemplate\":\"market_segment=%{x}<br>hotel=City Hotel<br>market_segment_counts=%{y}<extra></extra>\",\"legendgroup\":\"Offline TA/TO\",\"marker\":{\"color\":\"#19d3f3\",\"pattern\":{\"shape\":\"\"}},\"name\":\"Offline TA/TO\",\"offsetgroup\":\"Offline TA/TO\",\"orientation\":\"v\",\"showlegend\":true,\"textposition\":\"auto\",\"x\":[\"Offline TA/TO\"],\"xaxis\":\"x\",\"y\":[20795],\"yaxis\":\"y\",\"type\":\"bar\"},{\"alignmentgroup\":\"True\",\"hovertemplate\":\"market_segment=%{x}<br>hotel=Resort Hotel<br>market_segment_counts=%{y}<extra></extra>\",\"legendgroup\":\"Offline TA/TO\",\"marker\":{\"color\":\"#19d3f3\",\"pattern\":{\"shape\":\"\"}},\"name\":\"Offline TA/TO\",\"offsetgroup\":\"Offline TA/TO\",\"orientation\":\"v\",\"showlegend\":false,\"textposition\":\"auto\",\"x\":[\"Offline TA/TO\"],\"xaxis\":\"x2\",\"y\":[9584],\"yaxis\":\"y2\",\"type\":\"bar\"},{\"alignmentgroup\":\"True\",\"hovertemplate\":\"market_segment=%{x}<br>hotel=City Hotel<br>market_segment_counts=%{y}<extra></extra>\",\"legendgroup\":\"Online TA\",\"marker\":{\"color\":\"#FF6692\",\"pattern\":{\"shape\":\"\"}},\"name\":\"Online TA\",\"offsetgroup\":\"Online TA\",\"orientation\":\"v\",\"showlegend\":true,\"textposition\":\"auto\",\"x\":[\"Online TA\"],\"xaxis\":\"x\",\"y\":[41837],\"yaxis\":\"y\",\"type\":\"bar\"},{\"alignmentgroup\":\"True\",\"hovertemplate\":\"market_segment=%{x}<br>hotel=Resort Hotel<br>market_segment_counts=%{y}<extra></extra>\",\"legendgroup\":\"Online TA\",\"marker\":{\"color\":\"#FF6692\",\"pattern\":{\"shape\":\"\"}},\"name\":\"Online TA\",\"offsetgroup\":\"Online TA\",\"orientation\":\"v\",\"showlegend\":false,\"textposition\":\"auto\",\"x\":[\"Online TA\"],\"xaxis\":\"x2\",\"y\":[21003],\"yaxis\":\"y2\",\"type\":\"bar\"},{\"alignmentgroup\":\"True\",\"hovertemplate\":\"market_segment=%{x}<br>hotel=City Hotel<br>market_segment_counts=%{y}<extra></extra>\",\"legendgroup\":\"Undefined\",\"marker\":{\"color\":\"#B6E880\",\"pattern\":{\"shape\":\"\"}},\"name\":\"Undefined\",\"offsetgroup\":\"Undefined\",\"orientation\":\"v\",\"showlegend\":true,\"textposition\":\"auto\",\"x\":[\"Undefined\"],\"xaxis\":\"x\",\"y\":[4],\"yaxis\":\"y\",\"type\":\"bar\"}],                        {\"template\":{\"data\":{\"histogram2dcontour\":[{\"type\":\"histogram2dcontour\",\"colorbar\":{\"outlinewidth\":0,\"ticks\":\"\"},\"colorscale\":[[0.0,\"#0d0887\"],[0.1111111111111111,\"#46039f\"],[0.2222222222222222,\"#7201a8\"],[0.3333333333333333,\"#9c179e\"],[0.4444444444444444,\"#bd3786\"],[0.5555555555555556,\"#d8576b\"],[0.6666666666666666,\"#ed7953\"],[0.7777777777777778,\"#fb9f3a\"],[0.8888888888888888,\"#fdca26\"],[1.0,\"#f0f921\"]]}],\"choropleth\":[{\"type\":\"choropleth\",\"colorbar\":{\"outlinewidth\":0,\"ticks\":\"\"}}],\"histogram2d\":[{\"type\":\"histogram2d\",\"colorbar\":{\"outlinewidth\":0,\"ticks\":\"\"},\"colorscale\":[[0.0,\"#0d0887\"],[0.1111111111111111,\"#46039f\"],[0.2222222222222222,\"#7201a8\"],[0.3333333333333333,\"#9c179e\"],[0.4444444444444444,\"#bd3786\"],[0.5555555555555556,\"#d8576b\"],[0.6666666666666666,\"#ed7953\"],[0.7777777777777778,\"#fb9f3a\"],[0.8888888888888888,\"#fdca26\"],[1.0,\"#f0f921\"]]}],\"heatmap\":[{\"type\":\"heatmap\",\"colorbar\":{\"outlinewidth\":0,\"ticks\":\"\"},\"colorscale\":[[0.0,\"#0d0887\"],[0.1111111111111111,\"#46039f\"],[0.2222222222222222,\"#7201a8\"],[0.3333333333333333,\"#9c179e\"],[0.4444444444444444,\"#bd3786\"],[0.5555555555555556,\"#d8576b\"],[0.6666666666666666,\"#ed7953\"],[0.7777777777777778,\"#fb9f3a\"],[0.8888888888888888,\"#fdca26\"],[1.0,\"#f0f921\"]]}],\"heatmapgl\":[{\"type\":\"heatmapgl\",\"colorbar\":{\"outlinewidth\":0,\"ticks\":\"\"},\"colorscale\":[[0.0,\"#0d0887\"],[0.1111111111111111,\"#46039f\"],[0.2222222222222222,\"#7201a8\"],[0.3333333333333333,\"#9c179e\"],[0.4444444444444444,\"#bd3786\"],[0.5555555555555556,\"#d8576b\"],[0.6666666666666666,\"#ed7953\"],[0.7777777777777778,\"#fb9f3a\"],[0.8888888888888888,\"#fdca26\"],[1.0,\"#f0f921\"]]}],\"contourcarpet\":[{\"type\":\"contourcarpet\",\"colorbar\":{\"outlinewidth\":0,\"ticks\":\"\"}}],\"contour\":[{\"type\":\"contour\",\"colorbar\":{\"outlinewidth\":0,\"ticks\":\"\"},\"colorscale\":[[0.0,\"#0d0887\"],[0.1111111111111111,\"#46039f\"],[0.2222222222222222,\"#7201a8\"],[0.3333333333333333,\"#9c179e\"],[0.4444444444444444,\"#bd3786\"],[0.5555555555555556,\"#d8576b\"],[0.6666666666666666,\"#ed7953\"],[0.7777777777777778,\"#fb9f3a\"],[0.8888888888888888,\"#fdca26\"],[1.0,\"#f0f921\"]]}],\"surface\":[{\"type\":\"surface\",\"colorbar\":{\"outlinewidth\":0,\"ticks\":\"\"},\"colorscale\":[[0.0,\"#0d0887\"],[0.1111111111111111,\"#46039f\"],[0.2222222222222222,\"#7201a8\"],[0.3333333333333333,\"#9c179e\"],[0.4444444444444444,\"#bd3786\"],[0.5555555555555556,\"#d8576b\"],[0.6666666666666666,\"#ed7953\"],[0.7777777777777778,\"#fb9f3a\"],[0.8888888888888888,\"#fdca26\"],[1.0,\"#f0f921\"]]}],\"mesh3d\":[{\"type\":\"mesh3d\",\"colorbar\":{\"outlinewidth\":0,\"ticks\":\"\"}}],\"scatter\":[{\"fillpattern\":{\"fillmode\":\"overlay\",\"size\":10,\"solidity\":0.2},\"type\":\"scatter\"}],\"parcoords\":[{\"type\":\"parcoords\",\"line\":{\"colorbar\":{\"outlinewidth\":0,\"ticks\":\"\"}}}],\"scatterpolargl\":[{\"type\":\"scatterpolargl\",\"marker\":{\"colorbar\":{\"outlinewidth\":0,\"ticks\":\"\"}}}],\"bar\":[{\"error_x\":{\"color\":\"#2a3f5f\"},\"error_y\":{\"color\":\"#2a3f5f\"},\"marker\":{\"line\":{\"color\":\"#E5ECF6\",\"width\":0.5},\"pattern\":{\"fillmode\":\"overlay\",\"size\":10,\"solidity\":0.2}},\"type\":\"bar\"}],\"scattergeo\":[{\"type\":\"scattergeo\",\"marker\":{\"colorbar\":{\"outlinewidth\":0,\"ticks\":\"\"}}}],\"scatterpolar\":[{\"type\":\"scatterpolar\",\"marker\":{\"colorbar\":{\"outlinewidth\":0,\"ticks\":\"\"}}}],\"histogram\":[{\"marker\":{\"pattern\":{\"fillmode\":\"overlay\",\"size\":10,\"solidity\":0.2}},\"type\":\"histogram\"}],\"scattergl\":[{\"type\":\"scattergl\",\"marker\":{\"colorbar\":{\"outlinewidth\":0,\"ticks\":\"\"}}}],\"scatter3d\":[{\"type\":\"scatter3d\",\"line\":{\"colorbar\":{\"outlinewidth\":0,\"ticks\":\"\"}},\"marker\":{\"colorbar\":{\"outlinewidth\":0,\"ticks\":\"\"}}}],\"scattermapbox\":[{\"type\":\"scattermapbox\",\"marker\":{\"colorbar\":{\"outlinewidth\":0,\"ticks\":\"\"}}}],\"scatterternary\":[{\"type\":\"scatterternary\",\"marker\":{\"colorbar\":{\"outlinewidth\":0,\"ticks\":\"\"}}}],\"scattercarpet\":[{\"type\":\"scattercarpet\",\"marker\":{\"colorbar\":{\"outlinewidth\":0,\"ticks\":\"\"}}}],\"carpet\":[{\"aaxis\":{\"endlinecolor\":\"#2a3f5f\",\"gridcolor\":\"white\",\"linecolor\":\"white\",\"minorgridcolor\":\"white\",\"startlinecolor\":\"#2a3f5f\"},\"baxis\":{\"endlinecolor\":\"#2a3f5f\",\"gridcolor\":\"white\",\"linecolor\":\"white\",\"minorgridcolor\":\"white\",\"startlinecolor\":\"#2a3f5f\"},\"type\":\"carpet\"}],\"table\":[{\"cells\":{\"fill\":{\"color\":\"#EBF0F8\"},\"line\":{\"color\":\"white\"}},\"header\":{\"fill\":{\"color\":\"#C8D4E3\"},\"line\":{\"color\":\"white\"}},\"type\":\"table\"}],\"barpolar\":[{\"marker\":{\"line\":{\"color\":\"#E5ECF6\",\"width\":0.5},\"pattern\":{\"fillmode\":\"overlay\",\"size\":10,\"solidity\":0.2}},\"type\":\"barpolar\"}],\"pie\":[{\"automargin\":true,\"type\":\"pie\"}]},\"layout\":{\"autotypenumbers\":\"strict\",\"colorway\":[\"#636efa\",\"#EF553B\",\"#00cc96\",\"#ab63fa\",\"#FFA15A\",\"#19d3f3\",\"#FF6692\",\"#B6E880\",\"#FF97FF\",\"#FECB52\"],\"font\":{\"color\":\"#2a3f5f\"},\"hovermode\":\"closest\",\"hoverlabel\":{\"align\":\"left\"},\"paper_bgcolor\":\"white\",\"plot_bgcolor\":\"#E5ECF6\",\"polar\":{\"bgcolor\":\"#E5ECF6\",\"angularaxis\":{\"gridcolor\":\"white\",\"linecolor\":\"white\",\"ticks\":\"\"},\"radialaxis\":{\"gridcolor\":\"white\",\"linecolor\":\"white\",\"ticks\":\"\"}},\"ternary\":{\"bgcolor\":\"#E5ECF6\",\"aaxis\":{\"gridcolor\":\"white\",\"linecolor\":\"white\",\"ticks\":\"\"},\"baxis\":{\"gridcolor\":\"white\",\"linecolor\":\"white\",\"ticks\":\"\"},\"caxis\":{\"gridcolor\":\"white\",\"linecolor\":\"white\",\"ticks\":\"\"}},\"coloraxis\":{\"colorbar\":{\"outlinewidth\":0,\"ticks\":\"\"}},\"colorscale\":{\"sequential\":[[0.0,\"#0d0887\"],[0.1111111111111111,\"#46039f\"],[0.2222222222222222,\"#7201a8\"],[0.3333333333333333,\"#9c179e\"],[0.4444444444444444,\"#bd3786\"],[0.5555555555555556,\"#d8576b\"],[0.6666666666666666,\"#ed7953\"],[0.7777777777777778,\"#fb9f3a\"],[0.8888888888888888,\"#fdca26\"],[1.0,\"#f0f921\"]],\"sequentialminus\":[[0.0,\"#0d0887\"],[0.1111111111111111,\"#46039f\"],[0.2222222222222222,\"#7201a8\"],[0.3333333333333333,\"#9c179e\"],[0.4444444444444444,\"#bd3786\"],[0.5555555555555556,\"#d8576b\"],[0.6666666666666666,\"#ed7953\"],[0.7777777777777778,\"#fb9f3a\"],[0.8888888888888888,\"#fdca26\"],[1.0,\"#f0f921\"]],\"diverging\":[[0,\"#8e0152\"],[0.1,\"#c51b7d\"],[0.2,\"#de77ae\"],[0.3,\"#f1b6da\"],[0.4,\"#fde0ef\"],[0.5,\"#f7f7f7\"],[0.6,\"#e6f5d0\"],[0.7,\"#b8e186\"],[0.8,\"#7fbc41\"],[0.9,\"#4d9221\"],[1,\"#276419\"]]},\"xaxis\":{\"gridcolor\":\"white\",\"linecolor\":\"white\",\"ticks\":\"\",\"title\":{\"standoff\":15},\"zerolinecolor\":\"white\",\"automargin\":true,\"zerolinewidth\":2},\"yaxis\":{\"gridcolor\":\"white\",\"linecolor\":\"white\",\"ticks\":\"\",\"title\":{\"standoff\":15},\"zerolinecolor\":\"white\",\"automargin\":true,\"zerolinewidth\":2},\"scene\":{\"xaxis\":{\"backgroundcolor\":\"#E5ECF6\",\"gridcolor\":\"white\",\"linecolor\":\"white\",\"showbackground\":true,\"ticks\":\"\",\"zerolinecolor\":\"white\",\"gridwidth\":2},\"yaxis\":{\"backgroundcolor\":\"#E5ECF6\",\"gridcolor\":\"white\",\"linecolor\":\"white\",\"showbackground\":true,\"ticks\":\"\",\"zerolinecolor\":\"white\",\"gridwidth\":2},\"zaxis\":{\"backgroundcolor\":\"#E5ECF6\",\"gridcolor\":\"white\",\"linecolor\":\"white\",\"showbackground\":true,\"ticks\":\"\",\"zerolinecolor\":\"white\",\"gridwidth\":2}},\"shapedefaults\":{\"line\":{\"color\":\"#2a3f5f\"}},\"annotationdefaults\":{\"arrowcolor\":\"#2a3f5f\",\"arrowhead\":0,\"arrowwidth\":1},\"geo\":{\"bgcolor\":\"white\",\"landcolor\":\"#E5ECF6\",\"subunitcolor\":\"white\",\"showland\":true,\"showlakes\":true,\"lakecolor\":\"white\"},\"title\":{\"x\":0.05},\"mapbox\":{\"style\":\"light\"}}},\"xaxis\":{\"anchor\":\"y\",\"domain\":[0.0,0.49],\"title\":{\"text\":\"market_segment\"},\"categoryorder\":\"array\",\"categoryarray\":[\"Aviation\",\"Complementary\",\"Corporate\",\"Direct\",\"Groups\",\"Offline TA/TO\",\"Online TA\",\"Undefined\"]},\"yaxis\":{\"anchor\":\"x\",\"domain\":[0.0,1.0],\"title\":{\"text\":\"market_segment_counts\"}},\"xaxis2\":{\"anchor\":\"y2\",\"domain\":[0.51,1.0],\"matches\":\"x\",\"title\":{\"text\":\"market_segment\"},\"categoryorder\":\"array\",\"categoryarray\":[\"Aviation\",\"Complementary\",\"Corporate\",\"Direct\",\"Groups\",\"Offline TA/TO\",\"Online TA\",\"Undefined\"]},\"yaxis2\":{\"anchor\":\"x2\",\"domain\":[0.0,1.0],\"matches\":\"y\",\"showticklabels\":false},\"annotations\":[{\"font\":{},\"showarrow\":false,\"text\":\"hotel=City Hotel\",\"x\":0.245,\"xanchor\":\"center\",\"xref\":\"paper\",\"y\":1.0,\"yanchor\":\"bottom\",\"yref\":\"paper\"},{\"font\":{},\"showarrow\":false,\"text\":\"hotel=Resort Hotel\",\"x\":0.755,\"xanchor\":\"center\",\"xref\":\"paper\",\"y\":1.0,\"yanchor\":\"bottom\",\"yref\":\"paper\"}],\"legend\":{\"title\":{\"text\":\"Market Segment\"},\"tracegroupgap\":0},\"title\":{\"text\":\"Market Segmentation by Hotel Type\"},\"barmode\":\"relative\"},                        {\"responsive\": true}                    ).then(function(){\n                            \nvar gd = document.getElementById('09bb1323-d6e1-48b5-9304-d0dbdcf35680');\nvar x = new MutationObserver(function (mutations, observer) {{\n        var display = window.getComputedStyle(gd).display;\n        if (!display || display === 'none') {{\n            console.log([gd, 'removed!']);\n            Plotly.purge(gd);\n            observer.disconnect();\n        }}\n}});\n\n// Listen for the removal of the full notebook cells\nvar notebookContainer = gd.closest('#notebook-container');\nif (notebookContainer) {{\n    x.observe(notebookContainer, {childList: true});\n}}\n\n// Listen for the clearing of the current output cell\nvar outputEl = gd.closest('.output');\nif (outputEl) {{\n    x.observe(outputEl, {childList: true});\n}}\n\n                        })                };                            </script>        </div>\n</body>\n</html>"
     },
     "metadata": {},
     "output_type": "display_data"
    }
   ]
  },
  {
   "cell_type": "markdown",
   "source": "#### Meal Package Distribution",
   "metadata": {
    "cell_id": "6ce82555ab1b45198b42744567f1fba3",
    "tags": [],
    "deepnote_cell_type": "markdown",
    "deepnote_cell_height": 54
   }
  },
  {
   "cell_type": "code",
   "metadata": {
    "cell_id": "41fbddc275104ad39f37ee12f5aa83ed",
    "tags": [],
    "deepnote_to_be_reexecuted": false,
    "source_hash": "4dd43c6f",
    "execution_start": 1660314611018,
    "execution_millis": 1731,
    "deepnote_cell_type": "code",
    "deepnote_cell_height": 246.375,
    "deepnote_output_heights": [
     136.390625
    ]
   },
   "source": "# Distribution of meal packages\ndf.groupby('meal')['hotel'].count()",
   "execution_count": null,
   "outputs": [
    {
     "output_type": "execute_result",
     "execution_count": 30,
     "data": {
      "text/plain": "meal\nBB           109878\nFB             1228\nHB            18402\nSC            11067\nUndefined      1372\nName: hotel, dtype: int64"
     },
     "metadata": {}
    }
   ]
  },
  {
   "cell_type": "code",
   "metadata": {
    "cell_id": "f55a75a9b90d4ceeb2777055dccc493e",
    "tags": [],
    "deepnote_to_be_reexecuted": false,
    "source_hash": "f2213c64",
    "execution_start": 1660314611103,
    "execution_millis": 1652,
    "deepnote_cell_type": "code",
    "deepnote_cell_height": 323.1875,
    "deepnote_output_heights": [
     213.1875
    ]
   },
   "source": "# Meal package distribution per hotel\ndf.groupby(['hotel', 'meal'])['hotel'].count()",
   "execution_count": null,
   "outputs": [
    {
     "output_type": "execute_result",
     "execution_count": 31,
     "data": {
      "text/plain": "hotel         meal     \nCity Hotel    BB           73579\n              FB              80\n              HB            8479\n              SC           10965\nResort Hotel  BB           36299\n              FB            1148\n              HB            9923\n              SC             102\n              Undefined     1372\nName: hotel, dtype: int64"
     },
     "metadata": {}
    }
   ]
  },
  {
   "cell_type": "code",
   "metadata": {
    "cell_id": "b0973ae24da44e628965c5ff99406ee7",
    "tags": [],
    "deepnote_to_be_reexecuted": false,
    "source_hash": "efa01d43",
    "execution_start": 1660314611301,
    "execution_millis": 1458,
    "deepnote_cell_type": "code",
    "deepnote_cell_height": 613
   },
   "source": "# Create meal package counts (mpc) dataframe\ndf_mpc = pd.DataFrame(df.groupby(['hotel', 'meal'])['hotel'].count())\ndf_mpc = df_mpc.rename(columns={0:'hotel', 'hotel':'meal_counts'}).reset_index()\ndf_mpc",
   "execution_count": null,
   "outputs": [
    {
     "output_type": "execute_result",
     "execution_count": 32,
     "data": {
      "application/vnd.deepnote.dataframe.v3+json": {
       "column_count": 3,
       "row_count": 9,
       "columns": [
        {
         "name": "hotel",
         "dtype": "object",
         "stats": {
          "unique_count": 2,
          "nan_count": 0,
          "categories": [
           {
            "name": "Resort Hotel",
            "count": 5
           },
           {
            "name": "City Hotel",
            "count": 4
           }
          ]
         }
        },
        {
         "name": "meal",
         "dtype": "object",
         "stats": {
          "unique_count": 5,
          "nan_count": 0,
          "categories": [
           {
            "name": "BB",
            "count": 2
           },
           {
            "name": "FB",
            "count": 2
           },
           {
            "name": "3 others",
            "count": 5
           }
          ]
         }
        },
        {
         "name": "meal_counts",
         "dtype": "int64",
         "stats": {
          "unique_count": 9,
          "nan_count": 0,
          "min": "80",
          "max": "73579",
          "histogram": [
           {
            "bin_start": 80,
            "bin_end": 7429.9,
            "count": 4
           },
           {
            "bin_start": 7429.9,
            "bin_end": 14779.8,
            "count": 3
           },
           {
            "bin_start": 14779.8,
            "bin_end": 22129.699999999997,
            "count": 0
           },
           {
            "bin_start": 22129.699999999997,
            "bin_end": 29479.6,
            "count": 0
           },
           {
            "bin_start": 29479.6,
            "bin_end": 36829.5,
            "count": 1
           },
           {
            "bin_start": 36829.5,
            "bin_end": 44179.399999999994,
            "count": 0
           },
           {
            "bin_start": 44179.399999999994,
            "bin_end": 51529.299999999996,
            "count": 0
           },
           {
            "bin_start": 51529.299999999996,
            "bin_end": 58879.2,
            "count": 0
           },
           {
            "bin_start": 58879.2,
            "bin_end": 66229.09999999999,
            "count": 0
           },
           {
            "bin_start": 66229.09999999999,
            "bin_end": 73579,
            "count": 1
           }
          ]
         }
        },
        {
         "name": "_deepnote_index_column",
         "dtype": "int64"
        }
       ],
       "rows": [
        {
         "hotel": "City Hotel",
         "meal": "BB",
         "meal_counts": 73579,
         "_deepnote_index_column": 0
        },
        {
         "hotel": "City Hotel",
         "meal": "FB",
         "meal_counts": 80,
         "_deepnote_index_column": 1
        },
        {
         "hotel": "City Hotel",
         "meal": "HB",
         "meal_counts": 8479,
         "_deepnote_index_column": 2
        },
        {
         "hotel": "City Hotel",
         "meal": "SC",
         "meal_counts": 10965,
         "_deepnote_index_column": 3
        },
        {
         "hotel": "Resort Hotel",
         "meal": "BB",
         "meal_counts": 36299,
         "_deepnote_index_column": 4
        },
        {
         "hotel": "Resort Hotel",
         "meal": "FB",
         "meal_counts": 1148,
         "_deepnote_index_column": 5
        },
        {
         "hotel": "Resort Hotel",
         "meal": "HB",
         "meal_counts": 9923,
         "_deepnote_index_column": 6
        },
        {
         "hotel": "Resort Hotel",
         "meal": "SC",
         "meal_counts": 102,
         "_deepnote_index_column": 7
        },
        {
         "hotel": "Resort Hotel",
         "meal": "Undefined",
         "meal_counts": 1372,
         "_deepnote_index_column": 8
        }
       ]
      },
      "text/plain": "          hotel       meal  meal_counts\n0    City Hotel         BB        73579\n1    City Hotel         FB           80\n2    City Hotel         HB         8479\n3    City Hotel         SC        10965\n4  Resort Hotel         BB        36299\n5  Resort Hotel         FB         1148\n6  Resort Hotel         HB         9923\n7  Resort Hotel         SC          102\n8  Resort Hotel  Undefined         1372",
      "text/html": "<div>\n<style scoped>\n    .dataframe tbody tr th:only-of-type {\n        vertical-align: middle;\n    }\n\n    .dataframe tbody tr th {\n        vertical-align: top;\n    }\n\n    .dataframe thead th {\n        text-align: right;\n    }\n</style>\n<table border=\"1\" class=\"dataframe\">\n  <thead>\n    <tr style=\"text-align: right;\">\n      <th></th>\n      <th>hotel</th>\n      <th>meal</th>\n      <th>meal_counts</th>\n    </tr>\n  </thead>\n  <tbody>\n    <tr>\n      <th>0</th>\n      <td>City Hotel</td>\n      <td>BB</td>\n      <td>73579</td>\n    </tr>\n    <tr>\n      <th>1</th>\n      <td>City Hotel</td>\n      <td>FB</td>\n      <td>80</td>\n    </tr>\n    <tr>\n      <th>2</th>\n      <td>City Hotel</td>\n      <td>HB</td>\n      <td>8479</td>\n    </tr>\n    <tr>\n      <th>3</th>\n      <td>City Hotel</td>\n      <td>SC</td>\n      <td>10965</td>\n    </tr>\n    <tr>\n      <th>4</th>\n      <td>Resort Hotel</td>\n      <td>BB</td>\n      <td>36299</td>\n    </tr>\n    <tr>\n      <th>5</th>\n      <td>Resort Hotel</td>\n      <td>FB</td>\n      <td>1148</td>\n    </tr>\n    <tr>\n      <th>6</th>\n      <td>Resort Hotel</td>\n      <td>HB</td>\n      <td>9923</td>\n    </tr>\n    <tr>\n      <th>7</th>\n      <td>Resort Hotel</td>\n      <td>SC</td>\n      <td>102</td>\n    </tr>\n    <tr>\n      <th>8</th>\n      <td>Resort Hotel</td>\n      <td>Undefined</td>\n      <td>1372</td>\n    </tr>\n  </tbody>\n</table>\n</div>"
     },
     "metadata": {}
    }
   ]
  },
  {
   "cell_type": "code",
   "source": "fig2 = px.pie(df, values=df['meal'].value_counts(), names=df['meal'].unique(), title=\"Overall Hotel Meal Package Demand\").update_layout(legend=dict(title=\"Meal Package\"))\nfig2",
   "metadata": {
    "cell_id": "41c4eff93e2d4c1e9072acbfcf39c3da",
    "tags": [],
    "deepnote_to_be_reexecuted": false,
    "source_hash": "9da80b2d",
    "execution_start": 1660314611418,
    "execution_millis": 1543,
    "deepnote_app_is_code_hidden": true,
    "deepnote_app_coordinates": {
     "x": 0,
     "y": 81,
     "w": 12,
     "h": 25
    },
    "deepnote_cell_type": "code",
    "deepnote_cell_height": 642,
    "deepnote_output_heights": [
     527
    ]
   },
   "execution_count": null,
   "outputs": [
    {
     "data": {
      "text/html": "<html>\n<head><meta charset=\"utf-8\" /></head>\n<body>\n    <div>            <script src=\"https://cdnjs.cloudflare.com/ajax/libs/mathjax/2.7.5/MathJax.js?config=TeX-AMS-MML_SVG\"></script><script type=\"text/javascript\">if (window.MathJax && window.MathJax.Hub && window.MathJax.Hub.Config) {window.MathJax.Hub.Config({SVG: {font: \"STIX-Web\"}});}</script>                <script type=\"text/javascript\">window.PlotlyConfig = {MathJaxConfig: 'local'};</script>\n        <script src=\"https://cdn.plot.ly/plotly-2.12.1.min.js\"></script>                <div id=\"b7c5118b-e50c-45d1-9d8b-281b58315a3d\" class=\"plotly-graph-div\" style=\"height:525px; width:100%;\"></div>            <script type=\"text/javascript\">                                    window.PLOTLYENV=window.PLOTLYENV || {};                                    if (document.getElementById(\"b7c5118b-e50c-45d1-9d8b-281b58315a3d\")) {                    Plotly.newPlot(                        \"b7c5118b-e50c-45d1-9d8b-281b58315a3d\",                        [{\"domain\":{\"x\":[0.0,1.0],\"y\":[0.0,1.0]},\"hovertemplate\":\"label=%{label}<br>value=%{value}<extra></extra>\",\"labels\":[\"BB\",\"HB\",\"FB\",\"Undefined\",\"SC\"],\"legendgroup\":\"\",\"name\":\"\",\"showlegend\":true,\"values\":[109878,18402,11067,1372,1228],\"type\":\"pie\"}],                        {\"template\":{\"data\":{\"histogram2dcontour\":[{\"type\":\"histogram2dcontour\",\"colorbar\":{\"outlinewidth\":0,\"ticks\":\"\"},\"colorscale\":[[0.0,\"#0d0887\"],[0.1111111111111111,\"#46039f\"],[0.2222222222222222,\"#7201a8\"],[0.3333333333333333,\"#9c179e\"],[0.4444444444444444,\"#bd3786\"],[0.5555555555555556,\"#d8576b\"],[0.6666666666666666,\"#ed7953\"],[0.7777777777777778,\"#fb9f3a\"],[0.8888888888888888,\"#fdca26\"],[1.0,\"#f0f921\"]]}],\"choropleth\":[{\"type\":\"choropleth\",\"colorbar\":{\"outlinewidth\":0,\"ticks\":\"\"}}],\"histogram2d\":[{\"type\":\"histogram2d\",\"colorbar\":{\"outlinewidth\":0,\"ticks\":\"\"},\"colorscale\":[[0.0,\"#0d0887\"],[0.1111111111111111,\"#46039f\"],[0.2222222222222222,\"#7201a8\"],[0.3333333333333333,\"#9c179e\"],[0.4444444444444444,\"#bd3786\"],[0.5555555555555556,\"#d8576b\"],[0.6666666666666666,\"#ed7953\"],[0.7777777777777778,\"#fb9f3a\"],[0.8888888888888888,\"#fdca26\"],[1.0,\"#f0f921\"]]}],\"heatmap\":[{\"type\":\"heatmap\",\"colorbar\":{\"outlinewidth\":0,\"ticks\":\"\"},\"colorscale\":[[0.0,\"#0d0887\"],[0.1111111111111111,\"#46039f\"],[0.2222222222222222,\"#7201a8\"],[0.3333333333333333,\"#9c179e\"],[0.4444444444444444,\"#bd3786\"],[0.5555555555555556,\"#d8576b\"],[0.6666666666666666,\"#ed7953\"],[0.7777777777777778,\"#fb9f3a\"],[0.8888888888888888,\"#fdca26\"],[1.0,\"#f0f921\"]]}],\"heatmapgl\":[{\"type\":\"heatmapgl\",\"colorbar\":{\"outlinewidth\":0,\"ticks\":\"\"},\"colorscale\":[[0.0,\"#0d0887\"],[0.1111111111111111,\"#46039f\"],[0.2222222222222222,\"#7201a8\"],[0.3333333333333333,\"#9c179e\"],[0.4444444444444444,\"#bd3786\"],[0.5555555555555556,\"#d8576b\"],[0.6666666666666666,\"#ed7953\"],[0.7777777777777778,\"#fb9f3a\"],[0.8888888888888888,\"#fdca26\"],[1.0,\"#f0f921\"]]}],\"contourcarpet\":[{\"type\":\"contourcarpet\",\"colorbar\":{\"outlinewidth\":0,\"ticks\":\"\"}}],\"contour\":[{\"type\":\"contour\",\"colorbar\":{\"outlinewidth\":0,\"ticks\":\"\"},\"colorscale\":[[0.0,\"#0d0887\"],[0.1111111111111111,\"#46039f\"],[0.2222222222222222,\"#7201a8\"],[0.3333333333333333,\"#9c179e\"],[0.4444444444444444,\"#bd3786\"],[0.5555555555555556,\"#d8576b\"],[0.6666666666666666,\"#ed7953\"],[0.7777777777777778,\"#fb9f3a\"],[0.8888888888888888,\"#fdca26\"],[1.0,\"#f0f921\"]]}],\"surface\":[{\"type\":\"surface\",\"colorbar\":{\"outlinewidth\":0,\"ticks\":\"\"},\"colorscale\":[[0.0,\"#0d0887\"],[0.1111111111111111,\"#46039f\"],[0.2222222222222222,\"#7201a8\"],[0.3333333333333333,\"#9c179e\"],[0.4444444444444444,\"#bd3786\"],[0.5555555555555556,\"#d8576b\"],[0.6666666666666666,\"#ed7953\"],[0.7777777777777778,\"#fb9f3a\"],[0.8888888888888888,\"#fdca26\"],[1.0,\"#f0f921\"]]}],\"mesh3d\":[{\"type\":\"mesh3d\",\"colorbar\":{\"outlinewidth\":0,\"ticks\":\"\"}}],\"scatter\":[{\"fillpattern\":{\"fillmode\":\"overlay\",\"size\":10,\"solidity\":0.2},\"type\":\"scatter\"}],\"parcoords\":[{\"type\":\"parcoords\",\"line\":{\"colorbar\":{\"outlinewidth\":0,\"ticks\":\"\"}}}],\"scatterpolargl\":[{\"type\":\"scatterpolargl\",\"marker\":{\"colorbar\":{\"outlinewidth\":0,\"ticks\":\"\"}}}],\"bar\":[{\"error_x\":{\"color\":\"#2a3f5f\"},\"error_y\":{\"color\":\"#2a3f5f\"},\"marker\":{\"line\":{\"color\":\"#E5ECF6\",\"width\":0.5},\"pattern\":{\"fillmode\":\"overlay\",\"size\":10,\"solidity\":0.2}},\"type\":\"bar\"}],\"scattergeo\":[{\"type\":\"scattergeo\",\"marker\":{\"colorbar\":{\"outlinewidth\":0,\"ticks\":\"\"}}}],\"scatterpolar\":[{\"type\":\"scatterpolar\",\"marker\":{\"colorbar\":{\"outlinewidth\":0,\"ticks\":\"\"}}}],\"histogram\":[{\"marker\":{\"pattern\":{\"fillmode\":\"overlay\",\"size\":10,\"solidity\":0.2}},\"type\":\"histogram\"}],\"scattergl\":[{\"type\":\"scattergl\",\"marker\":{\"colorbar\":{\"outlinewidth\":0,\"ticks\":\"\"}}}],\"scatter3d\":[{\"type\":\"scatter3d\",\"line\":{\"colorbar\":{\"outlinewidth\":0,\"ticks\":\"\"}},\"marker\":{\"colorbar\":{\"outlinewidth\":0,\"ticks\":\"\"}}}],\"scattermapbox\":[{\"type\":\"scattermapbox\",\"marker\":{\"colorbar\":{\"outlinewidth\":0,\"ticks\":\"\"}}}],\"scatterternary\":[{\"type\":\"scatterternary\",\"marker\":{\"colorbar\":{\"outlinewidth\":0,\"ticks\":\"\"}}}],\"scattercarpet\":[{\"type\":\"scattercarpet\",\"marker\":{\"colorbar\":{\"outlinewidth\":0,\"ticks\":\"\"}}}],\"carpet\":[{\"aaxis\":{\"endlinecolor\":\"#2a3f5f\",\"gridcolor\":\"white\",\"linecolor\":\"white\",\"minorgridcolor\":\"white\",\"startlinecolor\":\"#2a3f5f\"},\"baxis\":{\"endlinecolor\":\"#2a3f5f\",\"gridcolor\":\"white\",\"linecolor\":\"white\",\"minorgridcolor\":\"white\",\"startlinecolor\":\"#2a3f5f\"},\"type\":\"carpet\"}],\"table\":[{\"cells\":{\"fill\":{\"color\":\"#EBF0F8\"},\"line\":{\"color\":\"white\"}},\"header\":{\"fill\":{\"color\":\"#C8D4E3\"},\"line\":{\"color\":\"white\"}},\"type\":\"table\"}],\"barpolar\":[{\"marker\":{\"line\":{\"color\":\"#E5ECF6\",\"width\":0.5},\"pattern\":{\"fillmode\":\"overlay\",\"size\":10,\"solidity\":0.2}},\"type\":\"barpolar\"}],\"pie\":[{\"automargin\":true,\"type\":\"pie\"}]},\"layout\":{\"autotypenumbers\":\"strict\",\"colorway\":[\"#636efa\",\"#EF553B\",\"#00cc96\",\"#ab63fa\",\"#FFA15A\",\"#19d3f3\",\"#FF6692\",\"#B6E880\",\"#FF97FF\",\"#FECB52\"],\"font\":{\"color\":\"#2a3f5f\"},\"hovermode\":\"closest\",\"hoverlabel\":{\"align\":\"left\"},\"paper_bgcolor\":\"white\",\"plot_bgcolor\":\"#E5ECF6\",\"polar\":{\"bgcolor\":\"#E5ECF6\",\"angularaxis\":{\"gridcolor\":\"white\",\"linecolor\":\"white\",\"ticks\":\"\"},\"radialaxis\":{\"gridcolor\":\"white\",\"linecolor\":\"white\",\"ticks\":\"\"}},\"ternary\":{\"bgcolor\":\"#E5ECF6\",\"aaxis\":{\"gridcolor\":\"white\",\"linecolor\":\"white\",\"ticks\":\"\"},\"baxis\":{\"gridcolor\":\"white\",\"linecolor\":\"white\",\"ticks\":\"\"},\"caxis\":{\"gridcolor\":\"white\",\"linecolor\":\"white\",\"ticks\":\"\"}},\"coloraxis\":{\"colorbar\":{\"outlinewidth\":0,\"ticks\":\"\"}},\"colorscale\":{\"sequential\":[[0.0,\"#0d0887\"],[0.1111111111111111,\"#46039f\"],[0.2222222222222222,\"#7201a8\"],[0.3333333333333333,\"#9c179e\"],[0.4444444444444444,\"#bd3786\"],[0.5555555555555556,\"#d8576b\"],[0.6666666666666666,\"#ed7953\"],[0.7777777777777778,\"#fb9f3a\"],[0.8888888888888888,\"#fdca26\"],[1.0,\"#f0f921\"]],\"sequentialminus\":[[0.0,\"#0d0887\"],[0.1111111111111111,\"#46039f\"],[0.2222222222222222,\"#7201a8\"],[0.3333333333333333,\"#9c179e\"],[0.4444444444444444,\"#bd3786\"],[0.5555555555555556,\"#d8576b\"],[0.6666666666666666,\"#ed7953\"],[0.7777777777777778,\"#fb9f3a\"],[0.8888888888888888,\"#fdca26\"],[1.0,\"#f0f921\"]],\"diverging\":[[0,\"#8e0152\"],[0.1,\"#c51b7d\"],[0.2,\"#de77ae\"],[0.3,\"#f1b6da\"],[0.4,\"#fde0ef\"],[0.5,\"#f7f7f7\"],[0.6,\"#e6f5d0\"],[0.7,\"#b8e186\"],[0.8,\"#7fbc41\"],[0.9,\"#4d9221\"],[1,\"#276419\"]]},\"xaxis\":{\"gridcolor\":\"white\",\"linecolor\":\"white\",\"ticks\":\"\",\"title\":{\"standoff\":15},\"zerolinecolor\":\"white\",\"automargin\":true,\"zerolinewidth\":2},\"yaxis\":{\"gridcolor\":\"white\",\"linecolor\":\"white\",\"ticks\":\"\",\"title\":{\"standoff\":15},\"zerolinecolor\":\"white\",\"automargin\":true,\"zerolinewidth\":2},\"scene\":{\"xaxis\":{\"backgroundcolor\":\"#E5ECF6\",\"gridcolor\":\"white\",\"linecolor\":\"white\",\"showbackground\":true,\"ticks\":\"\",\"zerolinecolor\":\"white\",\"gridwidth\":2},\"yaxis\":{\"backgroundcolor\":\"#E5ECF6\",\"gridcolor\":\"white\",\"linecolor\":\"white\",\"showbackground\":true,\"ticks\":\"\",\"zerolinecolor\":\"white\",\"gridwidth\":2},\"zaxis\":{\"backgroundcolor\":\"#E5ECF6\",\"gridcolor\":\"white\",\"linecolor\":\"white\",\"showbackground\":true,\"ticks\":\"\",\"zerolinecolor\":\"white\",\"gridwidth\":2}},\"shapedefaults\":{\"line\":{\"color\":\"#2a3f5f\"}},\"annotationdefaults\":{\"arrowcolor\":\"#2a3f5f\",\"arrowhead\":0,\"arrowwidth\":1},\"geo\":{\"bgcolor\":\"white\",\"landcolor\":\"#E5ECF6\",\"subunitcolor\":\"white\",\"showland\":true,\"showlakes\":true,\"lakecolor\":\"white\"},\"title\":{\"x\":0.05},\"mapbox\":{\"style\":\"light\"}}},\"legend\":{\"tracegroupgap\":0,\"title\":{\"text\":\"Meal Package\"}},\"title\":{\"text\":\"Overall Hotel Meal Package Demand\"}},                        {\"responsive\": true}                    ).then(function(){\n                            \nvar gd = document.getElementById('b7c5118b-e50c-45d1-9d8b-281b58315a3d');\nvar x = new MutationObserver(function (mutations, observer) {{\n        var display = window.getComputedStyle(gd).display;\n        if (!display || display === 'none') {{\n            console.log([gd, 'removed!']);\n            Plotly.purge(gd);\n            observer.disconnect();\n        }}\n}});\n\n// Listen for the removal of the full notebook cells\nvar notebookContainer = gd.closest('#notebook-container');\nif (notebookContainer) {{\n    x.observe(notebookContainer, {childList: true});\n}}\n\n// Listen for the clearing of the current output cell\nvar outputEl = gd.closest('.output');\nif (outputEl) {{\n    x.observe(outputEl, {childList: true});\n}}\n\n                        })                };                            </script>        </div>\n</body>\n</html>"
     },
     "metadata": {},
     "output_type": "display_data"
    }
   ]
  },
  {
   "cell_type": "code",
   "source": "fig2_1 = px.pie(df_mpc, values='meal_counts', names='meal', facet_col='hotel', facet_col_spacing=0.12, title=\"Meal Package Demand per Hotel Type\").update_layout(legend=dict(title=\"Meal Package\"))\nfig2_1",
   "metadata": {
    "cell_id": "4019f89a6e8e4e9ca450a9c692b1c73c",
    "tags": [],
    "deepnote_to_be_reexecuted": false,
    "source_hash": "f71d1f4e",
    "execution_start": 1660314611686,
    "execution_millis": 108,
    "deepnote_app_coordinates": {
     "x": 0,
     "y": 107,
     "w": 12,
     "h": 25
    },
    "deepnote_cell_type": "code",
    "deepnote_cell_height": 642,
    "deepnote_output_heights": [
     527
    ]
   },
   "execution_count": null,
   "outputs": [
    {
     "data": {
      "text/html": "<html>\n<head><meta charset=\"utf-8\" /></head>\n<body>\n    <div>            <script src=\"https://cdnjs.cloudflare.com/ajax/libs/mathjax/2.7.5/MathJax.js?config=TeX-AMS-MML_SVG\"></script><script type=\"text/javascript\">if (window.MathJax && window.MathJax.Hub && window.MathJax.Hub.Config) {window.MathJax.Hub.Config({SVG: {font: \"STIX-Web\"}});}</script>                <script type=\"text/javascript\">window.PlotlyConfig = {MathJaxConfig: 'local'};</script>\n        <script src=\"https://cdn.plot.ly/plotly-2.12.1.min.js\"></script>                <div id=\"52669484-90f7-4bdf-9abc-4c5976ea0df0\" class=\"plotly-graph-div\" style=\"height:525px; width:100%;\"></div>            <script type=\"text/javascript\">                                    window.PLOTLYENV=window.PLOTLYENV || {};                                    if (document.getElementById(\"52669484-90f7-4bdf-9abc-4c5976ea0df0\")) {                    Plotly.newPlot(                        \"52669484-90f7-4bdf-9abc-4c5976ea0df0\",                        [{\"domain\":{\"x\":[0.0,0.44],\"y\":[0.0,1.0]},\"hovertemplate\":\"hotel=City Hotel<br>meal=%{label}<br>meal_counts=%{value}<extra></extra>\",\"labels\":[\"BB\",\"FB\",\"HB\",\"SC\"],\"legendgroup\":\"\",\"name\":\"\",\"showlegend\":true,\"values\":[73579,80,8479,10965],\"type\":\"pie\"},{\"domain\":{\"x\":[0.56,1.0],\"y\":[0.0,1.0]},\"hovertemplate\":\"hotel=Resort Hotel<br>meal=%{label}<br>meal_counts=%{value}<extra></extra>\",\"labels\":[\"BB\",\"FB\",\"HB\",\"SC\",\"Undefined\"],\"legendgroup\":\"\",\"name\":\"\",\"showlegend\":true,\"values\":[36299,1148,9923,102,1372],\"type\":\"pie\"}],                        {\"template\":{\"data\":{\"histogram2dcontour\":[{\"type\":\"histogram2dcontour\",\"colorbar\":{\"outlinewidth\":0,\"ticks\":\"\"},\"colorscale\":[[0.0,\"#0d0887\"],[0.1111111111111111,\"#46039f\"],[0.2222222222222222,\"#7201a8\"],[0.3333333333333333,\"#9c179e\"],[0.4444444444444444,\"#bd3786\"],[0.5555555555555556,\"#d8576b\"],[0.6666666666666666,\"#ed7953\"],[0.7777777777777778,\"#fb9f3a\"],[0.8888888888888888,\"#fdca26\"],[1.0,\"#f0f921\"]]}],\"choropleth\":[{\"type\":\"choropleth\",\"colorbar\":{\"outlinewidth\":0,\"ticks\":\"\"}}],\"histogram2d\":[{\"type\":\"histogram2d\",\"colorbar\":{\"outlinewidth\":0,\"ticks\":\"\"},\"colorscale\":[[0.0,\"#0d0887\"],[0.1111111111111111,\"#46039f\"],[0.2222222222222222,\"#7201a8\"],[0.3333333333333333,\"#9c179e\"],[0.4444444444444444,\"#bd3786\"],[0.5555555555555556,\"#d8576b\"],[0.6666666666666666,\"#ed7953\"],[0.7777777777777778,\"#fb9f3a\"],[0.8888888888888888,\"#fdca26\"],[1.0,\"#f0f921\"]]}],\"heatmap\":[{\"type\":\"heatmap\",\"colorbar\":{\"outlinewidth\":0,\"ticks\":\"\"},\"colorscale\":[[0.0,\"#0d0887\"],[0.1111111111111111,\"#46039f\"],[0.2222222222222222,\"#7201a8\"],[0.3333333333333333,\"#9c179e\"],[0.4444444444444444,\"#bd3786\"],[0.5555555555555556,\"#d8576b\"],[0.6666666666666666,\"#ed7953\"],[0.7777777777777778,\"#fb9f3a\"],[0.8888888888888888,\"#fdca26\"],[1.0,\"#f0f921\"]]}],\"heatmapgl\":[{\"type\":\"heatmapgl\",\"colorbar\":{\"outlinewidth\":0,\"ticks\":\"\"},\"colorscale\":[[0.0,\"#0d0887\"],[0.1111111111111111,\"#46039f\"],[0.2222222222222222,\"#7201a8\"],[0.3333333333333333,\"#9c179e\"],[0.4444444444444444,\"#bd3786\"],[0.5555555555555556,\"#d8576b\"],[0.6666666666666666,\"#ed7953\"],[0.7777777777777778,\"#fb9f3a\"],[0.8888888888888888,\"#fdca26\"],[1.0,\"#f0f921\"]]}],\"contourcarpet\":[{\"type\":\"contourcarpet\",\"colorbar\":{\"outlinewidth\":0,\"ticks\":\"\"}}],\"contour\":[{\"type\":\"contour\",\"colorbar\":{\"outlinewidth\":0,\"ticks\":\"\"},\"colorscale\":[[0.0,\"#0d0887\"],[0.1111111111111111,\"#46039f\"],[0.2222222222222222,\"#7201a8\"],[0.3333333333333333,\"#9c179e\"],[0.4444444444444444,\"#bd3786\"],[0.5555555555555556,\"#d8576b\"],[0.6666666666666666,\"#ed7953\"],[0.7777777777777778,\"#fb9f3a\"],[0.8888888888888888,\"#fdca26\"],[1.0,\"#f0f921\"]]}],\"surface\":[{\"type\":\"surface\",\"colorbar\":{\"outlinewidth\":0,\"ticks\":\"\"},\"colorscale\":[[0.0,\"#0d0887\"],[0.1111111111111111,\"#46039f\"],[0.2222222222222222,\"#7201a8\"],[0.3333333333333333,\"#9c179e\"],[0.4444444444444444,\"#bd3786\"],[0.5555555555555556,\"#d8576b\"],[0.6666666666666666,\"#ed7953\"],[0.7777777777777778,\"#fb9f3a\"],[0.8888888888888888,\"#fdca26\"],[1.0,\"#f0f921\"]]}],\"mesh3d\":[{\"type\":\"mesh3d\",\"colorbar\":{\"outlinewidth\":0,\"ticks\":\"\"}}],\"scatter\":[{\"fillpattern\":{\"fillmode\":\"overlay\",\"size\":10,\"solidity\":0.2},\"type\":\"scatter\"}],\"parcoords\":[{\"type\":\"parcoords\",\"line\":{\"colorbar\":{\"outlinewidth\":0,\"ticks\":\"\"}}}],\"scatterpolargl\":[{\"type\":\"scatterpolargl\",\"marker\":{\"colorbar\":{\"outlinewidth\":0,\"ticks\":\"\"}}}],\"bar\":[{\"error_x\":{\"color\":\"#2a3f5f\"},\"error_y\":{\"color\":\"#2a3f5f\"},\"marker\":{\"line\":{\"color\":\"#E5ECF6\",\"width\":0.5},\"pattern\":{\"fillmode\":\"overlay\",\"size\":10,\"solidity\":0.2}},\"type\":\"bar\"}],\"scattergeo\":[{\"type\":\"scattergeo\",\"marker\":{\"colorbar\":{\"outlinewidth\":0,\"ticks\":\"\"}}}],\"scatterpolar\":[{\"type\":\"scatterpolar\",\"marker\":{\"colorbar\":{\"outlinewidth\":0,\"ticks\":\"\"}}}],\"histogram\":[{\"marker\":{\"pattern\":{\"fillmode\":\"overlay\",\"size\":10,\"solidity\":0.2}},\"type\":\"histogram\"}],\"scattergl\":[{\"type\":\"scattergl\",\"marker\":{\"colorbar\":{\"outlinewidth\":0,\"ticks\":\"\"}}}],\"scatter3d\":[{\"type\":\"scatter3d\",\"line\":{\"colorbar\":{\"outlinewidth\":0,\"ticks\":\"\"}},\"marker\":{\"colorbar\":{\"outlinewidth\":0,\"ticks\":\"\"}}}],\"scattermapbox\":[{\"type\":\"scattermapbox\",\"marker\":{\"colorbar\":{\"outlinewidth\":0,\"ticks\":\"\"}}}],\"scatterternary\":[{\"type\":\"scatterternary\",\"marker\":{\"colorbar\":{\"outlinewidth\":0,\"ticks\":\"\"}}}],\"scattercarpet\":[{\"type\":\"scattercarpet\",\"marker\":{\"colorbar\":{\"outlinewidth\":0,\"ticks\":\"\"}}}],\"carpet\":[{\"aaxis\":{\"endlinecolor\":\"#2a3f5f\",\"gridcolor\":\"white\",\"linecolor\":\"white\",\"minorgridcolor\":\"white\",\"startlinecolor\":\"#2a3f5f\"},\"baxis\":{\"endlinecolor\":\"#2a3f5f\",\"gridcolor\":\"white\",\"linecolor\":\"white\",\"minorgridcolor\":\"white\",\"startlinecolor\":\"#2a3f5f\"},\"type\":\"carpet\"}],\"table\":[{\"cells\":{\"fill\":{\"color\":\"#EBF0F8\"},\"line\":{\"color\":\"white\"}},\"header\":{\"fill\":{\"color\":\"#C8D4E3\"},\"line\":{\"color\":\"white\"}},\"type\":\"table\"}],\"barpolar\":[{\"marker\":{\"line\":{\"color\":\"#E5ECF6\",\"width\":0.5},\"pattern\":{\"fillmode\":\"overlay\",\"size\":10,\"solidity\":0.2}},\"type\":\"barpolar\"}],\"pie\":[{\"automargin\":true,\"type\":\"pie\"}]},\"layout\":{\"autotypenumbers\":\"strict\",\"colorway\":[\"#636efa\",\"#EF553B\",\"#00cc96\",\"#ab63fa\",\"#FFA15A\",\"#19d3f3\",\"#FF6692\",\"#B6E880\",\"#FF97FF\",\"#FECB52\"],\"font\":{\"color\":\"#2a3f5f\"},\"hovermode\":\"closest\",\"hoverlabel\":{\"align\":\"left\"},\"paper_bgcolor\":\"white\",\"plot_bgcolor\":\"#E5ECF6\",\"polar\":{\"bgcolor\":\"#E5ECF6\",\"angularaxis\":{\"gridcolor\":\"white\",\"linecolor\":\"white\",\"ticks\":\"\"},\"radialaxis\":{\"gridcolor\":\"white\",\"linecolor\":\"white\",\"ticks\":\"\"}},\"ternary\":{\"bgcolor\":\"#E5ECF6\",\"aaxis\":{\"gridcolor\":\"white\",\"linecolor\":\"white\",\"ticks\":\"\"},\"baxis\":{\"gridcolor\":\"white\",\"linecolor\":\"white\",\"ticks\":\"\"},\"caxis\":{\"gridcolor\":\"white\",\"linecolor\":\"white\",\"ticks\":\"\"}},\"coloraxis\":{\"colorbar\":{\"outlinewidth\":0,\"ticks\":\"\"}},\"colorscale\":{\"sequential\":[[0.0,\"#0d0887\"],[0.1111111111111111,\"#46039f\"],[0.2222222222222222,\"#7201a8\"],[0.3333333333333333,\"#9c179e\"],[0.4444444444444444,\"#bd3786\"],[0.5555555555555556,\"#d8576b\"],[0.6666666666666666,\"#ed7953\"],[0.7777777777777778,\"#fb9f3a\"],[0.8888888888888888,\"#fdca26\"],[1.0,\"#f0f921\"]],\"sequentialminus\":[[0.0,\"#0d0887\"],[0.1111111111111111,\"#46039f\"],[0.2222222222222222,\"#7201a8\"],[0.3333333333333333,\"#9c179e\"],[0.4444444444444444,\"#bd3786\"],[0.5555555555555556,\"#d8576b\"],[0.6666666666666666,\"#ed7953\"],[0.7777777777777778,\"#fb9f3a\"],[0.8888888888888888,\"#fdca26\"],[1.0,\"#f0f921\"]],\"diverging\":[[0,\"#8e0152\"],[0.1,\"#c51b7d\"],[0.2,\"#de77ae\"],[0.3,\"#f1b6da\"],[0.4,\"#fde0ef\"],[0.5,\"#f7f7f7\"],[0.6,\"#e6f5d0\"],[0.7,\"#b8e186\"],[0.8,\"#7fbc41\"],[0.9,\"#4d9221\"],[1,\"#276419\"]]},\"xaxis\":{\"gridcolor\":\"white\",\"linecolor\":\"white\",\"ticks\":\"\",\"title\":{\"standoff\":15},\"zerolinecolor\":\"white\",\"automargin\":true,\"zerolinewidth\":2},\"yaxis\":{\"gridcolor\":\"white\",\"linecolor\":\"white\",\"ticks\":\"\",\"title\":{\"standoff\":15},\"zerolinecolor\":\"white\",\"automargin\":true,\"zerolinewidth\":2},\"scene\":{\"xaxis\":{\"backgroundcolor\":\"#E5ECF6\",\"gridcolor\":\"white\",\"linecolor\":\"white\",\"showbackground\":true,\"ticks\":\"\",\"zerolinecolor\":\"white\",\"gridwidth\":2},\"yaxis\":{\"backgroundcolor\":\"#E5ECF6\",\"gridcolor\":\"white\",\"linecolor\":\"white\",\"showbackground\":true,\"ticks\":\"\",\"zerolinecolor\":\"white\",\"gridwidth\":2},\"zaxis\":{\"backgroundcolor\":\"#E5ECF6\",\"gridcolor\":\"white\",\"linecolor\":\"white\",\"showbackground\":true,\"ticks\":\"\",\"zerolinecolor\":\"white\",\"gridwidth\":2}},\"shapedefaults\":{\"line\":{\"color\":\"#2a3f5f\"}},\"annotationdefaults\":{\"arrowcolor\":\"#2a3f5f\",\"arrowhead\":0,\"arrowwidth\":1},\"geo\":{\"bgcolor\":\"white\",\"landcolor\":\"#E5ECF6\",\"subunitcolor\":\"white\",\"showland\":true,\"showlakes\":true,\"lakecolor\":\"white\"},\"title\":{\"x\":0.05},\"mapbox\":{\"style\":\"light\"}}},\"annotations\":[{\"font\":{},\"showarrow\":false,\"text\":\"hotel=City Hotel\",\"x\":0.22,\"xanchor\":\"center\",\"xref\":\"paper\",\"y\":1.0,\"yanchor\":\"bottom\",\"yref\":\"paper\"},{\"font\":{},\"showarrow\":false,\"text\":\"hotel=Resort Hotel\",\"x\":0.78,\"xanchor\":\"center\",\"xref\":\"paper\",\"y\":1.0,\"yanchor\":\"bottom\",\"yref\":\"paper\"}],\"legend\":{\"tracegroupgap\":0,\"title\":{\"text\":\"Meal Package\"}},\"title\":{\"text\":\"Meal Package Demand per Hotel Type\"}},                        {\"responsive\": true}                    ).then(function(){\n                            \nvar gd = document.getElementById('52669484-90f7-4bdf-9abc-4c5976ea0df0');\nvar x = new MutationObserver(function (mutations, observer) {{\n        var display = window.getComputedStyle(gd).display;\n        if (!display || display === 'none') {{\n            console.log([gd, 'removed!']);\n            Plotly.purge(gd);\n            observer.disconnect();\n        }}\n}});\n\n// Listen for the removal of the full notebook cells\nvar notebookContainer = gd.closest('#notebook-container');\nif (notebookContainer) {{\n    x.observe(notebookContainer, {childList: true});\n}}\n\n// Listen for the clearing of the current output cell\nvar outputEl = gd.closest('.output');\nif (outputEl) {{\n    x.observe(outputEl, {childList: true});\n}}\n\n                        })                };                            </script>        </div>\n</body>\n</html>"
     },
     "metadata": {},
     "output_type": "display_data"
    }
   ]
  },
  {
   "cell_type": "markdown",
   "source": "#### Market Segment - Meal Package Relationship",
   "metadata": {
    "cell_id": "9bb425722dce4880aeb491651abe8e75",
    "tags": [],
    "deepnote_cell_type": "markdown",
    "deepnote_cell_height": 54
   }
  },
  {
   "cell_type": "code",
   "metadata": {
    "cell_id": "968e99aac09347cc8d274a80fc637cfb",
    "tags": [],
    "deepnote_to_be_reexecuted": false,
    "source_hash": "1ad04f19",
    "execution_start": 1660314611887,
    "execution_millis": 1441,
    "deepnote_cell_type": "code",
    "deepnote_cell_height": 703,
    "deepnote_output_heights": [
     611
    ]
   },
   "source": "df.groupby(['market_segment', 'meal'])['market_segment'].count()",
   "execution_count": null,
   "outputs": [
    {
     "output_type": "execute_result",
     "execution_count": 35,
     "data": {
      "text/plain": "market_segment  meal     \nAviation        BB             237\nComplementary   BB             824\n                FB              15\n                HB              37\n                SC              31\n                Undefined        6\nCorporate       BB            6287\n                FB              27\n                HB             118\n                SC              39\n                Undefined       15\nDirect          BB           12898\n                FB             108\n                HB            1499\n                SC             392\n                Undefined       76\nGroups          BB           20383\n                FB             823\n                HB            3906\n                SC              42\n                Undefined      961\nOffline TA/TO   BB           21489\n                FB             212\n                HB            8030\n                SC             350\n                Undefined      298\nOnline TA       BB           47756\n                FB              43\n                HB            4812\n                SC           10213\n                Undefined       16\nUndefined       BB               4\nName: market_segment, dtype: int64"
     },
     "metadata": {}
    }
   ]
  },
  {
   "cell_type": "code",
   "metadata": {
    "cell_id": "2abb1d10bfda4ad5af25d7631710f0cb",
    "tags": [],
    "deepnote_to_be_reexecuted": false,
    "source_hash": "91f0c17",
    "execution_start": 1660314612722,
    "execution_millis": 725,
    "deepnote_cell_type": "code",
    "deepnote_cell_height": 654
   },
   "source": "# Creating the market segment - meal dataframe\ndf_msmp = pd.DataFrame(df.groupby(['market_segment', 'meal'])['market_segment'].count())\ndf_msmp = df_msmp.rename(columns={0:'market_segment', 'market_segment':'meal_counts'}).reset_index()\ndf_msmp",
   "execution_count": null,
   "outputs": [
    {
     "output_type": "execute_result",
     "execution_count": 36,
     "data": {
      "application/vnd.deepnote.dataframe.v3+json": {
       "column_count": 3,
       "row_count": 32,
       "columns": [
        {
         "name": "market_segment",
         "dtype": "object",
         "stats": {
          "unique_count": 8,
          "nan_count": 0,
          "categories": [
           {
            "name": "Complementary",
            "count": 5
           },
           {
            "name": "Corporate",
            "count": 5
           },
           {
            "name": "6 others",
            "count": 22
           }
          ]
         }
        },
        {
         "name": "meal",
         "dtype": "object",
         "stats": {
          "unique_count": 5,
          "nan_count": 0,
          "categories": [
           {
            "name": "BB",
            "count": 8
           },
           {
            "name": "FB",
            "count": 6
           },
           {
            "name": "3 others",
            "count": 18
           }
          ]
         }
        },
        {
         "name": "meal_counts",
         "dtype": "int64",
         "stats": {
          "unique_count": 31,
          "nan_count": 0,
          "min": "4",
          "max": "47756",
          "histogram": [
           {
            "bin_start": 4,
            "bin_end": 4779.2,
            "count": 24
           },
           {
            "bin_start": 4779.2,
            "bin_end": 9554.4,
            "count": 3
           },
           {
            "bin_start": 9554.4,
            "bin_end": 14329.599999999999,
            "count": 2
           },
           {
            "bin_start": 14329.599999999999,
            "bin_end": 19104.8,
            "count": 0
           },
           {
            "bin_start": 19104.8,
            "bin_end": 23880,
            "count": 2
           },
           {
            "bin_start": 23880,
            "bin_end": 28655.199999999997,
            "count": 0
           },
           {
            "bin_start": 28655.199999999997,
            "bin_end": 33430.4,
            "count": 0
           },
           {
            "bin_start": 33430.4,
            "bin_end": 38205.6,
            "count": 0
           },
           {
            "bin_start": 38205.6,
            "bin_end": 42980.799999999996,
            "count": 0
           },
           {
            "bin_start": 42980.799999999996,
            "bin_end": 47756,
            "count": 1
           }
          ]
         }
        },
        {
         "name": "_deepnote_index_column",
         "dtype": "int64"
        }
       ],
       "rows": [
        {
         "market_segment": "Aviation",
         "meal": "BB",
         "meal_counts": 237,
         "_deepnote_index_column": 0
        },
        {
         "market_segment": "Complementary",
         "meal": "BB",
         "meal_counts": 824,
         "_deepnote_index_column": 1
        },
        {
         "market_segment": "Complementary",
         "meal": "FB",
         "meal_counts": 15,
         "_deepnote_index_column": 2
        },
        {
         "market_segment": "Complementary",
         "meal": "HB",
         "meal_counts": 37,
         "_deepnote_index_column": 3
        },
        {
         "market_segment": "Complementary",
         "meal": "SC",
         "meal_counts": 31,
         "_deepnote_index_column": 4
        },
        {
         "market_segment": "Complementary",
         "meal": "Undefined",
         "meal_counts": 6,
         "_deepnote_index_column": 5
        },
        {
         "market_segment": "Corporate",
         "meal": "BB",
         "meal_counts": 6287,
         "_deepnote_index_column": 6
        },
        {
         "market_segment": "Corporate",
         "meal": "FB",
         "meal_counts": 27,
         "_deepnote_index_column": 7
        },
        {
         "market_segment": "Corporate",
         "meal": "HB",
         "meal_counts": 118,
         "_deepnote_index_column": 8
        },
        {
         "market_segment": "Corporate",
         "meal": "SC",
         "meal_counts": 39,
         "_deepnote_index_column": 9
        }
       ]
      },
      "text/plain": "   market_segment       meal  meal_counts\n0        Aviation         BB          237\n1   Complementary         BB          824\n2   Complementary         FB           15\n3   Complementary         HB           37\n4   Complementary         SC           31\n5   Complementary  Undefined            6\n6       Corporate         BB         6287\n7       Corporate         FB           27\n8       Corporate         HB          118\n9       Corporate         SC           39\n10      Corporate  Undefined           15\n11         Direct         BB        12898\n12         Direct         FB          108\n13         Direct         HB         1499\n14         Direct         SC          392\n15         Direct  Undefined           76\n16         Groups         BB        20383\n17         Groups         FB          823\n18         Groups         HB         3906\n19         Groups         SC           42\n20         Groups  Undefined          961\n21  Offline TA/TO         BB        21489\n22  Offline TA/TO         FB          212\n23  Offline TA/TO         HB         8030\n24  Offline TA/TO         SC          350\n25  Offline TA/TO  Undefined          298\n26      Online TA         BB        47756\n27      Online TA         FB           43\n28      Online TA         HB         4812\n29      Online TA         SC        10213\n30      Online TA  Undefined           16\n31      Undefined         BB            4",
      "text/html": "<div>\n<style scoped>\n    .dataframe tbody tr th:only-of-type {\n        vertical-align: middle;\n    }\n\n    .dataframe tbody tr th {\n        vertical-align: top;\n    }\n\n    .dataframe thead th {\n        text-align: right;\n    }\n</style>\n<table border=\"1\" class=\"dataframe\">\n  <thead>\n    <tr style=\"text-align: right;\">\n      <th></th>\n      <th>market_segment</th>\n      <th>meal</th>\n      <th>meal_counts</th>\n    </tr>\n  </thead>\n  <tbody>\n    <tr>\n      <th>0</th>\n      <td>Aviation</td>\n      <td>BB</td>\n      <td>237</td>\n    </tr>\n    <tr>\n      <th>1</th>\n      <td>Complementary</td>\n      <td>BB</td>\n      <td>824</td>\n    </tr>\n    <tr>\n      <th>2</th>\n      <td>Complementary</td>\n      <td>FB</td>\n      <td>15</td>\n    </tr>\n    <tr>\n      <th>3</th>\n      <td>Complementary</td>\n      <td>HB</td>\n      <td>37</td>\n    </tr>\n    <tr>\n      <th>4</th>\n      <td>Complementary</td>\n      <td>SC</td>\n      <td>31</td>\n    </tr>\n    <tr>\n      <th>5</th>\n      <td>Complementary</td>\n      <td>Undefined</td>\n      <td>6</td>\n    </tr>\n    <tr>\n      <th>6</th>\n      <td>Corporate</td>\n      <td>BB</td>\n      <td>6287</td>\n    </tr>\n    <tr>\n      <th>7</th>\n      <td>Corporate</td>\n      <td>FB</td>\n      <td>27</td>\n    </tr>\n    <tr>\n      <th>8</th>\n      <td>Corporate</td>\n      <td>HB</td>\n      <td>118</td>\n    </tr>\n    <tr>\n      <th>9</th>\n      <td>Corporate</td>\n      <td>SC</td>\n      <td>39</td>\n    </tr>\n    <tr>\n      <th>10</th>\n      <td>Corporate</td>\n      <td>Undefined</td>\n      <td>15</td>\n    </tr>\n    <tr>\n      <th>11</th>\n      <td>Direct</td>\n      <td>BB</td>\n      <td>12898</td>\n    </tr>\n    <tr>\n      <th>12</th>\n      <td>Direct</td>\n      <td>FB</td>\n      <td>108</td>\n    </tr>\n    <tr>\n      <th>13</th>\n      <td>Direct</td>\n      <td>HB</td>\n      <td>1499</td>\n    </tr>\n    <tr>\n      <th>14</th>\n      <td>Direct</td>\n      <td>SC</td>\n      <td>392</td>\n    </tr>\n    <tr>\n      <th>15</th>\n      <td>Direct</td>\n      <td>Undefined</td>\n      <td>76</td>\n    </tr>\n    <tr>\n      <th>16</th>\n      <td>Groups</td>\n      <td>BB</td>\n      <td>20383</td>\n    </tr>\n    <tr>\n      <th>17</th>\n      <td>Groups</td>\n      <td>FB</td>\n      <td>823</td>\n    </tr>\n    <tr>\n      <th>18</th>\n      <td>Groups</td>\n      <td>HB</td>\n      <td>3906</td>\n    </tr>\n    <tr>\n      <th>19</th>\n      <td>Groups</td>\n      <td>SC</td>\n      <td>42</td>\n    </tr>\n    <tr>\n      <th>20</th>\n      <td>Groups</td>\n      <td>Undefined</td>\n      <td>961</td>\n    </tr>\n    <tr>\n      <th>21</th>\n      <td>Offline TA/TO</td>\n      <td>BB</td>\n      <td>21489</td>\n    </tr>\n    <tr>\n      <th>22</th>\n      <td>Offline TA/TO</td>\n      <td>FB</td>\n      <td>212</td>\n    </tr>\n    <tr>\n      <th>23</th>\n      <td>Offline TA/TO</td>\n      <td>HB</td>\n      <td>8030</td>\n    </tr>\n    <tr>\n      <th>24</th>\n      <td>Offline TA/TO</td>\n      <td>SC</td>\n      <td>350</td>\n    </tr>\n    <tr>\n      <th>25</th>\n      <td>Offline TA/TO</td>\n      <td>Undefined</td>\n      <td>298</td>\n    </tr>\n    <tr>\n      <th>26</th>\n      <td>Online TA</td>\n      <td>BB</td>\n      <td>47756</td>\n    </tr>\n    <tr>\n      <th>27</th>\n      <td>Online TA</td>\n      <td>FB</td>\n      <td>43</td>\n    </tr>\n    <tr>\n      <th>28</th>\n      <td>Online TA</td>\n      <td>HB</td>\n      <td>4812</td>\n    </tr>\n    <tr>\n      <th>29</th>\n      <td>Online TA</td>\n      <td>SC</td>\n      <td>10213</td>\n    </tr>\n    <tr>\n      <th>30</th>\n      <td>Online TA</td>\n      <td>Undefined</td>\n      <td>16</td>\n    </tr>\n    <tr>\n      <th>31</th>\n      <td>Undefined</td>\n      <td>BB</td>\n      <td>4</td>\n    </tr>\n  </tbody>\n</table>\n</div>"
     },
     "metadata": {}
    }
   ]
  },
  {
   "cell_type": "code",
   "metadata": {
    "cell_id": "eab80179f0864e6289a630b767165186",
    "tags": [],
    "deepnote_to_be_reexecuted": false,
    "source_hash": "36700a2e",
    "execution_start": 1660314612723,
    "execution_millis": 916762,
    "deepnote_cell_type": "code",
    "deepnote_cell_height": 135
   },
   "source": "# df_msmp.loc[df_msmp['meal'] == \"BB\", 'meal'] = \"BB (Bed & Breakfast)\"\n# df_msmp.loc[df_msmp['meal'] == \"HB\", 'meal'] = \"HB (Half Board)\"\n# df_msmp.loc[df_msmp['meal'] == \"FB\", 'meal'] = \"FB (Full Board)\"\n# df_msmp.loc[df_msmp['meal'] == \"SC\", 'meal'] = \"SC (Self-catering)\"",
   "execution_count": null,
   "outputs": []
  },
  {
   "cell_type": "code",
   "source": "fig3_1 = px.bar(df_msmp, x='meal', y='meal_counts', color='meal', facet_col='market_segment', facet_col_wrap=3, title=\"Meal Package Demand per Market Segment\")\nfig3_1",
   "metadata": {
    "cell_id": "2aaa493390ff45e58b547de97ef7dd00",
    "tags": [],
    "deepnote_to_be_reexecuted": false,
    "source_hash": "a0277fc",
    "execution_start": 1660314612724,
    "execution_millis": 2387,
    "deepnote_app_coordinates": {
     "x": 0,
     "y": 133,
     "w": 12,
     "h": 25
    },
    "deepnote_cell_type": "code",
    "deepnote_cell_height": 642,
    "deepnote_output_heights": [
     527
    ]
   },
   "execution_count": null,
   "outputs": [
    {
     "data": {
      "text/html": "<html>\n<head><meta charset=\"utf-8\" /></head>\n<body>\n    <div>            <script src=\"https://cdnjs.cloudflare.com/ajax/libs/mathjax/2.7.5/MathJax.js?config=TeX-AMS-MML_SVG\"></script><script type=\"text/javascript\">if (window.MathJax && window.MathJax.Hub && window.MathJax.Hub.Config) {window.MathJax.Hub.Config({SVG: {font: \"STIX-Web\"}});}</script>                <script type=\"text/javascript\">window.PlotlyConfig = {MathJaxConfig: 'local'};</script>\n        <script src=\"https://cdn.plot.ly/plotly-2.12.1.min.js\"></script>                <div id=\"82e0da7b-bcd6-43d0-bd70-0475ddac4251\" class=\"plotly-graph-div\" style=\"height:525px; width:100%;\"></div>            <script type=\"text/javascript\">                                    window.PLOTLYENV=window.PLOTLYENV || {};                                    if (document.getElementById(\"82e0da7b-bcd6-43d0-bd70-0475ddac4251\")) {                    Plotly.newPlot(                        \"82e0da7b-bcd6-43d0-bd70-0475ddac4251\",                        [{\"alignmentgroup\":\"True\",\"hovertemplate\":\"meal=%{x}<br>market_segment=Aviation<br>meal_counts=%{y}<extra></extra>\",\"legendgroup\":\"BB\",\"marker\":{\"color\":\"#636efa\",\"pattern\":{\"shape\":\"\"}},\"name\":\"BB\",\"offsetgroup\":\"BB\",\"orientation\":\"v\",\"showlegend\":true,\"textposition\":\"auto\",\"x\":[\"BB\"],\"xaxis\":\"x7\",\"y\":[237],\"yaxis\":\"y7\",\"type\":\"bar\"},{\"alignmentgroup\":\"True\",\"hovertemplate\":\"meal=%{x}<br>market_segment=Complementary<br>meal_counts=%{y}<extra></extra>\",\"legendgroup\":\"BB\",\"marker\":{\"color\":\"#636efa\",\"pattern\":{\"shape\":\"\"}},\"name\":\"BB\",\"offsetgroup\":\"BB\",\"orientation\":\"v\",\"showlegend\":false,\"textposition\":\"auto\",\"x\":[\"BB\"],\"xaxis\":\"x8\",\"y\":[824],\"yaxis\":\"y8\",\"type\":\"bar\"},{\"alignmentgroup\":\"True\",\"hovertemplate\":\"meal=%{x}<br>market_segment=Corporate<br>meal_counts=%{y}<extra></extra>\",\"legendgroup\":\"BB\",\"marker\":{\"color\":\"#636efa\",\"pattern\":{\"shape\":\"\"}},\"name\":\"BB\",\"offsetgroup\":\"BB\",\"orientation\":\"v\",\"showlegend\":false,\"textposition\":\"auto\",\"x\":[\"BB\"],\"xaxis\":\"x9\",\"y\":[6287],\"yaxis\":\"y9\",\"type\":\"bar\"},{\"alignmentgroup\":\"True\",\"hovertemplate\":\"meal=%{x}<br>market_segment=Direct<br>meal_counts=%{y}<extra></extra>\",\"legendgroup\":\"BB\",\"marker\":{\"color\":\"#636efa\",\"pattern\":{\"shape\":\"\"}},\"name\":\"BB\",\"offsetgroup\":\"BB\",\"orientation\":\"v\",\"showlegend\":false,\"textposition\":\"auto\",\"x\":[\"BB\"],\"xaxis\":\"x4\",\"y\":[12898],\"yaxis\":\"y4\",\"type\":\"bar\"},{\"alignmentgroup\":\"True\",\"hovertemplate\":\"meal=%{x}<br>market_segment=Groups<br>meal_counts=%{y}<extra></extra>\",\"legendgroup\":\"BB\",\"marker\":{\"color\":\"#636efa\",\"pattern\":{\"shape\":\"\"}},\"name\":\"BB\",\"offsetgroup\":\"BB\",\"orientation\":\"v\",\"showlegend\":false,\"textposition\":\"auto\",\"x\":[\"BB\"],\"xaxis\":\"x5\",\"y\":[20383],\"yaxis\":\"y5\",\"type\":\"bar\"},{\"alignmentgroup\":\"True\",\"hovertemplate\":\"meal=%{x}<br>market_segment=Offline TA/TO<br>meal_counts=%{y}<extra></extra>\",\"legendgroup\":\"BB\",\"marker\":{\"color\":\"#636efa\",\"pattern\":{\"shape\":\"\"}},\"name\":\"BB\",\"offsetgroup\":\"BB\",\"orientation\":\"v\",\"showlegend\":false,\"textposition\":\"auto\",\"x\":[\"BB\"],\"xaxis\":\"x6\",\"y\":[21489],\"yaxis\":\"y6\",\"type\":\"bar\"},{\"alignmentgroup\":\"True\",\"hovertemplate\":\"meal=%{x}<br>market_segment=Online TA<br>meal_counts=%{y}<extra></extra>\",\"legendgroup\":\"BB\",\"marker\":{\"color\":\"#636efa\",\"pattern\":{\"shape\":\"\"}},\"name\":\"BB\",\"offsetgroup\":\"BB\",\"orientation\":\"v\",\"showlegend\":false,\"textposition\":\"auto\",\"x\":[\"BB\"],\"xaxis\":\"x\",\"y\":[47756],\"yaxis\":\"y\",\"type\":\"bar\"},{\"alignmentgroup\":\"True\",\"hovertemplate\":\"meal=%{x}<br>market_segment=Undefined<br>meal_counts=%{y}<extra></extra>\",\"legendgroup\":\"BB\",\"marker\":{\"color\":\"#636efa\",\"pattern\":{\"shape\":\"\"}},\"name\":\"BB\",\"offsetgroup\":\"BB\",\"orientation\":\"v\",\"showlegend\":false,\"textposition\":\"auto\",\"x\":[\"BB\"],\"xaxis\":\"x2\",\"y\":[4],\"yaxis\":\"y2\",\"type\":\"bar\"},{\"alignmentgroup\":\"True\",\"hovertemplate\":\"meal=%{x}<br>market_segment=Complementary<br>meal_counts=%{y}<extra></extra>\",\"legendgroup\":\"FB\",\"marker\":{\"color\":\"#EF553B\",\"pattern\":{\"shape\":\"\"}},\"name\":\"FB\",\"offsetgroup\":\"FB\",\"orientation\":\"v\",\"showlegend\":true,\"textposition\":\"auto\",\"x\":[\"FB\"],\"xaxis\":\"x8\",\"y\":[15],\"yaxis\":\"y8\",\"type\":\"bar\"},{\"alignmentgroup\":\"True\",\"hovertemplate\":\"meal=%{x}<br>market_segment=Corporate<br>meal_counts=%{y}<extra></extra>\",\"legendgroup\":\"FB\",\"marker\":{\"color\":\"#EF553B\",\"pattern\":{\"shape\":\"\"}},\"name\":\"FB\",\"offsetgroup\":\"FB\",\"orientation\":\"v\",\"showlegend\":false,\"textposition\":\"auto\",\"x\":[\"FB\"],\"xaxis\":\"x9\",\"y\":[27],\"yaxis\":\"y9\",\"type\":\"bar\"},{\"alignmentgroup\":\"True\",\"hovertemplate\":\"meal=%{x}<br>market_segment=Direct<br>meal_counts=%{y}<extra></extra>\",\"legendgroup\":\"FB\",\"marker\":{\"color\":\"#EF553B\",\"pattern\":{\"shape\":\"\"}},\"name\":\"FB\",\"offsetgroup\":\"FB\",\"orientation\":\"v\",\"showlegend\":false,\"textposition\":\"auto\",\"x\":[\"FB\"],\"xaxis\":\"x4\",\"y\":[108],\"yaxis\":\"y4\",\"type\":\"bar\"},{\"alignmentgroup\":\"True\",\"hovertemplate\":\"meal=%{x}<br>market_segment=Groups<br>meal_counts=%{y}<extra></extra>\",\"legendgroup\":\"FB\",\"marker\":{\"color\":\"#EF553B\",\"pattern\":{\"shape\":\"\"}},\"name\":\"FB\",\"offsetgroup\":\"FB\",\"orientation\":\"v\",\"showlegend\":false,\"textposition\":\"auto\",\"x\":[\"FB\"],\"xaxis\":\"x5\",\"y\":[823],\"yaxis\":\"y5\",\"type\":\"bar\"},{\"alignmentgroup\":\"True\",\"hovertemplate\":\"meal=%{x}<br>market_segment=Offline TA/TO<br>meal_counts=%{y}<extra></extra>\",\"legendgroup\":\"FB\",\"marker\":{\"color\":\"#EF553B\",\"pattern\":{\"shape\":\"\"}},\"name\":\"FB\",\"offsetgroup\":\"FB\",\"orientation\":\"v\",\"showlegend\":false,\"textposition\":\"auto\",\"x\":[\"FB\"],\"xaxis\":\"x6\",\"y\":[212],\"yaxis\":\"y6\",\"type\":\"bar\"},{\"alignmentgroup\":\"True\",\"hovertemplate\":\"meal=%{x}<br>market_segment=Online TA<br>meal_counts=%{y}<extra></extra>\",\"legendgroup\":\"FB\",\"marker\":{\"color\":\"#EF553B\",\"pattern\":{\"shape\":\"\"}},\"name\":\"FB\",\"offsetgroup\":\"FB\",\"orientation\":\"v\",\"showlegend\":false,\"textposition\":\"auto\",\"x\":[\"FB\"],\"xaxis\":\"x\",\"y\":[43],\"yaxis\":\"y\",\"type\":\"bar\"},{\"alignmentgroup\":\"True\",\"hovertemplate\":\"meal=%{x}<br>market_segment=Complementary<br>meal_counts=%{y}<extra></extra>\",\"legendgroup\":\"HB\",\"marker\":{\"color\":\"#00cc96\",\"pattern\":{\"shape\":\"\"}},\"name\":\"HB\",\"offsetgroup\":\"HB\",\"orientation\":\"v\",\"showlegend\":true,\"textposition\":\"auto\",\"x\":[\"HB\"],\"xaxis\":\"x8\",\"y\":[37],\"yaxis\":\"y8\",\"type\":\"bar\"},{\"alignmentgroup\":\"True\",\"hovertemplate\":\"meal=%{x}<br>market_segment=Corporate<br>meal_counts=%{y}<extra></extra>\",\"legendgroup\":\"HB\",\"marker\":{\"color\":\"#00cc96\",\"pattern\":{\"shape\":\"\"}},\"name\":\"HB\",\"offsetgroup\":\"HB\",\"orientation\":\"v\",\"showlegend\":false,\"textposition\":\"auto\",\"x\":[\"HB\"],\"xaxis\":\"x9\",\"y\":[118],\"yaxis\":\"y9\",\"type\":\"bar\"},{\"alignmentgroup\":\"True\",\"hovertemplate\":\"meal=%{x}<br>market_segment=Direct<br>meal_counts=%{y}<extra></extra>\",\"legendgroup\":\"HB\",\"marker\":{\"color\":\"#00cc96\",\"pattern\":{\"shape\":\"\"}},\"name\":\"HB\",\"offsetgroup\":\"HB\",\"orientation\":\"v\",\"showlegend\":false,\"textposition\":\"auto\",\"x\":[\"HB\"],\"xaxis\":\"x4\",\"y\":[1499],\"yaxis\":\"y4\",\"type\":\"bar\"},{\"alignmentgroup\":\"True\",\"hovertemplate\":\"meal=%{x}<br>market_segment=Groups<br>meal_counts=%{y}<extra></extra>\",\"legendgroup\":\"HB\",\"marker\":{\"color\":\"#00cc96\",\"pattern\":{\"shape\":\"\"}},\"name\":\"HB\",\"offsetgroup\":\"HB\",\"orientation\":\"v\",\"showlegend\":false,\"textposition\":\"auto\",\"x\":[\"HB\"],\"xaxis\":\"x5\",\"y\":[3906],\"yaxis\":\"y5\",\"type\":\"bar\"},{\"alignmentgroup\":\"True\",\"hovertemplate\":\"meal=%{x}<br>market_segment=Offline TA/TO<br>meal_counts=%{y}<extra></extra>\",\"legendgroup\":\"HB\",\"marker\":{\"color\":\"#00cc96\",\"pattern\":{\"shape\":\"\"}},\"name\":\"HB\",\"offsetgroup\":\"HB\",\"orientation\":\"v\",\"showlegend\":false,\"textposition\":\"auto\",\"x\":[\"HB\"],\"xaxis\":\"x6\",\"y\":[8030],\"yaxis\":\"y6\",\"type\":\"bar\"},{\"alignmentgroup\":\"True\",\"hovertemplate\":\"meal=%{x}<br>market_segment=Online TA<br>meal_counts=%{y}<extra></extra>\",\"legendgroup\":\"HB\",\"marker\":{\"color\":\"#00cc96\",\"pattern\":{\"shape\":\"\"}},\"name\":\"HB\",\"offsetgroup\":\"HB\",\"orientation\":\"v\",\"showlegend\":false,\"textposition\":\"auto\",\"x\":[\"HB\"],\"xaxis\":\"x\",\"y\":[4812],\"yaxis\":\"y\",\"type\":\"bar\"},{\"alignmentgroup\":\"True\",\"hovertemplate\":\"meal=%{x}<br>market_segment=Complementary<br>meal_counts=%{y}<extra></extra>\",\"legendgroup\":\"SC\",\"marker\":{\"color\":\"#ab63fa\",\"pattern\":{\"shape\":\"\"}},\"name\":\"SC\",\"offsetgroup\":\"SC\",\"orientation\":\"v\",\"showlegend\":true,\"textposition\":\"auto\",\"x\":[\"SC\"],\"xaxis\":\"x8\",\"y\":[31],\"yaxis\":\"y8\",\"type\":\"bar\"},{\"alignmentgroup\":\"True\",\"hovertemplate\":\"meal=%{x}<br>market_segment=Corporate<br>meal_counts=%{y}<extra></extra>\",\"legendgroup\":\"SC\",\"marker\":{\"color\":\"#ab63fa\",\"pattern\":{\"shape\":\"\"}},\"name\":\"SC\",\"offsetgroup\":\"SC\",\"orientation\":\"v\",\"showlegend\":false,\"textposition\":\"auto\",\"x\":[\"SC\"],\"xaxis\":\"x9\",\"y\":[39],\"yaxis\":\"y9\",\"type\":\"bar\"},{\"alignmentgroup\":\"True\",\"hovertemplate\":\"meal=%{x}<br>market_segment=Direct<br>meal_counts=%{y}<extra></extra>\",\"legendgroup\":\"SC\",\"marker\":{\"color\":\"#ab63fa\",\"pattern\":{\"shape\":\"\"}},\"name\":\"SC\",\"offsetgroup\":\"SC\",\"orientation\":\"v\",\"showlegend\":false,\"textposition\":\"auto\",\"x\":[\"SC\"],\"xaxis\":\"x4\",\"y\":[392],\"yaxis\":\"y4\",\"type\":\"bar\"},{\"alignmentgroup\":\"True\",\"hovertemplate\":\"meal=%{x}<br>market_segment=Groups<br>meal_counts=%{y}<extra></extra>\",\"legendgroup\":\"SC\",\"marker\":{\"color\":\"#ab63fa\",\"pattern\":{\"shape\":\"\"}},\"name\":\"SC\",\"offsetgroup\":\"SC\",\"orientation\":\"v\",\"showlegend\":false,\"textposition\":\"auto\",\"x\":[\"SC\"],\"xaxis\":\"x5\",\"y\":[42],\"yaxis\":\"y5\",\"type\":\"bar\"},{\"alignmentgroup\":\"True\",\"hovertemplate\":\"meal=%{x}<br>market_segment=Offline TA/TO<br>meal_counts=%{y}<extra></extra>\",\"legendgroup\":\"SC\",\"marker\":{\"color\":\"#ab63fa\",\"pattern\":{\"shape\":\"\"}},\"name\":\"SC\",\"offsetgroup\":\"SC\",\"orientation\":\"v\",\"showlegend\":false,\"textposition\":\"auto\",\"x\":[\"SC\"],\"xaxis\":\"x6\",\"y\":[350],\"yaxis\":\"y6\",\"type\":\"bar\"},{\"alignmentgroup\":\"True\",\"hovertemplate\":\"meal=%{x}<br>market_segment=Online TA<br>meal_counts=%{y}<extra></extra>\",\"legendgroup\":\"SC\",\"marker\":{\"color\":\"#ab63fa\",\"pattern\":{\"shape\":\"\"}},\"name\":\"SC\",\"offsetgroup\":\"SC\",\"orientation\":\"v\",\"showlegend\":false,\"textposition\":\"auto\",\"x\":[\"SC\"],\"xaxis\":\"x\",\"y\":[10213],\"yaxis\":\"y\",\"type\":\"bar\"},{\"alignmentgroup\":\"True\",\"hovertemplate\":\"meal=%{x}<br>market_segment=Complementary<br>meal_counts=%{y}<extra></extra>\",\"legendgroup\":\"Undefined\",\"marker\":{\"color\":\"#FFA15A\",\"pattern\":{\"shape\":\"\"}},\"name\":\"Undefined\",\"offsetgroup\":\"Undefined\",\"orientation\":\"v\",\"showlegend\":true,\"textposition\":\"auto\",\"x\":[\"Undefined\"],\"xaxis\":\"x8\",\"y\":[6],\"yaxis\":\"y8\",\"type\":\"bar\"},{\"alignmentgroup\":\"True\",\"hovertemplate\":\"meal=%{x}<br>market_segment=Corporate<br>meal_counts=%{y}<extra></extra>\",\"legendgroup\":\"Undefined\",\"marker\":{\"color\":\"#FFA15A\",\"pattern\":{\"shape\":\"\"}},\"name\":\"Undefined\",\"offsetgroup\":\"Undefined\",\"orientation\":\"v\",\"showlegend\":false,\"textposition\":\"auto\",\"x\":[\"Undefined\"],\"xaxis\":\"x9\",\"y\":[15],\"yaxis\":\"y9\",\"type\":\"bar\"},{\"alignmentgroup\":\"True\",\"hovertemplate\":\"meal=%{x}<br>market_segment=Direct<br>meal_counts=%{y}<extra></extra>\",\"legendgroup\":\"Undefined\",\"marker\":{\"color\":\"#FFA15A\",\"pattern\":{\"shape\":\"\"}},\"name\":\"Undefined\",\"offsetgroup\":\"Undefined\",\"orientation\":\"v\",\"showlegend\":false,\"textposition\":\"auto\",\"x\":[\"Undefined\"],\"xaxis\":\"x4\",\"y\":[76],\"yaxis\":\"y4\",\"type\":\"bar\"},{\"alignmentgroup\":\"True\",\"hovertemplate\":\"meal=%{x}<br>market_segment=Groups<br>meal_counts=%{y}<extra></extra>\",\"legendgroup\":\"Undefined\",\"marker\":{\"color\":\"#FFA15A\",\"pattern\":{\"shape\":\"\"}},\"name\":\"Undefined\",\"offsetgroup\":\"Undefined\",\"orientation\":\"v\",\"showlegend\":false,\"textposition\":\"auto\",\"x\":[\"Undefined\"],\"xaxis\":\"x5\",\"y\":[961],\"yaxis\":\"y5\",\"type\":\"bar\"},{\"alignmentgroup\":\"True\",\"hovertemplate\":\"meal=%{x}<br>market_segment=Offline TA/TO<br>meal_counts=%{y}<extra></extra>\",\"legendgroup\":\"Undefined\",\"marker\":{\"color\":\"#FFA15A\",\"pattern\":{\"shape\":\"\"}},\"name\":\"Undefined\",\"offsetgroup\":\"Undefined\",\"orientation\":\"v\",\"showlegend\":false,\"textposition\":\"auto\",\"x\":[\"Undefined\"],\"xaxis\":\"x6\",\"y\":[298],\"yaxis\":\"y6\",\"type\":\"bar\"},{\"alignmentgroup\":\"True\",\"hovertemplate\":\"meal=%{x}<br>market_segment=Online TA<br>meal_counts=%{y}<extra></extra>\",\"legendgroup\":\"Undefined\",\"marker\":{\"color\":\"#FFA15A\",\"pattern\":{\"shape\":\"\"}},\"name\":\"Undefined\",\"offsetgroup\":\"Undefined\",\"orientation\":\"v\",\"showlegend\":false,\"textposition\":\"auto\",\"x\":[\"Undefined\"],\"xaxis\":\"x\",\"y\":[16],\"yaxis\":\"y\",\"type\":\"bar\"}],                        {\"template\":{\"data\":{\"histogram2dcontour\":[{\"type\":\"histogram2dcontour\",\"colorbar\":{\"outlinewidth\":0,\"ticks\":\"\"},\"colorscale\":[[0.0,\"#0d0887\"],[0.1111111111111111,\"#46039f\"],[0.2222222222222222,\"#7201a8\"],[0.3333333333333333,\"#9c179e\"],[0.4444444444444444,\"#bd3786\"],[0.5555555555555556,\"#d8576b\"],[0.6666666666666666,\"#ed7953\"],[0.7777777777777778,\"#fb9f3a\"],[0.8888888888888888,\"#fdca26\"],[1.0,\"#f0f921\"]]}],\"choropleth\":[{\"type\":\"choropleth\",\"colorbar\":{\"outlinewidth\":0,\"ticks\":\"\"}}],\"histogram2d\":[{\"type\":\"histogram2d\",\"colorbar\":{\"outlinewidth\":0,\"ticks\":\"\"},\"colorscale\":[[0.0,\"#0d0887\"],[0.1111111111111111,\"#46039f\"],[0.2222222222222222,\"#7201a8\"],[0.3333333333333333,\"#9c179e\"],[0.4444444444444444,\"#bd3786\"],[0.5555555555555556,\"#d8576b\"],[0.6666666666666666,\"#ed7953\"],[0.7777777777777778,\"#fb9f3a\"],[0.8888888888888888,\"#fdca26\"],[1.0,\"#f0f921\"]]}],\"heatmap\":[{\"type\":\"heatmap\",\"colorbar\":{\"outlinewidth\":0,\"ticks\":\"\"},\"colorscale\":[[0.0,\"#0d0887\"],[0.1111111111111111,\"#46039f\"],[0.2222222222222222,\"#7201a8\"],[0.3333333333333333,\"#9c179e\"],[0.4444444444444444,\"#bd3786\"],[0.5555555555555556,\"#d8576b\"],[0.6666666666666666,\"#ed7953\"],[0.7777777777777778,\"#fb9f3a\"],[0.8888888888888888,\"#fdca26\"],[1.0,\"#f0f921\"]]}],\"heatmapgl\":[{\"type\":\"heatmapgl\",\"colorbar\":{\"outlinewidth\":0,\"ticks\":\"\"},\"colorscale\":[[0.0,\"#0d0887\"],[0.1111111111111111,\"#46039f\"],[0.2222222222222222,\"#7201a8\"],[0.3333333333333333,\"#9c179e\"],[0.4444444444444444,\"#bd3786\"],[0.5555555555555556,\"#d8576b\"],[0.6666666666666666,\"#ed7953\"],[0.7777777777777778,\"#fb9f3a\"],[0.8888888888888888,\"#fdca26\"],[1.0,\"#f0f921\"]]}],\"contourcarpet\":[{\"type\":\"contourcarpet\",\"colorbar\":{\"outlinewidth\":0,\"ticks\":\"\"}}],\"contour\":[{\"type\":\"contour\",\"colorbar\":{\"outlinewidth\":0,\"ticks\":\"\"},\"colorscale\":[[0.0,\"#0d0887\"],[0.1111111111111111,\"#46039f\"],[0.2222222222222222,\"#7201a8\"],[0.3333333333333333,\"#9c179e\"],[0.4444444444444444,\"#bd3786\"],[0.5555555555555556,\"#d8576b\"],[0.6666666666666666,\"#ed7953\"],[0.7777777777777778,\"#fb9f3a\"],[0.8888888888888888,\"#fdca26\"],[1.0,\"#f0f921\"]]}],\"surface\":[{\"type\":\"surface\",\"colorbar\":{\"outlinewidth\":0,\"ticks\":\"\"},\"colorscale\":[[0.0,\"#0d0887\"],[0.1111111111111111,\"#46039f\"],[0.2222222222222222,\"#7201a8\"],[0.3333333333333333,\"#9c179e\"],[0.4444444444444444,\"#bd3786\"],[0.5555555555555556,\"#d8576b\"],[0.6666666666666666,\"#ed7953\"],[0.7777777777777778,\"#fb9f3a\"],[0.8888888888888888,\"#fdca26\"],[1.0,\"#f0f921\"]]}],\"mesh3d\":[{\"type\":\"mesh3d\",\"colorbar\":{\"outlinewidth\":0,\"ticks\":\"\"}}],\"scatter\":[{\"fillpattern\":{\"fillmode\":\"overlay\",\"size\":10,\"solidity\":0.2},\"type\":\"scatter\"}],\"parcoords\":[{\"type\":\"parcoords\",\"line\":{\"colorbar\":{\"outlinewidth\":0,\"ticks\":\"\"}}}],\"scatterpolargl\":[{\"type\":\"scatterpolargl\",\"marker\":{\"colorbar\":{\"outlinewidth\":0,\"ticks\":\"\"}}}],\"bar\":[{\"error_x\":{\"color\":\"#2a3f5f\"},\"error_y\":{\"color\":\"#2a3f5f\"},\"marker\":{\"line\":{\"color\":\"#E5ECF6\",\"width\":0.5},\"pattern\":{\"fillmode\":\"overlay\",\"size\":10,\"solidity\":0.2}},\"type\":\"bar\"}],\"scattergeo\":[{\"type\":\"scattergeo\",\"marker\":{\"colorbar\":{\"outlinewidth\":0,\"ticks\":\"\"}}}],\"scatterpolar\":[{\"type\":\"scatterpolar\",\"marker\":{\"colorbar\":{\"outlinewidth\":0,\"ticks\":\"\"}}}],\"histogram\":[{\"marker\":{\"pattern\":{\"fillmode\":\"overlay\",\"size\":10,\"solidity\":0.2}},\"type\":\"histogram\"}],\"scattergl\":[{\"type\":\"scattergl\",\"marker\":{\"colorbar\":{\"outlinewidth\":0,\"ticks\":\"\"}}}],\"scatter3d\":[{\"type\":\"scatter3d\",\"line\":{\"colorbar\":{\"outlinewidth\":0,\"ticks\":\"\"}},\"marker\":{\"colorbar\":{\"outlinewidth\":0,\"ticks\":\"\"}}}],\"scattermapbox\":[{\"type\":\"scattermapbox\",\"marker\":{\"colorbar\":{\"outlinewidth\":0,\"ticks\":\"\"}}}],\"scatterternary\":[{\"type\":\"scatterternary\",\"marker\":{\"colorbar\":{\"outlinewidth\":0,\"ticks\":\"\"}}}],\"scattercarpet\":[{\"type\":\"scattercarpet\",\"marker\":{\"colorbar\":{\"outlinewidth\":0,\"ticks\":\"\"}}}],\"carpet\":[{\"aaxis\":{\"endlinecolor\":\"#2a3f5f\",\"gridcolor\":\"white\",\"linecolor\":\"white\",\"minorgridcolor\":\"white\",\"startlinecolor\":\"#2a3f5f\"},\"baxis\":{\"endlinecolor\":\"#2a3f5f\",\"gridcolor\":\"white\",\"linecolor\":\"white\",\"minorgridcolor\":\"white\",\"startlinecolor\":\"#2a3f5f\"},\"type\":\"carpet\"}],\"table\":[{\"cells\":{\"fill\":{\"color\":\"#EBF0F8\"},\"line\":{\"color\":\"white\"}},\"header\":{\"fill\":{\"color\":\"#C8D4E3\"},\"line\":{\"color\":\"white\"}},\"type\":\"table\"}],\"barpolar\":[{\"marker\":{\"line\":{\"color\":\"#E5ECF6\",\"width\":0.5},\"pattern\":{\"fillmode\":\"overlay\",\"size\":10,\"solidity\":0.2}},\"type\":\"barpolar\"}],\"pie\":[{\"automargin\":true,\"type\":\"pie\"}]},\"layout\":{\"autotypenumbers\":\"strict\",\"colorway\":[\"#636efa\",\"#EF553B\",\"#00cc96\",\"#ab63fa\",\"#FFA15A\",\"#19d3f3\",\"#FF6692\",\"#B6E880\",\"#FF97FF\",\"#FECB52\"],\"font\":{\"color\":\"#2a3f5f\"},\"hovermode\":\"closest\",\"hoverlabel\":{\"align\":\"left\"},\"paper_bgcolor\":\"white\",\"plot_bgcolor\":\"#E5ECF6\",\"polar\":{\"bgcolor\":\"#E5ECF6\",\"angularaxis\":{\"gridcolor\":\"white\",\"linecolor\":\"white\",\"ticks\":\"\"},\"radialaxis\":{\"gridcolor\":\"white\",\"linecolor\":\"white\",\"ticks\":\"\"}},\"ternary\":{\"bgcolor\":\"#E5ECF6\",\"aaxis\":{\"gridcolor\":\"white\",\"linecolor\":\"white\",\"ticks\":\"\"},\"baxis\":{\"gridcolor\":\"white\",\"linecolor\":\"white\",\"ticks\":\"\"},\"caxis\":{\"gridcolor\":\"white\",\"linecolor\":\"white\",\"ticks\":\"\"}},\"coloraxis\":{\"colorbar\":{\"outlinewidth\":0,\"ticks\":\"\"}},\"colorscale\":{\"sequential\":[[0.0,\"#0d0887\"],[0.1111111111111111,\"#46039f\"],[0.2222222222222222,\"#7201a8\"],[0.3333333333333333,\"#9c179e\"],[0.4444444444444444,\"#bd3786\"],[0.5555555555555556,\"#d8576b\"],[0.6666666666666666,\"#ed7953\"],[0.7777777777777778,\"#fb9f3a\"],[0.8888888888888888,\"#fdca26\"],[1.0,\"#f0f921\"]],\"sequentialminus\":[[0.0,\"#0d0887\"],[0.1111111111111111,\"#46039f\"],[0.2222222222222222,\"#7201a8\"],[0.3333333333333333,\"#9c179e\"],[0.4444444444444444,\"#bd3786\"],[0.5555555555555556,\"#d8576b\"],[0.6666666666666666,\"#ed7953\"],[0.7777777777777778,\"#fb9f3a\"],[0.8888888888888888,\"#fdca26\"],[1.0,\"#f0f921\"]],\"diverging\":[[0,\"#8e0152\"],[0.1,\"#c51b7d\"],[0.2,\"#de77ae\"],[0.3,\"#f1b6da\"],[0.4,\"#fde0ef\"],[0.5,\"#f7f7f7\"],[0.6,\"#e6f5d0\"],[0.7,\"#b8e186\"],[0.8,\"#7fbc41\"],[0.9,\"#4d9221\"],[1,\"#276419\"]]},\"xaxis\":{\"gridcolor\":\"white\",\"linecolor\":\"white\",\"ticks\":\"\",\"title\":{\"standoff\":15},\"zerolinecolor\":\"white\",\"automargin\":true,\"zerolinewidth\":2},\"yaxis\":{\"gridcolor\":\"white\",\"linecolor\":\"white\",\"ticks\":\"\",\"title\":{\"standoff\":15},\"zerolinecolor\":\"white\",\"automargin\":true,\"zerolinewidth\":2},\"scene\":{\"xaxis\":{\"backgroundcolor\":\"#E5ECF6\",\"gridcolor\":\"white\",\"linecolor\":\"white\",\"showbackground\":true,\"ticks\":\"\",\"zerolinecolor\":\"white\",\"gridwidth\":2},\"yaxis\":{\"backgroundcolor\":\"#E5ECF6\",\"gridcolor\":\"white\",\"linecolor\":\"white\",\"showbackground\":true,\"ticks\":\"\",\"zerolinecolor\":\"white\",\"gridwidth\":2},\"zaxis\":{\"backgroundcolor\":\"#E5ECF6\",\"gridcolor\":\"white\",\"linecolor\":\"white\",\"showbackground\":true,\"ticks\":\"\",\"zerolinecolor\":\"white\",\"gridwidth\":2}},\"shapedefaults\":{\"line\":{\"color\":\"#2a3f5f\"}},\"annotationdefaults\":{\"arrowcolor\":\"#2a3f5f\",\"arrowhead\":0,\"arrowwidth\":1},\"geo\":{\"bgcolor\":\"white\",\"landcolor\":\"#E5ECF6\",\"subunitcolor\":\"white\",\"showland\":true,\"showlakes\":true,\"lakecolor\":\"white\"},\"title\":{\"x\":0.05},\"mapbox\":{\"style\":\"light\"}}},\"xaxis\":{\"anchor\":\"y\",\"domain\":[0.0,0.31999999999999995],\"title\":{\"text\":\"meal\"},\"categoryorder\":\"array\",\"categoryarray\":[\"BB\",\"FB\",\"HB\",\"SC\",\"Undefined\"]},\"yaxis\":{\"anchor\":\"x\",\"domain\":[0.0,0.2866666666666666],\"title\":{\"text\":\"meal_counts\"}},\"xaxis2\":{\"anchor\":\"y2\",\"domain\":[0.33999999999999997,0.6599999999999999],\"matches\":\"x\",\"title\":{\"text\":\"meal\"},\"categoryorder\":\"array\",\"categoryarray\":[\"BB\",\"FB\",\"HB\",\"SC\",\"Undefined\"]},\"yaxis2\":{\"anchor\":\"x2\",\"domain\":[0.0,0.2866666666666666],\"matches\":\"y\",\"showticklabels\":false},\"xaxis3\":{\"anchor\":\"y3\",\"domain\":[0.6799999999999999,0.9999999999999999],\"matches\":\"x\",\"title\":{\"text\":\"meal\"},\"categoryorder\":\"array\",\"categoryarray\":[\"BB\",\"FB\",\"HB\",\"SC\",\"Undefined\"]},\"yaxis3\":{\"anchor\":\"x3\",\"domain\":[0.0,0.2866666666666666],\"matches\":\"y\",\"showticklabels\":false},\"xaxis4\":{\"anchor\":\"y4\",\"domain\":[0.0,0.31999999999999995],\"matches\":\"x\",\"showticklabels\":false},\"yaxis4\":{\"anchor\":\"x4\",\"domain\":[0.35666666666666663,0.6433333333333333],\"matches\":\"y\",\"title\":{\"text\":\"meal_counts\"}},\"xaxis5\":{\"anchor\":\"y5\",\"domain\":[0.33999999999999997,0.6599999999999999],\"matches\":\"x\",\"showticklabels\":false},\"yaxis5\":{\"anchor\":\"x5\",\"domain\":[0.35666666666666663,0.6433333333333333],\"matches\":\"y\",\"showticklabels\":false},\"xaxis6\":{\"anchor\":\"y6\",\"domain\":[0.6799999999999999,0.9999999999999999],\"matches\":\"x\",\"showticklabels\":false},\"yaxis6\":{\"anchor\":\"x6\",\"domain\":[0.35666666666666663,0.6433333333333333],\"matches\":\"y\",\"showticklabels\":false},\"xaxis7\":{\"anchor\":\"y7\",\"domain\":[0.0,0.31999999999999995],\"matches\":\"x\",\"showticklabels\":false},\"yaxis7\":{\"anchor\":\"x7\",\"domain\":[0.7133333333333333,0.9999999999999999],\"matches\":\"y\",\"title\":{\"text\":\"meal_counts\"}},\"xaxis8\":{\"anchor\":\"y8\",\"domain\":[0.33999999999999997,0.6599999999999999],\"matches\":\"x\",\"showticklabels\":false},\"yaxis8\":{\"anchor\":\"x8\",\"domain\":[0.7133333333333333,0.9999999999999999],\"matches\":\"y\",\"showticklabels\":false},\"xaxis9\":{\"anchor\":\"y9\",\"domain\":[0.6799999999999999,0.9999999999999999],\"matches\":\"x\",\"showticklabels\":false},\"yaxis9\":{\"anchor\":\"x9\",\"domain\":[0.7133333333333333,0.9999999999999999],\"matches\":\"y\",\"showticklabels\":false},\"annotations\":[{\"font\":{},\"showarrow\":false,\"text\":\"market_segment=Online TA\",\"x\":0.15999999999999998,\"xanchor\":\"center\",\"xref\":\"paper\",\"y\":0.2866666666666666,\"yanchor\":\"bottom\",\"yref\":\"paper\"},{\"font\":{},\"showarrow\":false,\"text\":\"market_segment=Undefined\",\"x\":0.49999999999999994,\"xanchor\":\"center\",\"xref\":\"paper\",\"y\":0.2866666666666666,\"yanchor\":\"bottom\",\"yref\":\"paper\"},{\"font\":{},\"showarrow\":false,\"text\":\"market_segment=Direct\",\"x\":0.15999999999999998,\"xanchor\":\"center\",\"xref\":\"paper\",\"y\":0.6433333333333333,\"yanchor\":\"bottom\",\"yref\":\"paper\"},{\"font\":{},\"showarrow\":false,\"text\":\"market_segment=Groups\",\"x\":0.49999999999999994,\"xanchor\":\"center\",\"xref\":\"paper\",\"y\":0.6433333333333333,\"yanchor\":\"bottom\",\"yref\":\"paper\"},{\"font\":{},\"showarrow\":false,\"text\":\"market_segment=Offline TA/TO\",\"x\":0.8399999999999999,\"xanchor\":\"center\",\"xref\":\"paper\",\"y\":0.6433333333333333,\"yanchor\":\"bottom\",\"yref\":\"paper\"},{\"font\":{},\"showarrow\":false,\"text\":\"market_segment=Aviation\",\"x\":0.15999999999999998,\"xanchor\":\"center\",\"xref\":\"paper\",\"y\":0.9999999999999999,\"yanchor\":\"bottom\",\"yref\":\"paper\"},{\"font\":{},\"showarrow\":false,\"text\":\"market_segment=Complementary\",\"x\":0.49999999999999994,\"xanchor\":\"center\",\"xref\":\"paper\",\"y\":0.9999999999999999,\"yanchor\":\"bottom\",\"yref\":\"paper\"},{\"font\":{},\"showarrow\":false,\"text\":\"market_segment=Corporate\",\"x\":0.8399999999999999,\"xanchor\":\"center\",\"xref\":\"paper\",\"y\":0.9999999999999999,\"yanchor\":\"bottom\",\"yref\":\"paper\"}],\"legend\":{\"title\":{\"text\":\"meal\"},\"tracegroupgap\":0},\"title\":{\"text\":\"Meal Package Demand per Market Segment\"},\"barmode\":\"relative\"},                        {\"responsive\": true}                    ).then(function(){\n                            \nvar gd = document.getElementById('82e0da7b-bcd6-43d0-bd70-0475ddac4251');\nvar x = new MutationObserver(function (mutations, observer) {{\n        var display = window.getComputedStyle(gd).display;\n        if (!display || display === 'none') {{\n            console.log([gd, 'removed!']);\n            Plotly.purge(gd);\n            observer.disconnect();\n        }}\n}});\n\n// Listen for the removal of the full notebook cells\nvar notebookContainer = gd.closest('#notebook-container');\nif (notebookContainer) {{\n    x.observe(notebookContainer, {childList: true});\n}}\n\n// Listen for the clearing of the current output cell\nvar outputEl = gd.closest('.output');\nif (outputEl) {{\n    x.observe(outputEl, {childList: true});\n}}\n\n                        })                };                            </script>        </div>\n</body>\n</html>"
     },
     "metadata": {},
     "output_type": "display_data"
    }
   ]
  },
  {
   "cell_type": "code",
   "source": "fig3_2 = px.pie(df_msmp, names='meal', values='meal_counts', facet_col='market_segment', facet_col_wrap=3, facet_col_spacing=0.05, height=1800, width=1600, title=\"Meal Package Demand per Market Segment\")\nfig3_2",
   "metadata": {
    "cell_id": "9c236eb9ba8745e18594a49198dd9156",
    "tags": [],
    "deepnote_to_be_reexecuted": false,
    "source_hash": "726dd3b7",
    "execution_start": 1660314613405,
    "execution_millis": 228,
    "deepnote_app_coordinates": {
     "x": 0,
     "y": 159,
     "w": 12,
     "h": 28
    },
    "deepnote_cell_type": "code",
    "deepnote_cell_height": 721.1875,
    "deepnote_output_heights": [
     606.1875
    ]
   },
   "execution_count": null,
   "outputs": [
    {
     "data": {
      "text/html": "<html>\n<head><meta charset=\"utf-8\" /></head>\n<body>\n    <div>            <script src=\"https://cdnjs.cloudflare.com/ajax/libs/mathjax/2.7.5/MathJax.js?config=TeX-AMS-MML_SVG\"></script><script type=\"text/javascript\">if (window.MathJax && window.MathJax.Hub && window.MathJax.Hub.Config) {window.MathJax.Hub.Config({SVG: {font: \"STIX-Web\"}});}</script>                <script type=\"text/javascript\">window.PlotlyConfig = {MathJaxConfig: 'local'};</script>\n        <script src=\"https://cdn.plot.ly/plotly-2.12.1.min.js\"></script>                <div id=\"1b04d95d-e65c-4cc6-828c-d527aa8b474e\" class=\"plotly-graph-div\" style=\"height:1800px; width:1600px;\"></div>            <script type=\"text/javascript\">                                    window.PLOTLYENV=window.PLOTLYENV || {};                                    if (document.getElementById(\"1b04d95d-e65c-4cc6-828c-d527aa8b474e\")) {                    Plotly.newPlot(                        \"1b04d95d-e65c-4cc6-828c-d527aa8b474e\",                        [{\"domain\":{\"x\":[0.0,0.3],\"y\":[0.7133333333333333,0.9999999999999999]},\"hovertemplate\":\"market_segment=Aviation<br>meal=%{label}<br>meal_counts=%{value}<extra></extra>\",\"labels\":[\"BB\"],\"legendgroup\":\"\",\"name\":\"\",\"showlegend\":true,\"values\":[237],\"type\":\"pie\"},{\"domain\":{\"x\":[0.35,0.6499999999999999],\"y\":[0.7133333333333333,0.9999999999999999]},\"hovertemplate\":\"market_segment=Complementary<br>meal=%{label}<br>meal_counts=%{value}<extra></extra>\",\"labels\":[\"BB\",\"FB\",\"HB\",\"SC\",\"Undefined\"],\"legendgroup\":\"\",\"name\":\"\",\"showlegend\":true,\"values\":[824,15,37,31,6],\"type\":\"pie\"},{\"domain\":{\"x\":[0.7,1.0],\"y\":[0.7133333333333333,0.9999999999999999]},\"hovertemplate\":\"market_segment=Corporate<br>meal=%{label}<br>meal_counts=%{value}<extra></extra>\",\"labels\":[\"BB\",\"FB\",\"HB\",\"SC\",\"Undefined\"],\"legendgroup\":\"\",\"name\":\"\",\"showlegend\":true,\"values\":[6287,27,118,39,15],\"type\":\"pie\"},{\"domain\":{\"x\":[0.0,0.3],\"y\":[0.35666666666666663,0.6433333333333333]},\"hovertemplate\":\"market_segment=Direct<br>meal=%{label}<br>meal_counts=%{value}<extra></extra>\",\"labels\":[\"BB\",\"FB\",\"HB\",\"SC\",\"Undefined\"],\"legendgroup\":\"\",\"name\":\"\",\"showlegend\":true,\"values\":[12898,108,1499,392,76],\"type\":\"pie\"},{\"domain\":{\"x\":[0.35,0.6499999999999999],\"y\":[0.35666666666666663,0.6433333333333333]},\"hovertemplate\":\"market_segment=Groups<br>meal=%{label}<br>meal_counts=%{value}<extra></extra>\",\"labels\":[\"BB\",\"FB\",\"HB\",\"SC\",\"Undefined\"],\"legendgroup\":\"\",\"name\":\"\",\"showlegend\":true,\"values\":[20383,823,3906,42,961],\"type\":\"pie\"},{\"domain\":{\"x\":[0.7,1.0],\"y\":[0.35666666666666663,0.6433333333333333]},\"hovertemplate\":\"market_segment=Offline TA/TO<br>meal=%{label}<br>meal_counts=%{value}<extra></extra>\",\"labels\":[\"BB\",\"FB\",\"HB\",\"SC\",\"Undefined\"],\"legendgroup\":\"\",\"name\":\"\",\"showlegend\":true,\"values\":[21489,212,8030,350,298],\"type\":\"pie\"},{\"domain\":{\"x\":[0.0,0.3],\"y\":[0.0,0.2866666666666666]},\"hovertemplate\":\"market_segment=Online TA<br>meal=%{label}<br>meal_counts=%{value}<extra></extra>\",\"labels\":[\"BB\",\"FB\",\"HB\",\"SC\",\"Undefined\"],\"legendgroup\":\"\",\"name\":\"\",\"showlegend\":true,\"values\":[47756,43,4812,10213,16],\"type\":\"pie\"},{\"domain\":{\"x\":[0.35,0.6499999999999999],\"y\":[0.0,0.2866666666666666]},\"hovertemplate\":\"market_segment=Undefined<br>meal=%{label}<br>meal_counts=%{value}<extra></extra>\",\"labels\":[\"BB\"],\"legendgroup\":\"\",\"name\":\"\",\"showlegend\":true,\"values\":[4],\"type\":\"pie\"}],                        {\"template\":{\"data\":{\"histogram2dcontour\":[{\"type\":\"histogram2dcontour\",\"colorbar\":{\"outlinewidth\":0,\"ticks\":\"\"},\"colorscale\":[[0.0,\"#0d0887\"],[0.1111111111111111,\"#46039f\"],[0.2222222222222222,\"#7201a8\"],[0.3333333333333333,\"#9c179e\"],[0.4444444444444444,\"#bd3786\"],[0.5555555555555556,\"#d8576b\"],[0.6666666666666666,\"#ed7953\"],[0.7777777777777778,\"#fb9f3a\"],[0.8888888888888888,\"#fdca26\"],[1.0,\"#f0f921\"]]}],\"choropleth\":[{\"type\":\"choropleth\",\"colorbar\":{\"outlinewidth\":0,\"ticks\":\"\"}}],\"histogram2d\":[{\"type\":\"histogram2d\",\"colorbar\":{\"outlinewidth\":0,\"ticks\":\"\"},\"colorscale\":[[0.0,\"#0d0887\"],[0.1111111111111111,\"#46039f\"],[0.2222222222222222,\"#7201a8\"],[0.3333333333333333,\"#9c179e\"],[0.4444444444444444,\"#bd3786\"],[0.5555555555555556,\"#d8576b\"],[0.6666666666666666,\"#ed7953\"],[0.7777777777777778,\"#fb9f3a\"],[0.8888888888888888,\"#fdca26\"],[1.0,\"#f0f921\"]]}],\"heatmap\":[{\"type\":\"heatmap\",\"colorbar\":{\"outlinewidth\":0,\"ticks\":\"\"},\"colorscale\":[[0.0,\"#0d0887\"],[0.1111111111111111,\"#46039f\"],[0.2222222222222222,\"#7201a8\"],[0.3333333333333333,\"#9c179e\"],[0.4444444444444444,\"#bd3786\"],[0.5555555555555556,\"#d8576b\"],[0.6666666666666666,\"#ed7953\"],[0.7777777777777778,\"#fb9f3a\"],[0.8888888888888888,\"#fdca26\"],[1.0,\"#f0f921\"]]}],\"heatmapgl\":[{\"type\":\"heatmapgl\",\"colorbar\":{\"outlinewidth\":0,\"ticks\":\"\"},\"colorscale\":[[0.0,\"#0d0887\"],[0.1111111111111111,\"#46039f\"],[0.2222222222222222,\"#7201a8\"],[0.3333333333333333,\"#9c179e\"],[0.4444444444444444,\"#bd3786\"],[0.5555555555555556,\"#d8576b\"],[0.6666666666666666,\"#ed7953\"],[0.7777777777777778,\"#fb9f3a\"],[0.8888888888888888,\"#fdca26\"],[1.0,\"#f0f921\"]]}],\"contourcarpet\":[{\"type\":\"contourcarpet\",\"colorbar\":{\"outlinewidth\":0,\"ticks\":\"\"}}],\"contour\":[{\"type\":\"contour\",\"colorbar\":{\"outlinewidth\":0,\"ticks\":\"\"},\"colorscale\":[[0.0,\"#0d0887\"],[0.1111111111111111,\"#46039f\"],[0.2222222222222222,\"#7201a8\"],[0.3333333333333333,\"#9c179e\"],[0.4444444444444444,\"#bd3786\"],[0.5555555555555556,\"#d8576b\"],[0.6666666666666666,\"#ed7953\"],[0.7777777777777778,\"#fb9f3a\"],[0.8888888888888888,\"#fdca26\"],[1.0,\"#f0f921\"]]}],\"surface\":[{\"type\":\"surface\",\"colorbar\":{\"outlinewidth\":0,\"ticks\":\"\"},\"colorscale\":[[0.0,\"#0d0887\"],[0.1111111111111111,\"#46039f\"],[0.2222222222222222,\"#7201a8\"],[0.3333333333333333,\"#9c179e\"],[0.4444444444444444,\"#bd3786\"],[0.5555555555555556,\"#d8576b\"],[0.6666666666666666,\"#ed7953\"],[0.7777777777777778,\"#fb9f3a\"],[0.8888888888888888,\"#fdca26\"],[1.0,\"#f0f921\"]]}],\"mesh3d\":[{\"type\":\"mesh3d\",\"colorbar\":{\"outlinewidth\":0,\"ticks\":\"\"}}],\"scatter\":[{\"fillpattern\":{\"fillmode\":\"overlay\",\"size\":10,\"solidity\":0.2},\"type\":\"scatter\"}],\"parcoords\":[{\"type\":\"parcoords\",\"line\":{\"colorbar\":{\"outlinewidth\":0,\"ticks\":\"\"}}}],\"scatterpolargl\":[{\"type\":\"scatterpolargl\",\"marker\":{\"colorbar\":{\"outlinewidth\":0,\"ticks\":\"\"}}}],\"bar\":[{\"error_x\":{\"color\":\"#2a3f5f\"},\"error_y\":{\"color\":\"#2a3f5f\"},\"marker\":{\"line\":{\"color\":\"#E5ECF6\",\"width\":0.5},\"pattern\":{\"fillmode\":\"overlay\",\"size\":10,\"solidity\":0.2}},\"type\":\"bar\"}],\"scattergeo\":[{\"type\":\"scattergeo\",\"marker\":{\"colorbar\":{\"outlinewidth\":0,\"ticks\":\"\"}}}],\"scatterpolar\":[{\"type\":\"scatterpolar\",\"marker\":{\"colorbar\":{\"outlinewidth\":0,\"ticks\":\"\"}}}],\"histogram\":[{\"marker\":{\"pattern\":{\"fillmode\":\"overlay\",\"size\":10,\"solidity\":0.2}},\"type\":\"histogram\"}],\"scattergl\":[{\"type\":\"scattergl\",\"marker\":{\"colorbar\":{\"outlinewidth\":0,\"ticks\":\"\"}}}],\"scatter3d\":[{\"type\":\"scatter3d\",\"line\":{\"colorbar\":{\"outlinewidth\":0,\"ticks\":\"\"}},\"marker\":{\"colorbar\":{\"outlinewidth\":0,\"ticks\":\"\"}}}],\"scattermapbox\":[{\"type\":\"scattermapbox\",\"marker\":{\"colorbar\":{\"outlinewidth\":0,\"ticks\":\"\"}}}],\"scatterternary\":[{\"type\":\"scatterternary\",\"marker\":{\"colorbar\":{\"outlinewidth\":0,\"ticks\":\"\"}}}],\"scattercarpet\":[{\"type\":\"scattercarpet\",\"marker\":{\"colorbar\":{\"outlinewidth\":0,\"ticks\":\"\"}}}],\"carpet\":[{\"aaxis\":{\"endlinecolor\":\"#2a3f5f\",\"gridcolor\":\"white\",\"linecolor\":\"white\",\"minorgridcolor\":\"white\",\"startlinecolor\":\"#2a3f5f\"},\"baxis\":{\"endlinecolor\":\"#2a3f5f\",\"gridcolor\":\"white\",\"linecolor\":\"white\",\"minorgridcolor\":\"white\",\"startlinecolor\":\"#2a3f5f\"},\"type\":\"carpet\"}],\"table\":[{\"cells\":{\"fill\":{\"color\":\"#EBF0F8\"},\"line\":{\"color\":\"white\"}},\"header\":{\"fill\":{\"color\":\"#C8D4E3\"},\"line\":{\"color\":\"white\"}},\"type\":\"table\"}],\"barpolar\":[{\"marker\":{\"line\":{\"color\":\"#E5ECF6\",\"width\":0.5},\"pattern\":{\"fillmode\":\"overlay\",\"size\":10,\"solidity\":0.2}},\"type\":\"barpolar\"}],\"pie\":[{\"automargin\":true,\"type\":\"pie\"}]},\"layout\":{\"autotypenumbers\":\"strict\",\"colorway\":[\"#636efa\",\"#EF553B\",\"#00cc96\",\"#ab63fa\",\"#FFA15A\",\"#19d3f3\",\"#FF6692\",\"#B6E880\",\"#FF97FF\",\"#FECB52\"],\"font\":{\"color\":\"#2a3f5f\"},\"hovermode\":\"closest\",\"hoverlabel\":{\"align\":\"left\"},\"paper_bgcolor\":\"white\",\"plot_bgcolor\":\"#E5ECF6\",\"polar\":{\"bgcolor\":\"#E5ECF6\",\"angularaxis\":{\"gridcolor\":\"white\",\"linecolor\":\"white\",\"ticks\":\"\"},\"radialaxis\":{\"gridcolor\":\"white\",\"linecolor\":\"white\",\"ticks\":\"\"}},\"ternary\":{\"bgcolor\":\"#E5ECF6\",\"aaxis\":{\"gridcolor\":\"white\",\"linecolor\":\"white\",\"ticks\":\"\"},\"baxis\":{\"gridcolor\":\"white\",\"linecolor\":\"white\",\"ticks\":\"\"},\"caxis\":{\"gridcolor\":\"white\",\"linecolor\":\"white\",\"ticks\":\"\"}},\"coloraxis\":{\"colorbar\":{\"outlinewidth\":0,\"ticks\":\"\"}},\"colorscale\":{\"sequential\":[[0.0,\"#0d0887\"],[0.1111111111111111,\"#46039f\"],[0.2222222222222222,\"#7201a8\"],[0.3333333333333333,\"#9c179e\"],[0.4444444444444444,\"#bd3786\"],[0.5555555555555556,\"#d8576b\"],[0.6666666666666666,\"#ed7953\"],[0.7777777777777778,\"#fb9f3a\"],[0.8888888888888888,\"#fdca26\"],[1.0,\"#f0f921\"]],\"sequentialminus\":[[0.0,\"#0d0887\"],[0.1111111111111111,\"#46039f\"],[0.2222222222222222,\"#7201a8\"],[0.3333333333333333,\"#9c179e\"],[0.4444444444444444,\"#bd3786\"],[0.5555555555555556,\"#d8576b\"],[0.6666666666666666,\"#ed7953\"],[0.7777777777777778,\"#fb9f3a\"],[0.8888888888888888,\"#fdca26\"],[1.0,\"#f0f921\"]],\"diverging\":[[0,\"#8e0152\"],[0.1,\"#c51b7d\"],[0.2,\"#de77ae\"],[0.3,\"#f1b6da\"],[0.4,\"#fde0ef\"],[0.5,\"#f7f7f7\"],[0.6,\"#e6f5d0\"],[0.7,\"#b8e186\"],[0.8,\"#7fbc41\"],[0.9,\"#4d9221\"],[1,\"#276419\"]]},\"xaxis\":{\"gridcolor\":\"white\",\"linecolor\":\"white\",\"ticks\":\"\",\"title\":{\"standoff\":15},\"zerolinecolor\":\"white\",\"automargin\":true,\"zerolinewidth\":2},\"yaxis\":{\"gridcolor\":\"white\",\"linecolor\":\"white\",\"ticks\":\"\",\"title\":{\"standoff\":15},\"zerolinecolor\":\"white\",\"automargin\":true,\"zerolinewidth\":2},\"scene\":{\"xaxis\":{\"backgroundcolor\":\"#E5ECF6\",\"gridcolor\":\"white\",\"linecolor\":\"white\",\"showbackground\":true,\"ticks\":\"\",\"zerolinecolor\":\"white\",\"gridwidth\":2},\"yaxis\":{\"backgroundcolor\":\"#E5ECF6\",\"gridcolor\":\"white\",\"linecolor\":\"white\",\"showbackground\":true,\"ticks\":\"\",\"zerolinecolor\":\"white\",\"gridwidth\":2},\"zaxis\":{\"backgroundcolor\":\"#E5ECF6\",\"gridcolor\":\"white\",\"linecolor\":\"white\",\"showbackground\":true,\"ticks\":\"\",\"zerolinecolor\":\"white\",\"gridwidth\":2}},\"shapedefaults\":{\"line\":{\"color\":\"#2a3f5f\"}},\"annotationdefaults\":{\"arrowcolor\":\"#2a3f5f\",\"arrowhead\":0,\"arrowwidth\":1},\"geo\":{\"bgcolor\":\"white\",\"landcolor\":\"#E5ECF6\",\"subunitcolor\":\"white\",\"showland\":true,\"showlakes\":true,\"lakecolor\":\"white\"},\"title\":{\"x\":0.05},\"mapbox\":{\"style\":\"light\"}}},\"annotations\":[{\"font\":{},\"showarrow\":false,\"text\":\"market_segment=Online TA\",\"x\":0.15,\"xanchor\":\"center\",\"xref\":\"paper\",\"y\":0.2866666666666666,\"yanchor\":\"bottom\",\"yref\":\"paper\"},{\"font\":{},\"showarrow\":false,\"text\":\"market_segment=Undefined\",\"x\":0.49999999999999994,\"xanchor\":\"center\",\"xref\":\"paper\",\"y\":0.2866666666666666,\"yanchor\":\"bottom\",\"yref\":\"paper\"},{\"font\":{},\"showarrow\":false,\"text\":\"market_segment=Direct\",\"x\":0.15,\"xanchor\":\"center\",\"xref\":\"paper\",\"y\":0.6433333333333333,\"yanchor\":\"bottom\",\"yref\":\"paper\"},{\"font\":{},\"showarrow\":false,\"text\":\"market_segment=Groups\",\"x\":0.49999999999999994,\"xanchor\":\"center\",\"xref\":\"paper\",\"y\":0.6433333333333333,\"yanchor\":\"bottom\",\"yref\":\"paper\"},{\"font\":{},\"showarrow\":false,\"text\":\"market_segment=Offline TA/TO\",\"x\":0.85,\"xanchor\":\"center\",\"xref\":\"paper\",\"y\":0.6433333333333333,\"yanchor\":\"bottom\",\"yref\":\"paper\"},{\"font\":{},\"showarrow\":false,\"text\":\"market_segment=Aviation\",\"x\":0.15,\"xanchor\":\"center\",\"xref\":\"paper\",\"y\":0.9999999999999999,\"yanchor\":\"bottom\",\"yref\":\"paper\"},{\"font\":{},\"showarrow\":false,\"text\":\"market_segment=Complementary\",\"x\":0.49999999999999994,\"xanchor\":\"center\",\"xref\":\"paper\",\"y\":0.9999999999999999,\"yanchor\":\"bottom\",\"yref\":\"paper\"},{\"font\":{},\"showarrow\":false,\"text\":\"market_segment=Corporate\",\"x\":0.85,\"xanchor\":\"center\",\"xref\":\"paper\",\"y\":0.9999999999999999,\"yanchor\":\"bottom\",\"yref\":\"paper\"}],\"legend\":{\"tracegroupgap\":0},\"title\":{\"text\":\"Meal Package Demand per Market Segment\"},\"height\":1800,\"width\":1600},                        {\"responsive\": true}                    ).then(function(){\n                            \nvar gd = document.getElementById('1b04d95d-e65c-4cc6-828c-d527aa8b474e');\nvar x = new MutationObserver(function (mutations, observer) {{\n        var display = window.getComputedStyle(gd).display;\n        if (!display || display === 'none') {{\n            console.log([gd, 'removed!']);\n            Plotly.purge(gd);\n            observer.disconnect();\n        }}\n}});\n\n// Listen for the removal of the full notebook cells\nvar notebookContainer = gd.closest('#notebook-container');\nif (notebookContainer) {{\n    x.observe(notebookContainer, {childList: true});\n}}\n\n// Listen for the clearing of the current output cell\nvar outputEl = gd.closest('.output');\nif (outputEl) {{\n    x.observe(outputEl, {childList: true});\n}}\n\n                        })                };                            </script>        </div>\n</body>\n</html>"
     },
     "metadata": {},
     "output_type": "display_data"
    }
   ]
  },
  {
   "cell_type": "markdown",
   "source": "#### Revenue Calculation",
   "metadata": {
    "cell_id": "249b99e94ca2453285d14b6daaccefc1",
    "tags": [],
    "deepnote_cell_type": "markdown",
    "deepnote_cell_height": 54
   }
  },
  {
   "cell_type": "code",
   "metadata": {
    "cell_id": "e60d4968c29f454ea71989e65e2533ac",
    "tags": [],
    "deepnote_to_be_reexecuted": false,
    "source_hash": "3630f333",
    "execution_start": 1660314613729,
    "execution_millis": 1404,
    "deepnote_cell_type": "code",
    "deepnote_cell_height": 383.375,
    "deepnote_output_heights": [
     232.390625
    ]
   },
   "source": "# Add revenue column to dataframe calculated from adr (average daily rate) and full week lodging while accounting for discount\nfull_lodging = df['stays_in_week_nights'] + df['stays_in_weekend_nights']\ndf['revenue'] = full_lodging * df['adr'] * (1-df['Discount'])\ndf['revenue']",
   "execution_count": null,
   "outputs": [
    {
     "output_type": "execute_result",
     "execution_count": 40,
     "data": {
      "text/plain": "0         172.20\n1         221.55\n2         344.40\n3         524.30\n4         974.70\n           ...  \n141942      0.00\n141943    243.00\n141944    318.75\n141945     55.25\n141946    110.50\nName: revenue, Length: 141947, dtype: float64"
     },
     "metadata": {}
    }
   ]
  },
  {
   "cell_type": "code",
   "metadata": {
    "cell_id": "209371f53f794440a2af402a1162fb1b",
    "tags": [],
    "deepnote_to_be_reexecuted": false,
    "source_hash": "5b45226d",
    "execution_start": 1660314613730,
    "execution_millis": 1409,
    "deepnote_cell_type": "code",
    "deepnote_cell_height": 76
   },
   "source": "# Adding date column combining ",
   "execution_count": null,
   "outputs": []
  },
  {
   "cell_type": "markdown",
   "source": "### Dataframe Export",
   "metadata": {
    "cell_id": "5b68e9c29ccb4ac3be2a19ed931313ef",
    "tags": [],
    "deepnote_cell_type": "markdown",
    "deepnote_cell_height": 62
   }
  },
  {
   "cell_type": "code",
   "metadata": {
    "cell_id": "197f2e8aec6b45ac98a64e2568459821",
    "tags": [],
    "deepnote_to_be_reexecuted": false,
    "source_hash": "7c689814",
    "execution_start": 1660314613782,
    "execution_millis": 5449,
    "deepnote_cell_type": "code",
    "deepnote_cell_height": 94
   },
   "source": "# Export the concatenated and edited dataframe\ndf.to_csv('/work/exported/hotel_revenue_historical.csv')",
   "execution_count": null,
   "outputs": []
  },
  {
   "cell_type": "code",
   "metadata": {
    "cell_id": "95d60b1ee1a7449caeb7c43566acaaa0",
    "tags": [],
    "deepnote_to_be_reexecuted": false,
    "source_hash": "25d43fa0",
    "execution_start": 1660314619251,
    "execution_millis": 918752,
    "deepnote_cell_type": "code",
    "deepnote_cell_height": 324.375,
    "deepnote_output_heights": [
     232.390625
    ]
   },
   "source": "df.columns",
   "execution_count": null,
   "outputs": [
    {
     "output_type": "execute_result",
     "execution_count": 43,
     "data": {
      "text/plain": "Index(['hotel', 'is_canceled', 'lead_time', 'arrival_date_year',\n       'arrival_date_month', 'arrival_date_week_number',\n       'arrival_date_day_of_month', 'stays_in_weekend_nights',\n       'stays_in_week_nights', 'adults', 'children', 'babies', 'meal',\n       'meal_cost', 'country', 'market_segment', 'distribution_channel',\n       'Discount', 'is_repeated_guest', 'previous_cancellations',\n       'previous_bookings_not_canceled', 'reserved_room_type',\n       'assigned_room_type', 'booking_changes', 'deposit_type', 'agent',\n       'company', 'days_in_waiting_list', 'customer_type', 'adr',\n       'required_car_parking_spaces', 'total_of_special_requests',\n       'reservation_status', 'reservation_status_date', 'revenue'],\n      dtype='object')"
     },
     "metadata": {}
    }
   ]
  },
  {
   "cell_type": "markdown",
   "source": "<a style='text-decoration:none;line-height:16px;display:flex;color:#5B5B62;padding:10px;justify-content:end;' href='https://deepnote.com?utm_source=created-in-deepnote-cell&projectId=468fa03a-c450-438e-989d-6d6662661c0f' target=\"_blank\">\n<img alt='Created in deepnote.com' style='display:inline;max-height:16px;margin:0px;margin-right:7.5px;' src='data:image/svg+xml;base64,PD94bWwgdmVyc2lvbj0iMS4wIiBlbmNvZGluZz0iVVRGLTgiPz4KPHN2ZyB3aWR0aD0iODBweCIgaGVpZ2h0PSI4MHB4IiB2aWV3Qm94PSIwIDAgODAgODAiIHZlcnNpb249IjEuMSIgeG1sbnM9Imh0dHA6Ly93d3cudzMub3JnLzIwMDAvc3ZnIiB4bWxuczp4bGluaz0iaHR0cDovL3d3dy53My5vcmcvMTk5OS94bGluayI+CiAgICA8IS0tIEdlbmVyYXRvcjogU2tldGNoIDU0LjEgKDc2NDkwKSAtIGh0dHBzOi8vc2tldGNoYXBwLmNvbSAtLT4KICAgIDx0aXRsZT5Hcm91cCAzPC90aXRsZT4KICAgIDxkZXNjPkNyZWF0ZWQgd2l0aCBTa2V0Y2guPC9kZXNjPgogICAgPGcgaWQ9IkxhbmRpbmciIHN0cm9rZT0ibm9uZSIgc3Ryb2tlLXdpZHRoPSIxIiBmaWxsPSJub25lIiBmaWxsLXJ1bGU9ImV2ZW5vZGQiPgogICAgICAgIDxnIGlkPSJBcnRib2FyZCIgdHJhbnNmb3JtPSJ0cmFuc2xhdGUoLTEyMzUuMDAwMDAwLCAtNzkuMDAwMDAwKSI+CiAgICAgICAgICAgIDxnIGlkPSJHcm91cC0zIiB0cmFuc2Zvcm09InRyYW5zbGF0ZSgxMjM1LjAwMDAwMCwgNzkuMDAwMDAwKSI+CiAgICAgICAgICAgICAgICA8cG9seWdvbiBpZD0iUGF0aC0yMCIgZmlsbD0iIzAyNjVCNCIgcG9pbnRzPSIyLjM3NjIzNzYyIDgwIDM4LjA0NzY2NjcgODAgNTcuODIxNzgyMiA3My44MDU3NTkyIDU3LjgyMTc4MjIgMzIuNzU5MjczOSAzOS4xNDAyMjc4IDMxLjY4MzE2ODMiPjwvcG9seWdvbj4KICAgICAgICAgICAgICAgIDxwYXRoIGQ9Ik0zNS4wMDc3MTgsODAgQzQyLjkwNjIwMDcsNzYuNDU0OTM1OCA0Ny41NjQ5MTY3LDcxLjU0MjI2NzEgNDguOTgzODY2LDY1LjI2MTk5MzkgQzUxLjExMjI4OTksNTUuODQxNTg0MiA0MS42NzcxNzk1LDQ5LjIxMjIyODQgMjUuNjIzOTg0Niw0OS4yMTIyMjg0IEMyNS40ODQ5Mjg5LDQ5LjEyNjg0NDggMjkuODI2MTI5Niw0My4yODM4MjQ4IDM4LjY0NzU4NjksMzEuNjgzMTY4MyBMNzIuODcxMjg3MSwzMi41NTQ0MjUgTDY1LjI4MDk3Myw2Ny42NzYzNDIxIEw1MS4xMTIyODk5LDc3LjM3NjE0NCBMMzUuMDA3NzE4LDgwIFoiIGlkPSJQYXRoLTIyIiBmaWxsPSIjMDAyODY4Ij48L3BhdGg+CiAgICAgICAgICAgICAgICA8cGF0aCBkPSJNMCwzNy43MzA0NDA1IEwyNy4xMTQ1MzcsMC4yNTcxMTE0MzYgQzYyLjM3MTUxMjMsLTEuOTkwNzE3MDEgODAsMTAuNTAwMzkyNyA4MCwzNy43MzA0NDA1IEM4MCw2NC45NjA0ODgyIDY0Ljc3NjUwMzgsNzkuMDUwMzQxNCAzNC4zMjk1MTEzLDgwIEM0Ny4wNTUzNDg5LDc3LjU2NzA4MDggNTMuNDE4MjY3Nyw3MC4zMTM2MTAzIDUzLjQxODI2NzcsNTguMjM5NTg4NSBDNTMuNDE4MjY3Nyw0MC4xMjg1NTU3IDM2LjMwMzk1NDQsMzcuNzMwNDQwNSAyNS4yMjc0MTcsMzcuNzMwNDQwNSBDMTcuODQzMDU4NiwzNy43MzA0NDA1IDkuNDMzOTE5NjYsMzcuNzMwNDQwNSAwLDM3LjczMDQ0MDUgWiIgaWQ9IlBhdGgtMTkiIGZpbGw9IiMzNzkzRUYiPjwvcGF0aD4KICAgICAgICAgICAgPC9nPgogICAgICAgIDwvZz4KICAgIDwvZz4KPC9zdmc+' > </img>\nCreated in <span style='font-weight:600;margin-left:4px;'>Deepnote</span></a>",
   "metadata": {
    "tags": [],
    "created_in_deepnote_cell": true,
    "deepnote_cell_type": "markdown"
   }
  }
 ],
 "nbformat": 4,
 "nbformat_minor": 2,
 "metadata": {
  "orig_nbformat": 2,
  "deepnote": {},
  "deepnote_notebook_id": "e01083cf-3c3e-4ba1-acd6-ec5ab49f9c4c",
  "deepnote_execution_queue": [],
  "deepnote_app_layout": "dashboard"
 }
}